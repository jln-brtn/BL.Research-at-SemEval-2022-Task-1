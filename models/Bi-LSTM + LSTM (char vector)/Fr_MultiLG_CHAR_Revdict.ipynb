{
  "cells": [
    {
      "cell_type": "code",
      "execution_count": null,
      "metadata": {
        "id": "06f22756"
      },
      "outputs": [],
      "source": [
        "import json\n",
        "from tensorflow.keras.models import Sequential\n",
        "from tensorflow.keras import Input\n",
        "from tensorflow.keras.layers.experimental.preprocessing import TextVectorization\n",
        "from tensorflow.keras.layers import LSTM, Embedding, Dense, TimeDistributed, Dropout, Bidirectional, Flatten\n",
        "import numpy as np\n",
        "import pandas as pd\n",
        "from sklearn.feature_extraction.text import TfidfVectorizer\n",
        "from sklearn.feature_extraction.text import TfidfTransformer\n",
        "from tensorflow import keras"
      ],
      "id": "06f22756"
    },
    {
      "cell_type": "code",
      "execution_count": null,
      "metadata": {
        "colab": {
          "base_uri": "https://localhost:8080/"
        },
        "id": "z_XEPOjNYhqK",
        "outputId": "c6d8a928-9d22-4235-ada5-a7401d01ca08"
      },
      "outputs": [
        {
          "output_type": "stream",
          "name": "stdout",
          "text": [
            "Mounted at /content/drive\n"
          ]
        }
      ],
      "source": [
        "from google.colab import drive\n",
        "drive.mount('/content/drive')"
      ],
      "id": "z_XEPOjNYhqK"
    },
    {
      "cell_type": "markdown",
      "metadata": {
        "id": "0eae8dac"
      },
      "source": [
        "### Chargement des données"
      ],
      "id": "0eae8dac"
    },
    {
      "cell_type": "code",
      "execution_count": null,
      "metadata": {
        "id": "2c211d43"
      },
      "outputs": [],
      "source": [
        "import os\n",
        "\n",
        "with open(\"/content/drive/My Drive/Datasets/Data_semEval2022/Fr_data/fr.train.json\", \"r\") as file_handler:\n",
        "    fr_train_dataset = json.load(file_handler)"
      ],
      "id": "2c211d43"
    },
    {
      "cell_type": "code",
      "execution_count": null,
      "metadata": {
        "id": "c2101cf4"
      },
      "outputs": [],
      "source": [
        "with open(\"/content/drive/My Drive/Datasets/Data_semEval2022/Fr_data/fr.dev.json\", \"r\") as file_handler:\n",
        "    fr_dev_dataset = json.load(file_handler)"
      ],
      "id": "c2101cf4"
    },
    {
      "cell_type": "code",
      "source": [
        "import os\n",
        "\n",
        "with open(\"/content/drive/My Drive/Datasets/Data_semEval2022/En_data/en.train.json\", \"r\") as file_handler:\n",
        "    en_train_dataset = json.load(file_handler)"
      ],
      "metadata": {
        "id": "73PblRg-TNxw"
      },
      "id": "73PblRg-TNxw",
      "execution_count": null,
      "outputs": []
    },
    {
      "cell_type": "code",
      "source": [
        "with open(\"/content/drive/My Drive/Datasets/Data_semEval2022/En_data/en.dev.json\", \"r\") as file_handler:\n",
        "    en_dev_dataset = json.load(file_handler)"
      ],
      "metadata": {
        "id": "5t3LRglXTN8m"
      },
      "id": "5t3LRglXTN8m",
      "execution_count": null,
      "outputs": []
    },
    {
      "cell_type": "code",
      "source": [
        "import os\n",
        "\n",
        "with open(\"/content/drive/My Drive/Datasets/Data_semEval2022/Es_data/es.train.json\", \"r\") as file_handler:\n",
        "    es_train_dataset = json.load(file_handler)"
      ],
      "metadata": {
        "id": "1z7QpfcsTp5R"
      },
      "id": "1z7QpfcsTp5R",
      "execution_count": null,
      "outputs": []
    },
    {
      "cell_type": "code",
      "source": [
        "with open(\"/content/drive/My Drive/Datasets/Data_semEval2022/Es_data/es.dev.json\", \"r\") as file_handler:\n",
        "    es_dev_dataset = json.load(file_handler)"
      ],
      "metadata": {
        "id": "weWLlTXVTqEL"
      },
      "id": "weWLlTXVTqEL",
      "execution_count": null,
      "outputs": []
    },
    {
      "cell_type": "code",
      "source": [
        "import os\n",
        "\n",
        "with open(\"/content/drive/My Drive/Datasets/Data_semEval2022/It_data/it.train.json\", \"r\") as file_handler:\n",
        "    it_train_dataset = json.load(file_handler)"
      ],
      "metadata": {
        "id": "nluC8CBMU-dP"
      },
      "id": "nluC8CBMU-dP",
      "execution_count": null,
      "outputs": []
    },
    {
      "cell_type": "code",
      "source": [
        "with open(\"/content/drive/My Drive/Datasets/Data_semEval2022/It_data/it.dev.json\", \"r\") as file_handler:\n",
        "    it_dev_dataset = json.load(file_handler)"
      ],
      "metadata": {
        "id": "5bTsRi6mU-7l"
      },
      "id": "5bTsRi6mU-7l",
      "execution_count": null,
      "outputs": []
    },
    {
      "cell_type": "code",
      "execution_count": null,
      "metadata": {
        "id": "e90cd2cd"
      },
      "outputs": [],
      "source": [
        "#---------French--------#\n",
        "fr_train_char, fr_train_glosses, fr_dev_char, fr_dev_glosses = [i['char'] for i in fr_train_dataset], [i['gloss'] for i in fr_train_dataset], [i['char'] for i in fr_dev_dataset],[i['gloss'] for i in fr_dev_dataset]\n",
        "\n",
        "#---------English--------#\n",
        "en_train_char, en_train_glosses, en_dev_char, en_dev_glosses = [i['char'] for i in en_train_dataset], [i['gloss'] for i in en_train_dataset], [i['char'] for i in en_dev_dataset],[i['gloss'] for i in en_dev_dataset]\n",
        "\n",
        "#---------Spanich--------#\n",
        "es_train_char, es_train_glosses, es_dev_char, es_dev_glosses = [i['char'] for i in es_train_dataset], [i['gloss'] for i in es_train_dataset], [i['char'] for i in es_dev_dataset],[i['gloss'] for i in es_dev_dataset]\n",
        "\n",
        "#---------Italian--------#\n",
        "it_train_char, it_train_glosses, it_dev_char, it_dev_glosses = [i['char'] for i in it_train_dataset], [i['gloss'] for i in it_train_dataset], [i['char'] for i in it_dev_dataset],[i['gloss'] for i in it_dev_dataset]"
      ],
      "id": "e90cd2cd"
    },
    {
      "cell_type": "code",
      "source": [
        "all_glosses_train = fr_train_glosses + en_train_glosses + es_train_glosses + it_train_glosses\n",
        "all_glosses_dev = fr_dev_glosses + en_dev_glosses + es_dev_glosses + it_dev_glosses\n",
        "\n",
        "all_char_train = fr_train_char + en_train_char + es_train_char + it_train_char\n",
        "all_char__dev = fr_dev_char + en_dev_char + es_dev_char + it_dev_char"
      ],
      "metadata": {
        "id": "zg84BnjHnYrt"
      },
      "id": "zg84BnjHnYrt",
      "execution_count": null,
      "outputs": []
    },
    {
      "cell_type": "markdown",
      "source": [
        "### Shuffling the data"
      ],
      "metadata": {
        "id": "jjJ1PJNaaGzC"
      },
      "id": "jjJ1PJNaaGzC"
    },
    {
      "cell_type": "code",
      "source": [
        "import random\n",
        "all_train_shuffle = []\n",
        "\n",
        "for gloss, char in zip(all_glosses_train, all_char_train) : \n",
        "  dico = {}\n",
        "  dico[\"gloss\"] = gloss\n",
        "  dico[\"char\"] = char\n",
        "  all_train_shuffle.append(dico) \n",
        "\n",
        "random.shuffle(all_train_shuffle)\n",
        "\n",
        "all_glosses_train = [i['gloss'] for i in all_train_shuffle]\n",
        "all_char_dev = [i['char'] for i in all_train_shuffle]"
      ],
      "metadata": {
        "id": "z87T8q4ov7q8"
      },
      "id": "z87T8q4ov7q8",
      "execution_count": null,
      "outputs": []
    },
    {
      "cell_type": "code",
      "source": [
        "import random\n",
        "all_dev_shuffle = []\n",
        "\n",
        "for gloss, char in zip(all_glosses_dev, all_char_dev) : \n",
        "  dico = {}\n",
        "  dico[\"gloss\"] = gloss\n",
        "  dico[\"char\"] = char\n",
        "  all_dev_shuffle.append(dico) \n",
        "\n",
        "random.shuffle(all_dev_shuffle)\n",
        "\n",
        "all_glosses_dev = [i['gloss'] for i in all_dev_shuffle]\n",
        "all_char_dev = [i['char'] for i in all_dev_shuffle]"
      ],
      "metadata": {
        "id": "fT0CqqbayGDO"
      },
      "id": "fT0CqqbayGDO",
      "execution_count": null,
      "outputs": []
    },
    {
      "cell_type": "code",
      "source": [
        "print(len(all_glosses_train))"
      ],
      "metadata": {
        "colab": {
          "base_uri": "https://localhost:8080/"
        },
        "id": "APzXGe2Uyj55",
        "outputId": "757750e3-82e3-4e48-85e4-f8bb32827529"
      },
      "id": "APzXGe2Uyj55",
      "execution_count": null,
      "outputs": [
        {
          "output_type": "stream",
          "name": "stdout",
          "text": [
            "174432\n"
          ]
        }
      ]
    },
    {
      "cell_type": "code",
      "source": [
        "print(len(all_glosses_train))"
      ],
      "metadata": {
        "colab": {
          "base_uri": "https://localhost:8080/"
        },
        "id": "twkXAJ60oVbQ",
        "outputId": "0999afae-9817-4ffe-d054-8dd36b9fa446"
      },
      "id": "twkXAJ60oVbQ",
      "execution_count": null,
      "outputs": [
        {
          "output_type": "stream",
          "name": "stdout",
          "text": [
            "174432\n"
          ]
        }
      ]
    },
    {
      "cell_type": "code",
      "execution_count": null,
      "metadata": {
        "colab": {
          "base_uri": "https://localhost:8080/"
        },
        "id": "etS_pwT_Fi5J",
        "outputId": "b88d408e-a3ad-4852-81cc-4c7768a90f5f"
      },
      "outputs": [
        {
          "output_type": "stream",
          "name": "stdout",
          "text": [
            "Num GPUs Available:  1\n"
          ]
        }
      ],
      "source": [
        "import tensorflow as tf\n",
        "print(\"Num GPUs Available: \", len(tf.config.list_physical_devices('GPU')))"
      ],
      "id": "etS_pwT_Fi5J"
    },
    {
      "cell_type": "markdown",
      "metadata": {
        "id": "6e93118c"
      },
      "source": [
        "### Préparation des données"
      ],
      "id": "6e93118c"
    },
    {
      "cell_type": "code",
      "source": [
        "import nltk\n",
        "nltk.download('punkt')"
      ],
      "metadata": {
        "id": "h4jDi1xx-23w",
        "colab": {
          "base_uri": "https://localhost:8080/"
        },
        "outputId": "c5705c9f-2724-49ad-e346-d9da6a0fa14a"
      },
      "id": "h4jDi1xx-23w",
      "execution_count": null,
      "outputs": [
        {
          "output_type": "stream",
          "name": "stdout",
          "text": [
            "[nltk_data] Downloading package punkt to /root/nltk_data...\n",
            "[nltk_data]   Package punkt is already up-to-date!\n"
          ]
        },
        {
          "output_type": "execute_result",
          "data": {
            "text/plain": [
              "True"
            ]
          },
          "metadata": {},
          "execution_count": 39
        }
      ]
    },
    {
      "cell_type": "code",
      "source": [
        "from nltk.tokenize import word_tokenize \n",
        "\n",
        "# creates mapping of unique characters to integers\n",
        "all_chars_train = []\n",
        "#print(chars)\n",
        "\n",
        "idx = 0\n",
        "char_to_int = dict()\n",
        "int_to_char = dict()\n",
        "\n",
        "for gloss in all_glosses_train :\n",
        "  chars_gloss = []\n",
        "  for word in word_tokenize(gloss) :\n",
        "    chars = list(word)\n",
        "    chars_gloss.extend(chars)\n",
        "    for char in chars : \n",
        "      if char not in char_to_int : \n",
        "        char_to_int[char] = idx\n",
        "        int_to_char[idx] = char\n",
        "        idx+=1\n",
        "  all_chars_train.append(chars_gloss)\n",
        "\n",
        "\n",
        "\n",
        "print(\"The number of total characters are\", len(list(char_to_int.keys())))\n"
      ],
      "metadata": {
        "colab": {
          "base_uri": "https://localhost:8080/"
        },
        "id": "K1mZMlPO_Gms",
        "outputId": "168d220f-7080-4264-befd-43d20a66ffa7"
      },
      "id": "K1mZMlPO_Gms",
      "execution_count": null,
      "outputs": [
        {
          "output_type": "stream",
          "name": "stdout",
          "text": [
            "The number of total characters are 314\n"
          ]
        }
      ]
    },
    {
      "cell_type": "code",
      "source": [
        "print(list(char_to_int.keys()))"
      ],
      "metadata": {
        "colab": {
          "base_uri": "https://localhost:8080/"
        },
        "id": "dcgGSg8FR-0f",
        "outputId": "dda2a002-6b85-4231-a504-3c511f5ec525"
      },
      "id": "dcgGSg8FR-0f",
      "execution_count": null,
      "outputs": [
        {
          "output_type": "stream",
          "name": "stdout",
          "text": [
            "['(', 'P', 'a', 'r', 'm', 'é', 't', 'o', 'n', 'y', 'i', 'e', ')', 'l', 'c', 'd', 'p', 'f', 's', 'u', 'v', ',', 'x', 'g', 'b', \"'\", '.', 'Q', 'R', 'à', 'C', 'ô', 'A', 'z', 'Ê', 'q', 'h', 'j', ';', '—', 'N', ':', 'L', 'M', 'H', 'œ', 'U', '3', '7', '5', 'S', '-', 'F', 'ç', 'è', 'B', 'ê', 'E', 'D', 'É', 'T', 'O', 'V', 'î', 'J', 'G', 'û', 'ù', '→', 'â', 'I', '1', '0', '2', '…', 'K', 'k', '`', 'X', 'ï', '[', ']', 'w', 'Â', 'Z', '%', 'Œ', '8', '4', 'ō', 'ë', '9', 'À', '#', '6', '‹', '◌', '̧', '›', '+', 'α', 'Ô', 'W', '&', '🚃', '/', '°', '℥', '?', 'Y', '@', 'ʼ', '−', 'Î', '卐', '卍', 'ə', '=', 'Σ', '³', 'æ', '‐', 'á', '!', '_', 'ϛ', 'Ϛ', 'σ', 'τ', '≃', '{', '}', 'ä', 'å', '<', '♥', '♦', '♣', '♠', 'μ', 'ζ', 'Ζ', 'ö', '₳', 'ó', 'í', '한', '글', '$', 'È', '‿', '^', '¥', '>', '्', '\\\\', '☧', 'ü', 'φ', 'ρ', 'ό', 'ν', 'η', 'ι', 'ς', '₴', '™', 'θ', 'ﺀ', 'ء', '–', 'ƒ', '⊆', '∈', 'ñ', '₨', '£', '♭', 'ˌ', '*', '½', '¨', 'Θ', 'ū', '′', 'ḫ', '·', '≈', 'ș', '¯', 'β', 'ā', 'ℓ', '×', '⊇', 'Α', '₄', '|', '†', '‾', '~', 'ú', 'Ú', 'Á', 'Ó', 'ò', 'Í', '≠', '≤', '≥', 'ˈ', 'ì', 'ἑ', 'κ', 'ϐ', '\\xad', '¡', 'º', 'γ', 'υ', 'ή', 'δ', 'ē', 'ύ', '⟨', '⟩', 'ʎ', 'ʝ', 'ح', 'ُ', 'م', 'ّ', 'ص', 'ب', 'ط', 'ي', 'ن', 'ة', 'ḥ', 'ṣ', 'ṭ', 'ī', '♕', '♛', 'Π', '\\u200b', 'Å', 'י', 'ד', '♡', 'ª', 'ø', 'Ξ', 'ξ', 'ł', 'ą', 'ś', '″', '²', 'Ꞌ', 'ꞌ', '♢', 'א', '蕎', '麦', 'π', '⁻', '⁷', '♘', '♞', '¿', '¶', 'Χ', 'Ρ', 'ʔ', '₅', '₁', '₀', 'µ', 'ː', '‰', '✓', 'ð', '̣', 'ř', 'ů', '♖', '♜', 'ß', 'ã', '⁰', '⁺', '®', '‘', '±', 'λ', 'ʃ', '€', 'Ε', 'ε', 'Κ', '͵', 'Ο', 'ο', 'Ω', 'ω', 'Φ', '∇', 'Ψ', 'ψ', 'õ', 'ʿ', 'Υ', 'Ü']\n"
          ]
        }
      ]
    },
    {
      "cell_type": "code",
      "source": [
        "print(len(all_chars_train))"
      ],
      "metadata": {
        "colab": {
          "base_uri": "https://localhost:8080/"
        },
        "id": "sr4tEmJwoxNr",
        "outputId": "9634d8b1-458a-4fee-8550-c002d000ad61"
      },
      "id": "sr4tEmJwoxNr",
      "execution_count": null,
      "outputs": [
        {
          "output_type": "stream",
          "name": "stdout",
          "text": [
            "174432\n"
          ]
        }
      ]
    },
    {
      "cell_type": "code",
      "source": [
        "print(all_chars_train[43608])"
      ],
      "metadata": {
        "colab": {
          "base_uri": "https://localhost:8080/"
        },
        "id": "Fa0duZfp9h5F",
        "outputId": "43d33f7e-25b2-47d8-de49-38afb27c126f"
      },
      "id": "Fa0duZfp9h5F",
      "execution_count": null,
      "outputs": [
        {
          "output_type": "stream",
          "name": "stdout",
          "text": [
            "['A', 'b', 'l', 'e', 'm', 'i', 's', 'h', '.']\n"
          ]
        }
      ]
    },
    {
      "cell_type": "code",
      "execution_count": null,
      "metadata": {
        "id": "14fa7890"
      },
      "outputs": [],
      "source": [
        "def longest_gloss(glosses_list):\n",
        "    lgt = 0\n",
        "    sentence = \"\"\n",
        "    tk = []\n",
        "    for g in glosses_list :\n",
        "        tokens = g.split()\n",
        "        if len(tokens)>lgt :\n",
        "            lgt = len(tokens)\n",
        "            sentence =g\n",
        "            tk = tokens\n",
        "    return lgt"
      ],
      "id": "14fa7890"
    },
    {
      "cell_type": "code",
      "execution_count": null,
      "metadata": {
        "id": "0f44ec59"
      },
      "outputs": [],
      "source": [
        "#max_tokens = len(list(lemm2Idx))\n",
        "#print(max_tokens)\n",
        "#max_tokens_ = len(list(lemm2Idx))\n",
        "\n",
        "#max_tokens_dev = len(lemm2Idx_dev)\n",
        "\n",
        "vectorize_layer = TextVectorization(\n",
        "    # Max vocab size. Any words outside of the max_tokens most common ones\n",
        "    # will be treated the same way: as \"out of vocabulary\" (OOV) tokens.\n",
        "    max_tokens=316,\n",
        "    # Output integer indices, one per string token\n",
        "    output_mode=\"int\",\n",
        "    # Always pad or truncate to exactly this many tokens\n",
        "    output_sequence_length=300\n",
        ")"
      ],
      "id": "0f44ec59"
    },
    {
      "cell_type": "code",
      "source": [
        "vectorize_layer.set_vocabulary(list(char_to_int.keys()))"
      ],
      "metadata": {
        "id": "XTOjM8RIp2s1"
      },
      "id": "XTOjM8RIp2s1",
      "execution_count": null,
      "outputs": []
    },
    {
      "cell_type": "code",
      "source": [
        "vectorize_layer.get_vocabulary()"
      ],
      "metadata": {
        "colab": {
          "base_uri": "https://localhost:8080/"
        },
        "id": "DsKBxYWNrv-C",
        "outputId": "36d6dc21-9b59-4f5b-e5c1-aa2d37764a8d"
      },
      "id": "DsKBxYWNrv-C",
      "execution_count": null,
      "outputs": [
        {
          "output_type": "execute_result",
          "data": {
            "text/plain": [
              "['',\n",
              " '[UNK]',\n",
              " '(',\n",
              " 'P',\n",
              " 'a',\n",
              " 'r',\n",
              " 'm',\n",
              " 'é',\n",
              " 't',\n",
              " 'o',\n",
              " 'n',\n",
              " 'y',\n",
              " 'i',\n",
              " 'e',\n",
              " ')',\n",
              " 'l',\n",
              " 'c',\n",
              " 'd',\n",
              " 'p',\n",
              " 'f',\n",
              " 's',\n",
              " 'u',\n",
              " 'v',\n",
              " ',',\n",
              " 'x',\n",
              " 'g',\n",
              " 'b',\n",
              " \"'\",\n",
              " '.',\n",
              " 'Q',\n",
              " 'R',\n",
              " 'à',\n",
              " 'C',\n",
              " 'ô',\n",
              " 'A',\n",
              " 'z',\n",
              " 'Ê',\n",
              " 'q',\n",
              " 'h',\n",
              " 'j',\n",
              " ';',\n",
              " '—',\n",
              " 'N',\n",
              " ':',\n",
              " 'L',\n",
              " 'M',\n",
              " 'H',\n",
              " 'œ',\n",
              " 'U',\n",
              " '3',\n",
              " '7',\n",
              " '5',\n",
              " 'S',\n",
              " '-',\n",
              " 'F',\n",
              " 'ç',\n",
              " 'è',\n",
              " 'B',\n",
              " 'ê',\n",
              " 'E',\n",
              " 'D',\n",
              " 'É',\n",
              " 'T',\n",
              " 'O',\n",
              " 'V',\n",
              " 'î',\n",
              " 'J',\n",
              " 'G',\n",
              " 'û',\n",
              " 'ù',\n",
              " '→',\n",
              " 'â',\n",
              " 'I',\n",
              " '1',\n",
              " '0',\n",
              " '2',\n",
              " '…',\n",
              " 'K',\n",
              " 'k',\n",
              " '`',\n",
              " 'X',\n",
              " 'ï',\n",
              " '[',\n",
              " ']',\n",
              " 'w',\n",
              " 'Â',\n",
              " 'Z',\n",
              " '%',\n",
              " 'Œ',\n",
              " '8',\n",
              " '4',\n",
              " 'ō',\n",
              " 'ë',\n",
              " '9',\n",
              " 'À',\n",
              " '#',\n",
              " '6',\n",
              " '‹',\n",
              " '◌',\n",
              " '̧',\n",
              " '›',\n",
              " '+',\n",
              " 'α',\n",
              " 'Ô',\n",
              " 'W',\n",
              " '&',\n",
              " '🚃',\n",
              " '/',\n",
              " '°',\n",
              " '℥',\n",
              " '?',\n",
              " 'Y',\n",
              " '@',\n",
              " 'ʼ',\n",
              " '−',\n",
              " 'Î',\n",
              " '卐',\n",
              " '卍',\n",
              " 'ə',\n",
              " '=',\n",
              " 'Σ',\n",
              " '³',\n",
              " 'æ',\n",
              " '‐',\n",
              " 'á',\n",
              " '!',\n",
              " '_',\n",
              " 'ϛ',\n",
              " 'Ϛ',\n",
              " 'σ',\n",
              " 'τ',\n",
              " '≃',\n",
              " '{',\n",
              " '}',\n",
              " 'ä',\n",
              " 'å',\n",
              " '<',\n",
              " '♥',\n",
              " '♦',\n",
              " '♣',\n",
              " '♠',\n",
              " 'μ',\n",
              " 'ζ',\n",
              " 'Ζ',\n",
              " 'ö',\n",
              " '₳',\n",
              " 'ó',\n",
              " 'í',\n",
              " '한',\n",
              " '글',\n",
              " '$',\n",
              " 'È',\n",
              " '‿',\n",
              " '^',\n",
              " '¥',\n",
              " '>',\n",
              " '्',\n",
              " '\\\\',\n",
              " '☧',\n",
              " 'ü',\n",
              " 'φ',\n",
              " 'ρ',\n",
              " 'ό',\n",
              " 'ν',\n",
              " 'η',\n",
              " 'ι',\n",
              " 'ς',\n",
              " '₴',\n",
              " '™',\n",
              " 'θ',\n",
              " 'ﺀ',\n",
              " 'ء',\n",
              " '–',\n",
              " 'ƒ',\n",
              " '⊆',\n",
              " '∈',\n",
              " 'ñ',\n",
              " '₨',\n",
              " '£',\n",
              " '♭',\n",
              " 'ˌ',\n",
              " '*',\n",
              " '½',\n",
              " '¨',\n",
              " 'Θ',\n",
              " 'ū',\n",
              " '′',\n",
              " 'ḫ',\n",
              " '·',\n",
              " '≈',\n",
              " 'ș',\n",
              " '¯',\n",
              " 'β',\n",
              " 'ā',\n",
              " 'ℓ',\n",
              " '×',\n",
              " '⊇',\n",
              " 'Α',\n",
              " '₄',\n",
              " '|',\n",
              " '†',\n",
              " '‾',\n",
              " '~',\n",
              " 'ú',\n",
              " 'Ú',\n",
              " 'Á',\n",
              " 'Ó',\n",
              " 'ò',\n",
              " 'Í',\n",
              " '≠',\n",
              " '≤',\n",
              " '≥',\n",
              " 'ˈ',\n",
              " 'ì',\n",
              " 'ἑ',\n",
              " 'κ',\n",
              " 'ϐ',\n",
              " '\\xad',\n",
              " '¡',\n",
              " 'º',\n",
              " 'γ',\n",
              " 'υ',\n",
              " 'ή',\n",
              " 'δ',\n",
              " 'ē',\n",
              " 'ύ',\n",
              " '⟨',\n",
              " '⟩',\n",
              " 'ʎ',\n",
              " 'ʝ',\n",
              " 'ح',\n",
              " 'ُ',\n",
              " 'م',\n",
              " 'ّ',\n",
              " 'ص',\n",
              " 'ب',\n",
              " 'ط',\n",
              " 'ي',\n",
              " 'ن',\n",
              " 'ة',\n",
              " 'ḥ',\n",
              " 'ṣ',\n",
              " 'ṭ',\n",
              " 'ī',\n",
              " '♕',\n",
              " '♛',\n",
              " 'Π',\n",
              " '\\u200b',\n",
              " 'Å',\n",
              " 'י',\n",
              " 'ד',\n",
              " '♡',\n",
              " 'ª',\n",
              " 'ø',\n",
              " 'Ξ',\n",
              " 'ξ',\n",
              " 'ł',\n",
              " 'ą',\n",
              " 'ś',\n",
              " '″',\n",
              " '²',\n",
              " 'Ꞌ',\n",
              " 'ꞌ',\n",
              " '♢',\n",
              " 'א',\n",
              " '蕎',\n",
              " '麦',\n",
              " 'π',\n",
              " '⁻',\n",
              " '⁷',\n",
              " '♘',\n",
              " '♞',\n",
              " '¿',\n",
              " '¶',\n",
              " 'Χ',\n",
              " 'Ρ',\n",
              " 'ʔ',\n",
              " '₅',\n",
              " '₁',\n",
              " '₀',\n",
              " 'µ',\n",
              " 'ː',\n",
              " '‰',\n",
              " '✓',\n",
              " 'ð',\n",
              " '̣',\n",
              " 'ř',\n",
              " 'ů',\n",
              " '♖',\n",
              " '♜',\n",
              " 'ß',\n",
              " 'ã',\n",
              " '⁰',\n",
              " '⁺',\n",
              " '®',\n",
              " '‘',\n",
              " '±',\n",
              " 'λ',\n",
              " 'ʃ',\n",
              " '€',\n",
              " 'Ε',\n",
              " 'ε',\n",
              " 'Κ',\n",
              " '͵',\n",
              " 'Ο',\n",
              " 'ο',\n",
              " 'Ω',\n",
              " 'ω',\n",
              " 'Φ',\n",
              " '∇',\n",
              " 'Ψ',\n",
              " 'ψ',\n",
              " 'õ',\n",
              " 'ʿ',\n",
              " 'Υ',\n",
              " 'Ü']"
            ]
          },
          "metadata": {},
          "execution_count": 35
        }
      ]
    },
    {
      "cell_type": "markdown",
      "metadata": {
        "id": "3a64ca10"
      },
      "source": [
        "### Construction du modèle"
      ],
      "id": "3a64ca10"
    },
    {
      "cell_type": "code",
      "source": [
        "pip install tensorflow_addons"
      ],
      "metadata": {
        "colab": {
          "base_uri": "https://localhost:8080/"
        },
        "id": "RxLG299RJayu",
        "outputId": "be9f5894-0c0c-46cb-a2f4-f8351c40a9b6"
      },
      "id": "RxLG299RJayu",
      "execution_count": null,
      "outputs": [
        {
          "output_type": "stream",
          "name": "stdout",
          "text": [
            "Collecting tensorflow_addons\n",
            "  Downloading tensorflow_addons-0.15.0-cp37-cp37m-manylinux_2_12_x86_64.manylinux2010_x86_64.whl (1.1 MB)\n",
            "\u001b[?25l\r\u001b[K     |▎                               | 10 kB 25.6 MB/s eta 0:00:01\r\u001b[K     |▋                               | 20 kB 26.5 MB/s eta 0:00:01\r\u001b[K     |▉                               | 30 kB 10.7 MB/s eta 0:00:01\r\u001b[K     |█▏                              | 40 kB 8.3 MB/s eta 0:00:01\r\u001b[K     |█▌                              | 51 kB 5.5 MB/s eta 0:00:01\r\u001b[K     |█▊                              | 61 kB 5.6 MB/s eta 0:00:01\r\u001b[K     |██                              | 71 kB 4.9 MB/s eta 0:00:01\r\u001b[K     |██▍                             | 81 kB 5.3 MB/s eta 0:00:01\r\u001b[K     |██▋                             | 92 kB 5.9 MB/s eta 0:00:01\r\u001b[K     |███                             | 102 kB 5.3 MB/s eta 0:00:01\r\u001b[K     |███▎                            | 112 kB 5.3 MB/s eta 0:00:01\r\u001b[K     |███▌                            | 122 kB 5.3 MB/s eta 0:00:01\r\u001b[K     |███▉                            | 133 kB 5.3 MB/s eta 0:00:01\r\u001b[K     |████▏                           | 143 kB 5.3 MB/s eta 0:00:01\r\u001b[K     |████▍                           | 153 kB 5.3 MB/s eta 0:00:01\r\u001b[K     |████▊                           | 163 kB 5.3 MB/s eta 0:00:01\r\u001b[K     |█████                           | 174 kB 5.3 MB/s eta 0:00:01\r\u001b[K     |█████▎                          | 184 kB 5.3 MB/s eta 0:00:01\r\u001b[K     |█████▋                          | 194 kB 5.3 MB/s eta 0:00:01\r\u001b[K     |█████▉                          | 204 kB 5.3 MB/s eta 0:00:01\r\u001b[K     |██████▏                         | 215 kB 5.3 MB/s eta 0:00:01\r\u001b[K     |██████▌                         | 225 kB 5.3 MB/s eta 0:00:01\r\u001b[K     |██████▊                         | 235 kB 5.3 MB/s eta 0:00:01\r\u001b[K     |███████                         | 245 kB 5.3 MB/s eta 0:00:01\r\u001b[K     |███████▍                        | 256 kB 5.3 MB/s eta 0:00:01\r\u001b[K     |███████▋                        | 266 kB 5.3 MB/s eta 0:00:01\r\u001b[K     |████████                        | 276 kB 5.3 MB/s eta 0:00:01\r\u001b[K     |████████▎                       | 286 kB 5.3 MB/s eta 0:00:01\r\u001b[K     |████████▌                       | 296 kB 5.3 MB/s eta 0:00:01\r\u001b[K     |████████▉                       | 307 kB 5.3 MB/s eta 0:00:01\r\u001b[K     |█████████                       | 317 kB 5.3 MB/s eta 0:00:01\r\u001b[K     |█████████▍                      | 327 kB 5.3 MB/s eta 0:00:01\r\u001b[K     |█████████▊                      | 337 kB 5.3 MB/s eta 0:00:01\r\u001b[K     |██████████                      | 348 kB 5.3 MB/s eta 0:00:01\r\u001b[K     |██████████▎                     | 358 kB 5.3 MB/s eta 0:00:01\r\u001b[K     |██████████▋                     | 368 kB 5.3 MB/s eta 0:00:01\r\u001b[K     |██████████▉                     | 378 kB 5.3 MB/s eta 0:00:01\r\u001b[K     |███████████▏                    | 389 kB 5.3 MB/s eta 0:00:01\r\u001b[K     |███████████▌                    | 399 kB 5.3 MB/s eta 0:00:01\r\u001b[K     |███████████▊                    | 409 kB 5.3 MB/s eta 0:00:01\r\u001b[K     |████████████                    | 419 kB 5.3 MB/s eta 0:00:01\r\u001b[K     |████████████▍                   | 430 kB 5.3 MB/s eta 0:00:01\r\u001b[K     |████████████▋                   | 440 kB 5.3 MB/s eta 0:00:01\r\u001b[K     |█████████████                   | 450 kB 5.3 MB/s eta 0:00:01\r\u001b[K     |█████████████▎                  | 460 kB 5.3 MB/s eta 0:00:01\r\u001b[K     |█████████████▌                  | 471 kB 5.3 MB/s eta 0:00:01\r\u001b[K     |█████████████▉                  | 481 kB 5.3 MB/s eta 0:00:01\r\u001b[K     |██████████████                  | 491 kB 5.3 MB/s eta 0:00:01\r\u001b[K     |██████████████▍                 | 501 kB 5.3 MB/s eta 0:00:01\r\u001b[K     |██████████████▊                 | 512 kB 5.3 MB/s eta 0:00:01\r\u001b[K     |███████████████                 | 522 kB 5.3 MB/s eta 0:00:01\r\u001b[K     |███████████████▎                | 532 kB 5.3 MB/s eta 0:00:01\r\u001b[K     |███████████████▋                | 542 kB 5.3 MB/s eta 0:00:01\r\u001b[K     |███████████████▉                | 552 kB 5.3 MB/s eta 0:00:01\r\u001b[K     |████████████████▏               | 563 kB 5.3 MB/s eta 0:00:01\r\u001b[K     |████████████████▌               | 573 kB 5.3 MB/s eta 0:00:01\r\u001b[K     |████████████████▊               | 583 kB 5.3 MB/s eta 0:00:01\r\u001b[K     |█████████████████               | 593 kB 5.3 MB/s eta 0:00:01\r\u001b[K     |█████████████████▍              | 604 kB 5.3 MB/s eta 0:00:01\r\u001b[K     |█████████████████▋              | 614 kB 5.3 MB/s eta 0:00:01\r\u001b[K     |██████████████████              | 624 kB 5.3 MB/s eta 0:00:01\r\u001b[K     |██████████████████▏             | 634 kB 5.3 MB/s eta 0:00:01\r\u001b[K     |██████████████████▌             | 645 kB 5.3 MB/s eta 0:00:01\r\u001b[K     |██████████████████▉             | 655 kB 5.3 MB/s eta 0:00:01\r\u001b[K     |███████████████████             | 665 kB 5.3 MB/s eta 0:00:01\r\u001b[K     |███████████████████▍            | 675 kB 5.3 MB/s eta 0:00:01\r\u001b[K     |███████████████████▊            | 686 kB 5.3 MB/s eta 0:00:01\r\u001b[K     |████████████████████            | 696 kB 5.3 MB/s eta 0:00:01\r\u001b[K     |████████████████████▎           | 706 kB 5.3 MB/s eta 0:00:01\r\u001b[K     |████████████████████▋           | 716 kB 5.3 MB/s eta 0:00:01\r\u001b[K     |████████████████████▉           | 727 kB 5.3 MB/s eta 0:00:01\r\u001b[K     |█████████████████████▏          | 737 kB 5.3 MB/s eta 0:00:01\r\u001b[K     |█████████████████████▌          | 747 kB 5.3 MB/s eta 0:00:01\r\u001b[K     |█████████████████████▊          | 757 kB 5.3 MB/s eta 0:00:01\r\u001b[K     |██████████████████████          | 768 kB 5.3 MB/s eta 0:00:01\r\u001b[K     |██████████████████████▎         | 778 kB 5.3 MB/s eta 0:00:01\r\u001b[K     |██████████████████████▋         | 788 kB 5.3 MB/s eta 0:00:01\r\u001b[K     |███████████████████████         | 798 kB 5.3 MB/s eta 0:00:01\r\u001b[K     |███████████████████████▏        | 808 kB 5.3 MB/s eta 0:00:01\r\u001b[K     |███████████████████████▌        | 819 kB 5.3 MB/s eta 0:00:01\r\u001b[K     |███████████████████████▉        | 829 kB 5.3 MB/s eta 0:00:01\r\u001b[K     |████████████████████████        | 839 kB 5.3 MB/s eta 0:00:01\r\u001b[K     |████████████████████████▍       | 849 kB 5.3 MB/s eta 0:00:01\r\u001b[K     |████████████████████████▊       | 860 kB 5.3 MB/s eta 0:00:01\r\u001b[K     |█████████████████████████       | 870 kB 5.3 MB/s eta 0:00:01\r\u001b[K     |█████████████████████████▎      | 880 kB 5.3 MB/s eta 0:00:01\r\u001b[K     |█████████████████████████▋      | 890 kB 5.3 MB/s eta 0:00:01\r\u001b[K     |█████████████████████████▉      | 901 kB 5.3 MB/s eta 0:00:01\r\u001b[K     |██████████████████████████▏     | 911 kB 5.3 MB/s eta 0:00:01\r\u001b[K     |██████████████████████████▌     | 921 kB 5.3 MB/s eta 0:00:01\r\u001b[K     |██████████████████████████▊     | 931 kB 5.3 MB/s eta 0:00:01\r\u001b[K     |███████████████████████████     | 942 kB 5.3 MB/s eta 0:00:01\r\u001b[K     |███████████████████████████▎    | 952 kB 5.3 MB/s eta 0:00:01\r\u001b[K     |███████████████████████████▋    | 962 kB 5.3 MB/s eta 0:00:01\r\u001b[K     |████████████████████████████    | 972 kB 5.3 MB/s eta 0:00:01\r\u001b[K     |████████████████████████████▏   | 983 kB 5.3 MB/s eta 0:00:01\r\u001b[K     |████████████████████████████▌   | 993 kB 5.3 MB/s eta 0:00:01\r\u001b[K     |████████████████████████████▉   | 1.0 MB 5.3 MB/s eta 0:00:01\r\u001b[K     |█████████████████████████████   | 1.0 MB 5.3 MB/s eta 0:00:01\r\u001b[K     |█████████████████████████████▍  | 1.0 MB 5.3 MB/s eta 0:00:01\r\u001b[K     |█████████████████████████████▊  | 1.0 MB 5.3 MB/s eta 0:00:01\r\u001b[K     |██████████████████████████████  | 1.0 MB 5.3 MB/s eta 0:00:01\r\u001b[K     |██████████████████████████████▎ | 1.1 MB 5.3 MB/s eta 0:00:01\r\u001b[K     |██████████████████████████████▋ | 1.1 MB 5.3 MB/s eta 0:00:01\r\u001b[K     |██████████████████████████████▉ | 1.1 MB 5.3 MB/s eta 0:00:01\r\u001b[K     |███████████████████████████████▏| 1.1 MB 5.3 MB/s eta 0:00:01\r\u001b[K     |███████████████████████████████▍| 1.1 MB 5.3 MB/s eta 0:00:01\r\u001b[K     |███████████████████████████████▊| 1.1 MB 5.3 MB/s eta 0:00:01\r\u001b[K     |████████████████████████████████| 1.1 MB 5.3 MB/s \n",
            "\u001b[?25hRequirement already satisfied: typeguard>=2.7 in /usr/local/lib/python3.7/dist-packages (from tensorflow_addons) (2.7.1)\n",
            "Installing collected packages: tensorflow-addons\n",
            "Successfully installed tensorflow-addons-0.15.0\n"
          ]
        }
      ]
    },
    {
      "cell_type": "code",
      "execution_count": null,
      "metadata": {
        "id": "qqBlEmP9xb1B"
      },
      "outputs": [],
      "source": [
        "import tensorflow as tf\n",
        "import tensorflow_addons as tfa\n",
        "step = tf.Variable(0, trainable=False)\n",
        "schedule = tf.optimizers.schedules.PiecewiseConstantDecay(\n",
        "    [10000, 15000], [1e-0, 1e-1, 1e-2])\n",
        "# lr and wd can be a function or a tensor\n",
        "\n",
        "lr = 1e-1 * schedule(step)\n",
        "\n",
        "learning_rate=1e-3\n",
        "\n",
        "wd = lambda: 1e-4 * schedule(step)\n",
        "\n",
        "weight_decay=1e-6,\n",
        "\n",
        "optimizer = tfa.optimizers.AdamW(learning_rate=learning_rate, weight_decay=weight_decay)"
      ],
      "id": "qqBlEmP9xb1B"
    },
    {
      "cell_type": "code",
      "execution_count": null,
      "metadata": {
        "id": "374b3648"
      },
      "outputs": [],
      "source": [
        "import torch.optim as optim\n",
        "\n",
        "opt = keras.optimizers.Adam(learning_rate=0.01)"
      ],
      "id": "374b3648"
    },
    {
      "cell_type": "code",
      "execution_count": null,
      "metadata": {
        "id": "97206c4d"
      },
      "outputs": [],
      "source": [
        "model = Sequential()\n",
        "model.add(Input(shape=(1,), dtype=\"string\"))"
      ],
      "id": "97206c4d"
    },
    {
      "cell_type": "code",
      "execution_count": null,
      "metadata": {
        "id": "beb5c57f"
      },
      "outputs": [],
      "source": [
        "model.add(vectorize_layer)"
      ],
      "id": "beb5c57f"
    },
    {
      "cell_type": "code",
      "execution_count": null,
      "metadata": {
        "id": "a0dde3ec",
        "colab": {
          "base_uri": "https://localhost:8080/"
        },
        "outputId": "03b1756d-5369-47a4-e892-ab302ccd4069"
      },
      "outputs": [
        {
          "output_type": "stream",
          "name": "stdout",
          "text": [
            "WARNING:tensorflow:Layer lstm_3 will not use cuDNN kernels since it doesn't meet the criteria. It will use a generic GPU kernel as fallback when running on GPU.\n"
          ]
        }
      ],
      "source": [
        "from tensorflow.keras import layers\n",
        "# Note that we're using max_tokens + 1 here, since there's an\n",
        "# out-of-vocabulary (OOV) token that gets added to the vocab.\n",
        "\n",
        "len_gloses = 43608\n",
        "\n",
        "model.add(Embedding(170+1, 128))\n",
        "\n",
        "model.add(Dense(128))\n",
        "\n",
        "model.add(Bidirectional(LSTM(units=192, return_sequences=True), merge_mode = 'ave'))\n",
        "\n",
        "model.add(Dense(192))\n",
        "\n",
        "model.add(LSTM(units=256, return_sequences=False, activation = \"softmax\"))\n",
        "\n",
        "\n",
        "model.add(Dense(256))"
      ],
      "id": "a0dde3ec"
    },
    {
      "cell_type": "code",
      "execution_count": null,
      "metadata": {
        "colab": {
          "base_uri": "https://localhost:8080/"
        },
        "id": "05ec90f7",
        "outputId": "7839e8ed-57ee-4a48-ca35-322f2e475e6c"
      },
      "outputs": [
        {
          "output_type": "stream",
          "name": "stdout",
          "text": [
            "Model: \"sequential_1\"\n",
            "_________________________________________________________________\n",
            " Layer (type)                Output Shape              Param #   \n",
            "=================================================================\n",
            " text_vectorization_1 (TextV  (None, 300)              0         \n",
            " ectorization)                                                   \n",
            "                                                                 \n",
            " embedding_1 (Embedding)     (None, 300, 128)          21888     \n",
            "                                                                 \n",
            " dense_3 (Dense)             (None, 300, 128)          16512     \n",
            "                                                                 \n",
            " bidirectional_1 (Bidirectio  (None, 300, 192)         493056    \n",
            " nal)                                                            \n",
            "                                                                 \n",
            " dense_4 (Dense)             (None, 300, 192)          37056     \n",
            "                                                                 \n",
            " lstm_3 (LSTM)               (None, 256)               459776    \n",
            "                                                                 \n",
            " dense_5 (Dense)             (None, 256)               65792     \n",
            "                                                                 \n",
            "=================================================================\n",
            "Total params: 1,094,080\n",
            "Trainable params: 1,094,080\n",
            "Non-trainable params: 0\n",
            "_________________________________________________________________\n"
          ]
        }
      ],
      "source": [
        " model.compile(\n",
        "    optimizer=opt,\n",
        "    loss='mse',\n",
        "    metrics=['accuracy'],\n",
        ")\n",
        "\n",
        "model.summary()"
      ],
      "id": "05ec90f7"
    },
    {
      "cell_type": "code",
      "source": [
        "print(chars_train[0])\n",
        "print(len(char_target))"
      ],
      "metadata": {
        "colab": {
          "base_uri": "https://localhost:8080/"
        },
        "id": "J1c7pVOjOfLK",
        "outputId": "536fd7e6-a684-484d-d7ff-18a30c59ba78"
      },
      "id": "J1c7pVOjOfLK",
      "execution_count": null,
      "outputs": [
        {
          "output_type": "stream",
          "name": "stdout",
          "text": [
            "['(', 'P', 'a', 'r', 'm', 'é', 't', 'o', 'n', 'y', 'm', 'i', 'e', ')', 'P', 'l', 'a', 'c', 'e', 'd', 'e', 'p', 'r', 'o', 'f', 'e', 's', 's', 'e', 'u', 'r', 'd', 'a', 'n', 's', 'u', 'n', 'e', 'u', 'n', 'i', 'v', 'e', 'r', 's', 'i', 't', 'é', ',', 'e', 't', 'p', 'a', 'r', 'e', 'x', 't', 'e', 'n', 's', 'i', 'o', 'n', 'd', 'a', 'n', 's', 'u', 'n', 'e', 'g', 'r', 'a', 'n', 'd', 'e', 'é', 'c', 'o', 'l', 'e', 'o', 'u', 'u', 'n', 'é', 't', 'a', 'b', 'l', 'i', 's', 's', 'e', 'm', 'e', 'n', 't', 'd', \"'\", 'e', 'n', 's', 'e', 'i', 'g', 'n', 'e', 'm', 'e', 'n', 't', 's', 'u', 'p', 'é', 'r', 'i', 'e', 'u', 'r', '.']\n",
            "43608\n"
          ]
        }
      ]
    },
    {
      "cell_type": "markdown",
      "metadata": {
        "id": "2f7c5b75"
      },
      "source": [
        "### Entraînement du modèle"
      ],
      "id": "2f7c5b75"
    },
    {
      "cell_type": "code",
      "execution_count": null,
      "metadata": {
        "colab": {
          "base_uri": "https://localhost:8080/"
        },
        "id": "81f1324c",
        "outputId": "8aeb5f9b-cbe8-489e-c2f8-079d3a1c0eea"
      },
      "outputs": [
        {
          "output_type": "stream",
          "name": "stdout",
          "text": [
            "Epoch 1/5\n",
            "909/909 [==============================] - 1128s 1s/step - loss: 0.7130 - accuracy: 0.1617 - val_loss: 0.7109 - val_accuracy: 0.2219\n",
            "Epoch 2/5\n",
            "909/909 [==============================] - 1081s 1s/step - loss: 0.7117 - accuracy: 0.1725 - val_loss: 0.7109 - val_accuracy: 0.1909\n",
            "Epoch 3/5\n",
            "909/909 [==============================] - 1087s 1s/step - loss: 0.7118 - accuracy: 0.1667 - val_loss: 0.7111 - val_accuracy: 0.1909\n",
            "Epoch 4/5\n",
            "909/909 [==============================] - 1070s 1s/step - loss: 0.7118 - accuracy: 0.1810 - val_loss: 0.7113 - val_accuracy: 0.1909\n",
            "Epoch 5/5\n",
            "909/909 [==============================] - 1048s 1s/step - loss: 0.7117 - accuracy: 0.1662 - val_loss: 0.7109 - val_accuracy: 0.1909\n"
          ]
        }
      ],
      "source": [
        "import tensorflow as tf\n",
        "with tf.device('/device:GPU:0'):\n",
        "  history = model.fit(all_glosses_train, all_char_train,\n",
        "                    epochs=5,\n",
        "                    batch_size=192,\n",
        "                    validation_data = (all_glosses_dev, all_char__dev))"
      ],
      "id": "81f1324c"
    },
    {
      "cell_type": "code",
      "source": [
        "print(lemmatized_glosses_text_dev[1])\n",
        "print(glosses_dev[1])"
      ],
      "metadata": {
        "colab": {
          "base_uri": "https://localhost:8080/"
        },
        "id": "m0VioLvEKRMm",
        "outputId": "5e8f8b5c-de26-431f-9e00-6f1ed2036abe"
      },
      "id": "m0VioLvEKRMm",
      "execution_count": null,
      "outputs": [
        {
          "output_type": "stream",
          "name": "stdout",
          "text": [
            "figurer éviter de respecter en exploiter un biais \n",
            "( Figuré ) Éviter de respecter en exploitant un biais .\n"
          ]
        }
      ]
    },
    {
      "cell_type": "code",
      "execution_count": null,
      "metadata": {
        "colab": {
          "base_uri": "https://localhost:8080/",
          "height": 545
        },
        "id": "ff51800e",
        "outputId": "f1686836-8a18-4b6f-8fe3-f466982911c1"
      },
      "outputs": [
        {
          "output_type": "display_data",
          "data": {
            "image/png": "[encoded data removed]",
            "text/plain": [
              "<Figure size 432x288 with 1 Axes>"
            ]
          },
          "metadata": {
            "needs_background": "light"
          }
        },
        {
          "output_type": "display_data",
          "data": {
            "image/png": "[encoded data removed]",
            "text/plain": [
              "<Figure size 432x288 with 1 Axes>"
            ]
          },
          "metadata": {
            "needs_background": "light"
          }
        }
      ],
      "source": [
        "#Visualisation des résultats de l'entraînement.\n",
        "import matplotlib.pyplot as plt\n",
        "\n",
        "acc = history.history['accuracy']\n",
        "val_acc = history.history['val_accuracy']\n",
        "loss = history.history['loss']\n",
        "val_loss = history.history['val_loss']\n",
        "\n",
        "epochs = range(1, len(acc) + 1)\n",
        "\n",
        "plt.plot(epochs, acc, 'bo', label='Training acc')\n",
        "plt.plot(epochs, val_acc, 'b', label='Validation acc')\n",
        "plt.title('Training and validation accuracy')\n",
        "plt.legend()\n",
        "\n",
        "plt.figure()\n",
        "\n",
        "plt.plot(epochs, loss, 'bo', label='Training loss')\n",
        "plt.plot(epochs, val_loss, 'b', label='Validation loss')\n",
        "plt.title('Training and validation loss')\n",
        "plt.legend()\n",
        "\n",
        "plt.show()"
      ],
      "id": "ff51800e"
    },
    {
      "cell_type": "code",
      "execution_count": null,
      "metadata": {
        "id": "KQZk_4rH86t6",
        "colab": {
          "base_uri": "https://localhost:8080/"
        },
        "outputId": "5de56f31-fb2f-41f4-d8fd-e7e22c30d927"
      },
      "outputs": [
        {
          "output_type": "stream",
          "name": "stderr",
          "text": [
            "WARNING:absl:Found untraced functions such as lstm_cell_13_layer_call_fn, lstm_cell_13_layer_call_and_return_conditional_losses, lstm_cell_14_layer_call_fn, lstm_cell_14_layer_call_and_return_conditional_losses, lstm_cell_13_layer_call_fn while saving (showing 5 of 10). These functions will not be directly callable after loading.\n"
          ]
        },
        {
          "output_type": "stream",
          "name": "stdout",
          "text": [
            "INFO:tensorflow:Assets written to: _fr_revdict_model.tf/assets\n"
          ]
        },
        {
          "output_type": "stream",
          "name": "stderr",
          "text": [
            "INFO:tensorflow:Assets written to: _fr_revdict_model.tf/assets\n",
            "WARNING:absl:<keras.layers.recurrent.LSTMCell object at 0x7f1ea9f293d0> has the same name 'LSTMCell' as a built-in Keras object. Consider renaming <class 'keras.layers.recurrent.LSTMCell'> to avoid naming conflicts when loading with `tf.keras.models.load_model`. If renaming is not possible, pass the object in the `custom_objects` parameter of the load function.\n",
            "WARNING:absl:<keras.layers.recurrent.LSTMCell object at 0x7f1ea9f16f50> has the same name 'LSTMCell' as a built-in Keras object. Consider renaming <class 'keras.layers.recurrent.LSTMCell'> to avoid naming conflicts when loading with `tf.keras.models.load_model`. If renaming is not possible, pass the object in the `custom_objects` parameter of the load function.\n",
            "WARNING:absl:<keras.layers.recurrent.LSTMCell object at 0x7f1ea9f16090> has the same name 'LSTMCell' as a built-in Keras object. Consider renaming <class 'keras.layers.recurrent.LSTMCell'> to avoid naming conflicts when loading with `tf.keras.models.load_model`. If renaming is not possible, pass the object in the `custom_objects` parameter of the load function.\n"
          ]
        }
      ],
      "source": [
        "#sauvegarde du modèle\n",
        "model.save('_fr_revdict_model.tf')"
      ],
      "id": "KQZk_4rH86t6"
    },
    {
      "cell_type": "markdown",
      "metadata": {
        "id": "185fe5e0"
      },
      "source": [
        "\n",
        "### Test du modèle sur les données Trial"
      ],
      "id": "185fe5e0"
    },
    {
      "cell_type": "code",
      "execution_count": null,
      "metadata": {
        "id": "7191cfdb"
      },
      "outputs": [],
      "source": [
        "with open(\"/content/drive/My Drive/Datasets/Data_semEval2022/Fr_data/fr.trial.complete.json\", \"r\") as file_handler:\n",
        "    dataset_trial = json.load(file_handler)"
      ],
      "id": "7191cfdb"
    },
    {
      "cell_type": "code",
      "execution_count": null,
      "metadata": {
        "id": "96e503fb"
      },
      "outputs": [],
      "source": [
        "glosses_trial = []\n",
        "for e in dataset_trial :\n",
        "    glosses_trial.append(e[\"gloss\"])"
      ],
      "id": "96e503fb"
    },
    {
      "cell_type": "code",
      "execution_count": null,
      "metadata": {
        "id": "0bcc6573"
      },
      "outputs": [],
      "source": [
        "char_trial = []\n",
        "for e in dataset_trial :\n",
        "    char_trial.append(e[\"char\"])"
      ],
      "id": "0bcc6573"
    },
    {
      "cell_type": "code",
      "source": [
        "scores = model.evaluate(glosses_trial, char_trial, verbose=2)"
      ],
      "metadata": {
        "id": "U21YhQ7sZaOt"
      },
      "id": "U21YhQ7sZaOt",
      "execution_count": null,
      "outputs": []
    },
    {
      "cell_type": "code",
      "execution_count": null,
      "metadata": {
        "id": "229313da"
      },
      "outputs": [],
      "source": [
        "classes_trial = model.predict(glosses_trial, batch_size=32)"
      ],
      "id": "229313da"
    },
    {
      "cell_type": "code",
      "source": [
        "print(len(classes_trial))"
      ],
      "metadata": {
        "colab": {
          "base_uri": "https://localhost:8080/"
        },
        "id": "p8WYLvoVS66z",
        "outputId": "16859e21-eaf0-473d-f1fa-830f210d137f"
      },
      "id": "p8WYLvoVS66z",
      "execution_count": null,
      "outputs": [
        {
          "output_type": "stream",
          "name": "stdout",
          "text": [
            "200\n"
          ]
        }
      ]
    },
    {
      "cell_type": "code",
      "source": [
        "print(len(classes_trial[0]))"
      ],
      "metadata": {
        "colab": {
          "base_uri": "https://localhost:8080/"
        },
        "id": "aV9Cl17pS9wV",
        "outputId": "65ca1f8e-5f63-4ce7-e68a-57c316154efb"
      },
      "id": "aV9Cl17pS9wV",
      "execution_count": null,
      "outputs": [
        {
          "output_type": "stream",
          "name": "stdout",
          "text": [
            "256\n"
          ]
        }
      ]
    },
    {
      "cell_type": "code",
      "source": [
        "results = []\n",
        "\n",
        "prefix_id = \"fr.revdict.\"\n",
        "i = 0\n",
        "for g in glosses_trial :\n",
        "  sample = {}\n",
        "  id = prefix_id + str(i)\n",
        "  sample[\"id\"] = id\n",
        "  sample[\"gloss\"] = g\n",
        "  sample[\"char\"] = classes_trial[glosses_trial.index(g)]\n",
        "  results.append(sample)\n",
        "  i+=1\n",
        "\n",
        "print(\"taille du resultat : \", len(results))\n",
        "# affichage du premier vecteur pour visualiser les résultats produits\n",
        "print(\"vecteur trial ---> prédiction\")\n",
        "for v in char_trial[0] :\n",
        "  print(v, \" ---> \", results[0][\"char\"][list(char_trial[0]).index(v)])"
      ],
      "metadata": {
        "colab": {
          "base_uri": "https://localhost:8080/"
        },
        "id": "JNQa4rDgT4y5",
        "outputId": "28857f86-c797-444f-f39c-db951fb8aa53"
      },
      "id": "JNQa4rDgT4y5",
      "execution_count": null,
      "outputs": [
        {
          "output_type": "stream",
          "name": "stdout",
          "text": [
            "taille du resultat :  200\n",
            "vecteur trial ---> prédiction\n",
            "-0.998752594  --->  -0.56382525\n",
            "0.2391828746  --->  0.830694\n",
            "3.6892702579  --->  1.5349865\n",
            "0.6774794459  --->  0.3321045\n",
            "1.0689342022  --->  0.49484092\n",
            "0.3957220316  --->  0.12411099\n",
            "0.8983408809  --->  1.1196344\n",
            "0.2141073942  --->  -0.17691766\n",
            "0.4109841585  --->  0.4368909\n",
            "0.480174154  --->  0.75864244\n",
            "1.2857937813  --->  0.67542833\n",
            "0.1930104494  --->  0.23725444\n",
            "-1.0285145044  --->  -3.832817\n",
            "-0.0949802995  --->  0.18373528\n",
            "-0.5102931261  --->  0.15605763\n",
            "-0.0043576146  --->  0.110125266\n",
            "0.1080081239  --->  0.3207913\n",
            "0.0524442159  --->  0.051509224\n",
            "-0.5951239467  --->  -0.12861906\n",
            "0.1656504869  --->  0.11241606\n",
            "2.5681743622  --->  1.4251088\n",
            "-0.0290400833  --->  -0.6979501\n",
            "-0.0131741287  --->  -0.007985554\n",
            "0.036433652  --->  0.06849663\n",
            "0.0377024636  --->  0.13062912\n",
            "-0.1368103325  --->  0.13356128\n",
            "-0.148324132  --->  0.04705793\n",
            "0.1298570037  --->  0.29959863\n",
            "-0.0518864989  --->  -0.031940833\n",
            "-0.5501463413  --->  -0.27998734\n",
            "0.0348151438  --->  0.39055407\n",
            "0.0813580006  --->  0.17214124\n",
            "0.2491666079  --->  0.48579004\n",
            "0.0931273252  --->  0.15149218\n",
            "-0.074495703  --->  0.20904958\n",
            "0.3376328945  --->  0.39201787\n",
            "0.7455813289  --->  0.77831674\n",
            "-0.0806716383  --->  0.045213614\n",
            "-0.2607393861  --->  0.49563068\n",
            "0.1469709277  --->  0.03692259\n",
            "1.232427597  --->  0.56461585\n",
            "1.2223706245  --->  0.7198049\n",
            "0.253862977  --->  0.48104554\n",
            "0.5380789638  --->  0.078706644\n",
            "1.4925464392  --->  0.6627696\n",
            "0.6010033488  --->  0.52337134\n",
            "1.0821712017  --->  1.5316586\n",
            "0.0197880752  --->  0.040031053\n",
            "1.3800315857  --->  0.3577407\n",
            "0.0991693661  --->  0.39595392\n",
            "0.0085147545  --->  0.2501206\n",
            "0.0940470472  --->  0.03351704\n",
            "0.1057969481  --->  0.067754194\n",
            "0.025571771  --->  0.7576231\n",
            "-0.0258653872  --->  0.158306\n",
            "0.1972097754  --->  -0.17280644\n",
            "0.8306779861  --->  0.40446013\n",
            "0.081426166  --->  0.20977828\n",
            "0.0443711951  --->  0.09272731\n",
            "0.123225987  --->  0.24020785\n",
            "-0.2439714372  --->  -0.039789516\n",
            "-1.6293616295  --->  -0.0005369745\n",
            "1.0366797447  --->  0.7063889\n",
            "-0.0313703418  --->  0.021182835\n",
            "0.3314607143  --->  0.24124183\n",
            "0.9772533774  --->  0.5176805\n",
            "-1.4192097187  --->  -0.58521426\n",
            "0.7865365744  --->  0.30559778\n",
            "0.4448204637  --->  0.08054592\n",
            "0.2055348903  --->  0.18142444\n",
            "2.0515105724  --->  0.9059738\n",
            "2.6497240067  --->  0.46673667\n",
            "0.6276819706  --->  0.6912284\n",
            "-0.0221069325  --->  0.13515496\n",
            "-0.2291824222  --->  -0.025322642\n",
            "-0.4367584586  --->  -0.31773522\n",
            "0.0601589456  --->  0.024767827\n",
            "-0.4130149782  --->  0.032536395\n",
            "0.2676666379  --->  0.13475946\n",
            "0.6929641962  --->  0.6030307\n",
            "0.0629907623  --->  -0.033560835\n",
            "0.2830474377  --->  0.11722655\n",
            "0.5865404606  --->  0.54879516\n",
            "2.2271161079  --->  -0.44328225\n",
            "-0.1796155125  --->  -0.2710365\n",
            "0.3684842587  --->  0.37264493\n",
            "0.2565198243  --->  0.48510212\n",
            "1.060577631  --->  1.0370431\n",
            "0.0135622099  --->  -0.022479802\n",
            "0.3561075628  --->  -0.049769692\n",
            "-0.0811038613  --->  0.2607231\n",
            "-0.0117694689  --->  0.27678058\n",
            "0.5140259266  --->  0.055162255\n",
            "0.4855586886  --->  0.06254049\n",
            "0.4674614072  --->  0.48098904\n",
            "-0.9806152582  --->  -0.20491934\n",
            "-0.0194070656  --->  0.43644887\n",
            "0.0986614451  --->  0.07445957\n",
            "0.4260044098  --->  0.68497276\n",
            "-0.4462865889  --->  -0.24503443\n",
            "0.5145520568  --->  0.28493607\n",
            "-0.0326813757  --->  0.16901097\n",
            "0.313986063  --->  0.44080204\n",
            "0.4990256131  --->  0.509793\n",
            "0.414046675  --->  0.45856044\n",
            "0.015633164  --->  0.20414901\n",
            "0.0325850248  --->  0.042347137\n",
            "0.1155292392  --->  0.44464722\n",
            "-0.1524592787  --->  -0.053295884\n",
            "1.1509082317  --->  0.34442306\n",
            "-0.0465055108  --->  -0.09912977\n",
            "0.2445583493  --->  0.4900842\n",
            "0.0300259795  --->  0.3083087\n",
            "0.002027069  --->  0.2453983\n",
            "-0.373704493  --->  0.054092467\n",
            "2.91507411  --->  1.4881313\n",
            "0.991772294  --->  0.084216915\n",
            "0.1984028369  --->  0.3330903\n",
            "-0.6035286188  --->  -0.122468986\n",
            "0.3691179156  --->  0.3018589\n",
            "-0.2478058636  --->  0.0800032\n",
            "0.2746079862  --->  0.1017107\n",
            "0.2285498381  --->  0.19918358\n",
            "0.8996193409  --->  0.47212946\n",
            "0.0299929269  --->  0.13406631\n",
            "0.6106266975  --->  0.15517034\n",
            "0.5667717457  --->  0.673744\n",
            "-0.0255058724  --->  0.057173237\n",
            "0.0103535224  --->  0.25115094\n",
            "-0.1047855392  --->  -0.2743979\n",
            "-0.3521105349  --->  -0.10468246\n",
            "0.5089431405  --->  0.54097146\n",
            "0.8052659035  --->  0.6395971\n",
            "-0.2037529349  --->  -0.05766467\n",
            "-0.467615813  --->  0.0659689\n",
            "4.7632961273  --->  2.4077864\n",
            "0.2217550725  --->  0.16534042\n",
            "0.0470763929  --->  0.12508476\n",
            "-1.2683873177  --->  -0.08065142\n",
            "-0.0263506416  --->  0.041066412\n",
            "0.0286944658  --->  0.06106145\n",
            "1.5550912619  --->  2.698818\n",
            "0.0568939745  --->  -0.012734937\n",
            "0.2454477996  --->  0.23209701\n",
            "-0.0419118404  --->  0.057161167\n",
            "-1.2554026842  --->  0.09686232\n",
            "-0.5512842536  --->  -0.27768064\n",
            "-0.0233797245  --->  0.337957\n",
            "3.6306242943  --->  2.1828542\n",
            "-0.6495751739  --->  -0.64222926\n",
            "-0.6771661639  --->  -0.8742819\n",
            "0.1160495356  --->  0.17905067\n",
            "0.7208951116  --->  0.6011398\n",
            "-0.6387450099  --->  0.3094772\n",
            "-0.1580239236  --->  0.008166233\n",
            "0.4014451802  --->  0.12271133\n",
            "0.0426389053  --->  0.36375493\n",
            "0.3141413331  --->  0.5152406\n",
            "0.3217261434  --->  0.21926075\n",
            "-0.1672484875  --->  0.047748953\n",
            "0.305861026  --->  0.95984447\n",
            "0.0793272257  --->  -0.073181435\n",
            "2.3120045662  --->  2.2148023\n",
            "0.5587152243  --->  0.4737376\n",
            "0.1350016594  --->  0.8003758\n",
            "0.351195246  --->  0.4868154\n",
            "2.5822603703  --->  2.0096216\n",
            "0.0867696106  --->  0.108645335\n",
            "-1.90173e-05  --->  0.0874528\n",
            "-0.5662319064  --->  -0.2694685\n",
            "0.2146129012  --->  0.12681761\n",
            "0.2905555665  --->  0.5284096\n",
            "0.1023710966  --->  0.49177575\n",
            "-0.1110073403  --->  0.45088106\n",
            "0.026195012  --->  0.3858111\n",
            "0.4711254239  --->  0.35845044\n",
            "1.0013766289  --->  0.3172895\n",
            "1.6341289282  --->  0.9365537\n",
            "5.4893608093  --->  4.9808617\n",
            "-0.1539170146  --->  0.06628606\n",
            "0.2879247367  --->  0.2528574\n",
            "-0.0365753695  --->  0.08703956\n",
            "0.0641954839  --->  0.30528787\n",
            "-1.8744909763  --->  -0.8295609\n",
            "0.9608083367  --->  1.0984432\n",
            "1.1231706142  --->  1.3520623\n",
            "0.7358006835  --->  0.7531035\n",
            "1.7123250961  --->  0.876017\n",
            "0.9447555542  --->  0.29662707\n",
            "0.9384071827  --->  0.46489987\n",
            "0.032855995  --->  0.05654142\n",
            "2.2697300911  --->  1.0738298\n",
            "-0.0091292951  --->  0.119837716\n",
            "0.0048336806  --->  0.011872625\n",
            "0.199640736  --->  0.09719465\n",
            "0.3016254604  --->  -0.03116374\n",
            "0.0071826577  --->  0.1815374\n",
            "-0.90310359  --->  -0.7886721\n",
            "-0.2505259514  --->  -0.18419334\n",
            "-0.1369534582  --->  0.016306188\n",
            "0.172551468  --->  0.22204182\n",
            "0.0171185546  --->  0.09966564\n",
            "1.5121337175  --->  0.6600333\n",
            "0.01843068  --->  0.020375334\n",
            "-0.318397671  --->  0.32077068\n",
            "0.3617361486  --->  0.30064386\n",
            "-0.0791629329  --->  0.046736624\n",
            "0.0602114573  --->  0.052489232\n",
            "0.0217059255  --->  0.108012244\n",
            "-0.1377820075  --->  -0.06378952\n",
            "-0.4295307994  --->  0.031503238\n",
            "2.6067910194  --->  1.6998551\n",
            "0.640599072  --->  0.7905172\n",
            "0.5209442973  --->  0.48776266\n",
            "0.9144362807  --->  0.4937757\n",
            "0.0867457539  --->  -0.016108919\n",
            "1.3292363882  --->  1.1812165\n",
            "0.4823331535  --->  0.7634492\n",
            "1.3859272003  --->  0.65209925\n",
            "-0.0219892394  --->  0.22154096\n",
            "0.2166926116  --->  -0.021215681\n",
            "0.3505954146  --->  0.2217873\n",
            "0.5978652835  --->  1.4496942\n",
            "1.0578510761  --->  0.16640417\n",
            "0.1132620797  --->  0.18987912\n",
            "-0.3578590155  --->  -0.08344865\n",
            "-0.0200229883  --->  -0.12060854\n",
            "-0.9445006251  --->  -0.4886211\n",
            "-0.0507654138  --->  -0.011474529\n",
            "1.222501874  --->  1.2382966\n",
            "0.2170473486  --->  0.26418465\n",
            "1.0895323753  --->  0.64447397\n",
            "1.5564764738  --->  1.2647378\n",
            "-0.4813230634  --->  0.29629073\n",
            "0.0092581958  --->  0.104328245\n",
            "0.0354724005  --->  0.092644095\n",
            "0.0368651487  --->  -0.07894931\n",
            "0.3439357579  --->  0.32389557\n",
            "0.4442722797  --->  0.51328367\n",
            "-0.1918155998  --->  -0.06363923\n",
            "-1.2261198759  --->  -0.4135564\n",
            "0.6694818139  --->  0.30484325\n",
            "0.7415546775  --->  0.75271106\n",
            "-0.2846963704  --->  0.2089872\n",
            "-0.0020657761  --->  0.038428005\n",
            "0.7665984631  --->  -0.060348887\n",
            "-0.1564113796  --->  -0.0574802\n",
            "0.7018103004  --->  0.60777235\n",
            "0.4340129495  --->  0.44914085\n",
            "0.0632440969  --->  0.25337738\n",
            "0.0089142583  --->  0.39932224\n",
            "0.0415093079  --->  0.38162696\n",
            "-0.4497329295  --->  -0.046651363\n",
            "0.6990456581  --->  0.4555803\n",
            "0.096937865  --->  0.335456\n",
            "-0.0644781068  --->  -0.00010540709\n"
          ]
        }
      ]
    },
    {
      "cell_type": "code",
      "source": [
        "import pandas as pd\n",
        "pd.Series(results).to_json(\"/content/drive/My Drive/Datasets/Data_semEval2022/Results/char/fr_revdict_results_prediction_trial.json\", orient='values')"
      ],
      "metadata": {
        "id": "RoS8voONGr5r"
      },
      "id": "RoS8voONGr5r",
      "execution_count": null,
      "outputs": []
    },
    {
      "cell_type": "markdown",
      "metadata": {
        "id": "641929d8"
      },
      "source": [
        "### Calcule des métriques d'évaluation"
      ],
      "id": "641929d8"
    },
    {
      "cell_type": "code",
      "execution_count": null,
      "metadata": {
        "id": "6144a0db"
      },
      "outputs": [],
      "source": [
        "import torch.nn.functional as F\n",
        "import torch\n",
        "\n",
        "classes_trial_tensor = torch.tensor(classes_trial)\n",
        "char_trial_tensor = torch.tensor(char_trial)"
      ],
      "id": "6144a0db"
    },
    {
      "cell_type": "code",
      "execution_count": null,
      "metadata": {
        "id": "89083a05"
      },
      "outputs": [],
      "source": [
        "cos_sim = F.cosine_similarity(classes_trial_tensor, char_trial_tensor).mean().item()"
      ],
      "id": "89083a05"
    },
    {
      "cell_type": "code",
      "execution_count": null,
      "metadata": {
        "id": "d83108cb"
      },
      "outputs": [],
      "source": [
        "mse = F.mse_loss(classes_trial_tensor, char_trial_tensor).item()"
      ],
      "id": "d83108cb"
    },
    {
      "cell_type": "code",
      "execution_count": null,
      "metadata": {
        "id": "b29a01ac"
      },
      "outputs": [],
      "source": [
        "# fonction prise du code de la baseline.\n",
        "def rank_cosine(preds, targets):\n",
        "    unique_targets = targets.unique(dim=0)\n",
        "    all_assocs = preds @ F.normalize(targets).T\n",
        "    unique_assocs = preds @ F.normalize(unique_targets).T\n",
        "    refs = torch.diagonal(all_assocs, 0).unsqueeze(1)\n",
        "    ranks = (unique_assocs >= refs).sum(1).float().mean().item()\n",
        "    return ranks / unique_targets.size(0)"
      ],
      "id": "b29a01ac"
    },
    {
      "cell_type": "code",
      "execution_count": null,
      "metadata": {
        "id": "e4c527f9"
      },
      "outputs": [],
      "source": [
        "rnk = rank_cosine(classes_trial_tensor, char_trial_tensor)"
      ],
      "id": "e4c527f9"
    },
    {
      "cell_type": "markdown",
      "metadata": {
        "id": "7WUnc1xrlQw2"
      },
      "source": [
        "### Test du modèle sur les données de DEV\n"
      ],
      "id": "7WUnc1xrlQw2"
    },
    {
      "cell_type": "code",
      "source": [
        "scores = model.evaluate(glosses_dev, char_dev, verbose=2)"
      ],
      "metadata": {
        "id": "GMvswMNDZRQH"
      },
      "id": "GMvswMNDZRQH",
      "execution_count": null,
      "outputs": []
    },
    {
      "cell_type": "code",
      "source": [
        "classes_dev = model.predict(glosses_dev, batch_size=32)"
      ],
      "metadata": {
        "id": "-hUJYloJKztO"
      },
      "id": "-hUJYloJKztO",
      "execution_count": null,
      "outputs": []
    },
    {
      "cell_type": "code",
      "source": [
        "print(len(classes_dev))"
      ],
      "metadata": {
        "colab": {
          "base_uri": "https://localhost:8080/"
        },
        "id": "OdscNkpSK5wF",
        "outputId": "14ec5007-1c8e-478b-91a5-4b97307ea4c4"
      },
      "id": "OdscNkpSK5wF",
      "execution_count": null,
      "outputs": [
        {
          "output_type": "stream",
          "name": "stdout",
          "text": [
            "6375\n"
          ]
        }
      ]
    },
    {
      "cell_type": "code",
      "source": [
        "print(len(classes_dev[0]))"
      ],
      "metadata": {
        "colab": {
          "base_uri": "https://localhost:8080/"
        },
        "id": "NWFlBTTbLBqS",
        "outputId": "44fe41ed-b5c3-4b45-85a9-eae3f1e0b11c"
      },
      "id": "NWFlBTTbLBqS",
      "execution_count": null,
      "outputs": [
        {
          "output_type": "stream",
          "name": "stdout",
          "text": [
            "256\n"
          ]
        }
      ]
    },
    {
      "cell_type": "code",
      "source": [
        "results_dev = []\n",
        "\n",
        "prefix_id = \"fr.revdict.\"\n",
        "i = 0\n",
        "for g in glosses_dev :\n",
        "  sample = {}\n",
        "  id = prefix_id + str(i)\n",
        "  sample[\"id\"] = id\n",
        "  sample[\"gloss\"] = g\n",
        "  sample[\"char\"] = classes_dev[glosses_dev.index(g)]\n",
        "  results_dev.append(sample)\n",
        "  i+=1\n",
        "\n",
        "print(\"taille du résultat : \", len(results_dev))\n",
        "print(\"vecteur dev ---> prédiction\")\n",
        "for v in char_dev[0] :\n",
        "  print(v, \" ---> \", results_dev[0][\"char\"][list(char_dev[0]).index(v)])"
      ],
      "metadata": {
        "colab": {
          "base_uri": "https://localhost:8080/"
        },
        "id": "zJjXbeUiLJ4V",
        "outputId": "8f07e0da-225b-44a3-f4de-969f7ed40e9a"
      },
      "id": "zJjXbeUiLJ4V",
      "execution_count": null,
      "outputs": [
        {
          "output_type": "stream",
          "name": "stdout",
          "text": [
            "taille du résultat :  6375\n",
            "vecteur dev ---> prédiction\n",
            "0.0130068734  --->  -0.5693648\n",
            "0.6688424349  --->  0.8222307\n",
            "-0.0436479375  --->  1.5254737\n",
            "-0.0079411808  --->  0.3350987\n",
            "-0.0245929956  --->  0.48094848\n",
            "-0.2760707736  --->  0.12108232\n",
            "0.560736239  --->  1.1178932\n",
            "-0.4518419504  --->  -0.167368\n",
            "0.35933882  --->  0.42719835\n",
            "0.8757936358  --->  0.7520111\n",
            "0.8935328722  --->  0.67566824\n",
            "0.3995228112  --->  0.24888344\n",
            "-5.8919038773  --->  -3.7057867\n",
            "-0.4046234488  --->  0.19438064\n",
            "1.1598460674  --->  0.14769116\n",
            "-0.4411924779  --->  0.10932329\n",
            "1.2142043114  --->  0.30660695\n",
            "0.0324933156  --->  0.051806442\n",
            "-0.3487933874  --->  -0.11156212\n",
            "-0.0569673069  --->  0.1172325\n",
            "0.9960999489  --->  1.41718\n",
            "-0.5367333293  --->  -0.6973385\n",
            "-0.063915059  --->  -0.006773891\n",
            "0.0420465581  --->  0.067894794\n",
            "0.0972432643  --->  0.12752624\n",
            "0.2754342258  --->  0.13306463\n",
            "6.39558e-05  --->  0.048434496\n",
            "1.1848087311  --->  0.28951666\n",
            "-0.0954852402  --->  -0.031693622\n",
            "-0.4623927474  --->  -0.26332468\n",
            "0.6340706944  --->  0.40496016\n",
            "0.148659274  --->  0.16933283\n",
            "0.8979475498  --->  0.47753155\n",
            "0.5380007029  --->  0.14882876\n",
            "0.0371826291  --->  0.1961165\n",
            "-0.1578467339  --->  0.39249653\n",
            "1.4150595665  --->  0.771948\n",
            "0.2152204514  --->  0.044771813\n",
            "-0.2531134486  --->  0.49323094\n",
            "0.3252902627  --->  0.04405439\n",
            "0.3636451662  --->  0.57039607\n",
            "0.686185956  --->  0.71373427\n",
            "0.7433989048  --->  0.47364715\n",
            "0.1856938004  --->  0.09889194\n",
            "-0.2864089012  --->  0.6756692\n",
            "1.0593255758  --->  0.5061407\n",
            "1.5476950407  --->  1.5233538\n",
            "0.0812008753  --->  0.04295116\n",
            "-0.3634628952  --->  0.35529435\n",
            "0.6176803112  --->  0.39165622\n",
            "0.0133411055  --->  0.2505536\n",
            "0.1658998132  --->  0.032406848\n",
            "0.0805446953  --->  0.06834686\n",
            "0.1768769473  --->  0.7644936\n",
            "0.2637092173  --->  0.15778887\n",
            "0.4806803465  --->  -0.15840395\n",
            "0.2739515603  --->  0.3940475\n",
            "0.8621413112  --->  0.21795058\n",
            "0.0985340104  --->  0.10095058\n",
            "-0.508060813  --->  0.22978811\n",
            "-0.2074131817  --->  -0.0439328\n",
            "-0.8160492182  --->  0.002859179\n",
            "0.6048172712  --->  0.69915724\n",
            "0.0984113812  --->  0.020562775\n",
            "0.526889503  --->  0.23980409\n",
            "-0.071560137  --->  0.5046234\n",
            "1.1260457039  --->  -0.58714306\n",
            "0.3389641047  --->  0.29504922\n",
            "-0.5835232139  --->  0.08058389\n",
            "0.3775976002  --->  0.17866454\n",
            "1.7370480299  --->  0.90378296\n",
            "-1.1881892681  --->  0.45611674\n",
            "-0.0215028618  --->  0.69544894\n",
            "-0.034543965  --->  0.12993076\n",
            "0.6935226917  --->  -0.016427744\n",
            "-0.5955302119  --->  -0.3190686\n",
            "-0.169578284  --->  0.029421626\n",
            "0.1085060537  --->  0.033755977\n",
            "-1.209800005  --->  0.12736662\n",
            "1.1353151798  --->  0.60202193\n",
            "-0.3067951798  --->  -0.035666063\n",
            "0.2428712249  --->  0.1103982\n",
            "0.7588943243  --->  0.5414165\n",
            "-2.3234629631  --->  -0.45489162\n",
            "0.1215087697  --->  -0.25218725\n",
            "0.4514993131  --->  0.36516035\n",
            "0.703722477  --->  0.47391957\n",
            "1.1090329885  --->  1.0426097\n",
            "1.0223776102  --->  -0.016572956\n",
            "-0.1331048012  --->  -0.0437821\n",
            "0.1953838915  --->  0.25944257\n",
            "0.8336465359  --->  0.2748979\n",
            "-0.2590227127  --->  0.06712945\n",
            "0.2660083473  --->  0.07100705\n",
            "1.1544548273  --->  0.46647716\n",
            "0.6929260492  --->  -0.2019675\n",
            "1.9891501665  --->  0.44440648\n",
            "0.1984230876  --->  0.07401248\n",
            "0.5117055178  --->  0.69475853\n",
            "0.3110226989  --->  -0.23767474\n",
            "0.2447887957  --->  0.28822017\n",
            "0.3253439665  --->  0.17044237\n",
            "1.5293000937  --->  0.44252396\n",
            "1.8266997337  --->  0.4976377\n",
            "0.3126552105  --->  0.45656216\n",
            "0.1518560499  --->  0.20215118\n",
            "0.2280064672  --->  0.036608476\n",
            "0.847417295  --->  0.4508261\n",
            "0.0066713942  --->  -0.050382707\n",
            "-0.720620811  --->  0.34272265\n",
            "-0.0594935417  --->  -0.090005875\n",
            "0.2748069465  --->  0.48028737\n",
            "0.1600299329  --->  0.32994318\n",
            "0.5562068224  --->  0.24541137\n",
            "-0.3578947484  --->  0.05971403\n",
            "0.8796187043  --->  1.4777937\n",
            "0.1485770047  --->  0.09026899\n",
            "-0.3732048571  --->  0.3240938\n",
            "0.379516989  --->  -0.12138036\n",
            "-0.1556998491  --->  0.29710078\n",
            "0.3007733226  --->  0.08201361\n",
            "-0.0477030016  --->  0.09236037\n",
            "1.3777137995  --->  0.1941014\n",
            "0.6489616036  --->  0.4692384\n",
            "0.3543794751  --->  0.14534102\n",
            "0.0407320932  --->  0.15691888\n",
            "1.178919673  --->  0.67374676\n",
            "0.1468800753  --->  0.058494058\n",
            "0.5912662148  --->  0.23987472\n",
            "0.0605701357  --->  -0.25680894\n",
            "0.155482024  --->  -0.09862446\n",
            "0.6020159721  --->  0.53971326\n",
            "0.3525064588  --->  0.6484703\n",
            "0.364415437  --->  -0.047807496\n",
            "0.0851607099  --->  0.07353902\n",
            "-0.5760889053  --->  2.4017696\n",
            "0.4619419873  --->  0.17067112\n",
            "0.2861303389  --->  0.12674634\n",
            "-0.850689888  --->  -0.08109102\n",
            "0.0511183888  --->  0.04189653\n",
            "-0.8336540461  --->  0.07812391\n",
            "3.5261693001  --->  2.698616\n",
            "0.1551626027  --->  -0.0040848944\n",
            "0.3390872478  --->  0.21916002\n",
            "1.5271636248  --->  0.05250079\n",
            "0.59793365  --->  0.123032756\n",
            "-1.1978234053  --->  -0.27368236\n",
            "1.4109339714  --->  0.3447389\n",
            "0.4373277128  --->  2.1784663\n",
            "0.2136231661  --->  -0.63140917\n",
            "-0.4630836546  --->  -0.875991\n",
            "0.1283022165  --->  0.18269226\n",
            "0.4037312865  --->  0.5880009\n",
            "0.5834207535  --->  0.30701455\n",
            "1.0331090689  --->  0.010304244\n",
            "-0.5324486494  --->  0.116909064\n",
            "0.6766668558  --->  0.36371112\n",
            "0.5507098436  --->  0.5217325\n",
            "0.5502753854  --->  0.22580874\n",
            "0.5381723642  --->  0.056652695\n",
            "1.1616790295  --->  0.94811004\n",
            "0.0411170833  --->  -0.07266261\n",
            "2.3557302952  --->  2.214995\n",
            "0.6990320086  --->  0.4671505\n",
            "1.9168258905  --->  0.80161595\n",
            "0.7963775396  --->  0.49516988\n",
            "1.2713037729  --->  2.0048008\n",
            "-0.6968814731  --->  0.11156817\n",
            "0.009649788  --->  0.08402903\n",
            "0.1297837049  --->  -0.2573352\n",
            "0.0371547341  --->  0.12638333\n",
            "0.7880877256  --->  0.53770244\n",
            "1.6016306877  --->  0.4883724\n",
            "-0.5266178846  --->  0.4404875\n",
            "0.36222592  --->  0.3864321\n",
            "0.3950450122  --->  0.33482337\n",
            "0.1772314012  --->  0.31245446\n",
            "1.152136445  --->  0.9357238\n",
            "4.1382389069  --->  4.4348297\n",
            "-0.0166828483  --->  0.08420223\n",
            "-0.0164605305  --->  0.27326483\n",
            "0.0425035805  --->  0.089228325\n",
            "0.6964157224  --->  0.31107658\n",
            "-0.6893157959  --->  -0.8270134\n",
            "1.4953612089  --->  1.1037674\n",
            "1.4662395716  --->  1.3547554\n",
            "0.7529681325  --->  0.75504494\n",
            "-1.1303058863  --->  0.86552614\n",
            "-0.7780940533  --->  0.29961225\n",
            "1.1590261459  --->  0.47287643\n",
            "0.053517364  --->  0.055722803\n",
            "-0.1302219182  --->  1.0724003\n",
            "0.0797630548  --->  0.12176054\n",
            "-0.0745610073  --->  0.012835911\n",
            "0.311260283  --->  0.09475267\n",
            "-0.4186140895  --->  -0.036796603\n",
            "0.8403882384  --->  0.19239736\n",
            "0.0874639601  --->  -0.77846074\n",
            "0.0444908105  --->  -0.18571427\n",
            "-0.0631592572  --->  0.007904621\n",
            "-0.0631072819  --->  0.23515742\n",
            "0.0843128338  --->  0.10027546\n",
            "-0.225759998  --->  0.66843927\n",
            "-0.0614281781  --->  0.03346939\n",
            "0.3110928833  --->  0.32614404\n",
            "0.3165240586  --->  0.3111106\n",
            "0.1098135933  --->  0.052007567\n",
            "0.0407884046  --->  0.05325646\n",
            "0.3975746632  --->  0.119107835\n",
            "0.3379944563  --->  -0.059256464\n",
            "-0.1413023025  --->  0.020779844\n",
            "0.4837798178  --->  1.6948555\n",
            "1.0805139542  --->  0.7832238\n",
            "0.913844943  --->  0.4949553\n",
            "0.5163960457  --->  0.48380068\n",
            "0.4864595532  --->  -0.0065405145\n",
            "1.549713254  --->  1.1783633\n",
            "0.5731922388  --->  0.76197445\n",
            "0.1130874902  --->  0.64273286\n",
            "0.073361218  --->  0.22568548\n",
            "-0.4708390534  --->  -0.018576767\n",
            "0.2500731051  --->  0.22472322\n",
            "2.111436367  --->  1.4561238\n",
            "-0.5587784648  --->  0.17015356\n",
            "0.333633244  --->  0.19405566\n",
            "-0.4439260066  --->  -0.07505174\n",
            "0.5205522776  --->  -0.11228445\n",
            "-0.766489625  --->  -0.47631347\n",
            "0.0564670786  --->  -0.0065454952\n",
            "1.6329721212  --->  1.2452888\n",
            "-1.5914677382  --->  0.2535842\n",
            "0.2351995409  --->  0.6351867\n",
            "0.7150022388  --->  1.2675936\n",
            "1.5348573923  --->  0.30757818\n",
            "0.8079879284  --->  0.10128108\n",
            "-0.1434890926  --->  0.102492616\n",
            "-0.7143027782  --->  -0.07584797\n",
            "0.1630076021  --->  0.32429343\n",
            "0.2438162416  --->  0.51404345\n",
            "0.1789638549  --->  -0.053289354\n",
            "-0.4187464118  --->  -0.4084616\n",
            "-0.0058059692  --->  0.2993345\n",
            "0.7460380793  --->  0.7545882\n",
            "1.1853885651  --->  0.21340209\n",
            "0.0091199847  --->  0.03563665\n",
            "-0.8245630264  --->  -0.040810622\n",
            "0.3028360307  --->  -0.038025357\n",
            "0.2332686633  --->  0.5995811\n",
            "1.4037048817  --->  0.44531113\n",
            "0.3245913386  --->  0.25665778\n",
            "0.6742972136  --->  0.40559483\n",
            "1.4189795256  --->  0.38486096\n",
            "0.6615996957  --->  -0.036332887\n",
            "0.7818233967  --->  0.4491845\n",
            "0.2468121946  --->  0.33014244\n",
            "0.5892987847  --->  0.007803384\n"
          ]
        }
      ]
    },
    {
      "cell_type": "code",
      "source": [
        "import pandas as pd\n",
        "pd.Series(results_dev).to_json(\"/content/drive/My Drive/Datasets/Data_semEval2022/Results/char/all_fr_revdict_results_prediction_dev.json\", orient='values')"
      ],
      "metadata": {
        "id": "EXpOUKhlLfUr"
      },
      "id": "EXpOUKhlLfUr",
      "execution_count": null,
      "outputs": []
    },
    {
      "cell_type": "markdown",
      "source": [
        "\n",
        "### Test du modèle sur les données de TEST"
      ],
      "metadata": {
        "id": "SWYTwH8vn1-j"
      },
      "id": "SWYTwH8vn1-j"
    },
    {
      "cell_type": "code",
      "execution_count": null,
      "metadata": {
        "id": "JJlejcV_oRfH"
      },
      "outputs": [],
      "source": [
        "with open(\"/content/drive/My Drive/Datasets/Data_semEval2022/Fr_data/fr.test.revdict.json\", \"r\") as file_handler:\n",
        "    dataset_test = json.load(file_handler)"
      ],
      "id": "JJlejcV_oRfH"
    },
    {
      "cell_type": "code",
      "execution_count": null,
      "metadata": {
        "id": "ltDVpDM6oRfO"
      },
      "outputs": [],
      "source": [
        "glosses_test = []\n",
        "for e in dataset_test :\n",
        "    glosses_test.append(e[\"gloss\"])"
      ],
      "id": "ltDVpDM6oRfO"
    },
    {
      "cell_type": "code",
      "execution_count": null,
      "metadata": {
        "id": "ggSf_l5SoRfX"
      },
      "outputs": [],
      "source": [
        "classes_test = model.predict(glosses_test, batch_size=32)"
      ],
      "id": "ggSf_l5SoRfX"
    },
    {
      "cell_type": "code",
      "source": [
        "print(len(classes_test))"
      ],
      "metadata": {
        "colab": {
          "base_uri": "https://localhost:8080/"
        },
        "outputId": "d9d0dd46-9b31-448a-f121-785cc3b330e8",
        "id": "DIMy3nOOoRfa"
      },
      "execution_count": null,
      "outputs": [
        {
          "output_type": "stream",
          "name": "stdout",
          "text": [
            "6208\n"
          ]
        }
      ],
      "id": "DIMy3nOOoRfa"
    },
    {
      "cell_type": "code",
      "source": [
        "print(len(classes_test[0]))"
      ],
      "metadata": {
        "colab": {
          "base_uri": "https://localhost:8080/"
        },
        "outputId": "7455216e-8d21-478a-f0b8-6271cc045538",
        "id": "qQfXjwEopP81"
      },
      "execution_count": null,
      "outputs": [
        {
          "output_type": "stream",
          "name": "stdout",
          "text": [
            "256\n"
          ]
        }
      ],
      "id": "qQfXjwEopP81"
    },
    {
      "cell_type": "code",
      "source": [
        "results_test = []\n",
        "\n",
        "prefix_id = \"fr.revdict.\"\n",
        "i = 0\n",
        "for g in glosses_test :\n",
        "  sample = {}\n",
        "  id = prefix_id + str(i)\n",
        "  sample[\"id\"] = id\n",
        "  sample[\"gloss\"] = g\n",
        "  sample[\"char\"] = classes_test[glosses_test.index(g)]\n",
        "  results_test.append(sample)\n",
        "  i+=1\n",
        "\n",
        "print(\"taille du resultat : \", len(results_test))"
      ],
      "metadata": {
        "colab": {
          "base_uri": "https://localhost:8080/"
        },
        "outputId": "fad6eca2-7455-44a8-b32f-3e7a9ac8e9bb",
        "id": "eBQ5LtvhpP84"
      },
      "execution_count": null,
      "outputs": [
        {
          "output_type": "stream",
          "name": "stdout",
          "text": [
            "taille du resultat :  6208\n"
          ]
        }
      ],
      "id": "eBQ5LtvhpP84"
    },
    {
      "cell_type": "code",
      "source": [
        "import pandas as pd\n",
        "pd.Series(results_test).to_json(\"/content/drive/My Drive/Datasets/Data_semEval2022/Results/char/all_fr_revdict_results_prediction_test.json\", orient='values')"
      ],
      "metadata": {
        "id": "xK5Iu48KpynU"
      },
      "execution_count": null,
      "outputs": [],
      "id": "xK5Iu48KpynU"
    }
  ],
  "metadata": {
    "accelerator": "GPU",
    "colab": {
      "name": "Fr_MultiLG_CHAR_Revdict.ipynb",
      "provenance": []
    },
    "kernelspec": {
      "display_name": "Python 3 (ipykernel)",
      "language": "python",
      "name": "python3"
    },
    "language_info": {
      "codemirror_mode": {
        "name": "ipython",
        "version": 3
      },
      "file_extension": ".py",
      "mimetype": "text/x-python",
      "name": "python",
      "nbconvert_exporter": "python",
      "pygments_lexer": "ipython3",
      "version": "3.9.7"
    }
  },
  "nbformat": 4,
  "nbformat_minor": 5
}