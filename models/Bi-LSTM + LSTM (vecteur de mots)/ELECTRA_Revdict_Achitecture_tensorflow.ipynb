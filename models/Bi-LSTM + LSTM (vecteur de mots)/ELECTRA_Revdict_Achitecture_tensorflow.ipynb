{
 "cells": [
  {
   "cell_type": "code",
   "execution_count": 1,
   "metadata": {
    "id": "06f22756",
    "executionInfo": {
     "status": "ok",
     "timestamp": 1643183251339,
     "user_tz": -60,
     "elapsed": 2749,
     "user": {
      "displayName": "Julien Breton",
      "photoUrl": "https://lh3.googleusercontent.com/a-/AOh14GhEmgLD2_E5E4xeu8wuHzMHxcUN3VPggzaB1wy74A=s64",
      "userId": "02331780257374555700"
     }
    }
   },
   "outputs": [],
   "source": [
    "lang = \"fr\"\n",
    "lang_data = \"Fr_data\"\n",
    "\n",
    "import json\n",
    "from tensorflow.keras.models import Sequential\n",
    "from tensorflow.keras import Input\n",
    "from tensorflow.keras.layers.experimental.preprocessing import TextVectorization\n",
    "from tensorflow.keras.layers import LSTM, Embedding, Dense, TimeDistributed, Dropout, Bidirectional, Flatten\n",
    "import numpy as np\n",
    "import pandas as pd\n",
    "from sklearn.feature_extraction.text import TfidfVectorizer\n",
    "from sklearn.feature_extraction.text import TfidfTransformer\n",
    "from tensorflow import keras"
   ],
   "id": "06f22756"
  },
  {
   "cell_type": "code",
   "execution_count": 2,
   "metadata": {
    "colab": {
     "base_uri": "https://localhost:8080/"
    },
    "id": "z_XEPOjNYhqK",
    "outputId": "1e9475a6-0c9a-446f-9e5b-396a92a76d61",
    "executionInfo": {
     "status": "ok",
     "timestamp": 1643183269256,
     "user_tz": -60,
     "elapsed": 17923,
     "user": {
      "displayName": "Julien Breton",
      "photoUrl": "https://lh3.googleusercontent.com/a-/AOh14GhEmgLD2_E5E4xeu8wuHzMHxcUN3VPggzaB1wy74A=s64",
      "userId": "02331780257374555700"
     }
    }
   },
   "outputs": [
    {
     "output_type": "stream",
     "name": "stdout",
     "text": [
      "Mounted at /content/drive\n"
     ]
    }
   ],
   "source": [
    "from google.colab import drive\n",
    "drive.mount('/content/drive')"
   ],
   "id": "z_XEPOjNYhqK"
  },
  {
   "cell_type": "markdown",
   "metadata": {
    "id": "0eae8dac"
   },
   "source": [
    "### Chargement des données"
   ],
   "id": "0eae8dac"
  },
  {
   "cell_type": "code",
   "execution_count": 3,
   "metadata": {
    "id": "2c211d43",
    "executionInfo": {
     "status": "ok",
     "timestamp": 1643183284554,
     "user_tz": -60,
     "elapsed": 15302,
     "user": {
      "displayName": "Julien Breton",
      "photoUrl": "https://lh3.googleusercontent.com/a-/AOh14GhEmgLD2_E5E4xeu8wuHzMHxcUN3VPggzaB1wy74A=s64",
      "userId": "02331780257374555700"
     }
    }
   },
   "outputs": [],
   "source": [
    "import os\n",
    "\n",
    "with open(\"/content/drive/My Drive/Datasets/Data_semEval2022/\"+ lang_data +\"/\"+ lang +\".train.json\", \"r\") as file_handler:\n",
    "    dataset = json.load(file_handler)"
   ],
   "id": "2c211d43"
  },
  {
   "cell_type": "code",
   "execution_count": 4,
   "metadata": {
    "id": "c2101cf4",
    "executionInfo": {
     "status": "ok",
     "timestamp": 1643183286583,
     "user_tz": -60,
     "elapsed": 2032,
     "user": {
      "displayName": "Julien Breton",
      "photoUrl": "https://lh3.googleusercontent.com/a-/AOh14GhEmgLD2_E5E4xeu8wuHzMHxcUN3VPggzaB1wy74A=s64",
      "userId": "02331780257374555700"
     }
    }
   },
   "outputs": [],
   "source": [
    "with open(\"/content/drive/My Drive/Datasets/Data_semEval2022/\"+ lang_data +\"/\"+ lang +\".dev.json\", \"r\") as file_handler:\n",
    "    dataset_dev = json.load(file_handler)"
   ],
   "id": "c2101cf4"
  },
  {
   "cell_type": "code",
   "execution_count": 5,
   "metadata": {
    "id": "e90cd2cd",
    "executionInfo": {
     "status": "ok",
     "timestamp": 1643183286584,
     "user_tz": -60,
     "elapsed": 8,
     "user": {
      "displayName": "Julien Breton",
      "photoUrl": "https://lh3.googleusercontent.com/a-/AOh14GhEmgLD2_E5E4xeu8wuHzMHxcUN3VPggzaB1wy74A=s64",
      "userId": "02331780257374555700"
     }
    }
   },
   "outputs": [],
   "source": [
    "electra = [i['electra'] for i in dataset]\n",
    "glosses = [i['gloss'] for i in dataset]"
   ],
   "id": "e90cd2cd"
  },
  {
   "cell_type": "code",
   "execution_count": 6,
   "metadata": {
    "id": "78d48134",
    "executionInfo": {
     "status": "ok",
     "timestamp": 1643183286584,
     "user_tz": -60,
     "elapsed": 7,
     "user": {
      "displayName": "Julien Breton",
      "photoUrl": "https://lh3.googleusercontent.com/a-/AOh14GhEmgLD2_E5E4xeu8wuHzMHxcUN3VPggzaB1wy74A=s64",
      "userId": "02331780257374555700"
     }
    }
   },
   "outputs": [],
   "source": [
    "electra_dev = [i['electra'] for i in dataset_dev]\n",
    "glosses_dev = [i['gloss'] for i in dataset_dev]"
   ],
   "id": "78d48134"
  },
  {
   "cell_type": "code",
   "execution_count": 7,
   "metadata": {
    "colab": {
     "base_uri": "https://localhost:8080/"
    },
    "id": "993c2dcc",
    "outputId": "846e5cd4-1890-4555-c058-3a6c402ef5e9",
    "executionInfo": {
     "status": "ok",
     "timestamp": 1643183286584,
     "user_tz": -60,
     "elapsed": 6,
     "user": {
      "displayName": "Julien Breton",
      "photoUrl": "https://lh3.googleusercontent.com/a-/AOh14GhEmgLD2_E5E4xeu8wuHzMHxcUN3VPggzaB1wy74A=s64",
      "userId": "02331780257374555700"
     }
    }
   },
   "outputs": [
    {
     "output_type": "stream",
     "name": "stdout",
     "text": [
      "6375\n"
     ]
    }
   ],
   "source": [
    "print(len(glosses_dev))"
   ],
   "id": "993c2dcc"
  },
  {
   "cell_type": "code",
   "execution_count": 8,
   "metadata": {
    "id": "4a73425a",
    "executionInfo": {
     "status": "ok",
     "timestamp": 1643183287825,
     "user_tz": -60,
     "elapsed": 1245,
     "user": {
      "displayName": "Julien Breton",
      "photoUrl": "https://lh3.googleusercontent.com/a-/AOh14GhEmgLD2_E5E4xeu8wuHzMHxcUN3VPggzaB1wy74A=s64",
      "userId": "02331780257374555700"
     }
    }
   },
   "outputs": [],
   "source": [
    "# Import DATA\n",
    "with open(\"/content/drive/My Drive/Datasets/Data_semEval2022/\"+ lang_data +\"/\"+ lang +\"_lemm2Idx_train.json\") as outfile:\n",
    "    lemm2Idx = json.load(outfile)\n",
    "\n",
    "with open(\"/content/drive/My Drive/Datasets/Data_semEval2022/\"+ lang_data +\"/\"+ lang +\"_idx2Lemm_train.json\") as outfile:\n",
    "    idx2Lemm = json.load(outfile)\n",
    "\n",
    "with open(\"/content/drive/My Drive/Datasets/Data_semEval2022/\"+ lang_data +\"/\"+ lang +\"_lemmatized_glosses_train.json\") as outfile:\n",
    "    lemmatized_glosses = json.load(outfile)"
   ],
   "id": "4a73425a"
  },
  {
   "cell_type": "code",
   "execution_count": 9,
   "metadata": {
    "id": "d119d8cb",
    "executionInfo": {
     "status": "ok",
     "timestamp": 1643183289277,
     "user_tz": -60,
     "elapsed": 1455,
     "user": {
      "displayName": "Julien Breton",
      "photoUrl": "https://lh3.googleusercontent.com/a-/AOh14GhEmgLD2_E5E4xeu8wuHzMHxcUN3VPggzaB1wy74A=s64",
      "userId": "02331780257374555700"
     }
    }
   },
   "outputs": [],
   "source": [
    "# Import DATA\n",
    "with open(\"/content/drive/My Drive/Datasets/Data_semEval2022/\"+ lang_data +\"/\"+ lang +\"_lemm2Idx_dev.json\") as outfile:\n",
    "    lemm2Idx_dev = json.load(outfile)\n",
    "\n",
    "with open(\"/content/drive/My Drive/Datasets/Data_semEval2022/\"+ lang_data +\"/\"+ lang +\"_idx2Lemm_dev.json\") as outfile:\n",
    "    idx2Lemm_dev = json.load(outfile)\n",
    "\n",
    "with open(\"/content/drive/My Drive/Datasets/Data_semEval2022/\"+ lang_data +\"/\"+ lang +\"_lemmatized_glosses_dev.json\") as outfile:\n",
    "    lemmatized_glosses_dev = json.load(outfile)"
   ],
   "id": "d119d8cb"
  },
  {
   "cell_type": "code",
   "execution_count": 10,
   "metadata": {
    "id": "etS_pwT_Fi5J",
    "executionInfo": {
     "status": "ok",
     "timestamp": 1643183289278,
     "user_tz": -60,
     "elapsed": 9,
     "user": {
      "displayName": "Julien Breton",
      "photoUrl": "https://lh3.googleusercontent.com/a-/AOh14GhEmgLD2_E5E4xeu8wuHzMHxcUN3VPggzaB1wy74A=s64",
      "userId": "02331780257374555700"
     }
    },
    "colab": {
     "base_uri": "https://localhost:8080/"
    },
    "outputId": "428d6edc-9e97-43e1-f35a-715922f455b9"
   },
   "outputs": [
    {
     "output_type": "stream",
     "name": "stdout",
     "text": [
      "Num GPUs Available:  1\n"
     ]
    }
   ],
   "source": [
    "import tensorflow as tf\n",
    "print(\"Num GPUs Available: \", len(tf.config.list_physical_devices('GPU')))"
   ],
   "id": "etS_pwT_Fi5J"
  },
  {
   "cell_type": "markdown",
   "metadata": {
    "id": "6e93118c"
   },
   "source": [
    "### Préparation des données"
   ],
   "id": "6e93118c"
  },
  {
   "cell_type": "code",
   "source": [
    "print(dataset[85]['gloss'])\n",
    "print(dataset[253]['gloss'])"
   ],
   "metadata": {
    "id": "Gqy0NfXoqy7b",
    "executionInfo": {
     "status": "ok",
     "timestamp": 1643183289278,
     "user_tz": -60,
     "elapsed": 6,
     "user": {
      "displayName": "Julien Breton",
      "photoUrl": "https://lh3.googleusercontent.com/a-/AOh14GhEmgLD2_E5E4xeu8wuHzMHxcUN3VPggzaB1wy74A=s64",
      "userId": "02331780257374555700"
     }
    },
    "colab": {
     "base_uri": "https://localhost:8080/"
    },
    "outputId": "f51f3732-0741-4530-8793-e2b1d29a345f"
   },
   "id": "Gqy0NfXoqy7b",
   "execution_count": 11,
   "outputs": [
    {
     "output_type": "stream",
     "name": "stdout",
     "text": [
      "D'une couleur gris-vert .\n",
      "( Antiquité ) ( Religion ) Membre de la classe sacerdotale chez les Celtes de Gaule , de Bretagne et d'Irlande .\n"
     ]
    }
   ]
  },
  {
   "cell_type": "code",
   "execution_count": 12,
   "metadata": {
    "id": "846d1635",
    "executionInfo": {
     "status": "ok",
     "timestamp": 1643183290008,
     "user_tz": -60,
     "elapsed": 733,
     "user": {
      "displayName": "Julien Breton",
      "photoUrl": "https://lh3.googleusercontent.com/a-/AOh14GhEmgLD2_E5E4xeu8wuHzMHxcUN3VPggzaB1wy74A=s64",
      "userId": "02331780257374555700"
     }
    }
   },
   "outputs": [],
   "source": [
    "lemmatized_glosses_text = []\n",
    "\n",
    "for gloss in lemmatized_glosses:\n",
    "    text = \"\"\n",
    "    for word in gloss:\n",
    "      try:\n",
    "        text += idx2Lemm[str(word)] + \" \"\n",
    "      except:\n",
    "        print(\"An exception occurred : \" + str(len(lemmatized_glosses_text)))\n",
    "        \n",
    "    lemmatized_glosses_text.append(text)"
   ],
   "id": "846d1635"
  },
  {
   "cell_type": "code",
   "execution_count": 13,
   "metadata": {
    "id": "03859e48",
    "executionInfo": {
     "status": "ok",
     "timestamp": 1643183290008,
     "user_tz": -60,
     "elapsed": 9,
     "user": {
      "displayName": "Julien Breton",
      "photoUrl": "https://lh3.googleusercontent.com/a-/AOh14GhEmgLD2_E5E4xeu8wuHzMHxcUN3VPggzaB1wy74A=s64",
      "userId": "02331780257374555700"
     }
    },
    "colab": {
     "base_uri": "https://localhost:8080/"
    },
    "outputId": "b98d945b-9fdc-4180-b55b-5224961d84a1"
   },
   "outputs": [
    {
     "output_type": "stream",
     "name": "stdout",
     "text": [
      "43608\n",
      "43608\n"
     ]
    }
   ],
   "source": [
    "print(len(lemmatized_glosses_text))\n",
    "print(len(electra))\n"
   ],
   "id": "03859e48"
  },
  {
   "cell_type": "code",
   "execution_count": 14,
   "metadata": {
    "id": "ZoBgROpI9vv3",
    "executionInfo": {
     "status": "ok",
     "timestamp": 1643183290009,
     "user_tz": -60,
     "elapsed": 9,
     "user": {
      "displayName": "Julien Breton",
      "photoUrl": "https://lh3.googleusercontent.com/a-/AOh14GhEmgLD2_E5E4xeu8wuHzMHxcUN3VPggzaB1wy74A=s64",
      "userId": "02331780257374555700"
     }
    }
   },
   "outputs": [],
   "source": [
    "lemmatized_glosses_text_dev = []\n",
    "\n",
    "for gloss in lemmatized_glosses_dev:\n",
    "    text = \"\"\n",
    "    for word in gloss:\n",
    "        text += idx2Lemm_dev[str(word)] + \" \"\n",
    "    lemmatized_glosses_text_dev.append(text)"
   ],
   "id": "ZoBgROpI9vv3"
  },
  {
   "cell_type": "code",
   "execution_count": 15,
   "metadata": {
    "id": "_FC_-CIVdef4",
    "executionInfo": {
     "status": "ok",
     "timestamp": 1643183290009,
     "user_tz": -60,
     "elapsed": 9,
     "user": {
      "displayName": "Julien Breton",
      "photoUrl": "https://lh3.googleusercontent.com/a-/AOh14GhEmgLD2_E5E4xeu8wuHzMHxcUN3VPggzaB1wy74A=s64",
      "userId": "02331780257374555700"
     }
    },
    "colab": {
     "base_uri": "https://localhost:8080/"
    },
    "outputId": "10ccccbc-89fc-402b-9e96-953282b3f75f"
   },
   "outputs": [
    {
     "output_type": "stream",
     "name": "stdout",
     "text": [
      "6375\n",
      "6375\n"
     ]
    }
   ],
   "source": [
    "print(len(lemmatized_glosses_text_dev))\n",
    "print(len(electra_dev))"
   ],
   "id": "_FC_-CIVdef4"
  },
  {
   "cell_type": "code",
   "execution_count": 16,
   "metadata": {
    "id": "14fa7890",
    "executionInfo": {
     "status": "ok",
     "timestamp": 1643183290009,
     "user_tz": -60,
     "elapsed": 7,
     "user": {
      "displayName": "Julien Breton",
      "photoUrl": "https://lh3.googleusercontent.com/a-/AOh14GhEmgLD2_E5E4xeu8wuHzMHxcUN3VPggzaB1wy74A=s64",
      "userId": "02331780257374555700"
     }
    }
   },
   "outputs": [],
   "source": [
    "def longest_gloss(glosses_list):\n",
    "    lgt = 0\n",
    "    sentence = \"\"\n",
    "    tk = []\n",
    "    for g in glosses_list :\n",
    "        tokens = g.split()\n",
    "        if len(tokens)>lgt :\n",
    "            lgt = len(tokens)\n",
    "            sentence =g\n",
    "            tk = tokens\n",
    "    return lgt"
   ],
   "id": "14fa7890"
  },
  {
   "cell_type": "code",
   "execution_count": 17,
   "metadata": {
    "id": "d78dc767",
    "executionInfo": {
     "status": "ok",
     "timestamp": 1643183290010,
     "user_tz": -60,
     "elapsed": 8,
     "user": {
      "displayName": "Julien Breton",
      "photoUrl": "https://lh3.googleusercontent.com/a-/AOh14GhEmgLD2_E5E4xeu8wuHzMHxcUN3VPggzaB1wy74A=s64",
      "userId": "02331780257374555700"
     }
    },
    "colab": {
     "base_uri": "https://localhost:8080/"
    },
    "outputId": "c697854e-17e6-46a6-e921-57339acb4675"
   },
   "outputs": [
    {
     "output_type": "stream",
     "name": "stdout",
     "text": [
      "149\n"
     ]
    }
   ],
   "source": [
    "max_len = longest_gloss(lemmatized_glosses_text)\n",
    "print(max_len)"
   ],
   "id": "d78dc767"
  },
  {
   "cell_type": "code",
   "execution_count": 18,
   "metadata": {
    "id": "d99fdcb0",
    "executionInfo": {
     "status": "ok",
     "timestamp": 1643183290010,
     "user_tz": -60,
     "elapsed": 7,
     "user": {
      "displayName": "Julien Breton",
      "photoUrl": "https://lh3.googleusercontent.com/a-/AOh14GhEmgLD2_E5E4xeu8wuHzMHxcUN3VPggzaB1wy74A=s64",
      "userId": "02331780257374555700"
     }
    },
    "colab": {
     "base_uri": "https://localhost:8080/"
    },
    "outputId": "b72c8cb0-b74c-4178-e705-ea7a43537cb1"
   },
   "outputs": [
    {
     "output_type": "stream",
     "name": "stdout",
     "text": [
      "111\n"
     ]
    }
   ],
   "source": [
    "max_len_dev = longest_gloss(lemmatized_glosses_text_dev)\n",
    "print(max_len_dev)"
   ],
   "id": "d99fdcb0"
  },
  {
   "cell_type": "code",
   "execution_count": 19,
   "metadata": {
    "id": "0f44ec59",
    "executionInfo": {
     "status": "ok",
     "timestamp": 1643183292283,
     "user_tz": -60,
     "elapsed": 2279,
     "user": {
      "displayName": "Julien Breton",
      "photoUrl": "https://lh3.googleusercontent.com/a-/AOh14GhEmgLD2_E5E4xeu8wuHzMHxcUN3VPggzaB1wy74A=s64",
      "userId": "02331780257374555700"
     }
    },
    "colab": {
     "base_uri": "https://localhost:8080/"
    },
    "outputId": "23c7b7dd-466a-4c0e-c4a0-26b7afad63ec"
   },
   "outputs": [
    {
     "output_type": "stream",
     "name": "stdout",
     "text": [
      "24089\n"
     ]
    }
   ],
   "source": [
    "max_tokens = len(list(lemm2Idx))\n",
    "print(max_tokens)\n",
    "\n",
    "max_tokens_dev = len(lemm2Idx_dev)\n",
    "\n",
    "vectorize_layer = TextVectorization(\n",
    "    # Max vocab size. Any words outside of the max_tokens most common ones\n",
    "    # will be treated the same way: as \"out of vocabulary\" (OOV) tokens.\n",
    "    max_tokens=max_tokens,\n",
    "    # Output integer indices, one per string token\n",
    "    output_mode=\"int\",\n",
    "    # Always pad or truncate to exactly this many tokens\n",
    "    output_sequence_length=max_len\n",
    ")"
   ],
   "id": "0f44ec59"
  },
  {
   "cell_type": "code",
   "execution_count": 20,
   "metadata": {
    "id": "25e8c404",
    "executionInfo": {
     "status": "ok",
     "timestamp": 1643183293496,
     "user_tz": -60,
     "elapsed": 1217,
     "user": {
      "displayName": "Julien Breton",
      "photoUrl": "https://lh3.googleusercontent.com/a-/AOh14GhEmgLD2_E5E4xeu8wuHzMHxcUN3VPggzaB1wy74A=s64",
      "userId": "02331780257374555700"
     }
    }
   },
   "outputs": [],
   "source": [
    "# Call adapt(), which fits the TextVectorization layer to our text dataset.\n",
    "# This is when the max_tokens most common words (i.e. the vocabulary) are selected.\n",
    "vectorize_layer.adapt(np.array(list(idx2Lemm.values())))"
   ],
   "id": "25e8c404"
  },
  {
   "cell_type": "code",
   "source": [
    "print(np.array(list(idx2Lemm.values()))[10])"
   ],
   "metadata": {
    "id": "oNQYBsORvw7f",
    "executionInfo": {
     "status": "ok",
     "timestamp": 1643183293497,
     "user_tz": -60,
     "elapsed": 6,
     "user": {
      "displayName": "Julien Breton",
      "photoUrl": "https://lh3.googleusercontent.com/a-/AOh14GhEmgLD2_E5E4xeu8wuHzMHxcUN3VPggzaB1wy74A=s64",
      "userId": "02331780257374555700"
     }
    },
    "colab": {
     "base_uri": "https://localhost:8080/"
    },
    "outputId": "bef0ed43-4c4a-45f8-98c3-c7d87f5370f8"
   },
   "id": "oNQYBsORvw7f",
   "execution_count": 21,
   "outputs": [
    {
     "output_type": "stream",
     "name": "stdout",
     "text": [
      "grand\n"
     ]
    }
   ]
  },
  {
   "cell_type": "markdown",
   "metadata": {
    "id": "3a64ca10"
   },
   "source": [
    "### Construction du modèle"
   ],
   "id": "3a64ca10"
  },
  {
   "cell_type": "code",
   "source": [
    "pip install tensorflow_addons"
   ],
   "metadata": {
    "id": "RxLG299RJayu",
    "executionInfo": {
     "status": "ok",
     "timestamp": 1643183296750,
     "user_tz": -60,
     "elapsed": 3257,
     "user": {
      "displayName": "Julien Breton",
      "photoUrl": "https://lh3.googleusercontent.com/a-/AOh14GhEmgLD2_E5E4xeu8wuHzMHxcUN3VPggzaB1wy74A=s64",
      "userId": "02331780257374555700"
     }
    },
    "colab": {
     "base_uri": "https://localhost:8080/"
    },
    "outputId": "8eea6e1f-f268-4f79-907a-29b1bbbf22f8"
   },
   "id": "RxLG299RJayu",
   "execution_count": 22,
   "outputs": [
    {
     "output_type": "stream",
     "name": "stdout",
     "text": [
      "Collecting tensorflow_addons\n",
      "  Downloading tensorflow_addons-0.15.0-cp37-cp37m-manylinux_2_12_x86_64.manylinux2010_x86_64.whl (1.1 MB)\n",
      "\u001B[?25l\r\u001B[K     |▎                               | 10 kB 24.5 MB/s eta 0:00:01\r\u001B[K     |▋                               | 20 kB 22.3 MB/s eta 0:00:01\r\u001B[K     |▉                               | 30 kB 17.5 MB/s eta 0:00:01\r\u001B[K     |█▏                              | 40 kB 15.6 MB/s eta 0:00:01\r\u001B[K     |█▌                              | 51 kB 8.2 MB/s eta 0:00:01\r\u001B[K     |█▊                              | 61 kB 9.6 MB/s eta 0:00:01\r\u001B[K     |██                              | 71 kB 8.8 MB/s eta 0:00:01\r\u001B[K     |██▍                             | 81 kB 9.9 MB/s eta 0:00:01\r\u001B[K     |██▋                             | 92 kB 10.0 MB/s eta 0:00:01\r\u001B[K     |███                             | 102 kB 8.1 MB/s eta 0:00:01\r\u001B[K     |███▎                            | 112 kB 8.1 MB/s eta 0:00:01\r\u001B[K     |███▌                            | 122 kB 8.1 MB/s eta 0:00:01\r\u001B[K     |███▉                            | 133 kB 8.1 MB/s eta 0:00:01\r\u001B[K     |████▏                           | 143 kB 8.1 MB/s eta 0:00:01\r\u001B[K     |████▍                           | 153 kB 8.1 MB/s eta 0:00:01\r\u001B[K     |████▊                           | 163 kB 8.1 MB/s eta 0:00:01\r\u001B[K     |█████                           | 174 kB 8.1 MB/s eta 0:00:01\r\u001B[K     |█████▎                          | 184 kB 8.1 MB/s eta 0:00:01\r\u001B[K     |█████▋                          | 194 kB 8.1 MB/s eta 0:00:01\r\u001B[K     |█████▉                          | 204 kB 8.1 MB/s eta 0:00:01\r\u001B[K     |██████▏                         | 215 kB 8.1 MB/s eta 0:00:01\r\u001B[K     |██████▌                         | 225 kB 8.1 MB/s eta 0:00:01\r\u001B[K     |██████▊                         | 235 kB 8.1 MB/s eta 0:00:01\r\u001B[K     |███████                         | 245 kB 8.1 MB/s eta 0:00:01\r\u001B[K     |███████▍                        | 256 kB 8.1 MB/s eta 0:00:01\r\u001B[K     |███████▋                        | 266 kB 8.1 MB/s eta 0:00:01\r\u001B[K     |████████                        | 276 kB 8.1 MB/s eta 0:00:01\r\u001B[K     |████████▎                       | 286 kB 8.1 MB/s eta 0:00:01\r\u001B[K     |████████▌                       | 296 kB 8.1 MB/s eta 0:00:01\r\u001B[K     |████████▉                       | 307 kB 8.1 MB/s eta 0:00:01\r\u001B[K     |█████████                       | 317 kB 8.1 MB/s eta 0:00:01\r\u001B[K     |█████████▍                      | 327 kB 8.1 MB/s eta 0:00:01\r\u001B[K     |█████████▊                      | 337 kB 8.1 MB/s eta 0:00:01\r\u001B[K     |██████████                      | 348 kB 8.1 MB/s eta 0:00:01\r\u001B[K     |██████████▎                     | 358 kB 8.1 MB/s eta 0:00:01\r\u001B[K     |██████████▋                     | 368 kB 8.1 MB/s eta 0:00:01\r\u001B[K     |██████████▉                     | 378 kB 8.1 MB/s eta 0:00:01\r\u001B[K     |███████████▏                    | 389 kB 8.1 MB/s eta 0:00:01\r\u001B[K     |███████████▌                    | 399 kB 8.1 MB/s eta 0:00:01\r\u001B[K     |███████████▊                    | 409 kB 8.1 MB/s eta 0:00:01\r\u001B[K     |████████████                    | 419 kB 8.1 MB/s eta 0:00:01\r\u001B[K     |████████████▍                   | 430 kB 8.1 MB/s eta 0:00:01\r\u001B[K     |████████████▋                   | 440 kB 8.1 MB/s eta 0:00:01\r\u001B[K     |█████████████                   | 450 kB 8.1 MB/s eta 0:00:01\r\u001B[K     |█████████████▎                  | 460 kB 8.1 MB/s eta 0:00:01\r\u001B[K     |█████████████▌                  | 471 kB 8.1 MB/s eta 0:00:01\r\u001B[K     |█████████████▉                  | 481 kB 8.1 MB/s eta 0:00:01\r\u001B[K     |██████████████                  | 491 kB 8.1 MB/s eta 0:00:01\r\u001B[K     |██████████████▍                 | 501 kB 8.1 MB/s eta 0:00:01\r\u001B[K     |██████████████▊                 | 512 kB 8.1 MB/s eta 0:00:01\r\u001B[K     |███████████████                 | 522 kB 8.1 MB/s eta 0:00:01\r\u001B[K     |███████████████▎                | 532 kB 8.1 MB/s eta 0:00:01\r\u001B[K     |███████████████▋                | 542 kB 8.1 MB/s eta 0:00:01\r\u001B[K     |███████████████▉                | 552 kB 8.1 MB/s eta 0:00:01\r\u001B[K     |████████████████▏               | 563 kB 8.1 MB/s eta 0:00:01\r\u001B[K     |████████████████▌               | 573 kB 8.1 MB/s eta 0:00:01\r\u001B[K     |████████████████▊               | 583 kB 8.1 MB/s eta 0:00:01\r\u001B[K     |█████████████████               | 593 kB 8.1 MB/s eta 0:00:01\r\u001B[K     |█████████████████▍              | 604 kB 8.1 MB/s eta 0:00:01\r\u001B[K     |█████████████████▋              | 614 kB 8.1 MB/s eta 0:00:01\r\u001B[K     |██████████████████              | 624 kB 8.1 MB/s eta 0:00:01\r\u001B[K     |██████████████████▏             | 634 kB 8.1 MB/s eta 0:00:01\r\u001B[K     |██████████████████▌             | 645 kB 8.1 MB/s eta 0:00:01\r\u001B[K     |██████████████████▉             | 655 kB 8.1 MB/s eta 0:00:01\r\u001B[K     |███████████████████             | 665 kB 8.1 MB/s eta 0:00:01\r\u001B[K     |███████████████████▍            | 675 kB 8.1 MB/s eta 0:00:01\r\u001B[K     |███████████████████▊            | 686 kB 8.1 MB/s eta 0:00:01\r\u001B[K     |████████████████████            | 696 kB 8.1 MB/s eta 0:00:01\r\u001B[K     |████████████████████▎           | 706 kB 8.1 MB/s eta 0:00:01\r\u001B[K     |████████████████████▋           | 716 kB 8.1 MB/s eta 0:00:01\r\u001B[K     |████████████████████▉           | 727 kB 8.1 MB/s eta 0:00:01\r\u001B[K     |█████████████████████▏          | 737 kB 8.1 MB/s eta 0:00:01\r\u001B[K     |█████████████████████▌          | 747 kB 8.1 MB/s eta 0:00:01\r\u001B[K     |█████████████████████▊          | 757 kB 8.1 MB/s eta 0:00:01\r\u001B[K     |██████████████████████          | 768 kB 8.1 MB/s eta 0:00:01\r\u001B[K     |██████████████████████▎         | 778 kB 8.1 MB/s eta 0:00:01\r\u001B[K     |██████████████████████▋         | 788 kB 8.1 MB/s eta 0:00:01\r\u001B[K     |███████████████████████         | 798 kB 8.1 MB/s eta 0:00:01\r\u001B[K     |███████████████████████▏        | 808 kB 8.1 MB/s eta 0:00:01\r\u001B[K     |███████████████████████▌        | 819 kB 8.1 MB/s eta 0:00:01\r\u001B[K     |███████████████████████▉        | 829 kB 8.1 MB/s eta 0:00:01\r\u001B[K     |████████████████████████        | 839 kB 8.1 MB/s eta 0:00:01\r\u001B[K     |████████████████████████▍       | 849 kB 8.1 MB/s eta 0:00:01\r\u001B[K     |████████████████████████▊       | 860 kB 8.1 MB/s eta 0:00:01\r\u001B[K     |█████████████████████████       | 870 kB 8.1 MB/s eta 0:00:01\r\u001B[K     |█████████████████████████▎      | 880 kB 8.1 MB/s eta 0:00:01\r\u001B[K     |█████████████████████████▋      | 890 kB 8.1 MB/s eta 0:00:01\r\u001B[K     |█████████████████████████▉      | 901 kB 8.1 MB/s eta 0:00:01\r\u001B[K     |██████████████████████████▏     | 911 kB 8.1 MB/s eta 0:00:01\r\u001B[K     |██████████████████████████▌     | 921 kB 8.1 MB/s eta 0:00:01\r\u001B[K     |██████████████████████████▊     | 931 kB 8.1 MB/s eta 0:00:01\r\u001B[K     |███████████████████████████     | 942 kB 8.1 MB/s eta 0:00:01\r\u001B[K     |███████████████████████████▎    | 952 kB 8.1 MB/s eta 0:00:01\r\u001B[K     |███████████████████████████▋    | 962 kB 8.1 MB/s eta 0:00:01\r\u001B[K     |████████████████████████████    | 972 kB 8.1 MB/s eta 0:00:01\r\u001B[K     |████████████████████████████▏   | 983 kB 8.1 MB/s eta 0:00:01\r\u001B[K     |████████████████████████████▌   | 993 kB 8.1 MB/s eta 0:00:01\r\u001B[K     |████████████████████████████▉   | 1.0 MB 8.1 MB/s eta 0:00:01\r\u001B[K     |█████████████████████████████   | 1.0 MB 8.1 MB/s eta 0:00:01\r\u001B[K     |█████████████████████████████▍  | 1.0 MB 8.1 MB/s eta 0:00:01\r\u001B[K     |█████████████████████████████▊  | 1.0 MB 8.1 MB/s eta 0:00:01\r\u001B[K     |██████████████████████████████  | 1.0 MB 8.1 MB/s eta 0:00:01\r\u001B[K     |██████████████████████████████▎ | 1.1 MB 8.1 MB/s eta 0:00:01\r\u001B[K     |██████████████████████████████▋ | 1.1 MB 8.1 MB/s eta 0:00:01\r\u001B[K     |██████████████████████████████▉ | 1.1 MB 8.1 MB/s eta 0:00:01\r\u001B[K     |███████████████████████████████▏| 1.1 MB 8.1 MB/s eta 0:00:01\r\u001B[K     |███████████████████████████████▍| 1.1 MB 8.1 MB/s eta 0:00:01\r\u001B[K     |███████████████████████████████▊| 1.1 MB 8.1 MB/s eta 0:00:01\r\u001B[K     |████████████████████████████████| 1.1 MB 8.1 MB/s \n",
      "\u001B[?25hRequirement already satisfied: typeguard>=2.7 in /usr/local/lib/python3.7/dist-packages (from tensorflow_addons) (2.7.1)\n",
      "Installing collected packages: tensorflow-addons\n",
      "Successfully installed tensorflow-addons-0.15.0\n"
     ]
    }
   ]
  },
  {
   "cell_type": "code",
   "execution_count": 23,
   "metadata": {
    "id": "qqBlEmP9xb1B",
    "executionInfo": {
     "status": "ok",
     "timestamp": 1643183296967,
     "user_tz": -60,
     "elapsed": 3,
     "user": {
      "displayName": "Julien Breton",
      "photoUrl": "https://lh3.googleusercontent.com/a-/AOh14GhEmgLD2_E5E4xeu8wuHzMHxcUN3VPggzaB1wy74A=s64",
      "userId": "02331780257374555700"
     }
    }
   },
   "outputs": [],
   "source": [
    "import tensorflow_addons as tfa\n",
    "step = tf.Variable(0, trainable=False)\n",
    "schedule = tf.optimizers.schedules.PiecewiseConstantDecay(\n",
    "    [10000, 15000], [1e-0, 1e-1, 1e-2])\n",
    "# lr and wd can be a function or a tensor\n",
    "\n",
    "lr = 1e-1 * schedule(step)\n",
    "\n",
    "learning_rate=1e-3\n",
    "\n",
    "wd = lambda: 1e-4 * schedule(step)\n",
    "\n",
    "weight_decay=1e-6,\n",
    "\n",
    "optimizer = tfa.optimizers.AdamW(learning_rate=learning_rate, weight_decay=weight_decay)"
   ],
   "id": "qqBlEmP9xb1B"
  },
  {
   "cell_type": "code",
   "execution_count": 24,
   "metadata": {
    "id": "374b3648",
    "executionInfo": {
     "status": "ok",
     "timestamp": 1643183303653,
     "user_tz": -60,
     "elapsed": 6688,
     "user": {
      "displayName": "Julien Breton",
      "photoUrl": "https://lh3.googleusercontent.com/a-/AOh14GhEmgLD2_E5E4xeu8wuHzMHxcUN3VPggzaB1wy74A=s64",
      "userId": "02331780257374555700"
     }
    }
   },
   "outputs": [],
   "source": [
    "import torch.optim as optim\n",
    "\n",
    "opt = keras.optimizers.Adam(learning_rate=0.01)"
   ],
   "id": "374b3648"
  },
  {
   "cell_type": "code",
   "execution_count": 25,
   "metadata": {
    "id": "97206c4d",
    "executionInfo": {
     "status": "ok",
     "timestamp": 1643183303654,
     "user_tz": -60,
     "elapsed": 12,
     "user": {
      "displayName": "Julien Breton",
      "photoUrl": "https://lh3.googleusercontent.com/a-/AOh14GhEmgLD2_E5E4xeu8wuHzMHxcUN3VPggzaB1wy74A=s64",
      "userId": "02331780257374555700"
     }
    }
   },
   "outputs": [],
   "source": [
    "model = Sequential()\n",
    "model.add(Input(shape=(1,), dtype=\"string\"))"
   ],
   "id": "97206c4d"
  },
  {
   "cell_type": "code",
   "execution_count": 26,
   "metadata": {
    "id": "beb5c57f",
    "executionInfo": {
     "status": "ok",
     "timestamp": 1643183303654,
     "user_tz": -60,
     "elapsed": 11,
     "user": {
      "displayName": "Julien Breton",
      "photoUrl": "https://lh3.googleusercontent.com/a-/AOh14GhEmgLD2_E5E4xeu8wuHzMHxcUN3VPggzaB1wy74A=s64",
      "userId": "02331780257374555700"
     }
    }
   },
   "outputs": [],
   "source": [
    "model.add(vectorize_layer)"
   ],
   "id": "beb5c57f"
  },
  {
   "cell_type": "code",
   "execution_count": 27,
   "metadata": {
    "id": "a0dde3ec",
    "executionInfo": {
     "status": "ok",
     "timestamp": 1643183304704,
     "user_tz": -60,
     "elapsed": 1061,
     "user": {
      "displayName": "Julien Breton",
      "photoUrl": "https://lh3.googleusercontent.com/a-/AOh14GhEmgLD2_E5E4xeu8wuHzMHxcUN3VPggzaB1wy74A=s64",
      "userId": "02331780257374555700"
     }
    },
    "colab": {
     "base_uri": "https://localhost:8080/"
    },
    "outputId": "254ef4c7-4372-4373-fa88-3c9649eeb8c8"
   },
   "outputs": [
    {
     "output_type": "stream",
     "name": "stdout",
     "text": [
      "WARNING:tensorflow:Layer lstm_1 will not use cuDNN kernels since it doesn't meet the criteria. It will use a generic GPU kernel as fallback when running on GPU.\n"
     ]
    }
   ],
   "source": [
    "from tensorflow.keras import layers\n",
    "# Note that we're using max_tokens + 1 here, since there's an\n",
    "# out-of-vocabulary (OOV) token that gets added to the vocab.\n",
    "\n",
    "len_gloses = 43608\n",
    "\n",
    "model.add(Embedding(max_tokens + 1, 128))\n",
    "\n",
    "model.add(Dense(128))\n",
    "\n",
    "model.add(Bidirectional(LSTM(units=192, return_sequences=True), merge_mode = 'ave'))\n",
    "\n",
    "model.add(Dense(192))\n",
    "\n",
    "model.add(LSTM(units=256, return_sequences=False, activation = \"softmax\"))\n",
    "\n",
    "\n",
    "model.add(Dense(256))"
   ],
   "id": "a0dde3ec"
  },
  {
   "cell_type": "code",
   "execution_count": 28,
   "metadata": {
    "id": "05ec90f7",
    "executionInfo": {
     "status": "ok",
     "timestamp": 1643183304704,
     "user_tz": -60,
     "elapsed": 7,
     "user": {
      "displayName": "Julien Breton",
      "photoUrl": "https://lh3.googleusercontent.com/a-/AOh14GhEmgLD2_E5E4xeu8wuHzMHxcUN3VPggzaB1wy74A=s64",
      "userId": "02331780257374555700"
     }
    },
    "colab": {
     "base_uri": "https://localhost:8080/"
    },
    "outputId": "49b40ff5-2709-4f39-efd8-db48f3daec04"
   },
   "outputs": [
    {
     "output_type": "stream",
     "name": "stdout",
     "text": [
      "Model: \"sequential\"\n",
      "_________________________________________________________________\n",
      " Layer (type)                Output Shape              Param #   \n",
      "=================================================================\n",
      " text_vectorization (TextVec  (None, 149)              0         \n",
      " torization)                                                     \n",
      "                                                                 \n",
      " embedding (Embedding)       (None, 149, 128)          3083520   \n",
      "                                                                 \n",
      " dense (Dense)               (None, 149, 128)          16512     \n",
      "                                                                 \n",
      " bidirectional (Bidirectiona  (None, 149, 192)         493056    \n",
      " l)                                                              \n",
      "                                                                 \n",
      " dense_1 (Dense)             (None, 149, 192)          37056     \n",
      "                                                                 \n",
      " lstm_1 (LSTM)               (None, 256)               459776    \n",
      "                                                                 \n",
      " dense_2 (Dense)             (None, 256)               65792     \n",
      "                                                                 \n",
      "=================================================================\n",
      "Total params: 4,155,712\n",
      "Trainable params: 4,155,712\n",
      "Non-trainable params: 0\n",
      "_________________________________________________________________\n"
     ]
    }
   ],
   "source": [
    " model.compile(\n",
    "    optimizer=optimizer,\n",
    "    loss='mse',\n",
    "    metrics=['accuracy'],\n",
    ")\n",
    "\n",
    "model.summary()"
   ],
   "id": "05ec90f7"
  },
  {
   "cell_type": "markdown",
   "metadata": {
    "id": "2f7c5b75"
   },
   "source": [
    "### Entraînement du modèle"
   ],
   "id": "2f7c5b75"
  },
  {
   "cell_type": "code",
   "execution_count": 29,
   "metadata": {
    "id": "81f1324c",
    "executionInfo": {
     "status": "ok",
     "timestamp": 1643184185096,
     "user_tz": -60,
     "elapsed": 878749,
     "user": {
      "displayName": "Julien Breton",
      "photoUrl": "https://lh3.googleusercontent.com/a-/AOh14GhEmgLD2_E5E4xeu8wuHzMHxcUN3VPggzaB1wy74A=s64",
      "userId": "02331780257374555700"
     }
    },
    "colab": {
     "base_uri": "https://localhost:8080/"
    },
    "outputId": "6503ee12-098d-4ec9-9a19-ffeed8f70cf3"
   },
   "outputs": [
    {
     "output_type": "stream",
     "name": "stdout",
     "text": [
      "Epoch 1/10\n",
      "228/228 [==============================] - 91s 368ms/step - loss: 1.0888 - accuracy: 0.0125 - val_loss: 1.0201 - val_accuracy: 0.0121\n",
      "Epoch 2/10\n",
      "228/228 [==============================] - 73s 320ms/step - loss: 1.0707 - accuracy: 0.0169 - val_loss: 1.0190 - val_accuracy: 0.0121\n",
      "Epoch 3/10\n",
      "228/228 [==============================] - 74s 323ms/step - loss: 1.0704 - accuracy: 0.0169 - val_loss: 1.0190 - val_accuracy: 0.0121\n",
      "Epoch 4/10\n",
      "228/228 [==============================] - 73s 320ms/step - loss: 1.0704 - accuracy: 0.0169 - val_loss: 1.0189 - val_accuracy: 0.0121\n",
      "Epoch 5/10\n",
      "228/228 [==============================] - 73s 320ms/step - loss: 1.0704 - accuracy: 0.0169 - val_loss: 1.0190 - val_accuracy: 0.0121\n",
      "Epoch 6/10\n",
      "228/228 [==============================] - 74s 324ms/step - loss: 1.0704 - accuracy: 0.0169 - val_loss: 1.0190 - val_accuracy: 0.0121\n",
      "Epoch 7/10\n",
      "228/228 [==============================] - 73s 322ms/step - loss: 1.0704 - accuracy: 0.0169 - val_loss: 1.0191 - val_accuracy: 0.0121\n",
      "Epoch 8/10\n",
      "228/228 [==============================] - 73s 320ms/step - loss: 1.0704 - accuracy: 0.0169 - val_loss: 1.0190 - val_accuracy: 0.0121\n",
      "Epoch 9/10\n",
      "228/228 [==============================] - 73s 320ms/step - loss: 1.0704 - accuracy: 0.0169 - val_loss: 1.0190 - val_accuracy: 0.0121\n",
      "Epoch 10/10\n",
      "228/228 [==============================] - 74s 322ms/step - loss: 1.0704 - accuracy: 0.0169 - val_loss: 1.0190 - val_accuracy: 0.0121\n"
     ]
    }
   ],
   "source": [
    "with tf.device('/device:GPU:0'):\n",
    "  history = model.fit(lemmatized_glosses_text, electra,\n",
    "                    epochs=10,\n",
    "                    batch_size=192,\n",
    "                    validation_data=(lemmatized_glosses_text_dev,  electra_dev))"
   ],
   "id": "81f1324c"
  },
  {
   "cell_type": "code",
   "execution_count": 30,
   "metadata": {
    "id": "ff51800e",
    "executionInfo": {
     "status": "ok",
     "timestamp": 1643184185615,
     "user_tz": -60,
     "elapsed": 523,
     "user": {
      "displayName": "Julien Breton",
      "photoUrl": "https://lh3.googleusercontent.com/a-/AOh14GhEmgLD2_E5E4xeu8wuHzMHxcUN3VPggzaB1wy74A=s64",
      "userId": "02331780257374555700"
     }
    },
    "colab": {
     "base_uri": "https://localhost:8080/",
     "height": 545
    },
    "outputId": "2107cfd3-4ef9-40c6-927c-05957e3058ff"
   },
   "outputs": [
    {
     "output_type": "display_data",
     "data": {
      "image/png": "[encoded data removed]",
      "text/plain": [
       "<Figure size 432x288 with 1 Axes>"
      ]
     },
     "metadata": {
      "needs_background": "light"
     }
    },
    {
     "output_type": "display_data",
     "data": {
      "image/png": "[encoded data removed]",
      "text/plain": [
       "<Figure size 432x288 with 1 Axes>"
      ]
     },
     "metadata": {
      "needs_background": "light"
     }
    }
   ],
   "source": [
    "#Visualisation des résultats de l'entraînement.\n",
    "import matplotlib.pyplot as plt\n",
    "\n",
    "acc = history.history['accuracy']\n",
    "val_acc = history.history['val_accuracy']\n",
    "loss = history.history['loss']\n",
    "val_loss = history.history['val_loss']\n",
    "\n",
    "epochs = range(1, len(acc) + 1)\n",
    "\n",
    "plt.plot(epochs, acc, 'bo', label='Training acc')\n",
    "plt.plot(epochs, val_acc, 'b', label='Validation acc')\n",
    "plt.title('Training and validation accuracy')\n",
    "plt.legend()\n",
    "\n",
    "plt.figure()\n",
    "\n",
    "plt.plot(epochs, loss, 'bo', label='Training loss')\n",
    "plt.plot(epochs, val_loss, 'b', label='Validation loss')\n",
    "plt.title('Training and validation loss')\n",
    "plt.legend()\n",
    "\n",
    "plt.show()"
   ],
   "id": "ff51800e"
  },
  {
   "cell_type": "code",
   "execution_count": 31,
   "metadata": {
    "id": "KQZk_4rH86t6",
    "executionInfo": {
     "status": "ok",
     "timestamp": 1643184199103,
     "user_tz": -60,
     "elapsed": 13493,
     "user": {
      "displayName": "Julien Breton",
      "photoUrl": "https://lh3.googleusercontent.com/a-/AOh14GhEmgLD2_E5E4xeu8wuHzMHxcUN3VPggzaB1wy74A=s64",
      "userId": "02331780257374555700"
     }
    },
    "colab": {
     "base_uri": "https://localhost:8080/"
    },
    "outputId": "1df45209-f1e5-48e7-f124-5971b956594e"
   },
   "outputs": [
    {
     "output_type": "stream",
     "name": "stderr",
     "text": [
      "WARNING:absl:Found untraced functions such as lstm_cell_1_layer_call_fn, lstm_cell_1_layer_call_and_return_conditional_losses, lstm_cell_2_layer_call_fn, lstm_cell_2_layer_call_and_return_conditional_losses, lstm_cell_1_layer_call_fn while saving (showing 5 of 10). These functions will not be directly callable after loading.\n"
     ]
    },
    {
     "output_type": "stream",
     "name": "stdout",
     "text": [
      "INFO:tensorflow:Assets written to: _fr_revdict_model.tf/assets\n"
     ]
    },
    {
     "output_type": "stream",
     "name": "stderr",
     "text": [
      "INFO:tensorflow:Assets written to: _fr_revdict_model.tf/assets\n",
      "WARNING:absl:<keras.layers.recurrent.LSTMCell object at 0x7fc009693890> has the same name 'LSTMCell' as a built-in Keras object. Consider renaming <class 'keras.layers.recurrent.LSTMCell'> to avoid naming conflicts when loading with `tf.keras.models.load_model`. If renaming is not possible, pass the object in the `custom_objects` parameter of the load function.\n",
      "WARNING:absl:<keras.layers.recurrent.LSTMCell object at 0x7fc009654850> has the same name 'LSTMCell' as a built-in Keras object. Consider renaming <class 'keras.layers.recurrent.LSTMCell'> to avoid naming conflicts when loading with `tf.keras.models.load_model`. If renaming is not possible, pass the object in the `custom_objects` parameter of the load function.\n",
      "WARNING:absl:<keras.layers.recurrent.LSTMCell object at 0x7fc009649e10> has the same name 'LSTMCell' as a built-in Keras object. Consider renaming <class 'keras.layers.recurrent.LSTMCell'> to avoid naming conflicts when loading with `tf.keras.models.load_model`. If renaming is not possible, pass the object in the `custom_objects` parameter of the load function.\n"
     ]
    }
   ],
   "source": [
    "#sauvegarde du modèle\n",
    "model.save('_fr_revdict_model.tf')"
   ],
   "id": "KQZk_4rH86t6"
  },
  {
   "cell_type": "markdown",
   "metadata": {
    "id": "185fe5e0"
   },
   "source": [
    "\n",
    "### Test du modèle sur les données Trial"
   ],
   "id": "185fe5e0"
  },
  {
   "cell_type": "code",
   "execution_count": 32,
   "metadata": {
    "id": "7191cfdb",
    "executionInfo": {
     "status": "ok",
     "timestamp": 1643184199672,
     "user_tz": -60,
     "elapsed": 579,
     "user": {
      "displayName": "Julien Breton",
      "photoUrl": "https://lh3.googleusercontent.com/a-/AOh14GhEmgLD2_E5E4xeu8wuHzMHxcUN3VPggzaB1wy74A=s64",
      "userId": "02331780257374555700"
     }
    }
   },
   "outputs": [],
   "source": [
    "with open(\"/content/drive/My Drive/Datasets/Data_semEval2022/\"+ lang_data +\"/\"+ lang +\".trial.complete.json\", \"r\") as file_handler:\n",
    "    dataset_trial = json.load(file_handler)"
   ],
   "id": "7191cfdb"
  },
  {
   "cell_type": "code",
   "execution_count": 33,
   "metadata": {
    "id": "96e503fb",
    "executionInfo": {
     "status": "ok",
     "timestamp": 1643184199673,
     "user_tz": -60,
     "elapsed": 6,
     "user": {
      "displayName": "Julien Breton",
      "photoUrl": "https://lh3.googleusercontent.com/a-/AOh14GhEmgLD2_E5E4xeu8wuHzMHxcUN3VPggzaB1wy74A=s64",
      "userId": "02331780257374555700"
     }
    }
   },
   "outputs": [],
   "source": [
    "glosses_trial = []\n",
    "for e in dataset_trial :\n",
    "    glosses_trial.append(e[\"gloss\"])"
   ],
   "id": "96e503fb"
  },
  {
   "cell_type": "code",
   "execution_count": 34,
   "metadata": {
    "id": "0bcc6573",
    "executionInfo": {
     "status": "ok",
     "timestamp": 1643184199673,
     "user_tz": -60,
     "elapsed": 5,
     "user": {
      "displayName": "Julien Breton",
      "photoUrl": "https://lh3.googleusercontent.com/a-/AOh14GhEmgLD2_E5E4xeu8wuHzMHxcUN3VPggzaB1wy74A=s64",
      "userId": "02331780257374555700"
     }
    }
   },
   "outputs": [],
   "source": [
    "electra_trial = []\n",
    "for e in dataset_trial :\n",
    "    electra_trial.append(e[\"electra\"])"
   ],
   "id": "0bcc6573"
  },
  {
   "cell_type": "code",
   "execution_count": 35,
   "metadata": {
    "id": "0329df26",
    "executionInfo": {
     "status": "ok",
     "timestamp": 1643184200014,
     "user_tz": -60,
     "elapsed": 346,
     "user": {
      "displayName": "Julien Breton",
      "photoUrl": "https://lh3.googleusercontent.com/a-/AOh14GhEmgLD2_E5E4xeu8wuHzMHxcUN3VPggzaB1wy74A=s64",
      "userId": "02331780257374555700"
     }
    },
    "colab": {
     "base_uri": "https://localhost:8080/"
    },
    "outputId": "868af9c8-b847-4113-f775-8fe990d7e0dc"
   },
   "outputs": [
    {
     "output_type": "stream",
     "name": "stdout",
     "text": [
      "7/7 - 0s - loss: 1.6444 - accuracy: 0.0250 - 284ms/epoch - 41ms/step\n"
     ]
    }
   ],
   "source": [
    "scores = model.evaluate(glosses_trial, electra_trial, verbose=2)"
   ],
   "id": "0329df26"
  },
  {
   "cell_type": "code",
   "execution_count": 36,
   "metadata": {
    "id": "229313da",
    "executionInfo": {
     "status": "ok",
     "timestamp": 1643184201370,
     "user_tz": -60,
     "elapsed": 1112,
     "user": {
      "displayName": "Julien Breton",
      "photoUrl": "https://lh3.googleusercontent.com/a-/AOh14GhEmgLD2_E5E4xeu8wuHzMHxcUN3VPggzaB1wy74A=s64",
      "userId": "02331780257374555700"
     }
    }
   },
   "outputs": [],
   "source": [
    "classes_trial = model.predict(glosses_trial, batch_size=32)"
   ],
   "id": "229313da"
  },
  {
   "cell_type": "code",
   "source": [
    "print(len(classes_trial))"
   ],
   "metadata": {
    "id": "p8WYLvoVS66z",
    "executionInfo": {
     "status": "ok",
     "timestamp": 1643184201371,
     "user_tz": -60,
     "elapsed": 16,
     "user": {
      "displayName": "Julien Breton",
      "photoUrl": "https://lh3.googleusercontent.com/a-/AOh14GhEmgLD2_E5E4xeu8wuHzMHxcUN3VPggzaB1wy74A=s64",
      "userId": "02331780257374555700"
     }
    },
    "colab": {
     "base_uri": "https://localhost:8080/"
    },
    "outputId": "22d68bdd-8b6d-4963-ad85-3df7feba11de"
   },
   "id": "p8WYLvoVS66z",
   "execution_count": 37,
   "outputs": [
    {
     "output_type": "stream",
     "name": "stdout",
     "text": [
      "200\n"
     ]
    }
   ]
  },
  {
   "cell_type": "code",
   "source": [
    "print(len(classes_trial[0]))"
   ],
   "metadata": {
    "id": "aV9Cl17pS9wV",
    "executionInfo": {
     "status": "ok",
     "timestamp": 1643184201371,
     "user_tz": -60,
     "elapsed": 5,
     "user": {
      "displayName": "Julien Breton",
      "photoUrl": "https://lh3.googleusercontent.com/a-/AOh14GhEmgLD2_E5E4xeu8wuHzMHxcUN3VPggzaB1wy74A=s64",
      "userId": "02331780257374555700"
     }
    },
    "colab": {
     "base_uri": "https://localhost:8080/"
    },
    "outputId": "e3361c75-30fc-4a70-8149-55a5abd3428d"
   },
   "id": "aV9Cl17pS9wV",
   "execution_count": 38,
   "outputs": [
    {
     "output_type": "stream",
     "name": "stdout",
     "text": [
      "256\n"
     ]
    }
   ]
  },
  {
   "cell_type": "code",
   "source": [
    "results = []\n",
    "\n",
    "prefix_id = \"fr.revdict.\"\n",
    "i = 0\n",
    "for g in glosses_trial :\n",
    "  sample = {}\n",
    "  id = prefix_id + str(i)\n",
    "  sample[\"id\"] = id\n",
    "  sample[\"gloss\"] = g\n",
    "  sample[\"electra\"] = classes_trial[glosses_trial.index(g)]\n",
    "  results.append(sample)\n",
    "  i+=1\n",
    "\n",
    "print(\"taille du resultat : \", len(results))\n",
    "# affichage du premier vecteur pour visualiser les résultats produits\n",
    "print(\"vecteur trial ---> prédiction\")\n",
    "for v in electra_trial[0] :\n",
    "  print(v, \" ---> \", results[0][\"electra\"][list(electra_trial[0]).index(v)])"
   ],
   "metadata": {
    "id": "JNQa4rDgT4y5",
    "executionInfo": {
     "status": "ok",
     "timestamp": 1643184201371,
     "user_tz": -60,
     "elapsed": 4,
     "user": {
      "displayName": "Julien Breton",
      "photoUrl": "https://lh3.googleusercontent.com/a-/AOh14GhEmgLD2_E5E4xeu8wuHzMHxcUN3VPggzaB1wy74A=s64",
      "userId": "02331780257374555700"
     }
    },
    "colab": {
     "base_uri": "https://localhost:8080/"
    },
    "outputId": "f52f0364-795a-4f66-d0df-4a1f42c04a40"
   },
   "id": "JNQa4rDgT4y5",
   "execution_count": 39,
   "outputs": [
    {
     "output_type": "stream",
     "name": "stdout",
     "text": [
      "taille du resultat :  200\n",
      "vecteur trial ---> prédiction\n",
      "-2.372004509  --->  -0.0511041\n",
      "1.9591083527  --->  0.45062\n",
      "0.2271074802  --->  -0.38477474\n",
      "1.099986434  --->  -0.16360968\n",
      "1.7186322212  --->  0.013098855\n",
      "-0.1170716509  --->  -0.07511786\n",
      "-1.3146365881  --->  -0.14198709\n",
      "-0.6552742124  --->  0.0009245416\n",
      "-1.9913749695  --->  0.036763232\n",
      "-3.2809066772  --->  -0.17469871\n",
      "0.2689187229  --->  0.06842947\n",
      "-1.5716910362  --->  0.044439193\n",
      "-1.6752529144  --->  -0.052377813\n",
      "-0.9022228718  --->  -0.31669855\n",
      "-0.1585022509  --->  -0.10088621\n",
      "-2.2514564991  --->  -0.25310344\n",
      "2.0232255459  --->  -0.0723949\n",
      "0.3152128756  --->  -0.013035178\n",
      "-0.5735642314  --->  0.12590769\n",
      "3.8056907654  --->  0.08885661\n",
      "1.185995698  --->  0.16749646\n",
      "0.8157326579  --->  -0.47296047\n",
      "3.2507917881  --->  -0.16693643\n",
      "-1.4944301844  --->  0.15481846\n",
      "-1.6375355721  --->  -0.2901123\n",
      "2.044917345  --->  -0.19605866\n",
      "-4.9128074646  --->  -0.0171621\n",
      "0.0966427699  --->  0.23307446\n",
      "0.0779954046  --->  0.4172031\n",
      "-1.5106123686  --->  0.120911345\n",
      "-3.2744586468  --->  0.053311948\n",
      "-1.2224647999  --->  -0.15619664\n",
      "-3.1915266514  --->  -0.3562857\n",
      "2.9706230164  --->  0.036542386\n",
      "0.7114701271  --->  -0.011668387\n",
      "-0.0742481723  --->  -0.62849116\n",
      "-2.4150085449  --->  0.09052537\n",
      "-0.0787961856  --->  0.24149269\n",
      "-1.8511731625  --->  0.12119554\n",
      "1.4337226152  --->  0.21517563\n",
      "-2.8939545155  --->  0.12899631\n",
      "2.0466220379  --->  0.24957067\n",
      "0.5902129412  --->  0.17329618\n",
      "0.8894808292  --->  0.11751799\n",
      "0.3825961351  --->  0.26538074\n",
      "-0.0247048624  --->  0.23039564\n",
      "-0.0865575448  --->  0.24245723\n",
      "-0.2003173828  --->  -0.09041322\n",
      "2.2506399155  --->  0.33071396\n",
      "-3.1201400757  --->  -0.37771288\n",
      "1.6819392443  --->  0.01189594\n",
      "0.1321257353  --->  -0.049963776\n",
      "3.6992380619  --->  -0.14609322\n",
      "0.0335475989  --->  0.32483703\n",
      "0.0285551399  --->  -0.21552664\n",
      "0.4483210444  --->  -0.39919332\n",
      "-1.804156065  --->  -0.19775021\n",
      "0.712212801  --->  0.03090283\n",
      "-1.9070250988  --->  -0.07975117\n",
      "0.3674468696  --->  -0.58843\n",
      "3.1043083668  --->  0.4063675\n",
      "1.738719821  --->  0.28043023\n",
      "0.3103806376  --->  -0.034535788\n",
      "-0.3222866058  --->  -0.15299958\n",
      "-2.8552174568  --->  0.34280258\n",
      "-0.9063825011  --->  0.101036854\n",
      "-1.5179684162  --->  -0.20993155\n",
      "-2.3067214489  --->  -0.399539\n",
      "0.0032072496  --->  -0.4205764\n",
      "0.8745427132  --->  0.058948506\n",
      "1.0955188274  --->  0.1992528\n",
      "-0.4293565452  --->  -0.1761072\n",
      "1.7377170324  --->  0.060680963\n",
      "2.3051185608  --->  -0.06113449\n",
      "2.6884844303  --->  0.015384994\n",
      "0.7426229119  --->  -0.031928893\n",
      "3.9782297611  --->  0.27906868\n",
      "-1.2533099651  --->  -0.051525943\n",
      "-0.8801745176  --->  0.06558088\n",
      "0.4218678474  --->  0.23054469\n",
      "-2.7621090412  --->  -0.3496161\n",
      "-2.0390365124  --->  0.06854655\n",
      "-0.8460487723  --->  0.02422674\n",
      "-0.7188113928  --->  0.12727374\n",
      "5.4495902061  --->  0.5154788\n",
      "-0.4262579978  --->  0.09179986\n",
      "-0.2679582238  --->  0.3896833\n",
      "2.4051032066  --->  0.11582207\n",
      "-0.7050934434  --->  -0.021108426\n",
      "1.2645334005  --->  0.24291176\n",
      "-1.7367544174  --->  0.2948637\n",
      "0.3844621778  --->  -0.2725614\n",
      "1.7971487045  --->  -0.089820534\n",
      "-1.5353212357  --->  -0.08958928\n",
      "0.8695262074  --->  -0.10950737\n",
      "-0.9087002277  --->  0.3676929\n",
      "-0.4561994672  --->  -0.049454603\n",
      "1.3124679327  --->  0.28012773\n",
      "-1.0626313686  --->  0.037625138\n",
      "-1.1289596558  --->  -0.22287378\n",
      "-0.1933590919  --->  -0.034127794\n",
      "2.3377993107  --->  0.5432962\n",
      "0.4977990687  --->  0.22660467\n",
      "0.2872229815  --->  -0.19185105\n",
      "-1.7096070051  --->  -0.043414988\n",
      "-0.6138806939  --->  0.46033442\n",
      "-0.0662440285  --->  0.013371918\n",
      "0.9877301455  --->  0.13413437\n",
      "1.9615882635  --->  -0.23960257\n",
      "1.1832257509  --->  0.45581377\n",
      "-1.1519700289  --->  -0.044035472\n",
      "3.0206801891  --->  0.3136046\n",
      "1.3316340446  --->  0.11787825\n",
      "2.0510616302  --->  -0.044347614\n",
      "0.7374520302  --->  0.6560102\n",
      "1.2152205706  --->  0.097868204\n",
      "1.9087321758  --->  0.0009972099\n",
      "3.1709139347  --->  0.2760898\n",
      "-0.2877337337  --->  -0.030229166\n",
      "-0.3483145833  --->  -0.11554995\n",
      "3.1831021309  --->  0.25665057\n",
      "-0.2004900724  --->  -0.07497245\n",
      "2.6697208881  --->  -0.2489827\n",
      "-3.0116713047  --->  -0.3989528\n",
      "-0.4447961748  --->  0.16356795\n",
      "0.0317837335  --->  -0.18110898\n",
      "-1.4006103277  --->  -0.24701709\n",
      "1.0222681761  --->  -0.30683848\n",
      "1.6615664959  --->  0.16671166\n",
      "-0.2110461295  --->  -0.15680009\n",
      "1.7940118313  --->  0.1051801\n",
      "-1.6082623005  --->  -0.107029885\n",
      "-2.256059885  --->  0.014108531\n",
      "0.7184126377  --->  -0.038769893\n",
      "1.8967840672  --->  -0.19676825\n",
      "-0.7300332785  --->  -0.0665949\n",
      "1.9642560482  --->  0.12535441\n",
      "-0.6363070011  --->  -0.30839586\n",
      "0.4302732348  --->  0.4513519\n",
      "-1.7166872025  --->  -0.34495595\n",
      "-3.1896653175  --->  0.14220953\n",
      "0.5648938417  --->  -0.2443906\n",
      "1.7557508945  --->  0.4015483\n",
      "-1.5822967291  --->  -0.38961506\n",
      "0.8771564364  --->  -0.022952814\n",
      "-1.5609712601  --->  -0.13671815\n",
      "2.5107731819  --->  -0.17988014\n",
      "-0.7022705674  --->  -0.06977543\n",
      "0.5874379873  --->  -0.28169423\n",
      "-0.8764846325  --->  -0.16988987\n",
      "1.3159168959  --->  0.014455806\n",
      "-1.5218498707  --->  0.011547783\n",
      "0.4016773999  --->  -0.025409756\n",
      "2.1764564514  --->  -0.38349593\n",
      "-0.2762560844  --->  -0.51728344\n",
      "-0.3393901885  --->  -0.0456049\n",
      "1.1172683239  --->  0.30430615\n",
      "-3.0672440529  --->  -0.12939158\n",
      "-2.0478034019  --->  -0.07360268\n",
      "-0.4074349999  --->  0.054111883\n",
      "-1.0979422331  --->  -0.0484014\n",
      "1.6511957645  --->  -0.40296417\n",
      "-0.828799367  --->  0.13147584\n",
      "-1.4097633362  --->  0.18129039\n",
      "-0.3759293854  --->  -0.46064305\n",
      "-0.4055317342  --->  -0.44608057\n",
      "0.5421925187  --->  0.13560313\n",
      "-0.2824628353  --->  -0.07243886\n",
      "-0.7443742752  --->  0.034742344\n",
      "-1.7503919601  --->  -0.41255236\n",
      "-2.7963635921  --->  -0.117260806\n",
      "0.5116437674  --->  -0.11384928\n",
      "0.2860642076  --->  -0.24809523\n",
      "0.5488191843  --->  0.1640118\n",
      "4.2011528015  --->  0.2509358\n",
      "0.6769811511  --->  -0.025795873\n",
      "1.0999491215  --->  0.02256038\n",
      "-0.2533977628  --->  -0.095833555\n",
      "1.179628253  --->  0.10067622\n",
      "-0.636085391  --->  0.2127729\n",
      "-2.6839621067  --->  -0.040692084\n",
      "1.7516230345  --->  0.06331033\n",
      "-2.273204565  --->  -0.1376364\n",
      "0.3145017922  --->  -0.5438522\n",
      "-0.4520407319  --->  -0.078767195\n",
      "-2.2576127052  --->  0.21065639\n",
      "3.4417378902  --->  0.23764628\n",
      "-1.8933475018  --->  0.1985822\n",
      "-1.3168075085  --->  -0.29204908\n",
      "-2.0016479492  --->  -0.34212866\n",
      "-0.1043588817  --->  -0.073449254\n",
      "0.302316457  --->  -0.32155582\n",
      "0.3972194493  --->  -0.21018414\n",
      "1.2782231569  --->  0.15367635\n",
      "-0.0265313219  --->  0.24545148\n",
      "-3.6830365658  --->  -0.22415057\n",
      "-2.4277882576  --->  -0.22008067\n",
      "-0.8735251427  --->  -0.114356995\n",
      "3.0661971569  --->  0.29530862\n",
      "-1.465887785  --->  0.28761828\n",
      "2.2410497665  --->  0.51968205\n",
      "0.6035252213  --->  0.062395502\n",
      "0.6347641945  --->  -0.13659362\n",
      "1.6802830696  --->  0.20723024\n",
      "1.0985887051  --->  -0.29469353\n",
      "0.6279661059  --->  -0.4459102\n",
      "3.0005037785  --->  0.069291905\n",
      "-1.1321406364  --->  -0.11342934\n",
      "0.0264688116  --->  0.26841187\n",
      "1.6531217098  --->  -0.11290838\n",
      "-0.9961752892  --->  0.12795955\n",
      "0.0434632152  --->  0.0093599595\n",
      "-2.5477581024  --->  -0.6305388\n",
      "0.2521380484  --->  -0.13972558\n",
      "-2.1287050247  --->  -0.15218844\n",
      "2.2062315941  --->  -0.06333648\n",
      "0.3539191484  --->  -0.14527142\n",
      "-0.7642141581  --->  -0.40395302\n",
      "2.889013052  --->  0.19778451\n",
      "0.5192726254  --->  -0.16671582\n",
      "-1.1651633978  --->  -0.10264946\n",
      "0.0899228379  --->  0.024277173\n",
      "-0.6255941391  --->  0.30158803\n",
      "2.1563994884  --->  0.021424355\n",
      "0.8681163788  --->  -0.3331036\n",
      "0.9029047489  --->  0.07010107\n",
      "0.4298557043  --->  -0.3403949\n",
      "-0.6280088425  --->  0.096428834\n",
      "-1.314822197  --->  -0.21772662\n",
      "4.4953007698  --->  -0.2716769\n",
      "-0.8962453604  --->  0.32541534\n",
      "1.4144718647  --->  -0.09981808\n",
      "-4.0247774124  --->  0.065037236\n",
      "0.3797994852  --->  -0.09057288\n",
      "-0.7834900618  --->  -0.2138207\n",
      "0.283005923  --->  0.3703125\n",
      "1.8290352821  --->  0.49568236\n",
      "-0.8287508488  --->  -0.19883451\n",
      "2.6035890579  --->  0.35573214\n",
      "-1.7770231962  --->  0.028371392\n",
      "-0.9959523678  --->  0.062295288\n",
      "0.5098342299  --->  0.32432148\n",
      "-1.0911325216  --->  -0.26693138\n",
      "-5.142991066  --->  -0.5698386\n",
      "-0.9715569615  --->  -0.22544728\n",
      "-1.672418952  --->  0.14029008\n",
      "2.1228246689  --->  0.26354855\n",
      "-1.3597129583  --->  -0.5234541\n",
      "0.9729636312  --->  -0.08722819\n",
      "-1.256931901  --->  0.01575733\n",
      "1.323243618  --->  -0.003923934\n",
      "-1.2387136221  --->  0.27281463\n",
      "0.1156392023  --->  0.33000678\n",
      "-0.9774518609  --->  -0.23732764\n",
      "0.5218712687  --->  0.121959046\n",
      "-0.8930246234  --->  0.19962284\n"
     ]
    }
   ]
  },
  {
   "cell_type": "code",
   "source": [
    "import pandas as pd\n",
    "pd.Series(results).to_json(\"/content/drive/My Drive/Datasets/Data_semEval2022/Results/electra/\"+lang+\"_revdict_results_prediction_trial.json\", orient='values')"
   ],
   "metadata": {
    "id": "RoS8voONGr5r",
    "executionInfo": {
     "status": "ok",
     "timestamp": 1643184201674,
     "user_tz": -60,
     "elapsed": 306,
     "user": {
      "displayName": "Julien Breton",
      "photoUrl": "https://lh3.googleusercontent.com/a-/AOh14GhEmgLD2_E5E4xeu8wuHzMHxcUN3VPggzaB1wy74A=s64",
      "userId": "02331780257374555700"
     }
    }
   },
   "id": "RoS8voONGr5r",
   "execution_count": 40,
   "outputs": []
  },
  {
   "cell_type": "markdown",
   "metadata": {
    "id": "641929d8"
   },
   "source": [
    "### Calcule des métriques d'évaluation"
   ],
   "id": "641929d8"
  },
  {
   "cell_type": "code",
   "execution_count": 41,
   "metadata": {
    "id": "6144a0db",
    "executionInfo": {
     "status": "ok",
     "timestamp": 1643184201675,
     "user_tz": -60,
     "elapsed": 3,
     "user": {
      "displayName": "Julien Breton",
      "photoUrl": "https://lh3.googleusercontent.com/a-/AOh14GhEmgLD2_E5E4xeu8wuHzMHxcUN3VPggzaB1wy74A=s64",
      "userId": "02331780257374555700"
     }
    }
   },
   "outputs": [],
   "source": [
    "import torch.nn.functional as F\n",
    "import torch\n",
    "\n",
    "classes_trial_tensor = torch.tensor(classes_trial)\n",
    "electra_trial_tensor = torch.tensor(electra_trial)"
   ],
   "id": "6144a0db"
  },
  {
   "cell_type": "code",
   "execution_count": 42,
   "metadata": {
    "id": "89083a05",
    "executionInfo": {
     "status": "ok",
     "timestamp": 1643184201932,
     "user_tz": -60,
     "elapsed": 260,
     "user": {
      "displayName": "Julien Breton",
      "photoUrl": "https://lh3.googleusercontent.com/a-/AOh14GhEmgLD2_E5E4xeu8wuHzMHxcUN3VPggzaB1wy74A=s64",
      "userId": "02331780257374555700"
     }
    }
   },
   "outputs": [],
   "source": [
    "cos_sim = F.cosine_similarity(classes_trial_tensor, electra_trial_tensor).mean().item()"
   ],
   "id": "89083a05"
  },
  {
   "cell_type": "code",
   "execution_count": 43,
   "metadata": {
    "id": "4c5613a8",
    "executionInfo": {
     "status": "ok",
     "timestamp": 1643184201933,
     "user_tz": -60,
     "elapsed": 7,
     "user": {
      "displayName": "Julien Breton",
      "photoUrl": "https://lh3.googleusercontent.com/a-/AOh14GhEmgLD2_E5E4xeu8wuHzMHxcUN3VPggzaB1wy74A=s64",
      "userId": "02331780257374555700"
     }
    },
    "colab": {
     "base_uri": "https://localhost:8080/"
    },
    "outputId": "a640f6a0-3f55-49cb-faf2-cb89999d407a"
   },
   "outputs": [
    {
     "output_type": "stream",
     "name": "stdout",
     "text": [
      "0.27848565578460693\n"
     ]
    }
   ],
   "source": [
    "print(cos_sim)"
   ],
   "id": "4c5613a8"
  },
  {
   "cell_type": "code",
   "execution_count": 44,
   "metadata": {
    "id": "d83108cb",
    "executionInfo": {
     "status": "ok",
     "timestamp": 1643184201933,
     "user_tz": -60,
     "elapsed": 6,
     "user": {
      "displayName": "Julien Breton",
      "photoUrl": "https://lh3.googleusercontent.com/a-/AOh14GhEmgLD2_E5E4xeu8wuHzMHxcUN3VPggzaB1wy74A=s64",
      "userId": "02331780257374555700"
     }
    }
   },
   "outputs": [],
   "source": [
    "mse = F.mse_loss(classes_trial_tensor, electra_trial_tensor).item()"
   ],
   "id": "d83108cb"
  },
  {
   "cell_type": "code",
   "execution_count": 45,
   "metadata": {
    "id": "528b2191",
    "executionInfo": {
     "status": "ok",
     "timestamp": 1643184201933,
     "user_tz": -60,
     "elapsed": 6,
     "user": {
      "displayName": "Julien Breton",
      "photoUrl": "https://lh3.googleusercontent.com/a-/AOh14GhEmgLD2_E5E4xeu8wuHzMHxcUN3VPggzaB1wy74A=s64",
      "userId": "02331780257374555700"
     }
    },
    "colab": {
     "base_uri": "https://localhost:8080/"
    },
    "outputId": "2500f6fe-cc08-4f13-8ca7-4a9194902102"
   },
   "outputs": [
    {
     "output_type": "stream",
     "name": "stdout",
     "text": [
      "1.6444123983383179\n"
     ]
    }
   ],
   "source": [
    "print(mse)"
   ],
   "id": "528b2191"
  },
  {
   "cell_type": "code",
   "execution_count": 46,
   "metadata": {
    "id": "b29a01ac",
    "executionInfo": {
     "status": "ok",
     "timestamp": 1643184201933,
     "user_tz": -60,
     "elapsed": 5,
     "user": {
      "displayName": "Julien Breton",
      "photoUrl": "https://lh3.googleusercontent.com/a-/AOh14GhEmgLD2_E5E4xeu8wuHzMHxcUN3VPggzaB1wy74A=s64",
      "userId": "02331780257374555700"
     }
    }
   },
   "outputs": [],
   "source": [
    "# fonction prise du code de la baseline.\n",
    "def rank_cosine(preds, targets):\n",
    "    unique_targets = targets.unique(dim=0)\n",
    "    all_assocs = preds @ F.normalize(targets).T\n",
    "    unique_assocs = preds @ F.normalize(unique_targets).T\n",
    "    refs = torch.diagonal(all_assocs, 0).unsqueeze(1)\n",
    "    ranks = (unique_assocs >= refs).sum(1).float().mean().item()\n",
    "    return ranks / unique_targets.size(0)"
   ],
   "id": "b29a01ac"
  },
  {
   "cell_type": "code",
   "execution_count": 47,
   "metadata": {
    "id": "e4c527f9",
    "executionInfo": {
     "status": "ok",
     "timestamp": 1643184201934,
     "user_tz": -60,
     "elapsed": 5,
     "user": {
      "displayName": "Julien Breton",
      "photoUrl": "https://lh3.googleusercontent.com/a-/AOh14GhEmgLD2_E5E4xeu8wuHzMHxcUN3VPggzaB1wy74A=s64",
      "userId": "02331780257374555700"
     }
    }
   },
   "outputs": [],
   "source": [
    "rnk = rank_cosine(classes_trial_tensor, electra_trial_tensor)"
   ],
   "id": "e4c527f9"
  },
  {
   "cell_type": "code",
   "execution_count": 48,
   "metadata": {
    "id": "b816e4c2",
    "executionInfo": {
     "status": "ok",
     "timestamp": 1643184201934,
     "user_tz": -60,
     "elapsed": 5,
     "user": {
      "displayName": "Julien Breton",
      "photoUrl": "https://lh3.googleusercontent.com/a-/AOh14GhEmgLD2_E5E4xeu8wuHzMHxcUN3VPggzaB1wy74A=s64",
      "userId": "02331780257374555700"
     }
    },
    "colab": {
     "base_uri": "https://localhost:8080/"
    },
    "outputId": "1fc9ea48-7a4d-47fd-94ef-ee7222a595a5"
   },
   "outputs": [
    {
     "output_type": "stream",
     "name": "stdout",
     "text": [
      "0.5005778787124097\n"
     ]
    }
   ],
   "source": [
    "print(rnk)"
   ],
   "id": "b816e4c2"
  },
  {
   "cell_type": "markdown",
   "metadata": {
    "id": "7WUnc1xrlQw2"
   },
   "source": [
    "### Test du modèle sur les données de DEV\n"
   ],
   "id": "7WUnc1xrlQw2"
  },
  {
   "cell_type": "code",
   "source": [
    "scores = model.evaluate(glosses_dev, electra_dev, verbose=2)"
   ],
   "metadata": {
    "id": "OSQ9VCfyKo9p",
    "executionInfo": {
     "status": "ok",
     "timestamp": 1643184215184,
     "user_tz": -60,
     "elapsed": 13037,
     "user": {
      "displayName": "Julien Breton",
      "photoUrl": "https://lh3.googleusercontent.com/a-/AOh14GhEmgLD2_E5E4xeu8wuHzMHxcUN3VPggzaB1wy74A=s64",
      "userId": "02331780257374555700"
     }
    },
    "colab": {
     "base_uri": "https://localhost:8080/"
    },
    "outputId": "7e929153-cd34-439c-b429-008cc3c44f8c"
   },
   "id": "OSQ9VCfyKo9p",
   "execution_count": 49,
   "outputs": [
    {
     "output_type": "stream",
     "name": "stdout",
     "text": [
      "200/200 - 6s - loss: 1.0190 - accuracy: 0.0121 - 6s/epoch - 32ms/step\n"
     ]
    }
   ]
  },
  {
   "cell_type": "code",
   "source": [
    "classes_dev = model.predict(glosses_dev, batch_size=32)"
   ],
   "metadata": {
    "id": "-hUJYloJKztO",
    "executionInfo": {
     "status": "ok",
     "timestamp": 1643184221407,
     "user_tz": -60,
     "elapsed": 6233,
     "user": {
      "displayName": "Julien Breton",
      "photoUrl": "https://lh3.googleusercontent.com/a-/AOh14GhEmgLD2_E5E4xeu8wuHzMHxcUN3VPggzaB1wy74A=s64",
      "userId": "02331780257374555700"
     }
    }
   },
   "id": "-hUJYloJKztO",
   "execution_count": 50,
   "outputs": []
  },
  {
   "cell_type": "code",
   "source": [
    "print(len(classes_dev))"
   ],
   "metadata": {
    "id": "OdscNkpSK5wF",
    "executionInfo": {
     "status": "ok",
     "timestamp": 1643184221407,
     "user_tz": -60,
     "elapsed": 14,
     "user": {
      "displayName": "Julien Breton",
      "photoUrl": "https://lh3.googleusercontent.com/a-/AOh14GhEmgLD2_E5E4xeu8wuHzMHxcUN3VPggzaB1wy74A=s64",
      "userId": "02331780257374555700"
     }
    },
    "colab": {
     "base_uri": "https://localhost:8080/"
    },
    "outputId": "7c254f3e-96c7-4c68-d0e9-9ad82e4cd7ad"
   },
   "id": "OdscNkpSK5wF",
   "execution_count": 51,
   "outputs": [
    {
     "output_type": "stream",
     "name": "stdout",
     "text": [
      "6375\n"
     ]
    }
   ]
  },
  {
   "cell_type": "code",
   "source": [
    "print(len(classes_dev[0]))"
   ],
   "metadata": {
    "id": "NWFlBTTbLBqS",
    "executionInfo": {
     "status": "ok",
     "timestamp": 1643184221407,
     "user_tz": -60,
     "elapsed": 11,
     "user": {
      "displayName": "Julien Breton",
      "photoUrl": "https://lh3.googleusercontent.com/a-/AOh14GhEmgLD2_E5E4xeu8wuHzMHxcUN3VPggzaB1wy74A=s64",
      "userId": "02331780257374555700"
     }
    },
    "colab": {
     "base_uri": "https://localhost:8080/"
    },
    "outputId": "f832467a-0a38-4c31-d33c-5beb993a3c64"
   },
   "id": "NWFlBTTbLBqS",
   "execution_count": 52,
   "outputs": [
    {
     "output_type": "stream",
     "name": "stdout",
     "text": [
      "256\n"
     ]
    }
   ]
  },
  {
   "cell_type": "code",
   "source": [
    "results_dev = []\n",
    "\n",
    "prefix_id = \"fr.revdict.\"\n",
    "i = 0\n",
    "for g in glosses_dev :\n",
    "  sample = {}\n",
    "  id = prefix_id + str(i)\n",
    "  sample[\"id\"] = id\n",
    "  sample[\"gloss\"] = g\n",
    "  sample[\"electra\"] = classes_dev[glosses_dev.index(g)]\n",
    "  results_dev.append(sample)\n",
    "  i+=1\n",
    "\n",
    "print(\"taille du résultat : \", len(results_dev))\n",
    "print(\"vecteur dev ---> prédiction\")\n",
    "for v in electra_dev[0] :\n",
    "  print(v, \" ---> \", results_dev[0][\"electra\"][list(electra_dev[0]).index(v)])"
   ],
   "metadata": {
    "id": "zJjXbeUiLJ4V",
    "executionInfo": {
     "status": "ok",
     "timestamp": 1643184221735,
     "user_tz": -60,
     "elapsed": 338,
     "user": {
      "displayName": "Julien Breton",
      "photoUrl": "https://lh3.googleusercontent.com/a-/AOh14GhEmgLD2_E5E4xeu8wuHzMHxcUN3VPggzaB1wy74A=s64",
      "userId": "02331780257374555700"
     }
    },
    "colab": {
     "base_uri": "https://localhost:8080/"
    },
    "outputId": "a11a551f-c03b-4d25-f076-c2e4081a91e2"
   },
   "id": "zJjXbeUiLJ4V",
   "execution_count": 53,
   "outputs": [
    {
     "output_type": "stream",
     "name": "stdout",
     "text": [
      "taille du résultat :  6375\n",
      "vecteur dev ---> prédiction\n",
      "-0.5418303013  --->  -0.0511041\n",
      "0.5813987851  --->  0.45062\n",
      "-2.0320107937  --->  -0.38477474\n",
      "-0.353790462  --->  -0.16360968\n",
      "-1.0130099058  --->  0.013098855\n",
      "0.1667178869  --->  -0.07511786\n",
      "0.0360248536  --->  -0.14198709\n",
      "1.0941892862  --->  0.0009245416\n",
      "-0.3813807964  --->  0.036763232\n",
      "-1.2325309515  --->  -0.17469871\n",
      "0.1763851941  --->  0.06842947\n",
      "-0.8511576056  --->  0.044439193\n",
      "-0.9493985176  --->  -0.052377813\n",
      "0.6578093767  --->  -0.31669855\n",
      "-0.7785646319  --->  -0.10088621\n",
      "-0.8909291029  --->  -0.25310344\n",
      "0.5563750267  --->  -0.0723949\n",
      "-0.7335219979  --->  -0.013035178\n",
      "-0.2642700374  --->  0.12590769\n",
      "-0.0613305867  --->  0.08885661\n",
      "0.5214551091  --->  0.16749646\n",
      "0.464863956  --->  -0.47296047\n",
      "1.4851927757  --->  -0.16693643\n",
      "-0.239101544  --->  0.15481846\n",
      "-1.6091549397  --->  -0.2901123\n",
      "1.5954988003  --->  -0.19605866\n",
      "-0.8862138987  --->  -0.0171621\n",
      "-0.0758815333  --->  0.23307446\n",
      "-0.0415019952  --->  0.4172031\n",
      "-0.4607511163  --->  0.120911345\n",
      "-0.4906652868  --->  0.053311948\n",
      "-0.8085150719  --->  -0.15619664\n",
      "1.9593144655  --->  -0.3562857\n",
      "-1.7141416073  --->  0.036542386\n",
      "-0.8566057682  --->  -0.011668387\n",
      "-1.6887542009  --->  -0.62849116\n",
      "0.9557244182  --->  0.09052537\n",
      "0.6099737883  --->  0.24149269\n",
      "-1.1014755964  --->  0.12119554\n",
      "1.0475901365  --->  0.21517563\n",
      "0.4881281853  --->  0.12899631\n",
      "0.5639202595  --->  0.24957067\n",
      "0.0295849741  --->  0.17329618\n",
      "0.1632556915  --->  0.11751799\n",
      "-0.4006912708  --->  0.26538074\n",
      "1.1586521864  --->  0.23039564\n",
      "-0.4912595153  --->  0.24245723\n",
      "0.1223742366  --->  -0.09041322\n",
      "1.4789350033  --->  0.33071396\n",
      "-0.0293931775  --->  -0.37771288\n",
      "-0.4536767006  --->  0.01189594\n",
      "0.7364378572  --->  -0.049963776\n",
      "-0.6125731468  --->  -0.14609322\n",
      "1.6666922569  --->  0.32483703\n",
      "0.0698005334  --->  -0.21552664\n",
      "-0.412420541  --->  -0.39919332\n",
      "-0.4912391305  --->  -0.19775021\n",
      "0.2194914371  --->  0.03090283\n",
      "0.1516357511  --->  -0.07975117\n",
      "-1.1641982794  --->  -0.58843\n",
      "0.324627459  --->  0.4063675\n",
      "0.2479319423  --->  0.28043023\n",
      "0.0511754528  --->  -0.034535788\n",
      "0.8156157136  --->  -0.15299958\n",
      "0.0382522382  --->  0.34280258\n",
      "0.4753277302  --->  0.101036854\n",
      "0.446110189  --->  -0.20993155\n",
      "-1.112387538  --->  -0.399539\n",
      "-0.4942440987  --->  -0.4205764\n",
      "0.7526099086  --->  0.058948506\n",
      "-0.885376513  --->  0.1992528\n",
      "0.5664672256  --->  -0.1761072\n",
      "-0.3378424346  --->  0.060680963\n",
      "-0.2756738067  --->  -0.06113449\n",
      "1.1385304928  --->  0.015384994\n",
      "0.8223782182  --->  -0.031928893\n",
      "-0.0402241684  --->  0.27906868\n",
      "-0.3740780354  --->  -0.051525943\n",
      "0.3964509964  --->  0.06558088\n",
      "0.234428972  --->  0.23054469\n",
      "0.2257497907  --->  -0.3496161\n",
      "-0.4057965279  --->  0.06854655\n",
      "0.506052494  --->  0.02422674\n",
      "-0.5613259077  --->  0.12727374\n",
      "0.5010089278  --->  0.5154788\n",
      "-0.1032138392  --->  0.09179986\n",
      "1.421102047  --->  0.3896833\n",
      "0.7341550589  --->  0.11582207\n",
      "-0.0220302623  --->  -0.021108426\n",
      "0.2186766714  --->  0.24291176\n",
      "0.2304655313  --->  0.2948637\n",
      "-0.0477538519  --->  -0.2725614\n",
      "0.2541942596  --->  -0.089820534\n",
      "-0.8924970031  --->  -0.08958928\n",
      "-0.243236348  --->  -0.10950737\n",
      "-1.9377955198  --->  0.3676929\n",
      "-0.9016214013  --->  -0.049454603\n",
      "0.2111504227  --->  0.28012773\n",
      "1.5488212109  --->  0.037625138\n",
      "-0.5756720304  --->  -0.22287378\n",
      "1.0600136518  --->  -0.034127794\n",
      "1.3761137724  --->  0.5432962\n",
      "0.2669917643  --->  0.22660467\n",
      "-0.6214586496  --->  -0.19185105\n",
      "-0.6434172988  --->  -0.043414988\n",
      "0.5244597793  --->  0.46033442\n",
      "-0.1046586558  --->  0.013371918\n",
      "-0.4816827178  --->  0.13413437\n",
      "-0.4508918524  --->  -0.23960257\n",
      "1.1429846287  --->  0.45581377\n",
      "0.4650914073  --->  -0.044035472\n",
      "1.009139061  --->  0.3136046\n",
      "0.9478020072  --->  0.11787825\n",
      "0.3114414811  --->  -0.044347614\n",
      "1.2160791159  --->  0.6560102\n",
      "0.0813285485  --->  0.097868204\n",
      "-0.6774154305  --->  0.0009972099\n",
      "-0.2183600068  --->  0.2760898\n",
      "-0.4469203949  --->  -0.030229166\n",
      "-0.4173524678  --->  -0.11554995\n",
      "0.2205895931  --->  0.25665057\n",
      "-0.2805595994  --->  -0.07497245\n",
      "0.2114941925  --->  -0.2489827\n",
      "0.9527682066  --->  -0.3989528\n",
      "0.7454583049  --->  0.16356795\n",
      "-0.6555380225  --->  -0.18110898\n",
      "0.2339904457  --->  -0.24701709\n",
      "-1.0225112438  --->  -0.30683848\n",
      "1.1343940496  --->  0.16671166\n",
      "1.4078066349  --->  -0.15680009\n",
      "0.2075652778  --->  0.1051801\n",
      "-0.4309833646  --->  -0.107029885\n",
      "0.3889966011  --->  0.014108531\n",
      "-0.1839740872  --->  -0.038769893\n",
      "-0.4547634125  --->  -0.19676825\n",
      "-0.4590007067  --->  -0.0665949\n",
      "-0.1531105787  --->  0.12535441\n",
      "0.4279446304  --->  -0.30839586\n",
      "-0.0031774112  --->  0.4513519\n",
      "1.0797489882  --->  -0.34495595\n",
      "-0.3703912795  --->  0.14220953\n",
      "0.0373055153  --->  -0.2443906\n",
      "-0.4285933077  --->  0.4015483\n",
      "-0.2968671024  --->  -0.38961506\n",
      "-0.4473340213  --->  -0.022952814\n",
      "-0.0211734083  --->  -0.13671815\n",
      "-0.144068107  --->  -0.17988014\n",
      "0.6562575102  --->  -0.06977543\n",
      "0.1985038817  --->  -0.28169423\n",
      "-0.6012791991  --->  -0.16988987\n",
      "-0.1916917115  --->  0.014455806\n",
      "-0.5912652612  --->  0.011547783\n",
      "0.547111094  --->  -0.025409756\n",
      "-0.4905831218  --->  -0.38349593\n",
      "0.1624892056  --->  -0.51728344\n",
      "-0.3074290752  --->  -0.0456049\n",
      "0.131509304  --->  0.30430615\n",
      "-1.0043932199  --->  -0.12939158\n",
      "-0.3965057433  --->  -0.07360268\n",
      "0.2344465852  --->  0.054111883\n",
      "-0.3542026579  --->  -0.0484014\n",
      "-0.2396874577  --->  -0.40296417\n",
      "0.366432488  --->  0.13147584\n",
      "-0.0609376915  --->  0.18129039\n",
      "-0.422533989  --->  -0.46064305\n",
      "-0.706451416  --->  -0.44608057\n",
      "0.621528089  --->  0.13560313\n",
      "1.4332584143  --->  -0.07243886\n",
      "0.5805236697  --->  0.034742344\n",
      "-1.3350477219  --->  -0.41255236\n",
      "-0.9059012532  --->  -0.117260806\n",
      "0.4297927916  --->  -0.11384928\n",
      "-0.2554378808  --->  -0.24809523\n",
      "0.4385304153  --->  0.1640118\n",
      "0.6253423095  --->  0.2509358\n",
      "1.1960712671  --->  -0.025795873\n",
      "1.1922574043  --->  0.02256038\n",
      "0.7495046258  --->  -0.095833555\n",
      "-1.4167330265  --->  0.10067622\n",
      "1.0282994509  --->  0.2127729\n",
      "0.0889332667  --->  -0.040692084\n",
      "0.6835785508  --->  0.06331033\n",
      "-0.2535631359  --->  -0.1376364\n",
      "-0.2117244899  --->  -0.5438522\n",
      "0.6477595568  --->  -0.078767195\n",
      "0.5701510906  --->  0.21065639\n",
      "1.0694452524  --->  0.23764628\n",
      "0.1803384423  --->  0.1985822\n",
      "-0.6693376899  --->  -0.29204908\n",
      "-1.3356939554  --->  -0.34212866\n",
      "0.0984256491  --->  -0.073449254\n",
      "-0.4452537298  --->  -0.32155582\n",
      "0.7127286792  --->  -0.21018414\n",
      "-0.4638145566  --->  0.15367635\n",
      "0.0285806693  --->  0.24545148\n",
      "-0.8080939651  --->  -0.22415057\n",
      "0.3847393394  --->  -0.22008067\n",
      "-0.2970576584  --->  -0.114356995\n",
      "-0.3176809251  --->  0.29530862\n",
      "-0.1207288429  --->  0.28761828\n",
      "-0.1743535995  --->  0.51968205\n",
      "0.7622294426  --->  0.062395502\n",
      "0.4067234397  --->  -0.13659362\n",
      "0.3414399326  --->  0.20723024\n",
      "-0.3224461973  --->  -0.29469353\n",
      "-0.2621773481  --->  -0.4459102\n",
      "-0.529206574  --->  0.069291905\n",
      "0.1872853935  --->  -0.11342934\n",
      "0.2099580318  --->  0.26841187\n",
      "-1.0102280378  --->  -0.11290838\n",
      "0.203862384  --->  0.12795955\n",
      "0.7477769256  --->  0.0093599595\n",
      "-1.2307339907  --->  -0.6305388\n",
      "-0.372053951  --->  -0.13972558\n",
      "-1.3004134893  --->  -0.15218844\n",
      "0.1771875173  --->  -0.06333648\n",
      "0.713506937  --->  -0.14527142\n",
      "0.4686601758  --->  -0.40395302\n",
      "0.5408880115  --->  0.19778451\n",
      "0.2426976264  --->  -0.16671582\n",
      "-0.2085636258  --->  -0.10264946\n",
      "0.6221107841  --->  0.024277173\n",
      "1.1989439726  --->  0.30158803\n",
      "0.0081516998  --->  0.021424355\n",
      "0.1273314059  --->  -0.3331036\n",
      "0.2821051776  --->  0.07010107\n",
      "-0.0599042103  --->  -0.3403949\n",
      "-0.6005468965  --->  0.096428834\n",
      "-0.7339197397  --->  -0.21772662\n",
      "0.1280556619  --->  -0.2716769\n",
      "-0.9020521045  --->  0.32541534\n",
      "-0.765794158  --->  -0.09981808\n",
      "1.0711443424  --->  0.065037236\n",
      "0.3837234974  --->  -0.09057288\n",
      "-1.2389858961  --->  -0.2138207\n",
      "0.1167527139  --->  0.3703125\n",
      "1.2398104668  --->  0.49568236\n",
      "0.5899994373  --->  -0.19883451\n",
      "-0.2059752047  --->  0.35573214\n",
      "-0.6750543118  --->  0.028371392\n",
      "-0.2789865732  --->  0.062295288\n",
      "-0.2980793715  --->  0.32432148\n",
      "-0.9938298464  --->  -0.26693138\n",
      "-0.7267237902  --->  -0.5698386\n",
      "-0.7883480191  --->  -0.22544728\n",
      "-1.1782597303  --->  0.14029008\n",
      "-0.3929854631  --->  0.26354855\n",
      "0.0665618703  --->  -0.5234541\n",
      "-0.8405610919  --->  -0.08722819\n",
      "-0.6098365784  --->  0.01575733\n",
      "0.0829916522  --->  -0.003923934\n",
      "0.0004100846  --->  0.27281463\n",
      "0.5976473093  --->  0.33000678\n",
      "-0.0853293762  --->  -0.23732764\n",
      "1.0647494793  --->  0.121959046\n",
      "0.2870424986  --->  0.19962284\n"
     ]
    }
   ]
  },
  {
   "cell_type": "code",
   "source": [
    "import pandas as pd\n",
    "pd.Series(results_dev).to_json(\"/content/drive/My Drive/Datasets/Data_semEval2022/Results/electra/\"+lang+\"_revdict_results_prediction_dev.json\", orient='values')"
   ],
   "metadata": {
    "id": "EXpOUKhlLfUr",
    "executionInfo": {
     "status": "ok",
     "timestamp": 1643184221973,
     "user_tz": -60,
     "elapsed": 4,
     "user": {
      "displayName": "Julien Breton",
      "photoUrl": "https://lh3.googleusercontent.com/a-/AOh14GhEmgLD2_E5E4xeu8wuHzMHxcUN3VPggzaB1wy74A=s64",
      "userId": "02331780257374555700"
     }
    }
   },
   "id": "EXpOUKhlLfUr",
   "execution_count": 54,
   "outputs": []
  },
  {
   "cell_type": "markdown",
   "source": [
    "\n",
    "### Test du modèle sur les données de TEST"
   ],
   "metadata": {
    "id": "SWYTwH8vn1-j"
   },
   "id": "SWYTwH8vn1-j"
  },
  {
   "cell_type": "code",
   "execution_count": 55,
   "metadata": {
    "id": "JJlejcV_oRfH",
    "executionInfo": {
     "status": "ok",
     "timestamp": 1643184222505,
     "user_tz": -60,
     "elapsed": 535,
     "user": {
      "displayName": "Julien Breton",
      "photoUrl": "https://lh3.googleusercontent.com/a-/AOh14GhEmgLD2_E5E4xeu8wuHzMHxcUN3VPggzaB1wy74A=s64",
      "userId": "02331780257374555700"
     }
    }
   },
   "outputs": [],
   "source": [
    "with open(\"/content/drive/My Drive/Datasets/Data_semEval2022/\"+ lang_data +\"/\"+ lang +\".test.revdict.json\", \"r\") as file_handler:\n",
    "    dataset_test = json.load(file_handler)"
   ],
   "id": "JJlejcV_oRfH"
  },
  {
   "cell_type": "code",
   "execution_count": 56,
   "metadata": {
    "id": "ltDVpDM6oRfO",
    "executionInfo": {
     "status": "ok",
     "timestamp": 1643184222506,
     "user_tz": -60,
     "elapsed": 4,
     "user": {
      "displayName": "Julien Breton",
      "photoUrl": "https://lh3.googleusercontent.com/a-/AOh14GhEmgLD2_E5E4xeu8wuHzMHxcUN3VPggzaB1wy74A=s64",
      "userId": "02331780257374555700"
     }
    }
   },
   "outputs": [],
   "source": [
    "glosses_test = []\n",
    "for e in dataset_test :\n",
    "    glosses_test.append(e[\"gloss\"])"
   ],
   "id": "ltDVpDM6oRfO"
  },
  {
   "cell_type": "code",
   "execution_count": 57,
   "metadata": {
    "id": "ggSf_l5SoRfX",
    "executionInfo": {
     "status": "ok",
     "timestamp": 1643184229545,
     "user_tz": -60,
     "elapsed": 7042,
     "user": {
      "displayName": "Julien Breton",
      "photoUrl": "https://lh3.googleusercontent.com/a-/AOh14GhEmgLD2_E5E4xeu8wuHzMHxcUN3VPggzaB1wy74A=s64",
      "userId": "02331780257374555700"
     }
    }
   },
   "outputs": [],
   "source": [
    "classes_test = model.predict(glosses_test, batch_size=32)"
   ],
   "id": "ggSf_l5SoRfX"
  },
  {
   "cell_type": "code",
   "source": [
    "print(len(classes_test))"
   ],
   "metadata": {
    "id": "DIMy3nOOoRfa",
    "executionInfo": {
     "status": "ok",
     "timestamp": 1643184229546,
     "user_tz": -60,
     "elapsed": 21,
     "user": {
      "displayName": "Julien Breton",
      "photoUrl": "https://lh3.googleusercontent.com/a-/AOh14GhEmgLD2_E5E4xeu8wuHzMHxcUN3VPggzaB1wy74A=s64",
      "userId": "02331780257374555700"
     }
    },
    "colab": {
     "base_uri": "https://localhost:8080/"
    },
    "outputId": "095b2555-5733-4d02-87c0-cc22f8675e5e"
   },
   "execution_count": 58,
   "outputs": [
    {
     "output_type": "stream",
     "name": "stdout",
     "text": [
      "6208\n"
     ]
    }
   ],
   "id": "DIMy3nOOoRfa"
  },
  {
   "cell_type": "code",
   "source": [
    "print(len(classes_test[0]))"
   ],
   "metadata": {
    "id": "qQfXjwEopP81",
    "executionInfo": {
     "status": "ok",
     "timestamp": 1643184229546,
     "user_tz": -60,
     "elapsed": 16,
     "user": {
      "displayName": "Julien Breton",
      "photoUrl": "https://lh3.googleusercontent.com/a-/AOh14GhEmgLD2_E5E4xeu8wuHzMHxcUN3VPggzaB1wy74A=s64",
      "userId": "02331780257374555700"
     }
    },
    "colab": {
     "base_uri": "https://localhost:8080/"
    },
    "outputId": "6ebd1e1e-f995-4b0d-b0dc-e53e964230e5"
   },
   "execution_count": 59,
   "outputs": [
    {
     "output_type": "stream",
     "name": "stdout",
     "text": [
      "256\n"
     ]
    }
   ],
   "id": "qQfXjwEopP81"
  },
  {
   "cell_type": "code",
   "source": [
    "results_test = []\n",
    "\n",
    "prefix_id = lang+\".revdict.\"\n",
    "i = 1\n",
    "for g in glosses_test :\n",
    "  sample = {}\n",
    "  id = prefix_id + str(i)\n",
    "  sample[\"id\"] = id\n",
    "  sample[\"gloss\"] = g\n",
    "  sample[\"electra\"] = classes_test[glosses_test.index(g)]\n",
    "  results_test.append(sample)\n",
    "  i+=1\n",
    "\n",
    "print(\"taille du resultat : \", len(results_test))"
   ],
   "metadata": {
    "id": "eBQ5LtvhpP84",
    "executionInfo": {
     "status": "ok",
     "timestamp": 1643184229857,
     "user_tz": -60,
     "elapsed": 325,
     "user": {
      "displayName": "Julien Breton",
      "photoUrl": "https://lh3.googleusercontent.com/a-/AOh14GhEmgLD2_E5E4xeu8wuHzMHxcUN3VPggzaB1wy74A=s64",
      "userId": "02331780257374555700"
     }
    },
    "colab": {
     "base_uri": "https://localhost:8080/"
    },
    "outputId": "ba62c206-8207-4ded-a8c6-368243f17006"
   },
   "execution_count": 60,
   "outputs": [
    {
     "output_type": "stream",
     "name": "stdout",
     "text": [
      "taille du resultat :  6208\n"
     ]
    }
   ],
   "id": "eBQ5LtvhpP84"
  },
  {
   "cell_type": "code",
   "source": [
    "import pandas as pd\n",
    "pd.Series(results_test).to_json(\"/content/drive/My Drive/Datasets/Data_semEval2022/Results/electra/\"+lang+\"_revdict_results_prediction_test.json\", orient='values')"
   ],
   "metadata": {
    "id": "xK5Iu48KpynU",
    "executionInfo": {
     "status": "ok",
     "timestamp": 1643184230090,
     "user_tz": -60,
     "elapsed": 235,
     "user": {
      "displayName": "Julien Breton",
      "photoUrl": "https://lh3.googleusercontent.com/a-/AOh14GhEmgLD2_E5E4xeu8wuHzMHxcUN3VPggzaB1wy74A=s64",
      "userId": "02331780257374555700"
     }
    }
   },
   "execution_count": 61,
   "outputs": [],
   "id": "xK5Iu48KpynU"
  }
 ],
 "metadata": {
  "accelerator": "GPU",
  "colab": {
   "name": "SGNS_Revdict_Achitecture_tensorflow.ipynb",
   "provenance": [
    {
     "file_id": "1LtIyiMOrgU3QcN1OmVoF3YNGdCJcvyQC",
     "timestamp": 1643013141714
    }
   ],
   "collapsed_sections": [
    "3a64ca10",
    "185fe5e0",
    "641929d8",
    "7WUnc1xrlQw2"
   ]
  },
  "kernelspec": {
   "display_name": "Python 3 (ipykernel)",
   "language": "python",
   "name": "python3"
  },
  "language_info": {
   "codemirror_mode": {
    "name": "ipython",
    "version": 3
   },
   "file_extension": ".py",
   "mimetype": "text/x-python",
   "name": "python",
   "nbconvert_exporter": "python",
   "pygments_lexer": "ipython3",
   "version": "3.9.7"
  }
 },
 "nbformat": 4,
 "nbformat_minor": 5
}