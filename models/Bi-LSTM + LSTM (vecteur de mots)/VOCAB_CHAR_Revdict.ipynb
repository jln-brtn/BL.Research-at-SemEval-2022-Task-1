{
  "cells": [
    {
      "cell_type": "code",
      "execution_count": 1,
      "metadata": {
        "id": "06f22756"
      },
      "outputs": [],
      "source": [
        "import json\n",
        "from tensorflow.keras.models import Sequential\n",
        "from tensorflow.keras import Input\n",
        "from tensorflow.keras.layers.experimental.preprocessing import TextVectorization\n",
        "from tensorflow.keras.layers import LSTM, Embedding, Dense, TimeDistributed, Dropout, Bidirectional, Flatten\n",
        "import numpy as np\n",
        "import pandas as pd\n",
        "from sklearn.feature_extraction.text import TfidfVectorizer\n",
        "from sklearn.feature_extraction.text import TfidfTransformer\n",
        "from tensorflow import keras"
      ],
      "id": "06f22756"
    },
    {
      "cell_type": "code",
      "execution_count": 2,
      "metadata": {
        "colab": {
          "base_uri": "https://localhost:8080/"
        },
        "id": "z_XEPOjNYhqK",
        "outputId": "97de43e7-38b8-4b7e-d3ee-921dc9ec6945"
      },
      "outputs": [
        {
          "output_type": "stream",
          "name": "stdout",
          "text": [
            "Mounted at /content/drive\n"
          ]
        }
      ],
      "source": [
        "from google.colab import drive\n",
        "drive.mount('/content/drive')"
      ],
      "id": "z_XEPOjNYhqK"
    },
    {
      "cell_type": "markdown",
      "metadata": {
        "id": "0eae8dac"
      },
      "source": [
        "### Chargement des données"
      ],
      "id": "0eae8dac"
    },
    {
      "cell_type": "code",
      "execution_count": 60,
      "metadata": {
        "id": "2c211d43"
      },
      "outputs": [],
      "source": [
        "import os\n",
        "\n",
        "with open(\"/content/drive/My Drive/colab/Datasets/Data_semEval2022/It_data/it.train.json\", \"r\") as file_handler:\n",
        "    dataset = json.load(file_handler)"
      ],
      "id": "2c211d43"
    },
    {
      "cell_type": "code",
      "execution_count": 61,
      "metadata": {
        "id": "c2101cf4"
      },
      "outputs": [],
      "source": [
        "with open(\"/content/drive/My Drive/colab/Datasets/Data_semEval2022/It_data/it.dev.json\", \"r\") as file_handler:\n",
        "    dataset_dev = json.load(file_handler)"
      ],
      "id": "c2101cf4"
    },
    {
      "cell_type": "code",
      "execution_count": 62,
      "metadata": {
        "id": "e90cd2cd"
      },
      "outputs": [],
      "source": [
        "char_target = [i['char'] for i in dataset]\n",
        "glosses = [i['gloss'] for i in dataset]"
      ],
      "id": "e90cd2cd"
    },
    {
      "cell_type": "code",
      "execution_count": 63,
      "metadata": {
        "id": "78d48134"
      },
      "outputs": [],
      "source": [
        "char_dev = [i['char'] for i in dataset_dev]\n",
        "glosses_dev = [i['gloss'] for i in dataset_dev]"
      ],
      "id": "78d48134"
    },
    {
      "cell_type": "code",
      "execution_count": 64,
      "metadata": {
        "colab": {
          "base_uri": "https://localhost:8080/"
        },
        "id": "993c2dcc",
        "outputId": "88426613-73c6-42c1-b3df-246446e20922"
      },
      "outputs": [
        {
          "output_type": "stream",
          "name": "stdout",
          "text": [
            "6375\n"
          ]
        }
      ],
      "source": [
        "print(len(glosses_dev))"
      ],
      "id": "993c2dcc"
    },
    {
      "cell_type": "code",
      "execution_count": 9,
      "metadata": {
        "colab": {
          "base_uri": "https://localhost:8080/"
        },
        "id": "etS_pwT_Fi5J",
        "outputId": "491923cb-a095-49a7-aaed-300d8544ed01"
      },
      "outputs": [
        {
          "output_type": "stream",
          "name": "stdout",
          "text": [
            "Num GPUs Available:  1\n"
          ]
        }
      ],
      "source": [
        "import tensorflow as tf\n",
        "print(\"Num GPUs Available: \", len(tf.config.list_physical_devices('GPU')))"
      ],
      "id": "etS_pwT_Fi5J"
    },
    {
      "cell_type": "markdown",
      "metadata": {
        "id": "6e93118c"
      },
      "source": [
        "### Préparation des données"
      ],
      "id": "6e93118c"
    },
    {
      "cell_type": "markdown",
      "source": [
        "### Preparing data for char embedding"
      ],
      "metadata": {
        "id": "puGXPe7YjJp6"
      },
      "id": "puGXPe7YjJp6"
    },
    {
      "cell_type": "code",
      "source": [
        "import nltk\n",
        "nltk.download('punkt')\n",
        "from nltk.tokenize import word_tokenize \n",
        "\n",
        "# creates mapping of unique characters to integers\n",
        "chars_train = []\n",
        "#print(chars)\n",
        "\n",
        "idx = 0\n",
        "char_to_int = dict()\n",
        "int_to_char = dict()\n",
        "\n",
        "for gloss in glosses:\n",
        "  chars_gloss = []\n",
        "  for word in word_tokenize(gloss) :\n",
        "    chars = list(word)\n",
        "    chars_gloss.extend(chars)\n",
        "    for char in chars : \n",
        "      if char not in char_to_int : \n",
        "        char_to_int[char] = idx\n",
        "        int_to_char[idx] = char\n",
        "        idx+=1\n",
        "  chars_train.append(chars_gloss)\n",
        "\n",
        "\n",
        "\n",
        "print(\"The number of total characters are\", len(list(char_to_int.keys())))\n"
      ],
      "metadata": {
        "colab": {
          "base_uri": "https://localhost:8080/"
        },
        "id": "K1mZMlPO_Gms",
        "outputId": "28bfa530-db16-40dc-b89c-5ce2ffecb578"
      },
      "id": "K1mZMlPO_Gms",
      "execution_count": 65,
      "outputs": [
        {
          "output_type": "stream",
          "name": "stdout",
          "text": [
            "[nltk_data] Downloading package punkt to /root/nltk_data...\n",
            "[nltk_data]   Package punkt is already up-to-date!\n",
            "The number of total characters are 162\n"
          ]
        }
      ]
    },
    {
      "cell_type": "code",
      "source": [
        "print(list(char_to_int.keys()))"
      ],
      "metadata": {
        "colab": {
          "base_uri": "https://localhost:8080/"
        },
        "id": "dcgGSg8FR-0f",
        "outputId": "47752dbe-6bfe-4179-97a4-170f8929fc39"
      },
      "id": "dcgGSg8FR-0f",
      "execution_count": 66,
      "outputs": [
        {
          "output_type": "stream",
          "name": "stdout",
          "text": [
            "['c', 'h', 'i', 'e', 'd', 'l', 'o', 'f', 'r', 't', 'a', 'v', '(', 's', ')', 'm', 'u', 'b', 'n', 'p', 'z', \"'\", '.', 'è', 'ù', 'g', 'q', ',', 'H', 'F', 'à', 'S', ';', 'G', 'é', 'R', '1', '7', '9', '3', '-', '4', 'ò', ':', 'T', 'A', 'N', 'L', 'U', '/', '€', '5', 'ì', 'D', '`', 'È', 'k', 'X', 'I', 'C', 'w', 'x', 'î', 'P', 'M', '6', '2', '0', 'K', '8', 'y', 'J', 'B', 'E', '[', ']', 'j', 'V', '*', 'Ε', 'ε', 'O', '+', '{', '|', '=', '#', '!', '}', '−', 'Z', 'Κ', 'κ', '͵', '%', 'W', '<', '>', 'Y', '_', '·', 'Q', 'ú', 'Ο', 'ο', 'π', 'Π', '→', '?', '&', 'ō', '°', 'á', '\\\\', 'Θ', 'θ', 'ó', '×', 'Ω', 'ω', 'Φ', 'φ', 'º', '^', 'Å', '¯', 'í', '—', 'û', 'Χ', 'μ', 'ö', 'â', 'ā', '∇', 'Ψ', 'ψ', 'ê', 'õ', 'Ξ', 'ξ', 'Σ', 'σ', 'ς', 'É', 'ʿ', 'ī', 'ç', 'ü', 'β', 'Υ', 'υ', 'Ü', 'Ρ', 'ρ', 'Α', 'α', 'τ', 'ι', 'λ', 'ή', '‘']\n"
          ]
        }
      ]
    },
    {
      "cell_type": "code",
      "source": [
        "print(chars_train[1])"
      ],
      "metadata": {
        "colab": {
          "base_uri": "https://localhost:8080/"
        },
        "id": "Fa0duZfp9h5F",
        "outputId": "93dcda9e-c8bd-45ad-deb2-81d008cd4c10"
      },
      "id": "Fa0duZfp9h5F",
      "execution_count": 67,
      "outputs": [
        {
          "output_type": "stream",
          "name": "stdout",
          "text": [
            "['(', 'f', 'i', 's', 'i', 'c', 'a', ')', 'm', 'e', 't', 'r', 'o', 'c', 'u', 'b', 'o']\n"
          ]
        }
      ]
    },
    {
      "cell_type": "code",
      "execution_count": 70,
      "metadata": {
        "id": "0f44ec59"
      },
      "outputs": [],
      "source": [
        "#max_tokens = len(list(lemm2Idx))\n",
        "#print(max_tokens)\n",
        "#max_tokens_ = len(list(lemm2Idx))\n",
        "\n",
        "#max_tokens_dev = len(lemm2Idx_dev)\n",
        "\n",
        "vectorize_layer = TextVectorization(\n",
        "    # Max vocab size. Any words outside of the max_tokens most common ones\n",
        "    # will be treated the same way: as \"out of vocabulary\" (OOV) tokens.\n",
        "    max_tokens=164,\n",
        "    # Output integer indices, one per string token\n",
        "    output_mode=\"int\",\n",
        "    # Always pad or truncate to exactly this many tokens\n",
        "    output_sequence_length=300\n",
        ")"
      ],
      "id": "0f44ec59"
    },
    {
      "cell_type": "code",
      "source": [
        "vectorize_layer.set_vocabulary(list(char_to_int.keys()))"
      ],
      "metadata": {
        "id": "XTOjM8RIp2s1"
      },
      "id": "XTOjM8RIp2s1",
      "execution_count": 71,
      "outputs": []
    },
    {
      "cell_type": "code",
      "source": [
        "vectorize_layer.get_vocabulary()"
      ],
      "metadata": {
        "colab": {
          "base_uri": "https://localhost:8080/"
        },
        "id": "DsKBxYWNrv-C",
        "outputId": "a4ecec77-84bd-4b17-b0cc-85f67f4dd9aa"
      },
      "id": "DsKBxYWNrv-C",
      "execution_count": 16,
      "outputs": [
        {
          "output_type": "execute_result",
          "data": {
            "text/plain": [
              "['',\n",
              " '[UNK]',\n",
              " 'A',\n",
              " 'b',\n",
              " 'l',\n",
              " 'e',\n",
              " 'm',\n",
              " 'i',\n",
              " 's',\n",
              " 'h',\n",
              " '.',\n",
              " 'v',\n",
              " 'o',\n",
              " 'c',\n",
              " 'a',\n",
              " 'g',\n",
              " 'n',\n",
              " 'r',\n",
              " 'H',\n",
              " 'd',\n",
              " 'u',\n",
              " 't',\n",
              " ',',\n",
              " 'p',\n",
              " 'y',\n",
              " 'f',\n",
              " 'w',\n",
              " 'T',\n",
              " ';',\n",
              " 'M',\n",
              " 'j',\n",
              " 'k',\n",
              " 'P',\n",
              " 'I',\n",
              " 'D',\n",
              " 'q',\n",
              " 'O',\n",
              " 'R',\n",
              " \"'\",\n",
              " 'x',\n",
              " 'S',\n",
              " 'B',\n",
              " '(',\n",
              " ')',\n",
              " ':',\n",
              " 'L',\n",
              " 'W',\n",
              " 'z',\n",
              " 'J',\n",
              " 'C',\n",
              " 'G',\n",
              " 'E',\n",
              " '1',\n",
              " '6',\n",
              " '5',\n",
              " '–',\n",
              " '7',\n",
              " '2',\n",
              " '8',\n",
              " 'U',\n",
              " '-',\n",
              " 'N',\n",
              " 'F',\n",
              " '/',\n",
              " 'é',\n",
              " 'à',\n",
              " 'V',\n",
              " '9',\n",
              " '0',\n",
              " '3',\n",
              " '`',\n",
              " 'K',\n",
              " 'Y',\n",
              " 'Z',\n",
              " '°',\n",
              " 'ƒ',\n",
              " 'X',\n",
              " '→',\n",
              " '⊆',\n",
              " '−',\n",
              " '=',\n",
              " '{',\n",
              " '∈',\n",
              " '}',\n",
              " '—',\n",
              " '%',\n",
              " '4',\n",
              " '!',\n",
              " 'ñ',\n",
              " '₨',\n",
              " 'á',\n",
              " 'É',\n",
              " '£',\n",
              " 'Q',\n",
              " '♭',\n",
              " 'ˌ',\n",
              " '*',\n",
              " '[',\n",
              " ']',\n",
              " '½',\n",
              " 'ü',\n",
              " '¨',\n",
              " 'ó',\n",
              " 'ê',\n",
              " 'Θ',\n",
              " '?',\n",
              " 'ū',\n",
              " 'ç',\n",
              " '+',\n",
              " '′',\n",
              " 'ḫ',\n",
              " 'τ',\n",
              " 'ä',\n",
              " '·',\n",
              " 'í',\n",
              " '≈',\n",
              " '&',\n",
              " 'ș',\n",
              " '¯',\n",
              " '@',\n",
              " 'α',\n",
              " 'β',\n",
              " 'ô',\n",
              " '<',\n",
              " 'ā',\n",
              " 'ℓ',\n",
              " '\\\\',\n",
              " '_',\n",
              " '^',\n",
              " '×',\n",
              " '⊇',\n",
              " 'Α',\n",
              " '#',\n",
              " '₄',\n",
              " 'ə',\n",
              " '|',\n",
              " '†',\n",
              " '‾',\n",
              " '>',\n",
              " 'ö',\n",
              " '~']"
            ]
          },
          "metadata": {},
          "execution_count": 16
        }
      ]
    },
    {
      "cell_type": "markdown",
      "metadata": {
        "id": "3a64ca10"
      },
      "source": [
        "### Construction du modèle"
      ],
      "id": "3a64ca10"
    },
    {
      "cell_type": "code",
      "source": [
        "pip install tensorflow_addons"
      ],
      "metadata": {
        "colab": {
          "base_uri": "https://localhost:8080/"
        },
        "id": "RxLG299RJayu",
        "outputId": "ed1a4174-08be-4c75-b9a4-63d192064ad2"
      },
      "id": "RxLG299RJayu",
      "execution_count": 17,
      "outputs": [
        {
          "output_type": "stream",
          "name": "stdout",
          "text": [
            "Collecting tensorflow_addons\n",
            "  Downloading tensorflow_addons-0.15.0-cp37-cp37m-manylinux_2_12_x86_64.manylinux2010_x86_64.whl (1.1 MB)\n",
            "\u001b[?25l\r\u001b[K     |▎                               | 10 kB 19.1 MB/s eta 0:00:01\r\u001b[K     |▋                               | 20 kB 19.7 MB/s eta 0:00:01\r\u001b[K     |▉                               | 30 kB 8.9 MB/s eta 0:00:01\r\u001b[K     |█▏                              | 40 kB 7.4 MB/s eta 0:00:01\r\u001b[K     |█▌                              | 51 kB 5.8 MB/s eta 0:00:01\r\u001b[K     |█▊                              | 61 kB 5.9 MB/s eta 0:00:01\r\u001b[K     |██                              | 71 kB 5.7 MB/s eta 0:00:01\r\u001b[K     |██▍                             | 81 kB 6.2 MB/s eta 0:00:01\r\u001b[K     |██▋                             | 92 kB 6.3 MB/s eta 0:00:01\r\u001b[K     |███                             | 102 kB 5.5 MB/s eta 0:00:01\r\u001b[K     |███▎                            | 112 kB 5.5 MB/s eta 0:00:01\r\u001b[K     |███▌                            | 122 kB 5.5 MB/s eta 0:00:01\r\u001b[K     |███▉                            | 133 kB 5.5 MB/s eta 0:00:01\r\u001b[K     |████▏                           | 143 kB 5.5 MB/s eta 0:00:01\r\u001b[K     |████▍                           | 153 kB 5.5 MB/s eta 0:00:01\r\u001b[K     |████▊                           | 163 kB 5.5 MB/s eta 0:00:01\r\u001b[K     |█████                           | 174 kB 5.5 MB/s eta 0:00:01\r\u001b[K     |█████▎                          | 184 kB 5.5 MB/s eta 0:00:01\r\u001b[K     |█████▋                          | 194 kB 5.5 MB/s eta 0:00:01\r\u001b[K     |█████▉                          | 204 kB 5.5 MB/s eta 0:00:01\r\u001b[K     |██████▏                         | 215 kB 5.5 MB/s eta 0:00:01\r\u001b[K     |██████▌                         | 225 kB 5.5 MB/s eta 0:00:01\r\u001b[K     |██████▊                         | 235 kB 5.5 MB/s eta 0:00:01\r\u001b[K     |███████                         | 245 kB 5.5 MB/s eta 0:00:01\r\u001b[K     |███████▍                        | 256 kB 5.5 MB/s eta 0:00:01\r\u001b[K     |███████▋                        | 266 kB 5.5 MB/s eta 0:00:01\r\u001b[K     |████████                        | 276 kB 5.5 MB/s eta 0:00:01\r\u001b[K     |████████▎                       | 286 kB 5.5 MB/s eta 0:00:01\r\u001b[K     |████████▌                       | 296 kB 5.5 MB/s eta 0:00:01\r\u001b[K     |████████▉                       | 307 kB 5.5 MB/s eta 0:00:01\r\u001b[K     |█████████                       | 317 kB 5.5 MB/s eta 0:00:01\r\u001b[K     |█████████▍                      | 327 kB 5.5 MB/s eta 0:00:01\r\u001b[K     |█████████▊                      | 337 kB 5.5 MB/s eta 0:00:01\r\u001b[K     |██████████                      | 348 kB 5.5 MB/s eta 0:00:01\r\u001b[K     |██████████▎                     | 358 kB 5.5 MB/s eta 0:00:01\r\u001b[K     |██████████▋                     | 368 kB 5.5 MB/s eta 0:00:01\r\u001b[K     |██████████▉                     | 378 kB 5.5 MB/s eta 0:00:01\r\u001b[K     |███████████▏                    | 389 kB 5.5 MB/s eta 0:00:01\r\u001b[K     |███████████▌                    | 399 kB 5.5 MB/s eta 0:00:01\r\u001b[K     |███████████▊                    | 409 kB 5.5 MB/s eta 0:00:01\r\u001b[K     |████████████                    | 419 kB 5.5 MB/s eta 0:00:01\r\u001b[K     |████████████▍                   | 430 kB 5.5 MB/s eta 0:00:01\r\u001b[K     |████████████▋                   | 440 kB 5.5 MB/s eta 0:00:01\r\u001b[K     |█████████████                   | 450 kB 5.5 MB/s eta 0:00:01\r\u001b[K     |█████████████▎                  | 460 kB 5.5 MB/s eta 0:00:01\r\u001b[K     |█████████████▌                  | 471 kB 5.5 MB/s eta 0:00:01\r\u001b[K     |█████████████▉                  | 481 kB 5.5 MB/s eta 0:00:01\r\u001b[K     |██████████████                  | 491 kB 5.5 MB/s eta 0:00:01\r\u001b[K     |██████████████▍                 | 501 kB 5.5 MB/s eta 0:00:01\r\u001b[K     |██████████████▊                 | 512 kB 5.5 MB/s eta 0:00:01\r\u001b[K     |███████████████                 | 522 kB 5.5 MB/s eta 0:00:01\r\u001b[K     |███████████████▎                | 532 kB 5.5 MB/s eta 0:00:01\r\u001b[K     |███████████████▋                | 542 kB 5.5 MB/s eta 0:00:01\r\u001b[K     |███████████████▉                | 552 kB 5.5 MB/s eta 0:00:01\r\u001b[K     |████████████████▏               | 563 kB 5.5 MB/s eta 0:00:01\r\u001b[K     |████████████████▌               | 573 kB 5.5 MB/s eta 0:00:01\r\u001b[K     |████████████████▊               | 583 kB 5.5 MB/s eta 0:00:01\r\u001b[K     |█████████████████               | 593 kB 5.5 MB/s eta 0:00:01\r\u001b[K     |█████████████████▍              | 604 kB 5.5 MB/s eta 0:00:01\r\u001b[K     |█████████████████▋              | 614 kB 5.5 MB/s eta 0:00:01\r\u001b[K     |██████████████████              | 624 kB 5.5 MB/s eta 0:00:01\r\u001b[K     |██████████████████▏             | 634 kB 5.5 MB/s eta 0:00:01\r\u001b[K     |██████████████████▌             | 645 kB 5.5 MB/s eta 0:00:01\r\u001b[K     |██████████████████▉             | 655 kB 5.5 MB/s eta 0:00:01\r\u001b[K     |███████████████████             | 665 kB 5.5 MB/s eta 0:00:01\r\u001b[K     |███████████████████▍            | 675 kB 5.5 MB/s eta 0:00:01\r\u001b[K     |███████████████████▊            | 686 kB 5.5 MB/s eta 0:00:01\r\u001b[K     |████████████████████            | 696 kB 5.5 MB/s eta 0:00:01\r\u001b[K     |████████████████████▎           | 706 kB 5.5 MB/s eta 0:00:01\r\u001b[K     |████████████████████▋           | 716 kB 5.5 MB/s eta 0:00:01\r\u001b[K     |████████████████████▉           | 727 kB 5.5 MB/s eta 0:00:01\r\u001b[K     |█████████████████████▏          | 737 kB 5.5 MB/s eta 0:00:01\r\u001b[K     |█████████████████████▌          | 747 kB 5.5 MB/s eta 0:00:01\r\u001b[K     |█████████████████████▊          | 757 kB 5.5 MB/s eta 0:00:01\r\u001b[K     |██████████████████████          | 768 kB 5.5 MB/s eta 0:00:01\r\u001b[K     |██████████████████████▎         | 778 kB 5.5 MB/s eta 0:00:01\r\u001b[K     |██████████████████████▋         | 788 kB 5.5 MB/s eta 0:00:01\r\u001b[K     |███████████████████████         | 798 kB 5.5 MB/s eta 0:00:01\r\u001b[K     |███████████████████████▏        | 808 kB 5.5 MB/s eta 0:00:01\r\u001b[K     |███████████████████████▌        | 819 kB 5.5 MB/s eta 0:00:01\r\u001b[K     |███████████████████████▉        | 829 kB 5.5 MB/s eta 0:00:01\r\u001b[K     |████████████████████████        | 839 kB 5.5 MB/s eta 0:00:01\r\u001b[K     |████████████████████████▍       | 849 kB 5.5 MB/s eta 0:00:01\r\u001b[K     |████████████████████████▊       | 860 kB 5.5 MB/s eta 0:00:01\r\u001b[K     |█████████████████████████       | 870 kB 5.5 MB/s eta 0:00:01\r\u001b[K     |█████████████████████████▎      | 880 kB 5.5 MB/s eta 0:00:01\r\u001b[K     |█████████████████████████▋      | 890 kB 5.5 MB/s eta 0:00:01\r\u001b[K     |█████████████████████████▉      | 901 kB 5.5 MB/s eta 0:00:01\r\u001b[K     |██████████████████████████▏     | 911 kB 5.5 MB/s eta 0:00:01\r\u001b[K     |██████████████████████████▌     | 921 kB 5.5 MB/s eta 0:00:01\r\u001b[K     |██████████████████████████▊     | 931 kB 5.5 MB/s eta 0:00:01\r\u001b[K     |███████████████████████████     | 942 kB 5.5 MB/s eta 0:00:01\r\u001b[K     |███████████████████████████▎    | 952 kB 5.5 MB/s eta 0:00:01\r\u001b[K     |███████████████████████████▋    | 962 kB 5.5 MB/s eta 0:00:01\r\u001b[K     |████████████████████████████    | 972 kB 5.5 MB/s eta 0:00:01\r\u001b[K     |████████████████████████████▏   | 983 kB 5.5 MB/s eta 0:00:01\r\u001b[K     |████████████████████████████▌   | 993 kB 5.5 MB/s eta 0:00:01\r\u001b[K     |████████████████████████████▉   | 1.0 MB 5.5 MB/s eta 0:00:01\r\u001b[K     |█████████████████████████████   | 1.0 MB 5.5 MB/s eta 0:00:01\r\u001b[K     |█████████████████████████████▍  | 1.0 MB 5.5 MB/s eta 0:00:01\r\u001b[K     |█████████████████████████████▊  | 1.0 MB 5.5 MB/s eta 0:00:01\r\u001b[K     |██████████████████████████████  | 1.0 MB 5.5 MB/s eta 0:00:01\r\u001b[K     |██████████████████████████████▎ | 1.1 MB 5.5 MB/s eta 0:00:01\r\u001b[K     |██████████████████████████████▋ | 1.1 MB 5.5 MB/s eta 0:00:01\r\u001b[K     |██████████████████████████████▉ | 1.1 MB 5.5 MB/s eta 0:00:01\r\u001b[K     |███████████████████████████████▏| 1.1 MB 5.5 MB/s eta 0:00:01\r\u001b[K     |███████████████████████████████▍| 1.1 MB 5.5 MB/s eta 0:00:01\r\u001b[K     |███████████████████████████████▊| 1.1 MB 5.5 MB/s eta 0:00:01\r\u001b[K     |████████████████████████████████| 1.1 MB 5.5 MB/s \n",
            "\u001b[?25hRequirement already satisfied: typeguard>=2.7 in /usr/local/lib/python3.7/dist-packages (from tensorflow_addons) (2.7.1)\n",
            "Installing collected packages: tensorflow-addons\n",
            "Successfully installed tensorflow-addons-0.15.0\n"
          ]
        }
      ]
    },
    {
      "cell_type": "code",
      "execution_count": 18,
      "metadata": {
        "id": "qqBlEmP9xb1B"
      },
      "outputs": [],
      "source": [
        "import tensorflow as tf\n",
        "import tensorflow_addons as tfa\n",
        "step = tf.Variable(0, trainable=False)\n",
        "schedule = tf.optimizers.schedules.PiecewiseConstantDecay(\n",
        "    [10000, 15000], [1e-0, 1e-1, 1e-2])\n",
        "# lr and wd can be a function or a tensor\n",
        "\n",
        "lr = 1e-1 * schedule(step)\n",
        "\n",
        "learning_rate=1e-3\n",
        "\n",
        "wd = lambda: 1e-4 * schedule(step)\n",
        "\n",
        "weight_decay=1e-6,\n",
        "\n",
        "optimizer = tfa.optimizers.AdamW(learning_rate=learning_rate, weight_decay=weight_decay)"
      ],
      "id": "qqBlEmP9xb1B"
    },
    {
      "cell_type": "code",
      "execution_count": 19,
      "metadata": {
        "id": "374b3648"
      },
      "outputs": [],
      "source": [
        "import torch.optim as optim\n",
        "\n",
        "opt = keras.optimizers.Adam(learning_rate=0.01)"
      ],
      "id": "374b3648"
    },
    {
      "cell_type": "code",
      "execution_count": 72,
      "metadata": {
        "id": "97206c4d"
      },
      "outputs": [],
      "source": [
        "model = Sequential()\n",
        "model.add(Input(shape=(1,), dtype=\"string\"))"
      ],
      "id": "97206c4d"
    },
    {
      "cell_type": "code",
      "execution_count": 73,
      "metadata": {
        "id": "beb5c57f"
      },
      "outputs": [],
      "source": [
        "model.add(vectorize_layer)"
      ],
      "id": "beb5c57f"
    },
    {
      "cell_type": "code",
      "execution_count": 74,
      "metadata": {
        "id": "a0dde3ec",
        "colab": {
          "base_uri": "https://localhost:8080/"
        },
        "outputId": "a8720bcd-91fb-4d13-d772-c6a225516c97"
      },
      "outputs": [
        {
          "output_type": "stream",
          "name": "stdout",
          "text": [
            "WARNING:tensorflow:Layer lstm_7 will not use cuDNN kernels since it doesn't meet the criteria. It will use a generic GPU kernel as fallback when running on GPU.\n"
          ]
        }
      ],
      "source": [
        "from tensorflow.keras import layers\n",
        "# Note that we're using max_tokens + 1 here, since there's an\n",
        "# out-of-vocabulary (OOV) token that gets added to the vocab.\n",
        "\n",
        "\n",
        "model.add(Embedding(170+1, 128))\n",
        "\n",
        "model.add(Dense(128))\n",
        "\n",
        "model.add(Bidirectional(LSTM(units=192, return_sequences=True), merge_mode = 'ave'))\n",
        "\n",
        "model.add(Dense(192))\n",
        "\n",
        "model.add(LSTM(units=256, return_sequences=False, activation = \"softmax\"))\n",
        "\n",
        "\n",
        "model.add(Dense(256))"
      ],
      "id": "a0dde3ec"
    },
    {
      "cell_type": "code",
      "execution_count": 75,
      "metadata": {
        "colab": {
          "base_uri": "https://localhost:8080/"
        },
        "id": "05ec90f7",
        "outputId": "93a5e68f-6a44-486b-bdc1-754ed2417d1e"
      },
      "outputs": [
        {
          "output_type": "stream",
          "name": "stdout",
          "text": [
            "Model: \"sequential_2\"\n",
            "_________________________________________________________________\n",
            " Layer (type)                Output Shape              Param #   \n",
            "=================================================================\n",
            " text_vectorization_3 (TextV  (None, 300)              0         \n",
            " ectorization)                                                   \n",
            "                                                                 \n",
            " embedding_3 (Embedding)     (None, 300, 128)          21888     \n",
            "                                                                 \n",
            " dense_9 (Dense)             (None, 300, 128)          16512     \n",
            "                                                                 \n",
            " bidirectional_3 (Bidirectio  (None, 300, 192)         493056    \n",
            " nal)                                                            \n",
            "                                                                 \n",
            " dense_10 (Dense)            (None, 300, 192)          37056     \n",
            "                                                                 \n",
            " lstm_7 (LSTM)               (None, 256)               459776    \n",
            "                                                                 \n",
            " dense_11 (Dense)            (None, 256)               65792     \n",
            "                                                                 \n",
            "=================================================================\n",
            "Total params: 1,094,080\n",
            "Trainable params: 1,094,080\n",
            "Non-trainable params: 0\n",
            "_________________________________________________________________\n"
          ]
        }
      ],
      "source": [
        " model.compile(\n",
        "    optimizer=opt,\n",
        "    loss='mse',\n",
        "    metrics=['accuracy'],\n",
        ")\n",
        "\n",
        "model.summary()"
      ],
      "id": "05ec90f7"
    },
    {
      "cell_type": "code",
      "source": [
        "print(chars_train[0])\n",
        "print(len(char_target))"
      ],
      "metadata": {
        "colab": {
          "base_uri": "https://localhost:8080/"
        },
        "id": "J1c7pVOjOfLK",
        "outputId": "588c4275-0db9-4fab-a34d-02cf8ab4e809"
      },
      "id": "J1c7pVOjOfLK",
      "execution_count": 28,
      "outputs": [
        {
          "output_type": "stream",
          "name": "stdout",
          "text": [
            "['A', 'b', 'l', 'e', 'm', 'i', 's', 'h', '.']\n",
            "43608\n"
          ]
        }
      ]
    },
    {
      "cell_type": "markdown",
      "metadata": {
        "id": "2f7c5b75"
      },
      "source": [
        "### Entraînement du modèle"
      ],
      "id": "2f7c5b75"
    },
    {
      "cell_type": "code",
      "execution_count": 76,
      "metadata": {
        "colab": {
          "base_uri": "https://localhost:8080/"
        },
        "id": "81f1324c",
        "outputId": "d08d6026-ef1c-4dfe-88be-697f534d2bb4"
      },
      "outputs": [
        {
          "output_type": "stream",
          "name": "stdout",
          "text": [
            "Epoch 1/10\n",
            "228/228 [==============================] - 275s 1s/step - loss: 0.3776 - accuracy: 0.8367 - val_loss: 0.3548 - val_accuracy: 0.8875\n",
            "Epoch 2/10\n",
            "228/228 [==============================] - 262s 1s/step - loss: 0.3598 - accuracy: 0.8748 - val_loss: 0.3545 - val_accuracy: 0.8875\n",
            "Epoch 3/10\n",
            "228/228 [==============================] - 261s 1s/step - loss: 0.3598 - accuracy: 0.8748 - val_loss: 0.3540 - val_accuracy: 0.8875\n",
            "Epoch 4/10\n",
            "228/228 [==============================] - 261s 1s/step - loss: 0.3597 - accuracy: 0.8748 - val_loss: 0.3542 - val_accuracy: 0.8875\n",
            "Epoch 5/10\n",
            "228/228 [==============================] - 267s 1s/step - loss: 0.3597 - accuracy: 0.8748 - val_loss: 0.3543 - val_accuracy: 0.8875\n",
            "Epoch 6/10\n",
            "228/228 [==============================] - 258s 1s/step - loss: 0.3597 - accuracy: 0.8748 - val_loss: 0.3545 - val_accuracy: 0.8875\n",
            "Epoch 7/10\n",
            "228/228 [==============================] - 292s 1s/step - loss: 0.3597 - accuracy: 0.8748 - val_loss: 0.3544 - val_accuracy: 0.8875\n",
            "Epoch 8/10\n",
            "228/228 [==============================] - 250s 1s/step - loss: 0.3597 - accuracy: 0.8748 - val_loss: 0.3543 - val_accuracy: 0.8875\n",
            "Epoch 9/10\n",
            "228/228 [==============================] - 251s 1s/step - loss: 0.3596 - accuracy: 0.8748 - val_loss: 0.3545 - val_accuracy: 0.8875\n",
            "Epoch 10/10\n",
            "228/228 [==============================] - 250s 1s/step - loss: 0.3596 - accuracy: 0.8748 - val_loss: 0.3546 - val_accuracy: 0.8875\n"
          ]
        }
      ],
      "source": [
        "with tf.device('/device:GPU:0'):\n",
        "  history = model.fit(glosses, char_target,\n",
        "                    epochs=10,\n",
        "                    batch_size=192,\n",
        "                    validation_data = (glosses_dev, char_dev))"
      ],
      "id": "81f1324c"
    },
    {
      "cell_type": "code",
      "execution_count": 83,
      "metadata": {
        "colab": {
          "base_uri": "https://localhost:8080/",
          "height": 545
        },
        "id": "ff51800e",
        "outputId": "ba0adf91-2222-408c-d221-500d9c3dd619"
      },
      "outputs": [
        {
          "output_type": "display_data",
          "data": {
            "image/png": "[encoded data removed]",
            "text/plain": [
              "<Figure size 432x288 with 1 Axes>"
            ]
          },
          "metadata": {
            "needs_background": "light"
          }
        },
        {
          "output_type": "display_data",
          "data": {
            "image/png": "[encoded data removed]",
            "text/plain": [
              "<Figure size 432x288 with 1 Axes>"
            ]
          },
          "metadata": {
            "needs_background": "light"
          }
        }
      ],
      "source": [
        "#Visualisation des résultats de l'entraînement.\n",
        "import matplotlib.pyplot as plt\n",
        "\n",
        "acc = history.history['accuracy']\n",
        "val_acc = history.history['val_accuracy']\n",
        "loss = history.history['loss']\n",
        "val_loss = history.history['val_loss']\n",
        "\n",
        "epochs = range(1, len(acc) + 1)\n",
        "\n",
        "plt.plot(epochs, acc, 'bo', label='Training acc')\n",
        "plt.plot(epochs, val_acc, 'b', label='Validation acc')\n",
        "plt.title('Training and validation accuracy')\n",
        "plt.legend()\n",
        "\n",
        "plt.figure()\n",
        "\n",
        "plt.plot(epochs, loss, 'bo', label='Training loss')\n",
        "plt.plot(epochs, val_loss, 'b', label='Validation loss')\n",
        "plt.title('Training and validation loss')\n",
        "plt.legend()\n",
        "\n",
        "plt.show()"
      ],
      "id": "ff51800e"
    },
    {
      "cell_type": "code",
      "execution_count": null,
      "metadata": {
        "id": "KQZk_4rH86t6",
        "colab": {
          "base_uri": "https://localhost:8080/"
        },
        "outputId": "5de56f31-fb2f-41f4-d8fd-e7e22c30d927"
      },
      "outputs": [
        {
          "output_type": "stream",
          "name": "stderr",
          "text": [
            "WARNING:absl:Found untraced functions such as lstm_cell_13_layer_call_fn, lstm_cell_13_layer_call_and_return_conditional_losses, lstm_cell_14_layer_call_fn, lstm_cell_14_layer_call_and_return_conditional_losses, lstm_cell_13_layer_call_fn while saving (showing 5 of 10). These functions will not be directly callable after loading.\n"
          ]
        },
        {
          "output_type": "stream",
          "name": "stdout",
          "text": [
            "INFO:tensorflow:Assets written to: _fr_revdict_model.tf/assets\n"
          ]
        },
        {
          "output_type": "stream",
          "name": "stderr",
          "text": [
            "INFO:tensorflow:Assets written to: _fr_revdict_model.tf/assets\n",
            "WARNING:absl:<keras.layers.recurrent.LSTMCell object at 0x7f1ea9f293d0> has the same name 'LSTMCell' as a built-in Keras object. Consider renaming <class 'keras.layers.recurrent.LSTMCell'> to avoid naming conflicts when loading with `tf.keras.models.load_model`. If renaming is not possible, pass the object in the `custom_objects` parameter of the load function.\n",
            "WARNING:absl:<keras.layers.recurrent.LSTMCell object at 0x7f1ea9f16f50> has the same name 'LSTMCell' as a built-in Keras object. Consider renaming <class 'keras.layers.recurrent.LSTMCell'> to avoid naming conflicts when loading with `tf.keras.models.load_model`. If renaming is not possible, pass the object in the `custom_objects` parameter of the load function.\n",
            "WARNING:absl:<keras.layers.recurrent.LSTMCell object at 0x7f1ea9f16090> has the same name 'LSTMCell' as a built-in Keras object. Consider renaming <class 'keras.layers.recurrent.LSTMCell'> to avoid naming conflicts when loading with `tf.keras.models.load_model`. If renaming is not possible, pass the object in the `custom_objects` parameter of the load function.\n"
          ]
        }
      ],
      "source": [
        "#sauvegarde du modèle\n",
        "model.save('_fr_revdict_model.tf')"
      ],
      "id": "KQZk_4rH86t6"
    },
    {
      "cell_type": "markdown",
      "metadata": {
        "id": "185fe5e0"
      },
      "source": [
        "\n",
        "### Test du modèle sur les données Trial"
      ],
      "id": "185fe5e0"
    },
    {
      "cell_type": "code",
      "execution_count": 84,
      "metadata": {
        "id": "7191cfdb"
      },
      "outputs": [],
      "source": [
        "with open(\"/content/drive/My Drive/colab/Datasets/Data_semEval2022/It_data/it.trial.complete.json\", \"r\") as file_handler:\n",
        "    dataset_trial = json.load(file_handler)"
      ],
      "id": "7191cfdb"
    },
    {
      "cell_type": "code",
      "execution_count": 85,
      "metadata": {
        "id": "96e503fb"
      },
      "outputs": [],
      "source": [
        "glosses_trial = []\n",
        "for e in dataset_trial :\n",
        "    glosses_trial.append(e[\"gloss\"])"
      ],
      "id": "96e503fb"
    },
    {
      "cell_type": "code",
      "execution_count": 86,
      "metadata": {
        "id": "0bcc6573"
      },
      "outputs": [],
      "source": [
        "char_trial = []\n",
        "for e in dataset_trial :\n",
        "    char_trial.append(e[\"char\"])"
      ],
      "id": "0bcc6573"
    },
    {
      "cell_type": "code",
      "execution_count": 87,
      "metadata": {
        "colab": {
          "base_uri": "https://localhost:8080/"
        },
        "id": "0329df26",
        "outputId": "d944b45f-26c6-4d9e-bbe5-c58ee12fc136"
      },
      "outputs": [
        {
          "output_type": "stream",
          "name": "stdout",
          "text": [
            "7/7 - 1s - loss: 0.3327 - accuracy: 0.9200 - 925ms/epoch - 132ms/step\n"
          ]
        }
      ],
      "source": [
        "scores = model.evaluate(glosses_trial, char_trial, verbose=2)"
      ],
      "id": "0329df26"
    },
    {
      "cell_type": "code",
      "execution_count": 88,
      "metadata": {
        "id": "229313da"
      },
      "outputs": [],
      "source": [
        "classes_trial = model.predict(glosses_trial, batch_size=32)"
      ],
      "id": "229313da"
    },
    {
      "cell_type": "code",
      "source": [
        "print(len(classes_trial))"
      ],
      "metadata": {
        "colab": {
          "base_uri": "https://localhost:8080/"
        },
        "id": "p8WYLvoVS66z",
        "outputId": "16859e21-eaf0-473d-f1fa-830f210d137f"
      },
      "id": "p8WYLvoVS66z",
      "execution_count": null,
      "outputs": [
        {
          "output_type": "stream",
          "name": "stdout",
          "text": [
            "200\n"
          ]
        }
      ]
    },
    {
      "cell_type": "code",
      "source": [
        "print(len(classes_trial[0]))"
      ],
      "metadata": {
        "colab": {
          "base_uri": "https://localhost:8080/"
        },
        "id": "aV9Cl17pS9wV",
        "outputId": "65ca1f8e-5f63-4ce7-e68a-57c316154efb"
      },
      "id": "aV9Cl17pS9wV",
      "execution_count": null,
      "outputs": [
        {
          "output_type": "stream",
          "name": "stdout",
          "text": [
            "256\n"
          ]
        }
      ]
    },
    {
      "cell_type": "code",
      "source": [
        "results = []\n",
        "\n",
        "prefix_id = \"it.revdict.\"\n",
        "i = 1\n",
        "for g in glosses_trial :\n",
        "  sample = {}\n",
        "  id = prefix_id + str(i)\n",
        "  sample[\"id\"] = id\n",
        "  sample[\"gloss\"] = g\n",
        "  sample[\"char\"] = classes_trial[glosses_trial.index(g)]\n",
        "  results.append(sample)\n",
        "  i+=1\n",
        "\n",
        "print(\"taille du resultat : \", len(results))\n",
        "# affichage du premier vecteur pour visualiser les résultats produits\n",
        "print(\"vecteur trial ---> prédiction\")\n",
        "for v in char_trial[0] :\n",
        "  print(v, \" ---> \", results[0][\"char\"][list(char_trial[0]).index(v)])"
      ],
      "metadata": {
        "colab": {
          "base_uri": "https://localhost:8080/"
        },
        "id": "JNQa4rDgT4y5",
        "outputId": "dcf76f0f-2669-4ec7-838e-78676202cb85"
      },
      "id": "JNQa4rDgT4y5",
      "execution_count": 89,
      "outputs": [
        {
          "output_type": "stream",
          "name": "stdout",
          "text": [
            "taille du resultat :  200\n",
            "vecteur trial ---> prédiction\n",
            "0.3092847764  --->  0.18123893\n",
            "-0.323825866  --->  0.08571927\n",
            "0.1208078265  --->  0.23417456\n",
            "-1.1954944134  --->  -0.29756966\n",
            "0.1782103479  --->  0.4430705\n",
            "0.3502227664  --->  0.7210355\n",
            "1.2238903046  --->  -0.044441983\n",
            "0.4136763513  --->  0.09849569\n",
            "-0.0066473074  --->  0.01817443\n",
            "0.8014886379  --->  0.45004097\n",
            "0.1113878638  --->  0.12848715\n",
            "-0.5579353571  --->  0.16619578\n",
            "0.6316277385  --->  0.2039251\n",
            "-0.675514698  --->  -0.32389867\n",
            "0.4269262254  --->  -0.34799486\n",
            "-0.7875749469  --->  -0.1567951\n",
            "0.1358575821  --->  0.1095504\n",
            "0.1503330469  --->  0.6968248\n",
            "0.6876038909  --->  0.38156357\n",
            "-1.0807591677  --->  -0.1960633\n",
            "-0.7598701715  --->  -0.589614\n",
            "-0.509759903  --->  -0.27264118\n",
            "-0.5355499983  --->  -0.48066276\n",
            "-0.4850723445  --->  -0.512173\n",
            "0.1346389502  --->  0.24859062\n",
            "-0.5151541829  --->  0.07808353\n",
            "-0.4442360997  --->  -0.116447985\n",
            "-0.0746459216  --->  -0.12758262\n",
            "-1.0668680668  --->  -0.51465815\n",
            "-0.416931659  --->  -0.12501666\n",
            "-0.0848598033  --->  0.5529834\n",
            "0.1365024298  --->  0.18755826\n",
            "-1.2707785368  --->  -0.017823502\n",
            "0.6511979103  --->  -0.587127\n",
            "0.1547463089  --->  0.0447731\n",
            "-0.0047061117  --->  -0.022781622\n",
            "-0.4740901291  --->  -0.18365863\n",
            "0.6458384991  --->  -0.14238033\n",
            "-0.5051977038  --->  0.23759897\n",
            "-0.6899091601  --->  -0.31782636\n",
            "0.2549287677  --->  0.029192135\n",
            "0.5673222542  --->  0.22355013\n",
            "0.5320838094  --->  0.24277145\n",
            "1.0404818058  --->  0.6675225\n",
            "1.7950912714  --->  1.3471746\n",
            "-0.0026310035  --->  0.012016598\n",
            "0.1743428409  --->  0.2947759\n",
            "0.4567461014  --->  0.37925395\n",
            "-0.5481446981  --->  0.10913524\n",
            "-0.7344850302  --->  -0.381147\n",
            "0.5455184579  --->  0.24776945\n",
            "-1.3385820389  --->  -0.6992777\n",
            "0.5766615868  --->  -0.2898347\n",
            "-0.9923434258  --->  -1.0893462\n",
            "0.0136561822  --->  0.03690532\n",
            "0.4794086218  --->  0.08790264\n",
            "-0.0491219535  --->  0.3777067\n",
            "-0.6164919734  --->  -0.3957859\n",
            "-0.7329075336  --->  -0.4061698\n",
            "-0.2333865464  --->  0.09316257\n",
            "-0.2503813505  --->  -0.34537274\n",
            "-0.0323017687  --->  0.092353955\n",
            "-1.2484147549  --->  -0.30242062\n",
            "-0.5492417216  --->  -0.17205745\n",
            "5.8014893532  --->  4.7341495\n",
            "0.4172273874  --->  0.82054645\n",
            "-0.8858360052  --->  -0.82372516\n",
            "-0.5723970532  --->  -0.3059379\n",
            "-0.2777698934  --->  -0.039762873\n",
            "0.2857246399  --->  0.56404644\n",
            "1.3045861721  --->  0.32749122\n",
            "-0.6172218919  --->  -0.5252271\n",
            "-4.5647273064  --->  -4.0477624\n",
            "-0.4860932231  --->  -0.023911692\n",
            "-0.8835439682  --->  -1.1020281\n",
            "-0.5427865982  --->  -0.9581851\n",
            "-0.2252281159  --->  0.06148257\n",
            "0.0190380588  --->  0.029008111\n",
            "-0.2689419687  --->  -0.22346781\n",
            "-0.0109407008  --->  -0.0075433487\n",
            "-0.6003975868  --->  -0.38456467\n",
            "0.3577730954  --->  -0.23330711\n",
            "-0.1209287643  --->  0.25117844\n",
            "2.8913300037  --->  1.6267889\n",
            "2.0837960243  --->  0.73625755\n",
            "0.1627748311  --->  0.12791032\n",
            "-2.4944205284  --->  -2.411755\n",
            "-0.2455170453  --->  -0.012384836\n",
            "0.7713409066  --->  -0.13771372\n",
            "-0.1698926389  --->  -0.11691913\n",
            "-0.3474740982  --->  -0.5870206\n",
            "-0.1907451302  --->  -0.29136527\n",
            "-0.3534460664  --->  -0.13434732\n",
            "0.0546198934  --->  0.023521364\n",
            "-0.1191436648  --->  -0.0722602\n",
            "0.1692571193  --->  0.23206489\n",
            "-0.6134624481  --->  0.018370956\n",
            "0.1326699555  --->  0.21321456\n",
            "0.4134382606  --->  -0.052848633\n",
            "-0.4201836586  --->  0.20234117\n",
            "0.6002146006  --->  -0.040770747\n",
            "0.3969688416  --->  0.1641903\n",
            "0.469863832  --->  0.5220247\n",
            "0.2407490164  --->  0.34392902\n",
            "-0.1641593575  --->  -0.13593385\n",
            "0.0715077966  --->  0.06831084\n",
            "0.1783912033  --->  0.08612666\n",
            "-1.032897234  --->  0.2530167\n",
            "-0.2106796652  --->  0.11479221\n",
            "0.50396806  --->  0.36886513\n",
            "-0.6842586994  --->  -0.6405629\n",
            "0.4312282801  --->  -0.11661114\n",
            "-0.1672121584  --->  0.26090473\n",
            "-0.3066398203  --->  -0.16640861\n",
            "0.8506093025  --->  1.5101086\n",
            "0.2463034242  --->  0.11645408\n",
            "-0.1201547161  --->  -0.4820527\n",
            "0.0419198014  --->  0.046767306\n",
            "-0.0102790669  --->  0.06461491\n",
            "0.8750578165  --->  0.8435046\n",
            "0.3200581074  --->  0.059706688\n",
            "-0.3158282042  --->  0.07032595\n",
            "0.07409361  --->  0.041786727\n",
            "-1.0222821236  --->  -0.5086778\n",
            "0.1336437315  --->  -0.30411685\n",
            "0.0032036875  --->  -5.225744e-05\n",
            "0.213305071  --->  -0.12153423\n",
            "0.6846290231  --->  0.33354992\n",
            "0.9463889003  --->  0.6961216\n",
            "0.0621260703  --->  0.470512\n",
            "0.0572195128  --->  0.02488493\n",
            "0.2843887806  --->  0.24355853\n",
            "-0.0471421182  --->  -0.08470778\n",
            "-0.230987981  --->  0.020595536\n",
            "-0.912874341  --->  0.43087262\n",
            "-0.6427117586  --->  -0.16645296\n",
            "-0.2499524653  --->  -0.18146594\n",
            "-0.2509449124  --->  -0.51756626\n",
            "-0.0710371733  --->  0.426369\n",
            "-1.3652509451  --->  -0.9425441\n",
            "-0.0144882239  --->  -0.035591606\n",
            "0.6536021829  --->  0.89732337\n",
            "0.3937008381  --->  0.092604175\n",
            "0.0873691142  --->  -0.09450866\n",
            "0.5470013022  --->  0.43704477\n",
            "-0.3919553459  --->  -0.13858286\n",
            "0.1042764932  --->  0.1386513\n",
            "-1.385512352  --->  -0.35616767\n",
            "-0.5482491851  --->  -0.100065425\n",
            "-0.33877033  --->  -0.28109255\n",
            "-0.0446740761  --->  -0.04659707\n",
            "0.7327541709  --->  -0.027241072\n",
            "-0.0467702448  --->  -0.018362725\n",
            "0.1436408162  --->  0.4316377\n",
            "0.0105151907  --->  -0.0036082268\n",
            "0.2517576814  --->  0.69734293\n",
            "-0.4691427946  --->  -0.457695\n",
            "0.2551572323  --->  0.84932053\n",
            "2.8904030323  --->  1.1177\n",
            "3.2108049393  --->  3.4402227\n",
            "-0.8944596648  --->  -0.23685588\n",
            "-0.4804590046  --->  0.20738249\n",
            "-0.0837189108  --->  0.18738562\n",
            "-0.3736733198  --->  0.20638888\n",
            "-0.1000433564  --->  -0.14955232\n",
            "-0.018709667  --->  -0.27714914\n",
            "-0.031011546  --->  0.035442024\n",
            "-0.6390200853  --->  -0.49358028\n",
            "-0.5581998229  --->  -0.55860853\n",
            "-0.2584328651  --->  0.10105558\n",
            "-0.6499409676  --->  -0.76546407\n",
            "0.0160655752  --->  0.049932554\n",
            "-0.0832524896  --->  -0.09650574\n",
            "-0.6783012748  --->  0.39392278\n",
            "0.7303370237  --->  0.37564906\n",
            "0.0815436691  --->  -0.009237081\n",
            "0.0347732045  --->  0.049121305\n",
            "-0.8066411614  --->  0.2348132\n",
            "-0.1328415573  --->  0.012666587\n",
            "-0.2941237092  --->  -0.67421716\n",
            "-0.0323192328  --->  0.04434088\n",
            "-0.258762598  --->  -0.26771873\n",
            "-0.0330943987  --->  0.04749497\n",
            "-0.6792852879  --->  -0.33089554\n",
            "-0.7264911532  --->  -0.43132412\n",
            "0.3543613553  --->  0.21359071\n",
            "0.3106283844  --->  0.09106569\n",
            "0.6293160915  --->  0.17379291\n",
            "-0.676594615  --->  -0.3333338\n",
            "0.1806060672  --->  0.41129425\n",
            "0.3176162839  --->  0.14362058\n",
            "0.3408972919  --->  0.41534197\n",
            "0.6605556011  --->  -0.10618617\n",
            "0.0759435445  --->  0.025493756\n",
            "1.6132085323  --->  0.7454535\n",
            "0.0424654335  --->  -0.19710103\n",
            "-0.5230398178  --->  -0.4804343\n",
            "0.2734748721  --->  0.19160065\n",
            "-0.7857948542  --->  0.18955371\n",
            "-0.2114860713  --->  -0.34338388\n",
            "0.1565122008  --->  0.2998501\n",
            "-0.0056172628  --->  -0.0063298494\n",
            "-0.7401417494  --->  0.15485834\n",
            "-1.1526265144  --->  -0.049924977\n",
            "-0.1552928239  --->  0.059265494\n",
            "0.1834566742  --->  -0.11639306\n",
            "-0.0014888343  --->  -0.012092179\n",
            "-0.2703801394  --->  -0.3288228\n",
            "0.5243369341  --->  0.59374857\n",
            "-1.0642331839  --->  -1.1873178\n",
            "0.6963357925  --->  0.07260126\n",
            "1.4760839939  --->  0.39758122\n",
            "0.014514029  --->  0.1378875\n",
            "0.0809223205  --->  -0.21537684\n",
            "0.7361486554  --->  -0.39025152\n",
            "1.5965852737  --->  0.52309096\n",
            "-0.3305861056  --->  -0.12789522\n",
            "0.563472569  --->  -0.05769071\n",
            "0.2513304651  --->  0.2684648\n",
            "-0.2633993924  --->  0.13138613\n",
            "-0.0066497959  --->  -0.047925513\n",
            "0.6229324341  --->  0.111537784\n",
            "-0.1520892531  --->  -0.12233387\n",
            "-0.1212950647  --->  -0.17165416\n",
            "0.4023029208  --->  0.26424372\n",
            "0.2801683545  --->  0.19438194\n",
            "0.2481373847  --->  0.07153626\n",
            "-0.3437254429  --->  -0.66927433\n",
            "0.5556543469  --->  0.59119225\n",
            "-0.1319718659  --->  -0.19190556\n",
            "-1.2942028046  --->  -0.34029883\n",
            "0.0436175056  --->  -0.06829772\n",
            "1.2226169109  --->  0.05208829\n",
            "-0.1858857125  --->  -0.1540382\n",
            "-0.1229308695  --->  -0.10997186\n",
            "-0.0773296058  --->  0.2571646\n",
            "-0.3334745169  --->  -0.15477096\n",
            "0.7921200991  --->  0.21070643\n",
            "0.0317292921  --->  0.11752647\n",
            "-1.8309869766  --->  -0.5580085\n",
            "-0.1015583724  --->  0.18331565\n",
            "-0.1259189993  --->  -0.112442\n",
            "0.2599259317  --->  -0.16973375\n",
            "0.2469223738  --->  0.2808572\n",
            "0.289278388  --->  0.4476629\n",
            "-2.4818766117  --->  -2.269425\n",
            "-0.9633154273  --->  -0.11105798\n",
            "-0.5387883782  --->  0.054425113\n",
            "0.2207963765  --->  -0.1395417\n",
            "0.3728043437  --->  0.12693444\n",
            "-0.9917727709  --->  -0.33215052\n",
            "-0.2164875567  --->  -0.09525542\n",
            "0.2218716741  --->  0.19274649\n",
            "0.811591804  --->  -0.18525273\n",
            "0.0242745057  --->  -0.1229036\n",
            "0.3036025763  --->  0.5488466\n"
          ]
        }
      ]
    },
    {
      "cell_type": "code",
      "source": [
        "import pandas as pd\n",
        "pd.Series(results).to_json(\"/content/drive/My Drive/colab/Datasets/Data_semEval2022/Results/char/it_vocab_revdict_results_prediction_trial.json\", orient='values')"
      ],
      "metadata": {
        "id": "RoS8voONGr5r"
      },
      "id": "RoS8voONGr5r",
      "execution_count": 90,
      "outputs": []
    },
    {
      "cell_type": "markdown",
      "metadata": {
        "id": "641929d8"
      },
      "source": [
        "### Calcule des métriques d'évaluation"
      ],
      "id": "641929d8"
    },
    {
      "cell_type": "code",
      "execution_count": 91,
      "metadata": {
        "id": "6144a0db"
      },
      "outputs": [],
      "source": [
        "import torch.nn.functional as F\n",
        "import torch\n",
        "\n",
        "classes_trial_tensor = torch.tensor(classes_trial)\n",
        "char_trial_tensor = torch.tensor(char_trial)"
      ],
      "id": "6144a0db"
    },
    {
      "cell_type": "code",
      "execution_count": 92,
      "metadata": {
        "id": "89083a05"
      },
      "outputs": [],
      "source": [
        "cos_sim = F.cosine_similarity(classes_trial_tensor, char_trial_tensor).mean().item()"
      ],
      "id": "89083a05"
    },
    {
      "cell_type": "code",
      "execution_count": 93,
      "metadata": {
        "colab": {
          "base_uri": "https://localhost:8080/"
        },
        "id": "4c5613a8",
        "outputId": "2b795da9-f574-4427-b1c0-86f756881b8d"
      },
      "outputs": [
        {
          "output_type": "stream",
          "name": "stdout",
          "text": [
            "0.7516475915908813\n"
          ]
        }
      ],
      "source": [
        "print(cos_sim)"
      ],
      "id": "4c5613a8"
    },
    {
      "cell_type": "code",
      "execution_count": 94,
      "metadata": {
        "id": "d83108cb"
      },
      "outputs": [],
      "source": [
        "mse = F.mse_loss(classes_trial_tensor, char_trial_tensor).item()"
      ],
      "id": "d83108cb"
    },
    {
      "cell_type": "code",
      "execution_count": 95,
      "metadata": {
        "colab": {
          "base_uri": "https://localhost:8080/"
        },
        "id": "528b2191",
        "outputId": "948d9a57-79d6-4336-ad19-5299807fec30"
      },
      "outputs": [
        {
          "output_type": "stream",
          "name": "stdout",
          "text": [
            "0.33268874883651733\n"
          ]
        }
      ],
      "source": [
        "print(mse)"
      ],
      "id": "528b2191"
    },
    {
      "cell_type": "code",
      "execution_count": 96,
      "metadata": {
        "id": "b29a01ac"
      },
      "outputs": [],
      "source": [
        "# fonction prise du code de la baseline.\n",
        "def rank_cosine(preds, targets):\n",
        "    unique_targets = targets.unique(dim=0)\n",
        "    all_assocs = preds @ F.normalize(targets).T\n",
        "    unique_assocs = preds @ F.normalize(unique_targets).T\n",
        "    refs = torch.diagonal(all_assocs, 0).unsqueeze(1)\n",
        "    ranks = (unique_assocs >= refs).sum(1).float().mean().item()\n",
        "    return ranks / unique_targets.size(0)"
      ],
      "id": "b29a01ac"
    },
    {
      "cell_type": "code",
      "execution_count": 97,
      "metadata": {
        "id": "e4c527f9"
      },
      "outputs": [],
      "source": [
        "rnk = rank_cosine(classes_trial_tensor, char_trial_tensor)"
      ],
      "id": "e4c527f9"
    },
    {
      "cell_type": "code",
      "execution_count": 98,
      "metadata": {
        "colab": {
          "base_uri": "https://localhost:8080/"
        },
        "id": "b816e4c2",
        "outputId": "824b3a5f-1c37-4957-c87a-136218520f46"
      },
      "outputs": [
        {
          "output_type": "stream",
          "name": "stdout",
          "text": [
            "0.5023500061035157\n"
          ]
        }
      ],
      "source": [
        "print(rnk)"
      ],
      "id": "b816e4c2"
    },
    {
      "cell_type": "markdown",
      "metadata": {
        "id": "7WUnc1xrlQw2"
      },
      "source": [
        "### Test du modèle sur les données de DEV\n"
      ],
      "id": "7WUnc1xrlQw2"
    },
    {
      "cell_type": "code",
      "source": [
        "scores = model.evaluate(glosses_dev, char_dev, verbose=2)"
      ],
      "metadata": {
        "colab": {
          "base_uri": "https://localhost:8080/"
        },
        "id": "OSQ9VCfyKo9p",
        "outputId": "2bec9ab1-ad05-4f8b-f96b-48357ec99b8d"
      },
      "id": "OSQ9VCfyKo9p",
      "execution_count": 99,
      "outputs": [
        {
          "output_type": "stream",
          "name": "stdout",
          "text": [
            "200/200 - 22s - loss: 0.3546 - accuracy: 0.8875 - 22s/epoch - 111ms/step\n"
          ]
        }
      ]
    },
    {
      "cell_type": "code",
      "source": [
        "classes_dev = model.predict(glosses_dev, batch_size=32)"
      ],
      "metadata": {
        "id": "-hUJYloJKztO"
      },
      "id": "-hUJYloJKztO",
      "execution_count": 100,
      "outputs": []
    },
    {
      "cell_type": "code",
      "source": [
        "print(len(classes_dev))"
      ],
      "metadata": {
        "colab": {
          "base_uri": "https://localhost:8080/"
        },
        "id": "OdscNkpSK5wF",
        "outputId": "73848781-adfd-4871-9c1d-8612408a83ed"
      },
      "id": "OdscNkpSK5wF",
      "execution_count": 101,
      "outputs": [
        {
          "output_type": "stream",
          "name": "stdout",
          "text": [
            "6375\n"
          ]
        }
      ]
    },
    {
      "cell_type": "code",
      "source": [
        "print(len(classes_dev[0]))"
      ],
      "metadata": {
        "colab": {
          "base_uri": "https://localhost:8080/"
        },
        "id": "NWFlBTTbLBqS",
        "outputId": "98163069-7f48-4bab-af78-c636bd23daf1"
      },
      "id": "NWFlBTTbLBqS",
      "execution_count": 102,
      "outputs": [
        {
          "output_type": "stream",
          "name": "stdout",
          "text": [
            "256\n"
          ]
        }
      ]
    },
    {
      "cell_type": "code",
      "source": [
        "results_dev = []\n",
        "\n",
        "prefix_id = \"it.revdict.\"\n",
        "i = 1\n",
        "for g in glosses_dev :\n",
        "  sample = {}\n",
        "  id = prefix_id + str(i)\n",
        "  sample[\"id\"] = id\n",
        "  sample[\"gloss\"] = g\n",
        "  sample[\"char\"] = classes_dev[glosses_dev.index(g)]\n",
        "  results_dev.append(sample)\n",
        "  i+=1\n",
        "\n",
        "print(\"taille du résultat : \", len(results_dev))\n",
        "print(\"vecteur dev ---> prédiction\")\n",
        "for v in char_dev[0] :\n",
        "  print(v, \" ---> \", results_dev[0][\"char\"][list(char_dev[0]).index(v)])"
      ],
      "metadata": {
        "colab": {
          "base_uri": "https://localhost:8080/"
        },
        "id": "zJjXbeUiLJ4V",
        "outputId": "0552122d-832f-421b-9cf0-0069819dd6c8"
      },
      "id": "zJjXbeUiLJ4V",
      "execution_count": 103,
      "outputs": [
        {
          "output_type": "stream",
          "name": "stdout",
          "text": [
            "taille du résultat :  6375\n",
            "vecteur dev ---> prédiction\n",
            "0.3609092534  --->  0.18123893\n",
            "-0.8224697709  --->  0.08571927\n",
            "-1.121057868  --->  0.23417456\n",
            "0.0053083375  --->  -0.29756966\n",
            "0.4491408467  --->  0.4430705\n",
            "-0.0866676867  --->  0.7210355\n",
            "-1.1512467861  --->  -0.044441983\n",
            "0.3755362928  --->  0.09849569\n",
            "-0.2053462714  --->  0.01817443\n",
            "0.2492482662  --->  0.45004097\n",
            "0.3537253141  --->  0.12848715\n",
            "0.0141624808  --->  0.16619578\n",
            "0.2945622206  --->  0.2039251\n",
            "1.8075891733  --->  -0.32389867\n",
            "-0.4706472754  --->  -0.34799486\n",
            "-1.529592514  --->  -0.1567951\n",
            "-0.012436837  --->  0.1095504\n",
            "0.4346915483  --->  0.6968248\n",
            "1.3063265085  --->  0.38156357\n",
            "-0.823397398  --->  -0.1960633\n",
            "-0.0980767906  --->  -0.589614\n",
            "-0.2170160413  --->  -0.27264118\n",
            "-1.4572468996  --->  -0.48066276\n",
            "1.0641211271  --->  -0.512173\n",
            "0.9259161353  --->  0.24859062\n",
            "0.0050819749  --->  0.07808353\n",
            "0.1396205276  --->  -0.116447985\n",
            "-0.086357221  --->  -0.12758262\n",
            "-1.5320825577  --->  -0.51465815\n",
            "0.2996906638  --->  -0.12501666\n",
            "-0.298101604  --->  0.5529834\n",
            "0.0909619629  --->  0.18755826\n",
            "1.2235012054  --->  -0.017823502\n",
            "-0.5836093426  --->  -0.587127\n",
            "0.4012513459  --->  0.0447731\n",
            "0.9343363047  --->  -0.022781622\n",
            "0.1235329807  --->  -0.18365863\n",
            "-0.8059436679  --->  -0.14238033\n",
            "1.1288294792  --->  0.23759897\n",
            "0.9293066859  --->  -0.31782636\n",
            "-0.6469430327  --->  0.029192135\n",
            "0.1632294953  --->  0.22355013\n",
            "0.3516670465  --->  0.24277145\n",
            "0.3390386105  --->  0.6675225\n",
            "1.2039322853  --->  1.3471746\n",
            "0.2861165106  --->  0.012016598\n",
            "-0.1327968985  --->  0.2947759\n",
            "1.6541450024  --->  0.37925395\n",
            "-0.1802573204  --->  0.10913524\n",
            "-0.69120574  --->  -0.381147\n",
            "2.2805719376  --->  0.24776945\n",
            "0.8844643235  --->  -0.6992777\n",
            "0.4309435189  --->  -0.2898347\n",
            "-0.5909830332  --->  -1.0893462\n",
            "-0.0243349355  --->  0.03690532\n",
            "0.17015481  --->  0.08790264\n",
            "-0.0510126501  --->  0.3777067\n",
            "-0.3760061264  --->  -0.3957859\n",
            "-0.7355042696  --->  -0.4061698\n",
            "0.6071581841  --->  0.09316257\n",
            "-0.4750839472  --->  -0.34537274\n",
            "1.2384763956  --->  0.092353955\n",
            "0.0548985004  --->  -0.30242062\n",
            "0.7429456711  --->  -0.17205745\n",
            "-0.7628852129  --->  4.7341495\n",
            "1.5886038542  --->  0.82054645\n",
            "-0.650855124  --->  -0.82372516\n",
            "-1.4532880783  --->  -0.3059379\n",
            "-0.4903762937  --->  -0.039762873\n",
            "0.4729178846  --->  0.56404644\n",
            "2.5328857899  --->  0.32749122\n",
            "0.3613439798  --->  -0.5252271\n",
            "3.28247118  --->  -4.0477624\n",
            "-0.1613850892  --->  -0.023911692\n",
            "-1.0468733311  --->  -1.1020281\n",
            "-0.9681348801  --->  -0.9581851\n",
            "-0.605661571  --->  0.06148257\n",
            "0.0585573092  --->  0.029008111\n",
            "0.5973743796  --->  -0.22346781\n",
            "0.3478944004  --->  -0.0075433487\n",
            "-0.3503337204  --->  -0.38456467\n",
            "-0.4696056247  --->  -0.23330711\n",
            "0.3219392598  --->  0.25117844\n",
            "2.8917131424  --->  1.6267889\n",
            "1.0389103889  --->  0.73625755\n",
            "0.2515676022  --->  0.12791032\n",
            "3.0676145554  --->  -2.411755\n",
            "-0.8476766348  --->  -0.012384836\n",
            "0.3012006581  --->  -0.13771372\n",
            "0.3608291447  --->  -0.11691913\n",
            "0.4076169729  --->  -0.5870206\n",
            "-0.3366841376  --->  -0.29136527\n",
            "0.2381794453  --->  -0.13434732\n",
            "0.0649937913  --->  0.023521364\n",
            "-0.9875497222  --->  -0.0722602\n",
            "0.3293882012  --->  0.23206489\n",
            "-0.1397946477  --->  0.018370956\n",
            "0.3841293454  --->  0.21321456\n",
            "1.3648084402  --->  -0.052848633\n",
            "-1.2453751564  --->  0.20234117\n",
            "0.1481741071  --->  -0.040770747\n",
            "-1.4218533039  --->  0.1641903\n",
            "1.8363519907  --->  0.5220247\n",
            "0.3165771663  --->  0.34392902\n",
            "-0.2166793048  --->  -0.13593385\n",
            "0.674888134  --->  0.06831084\n",
            "-0.1307578087  --->  0.08612666\n",
            "2.1175267696  --->  0.2530167\n",
            "0.0485417992  --->  0.11479221\n",
            "1.2556689978  --->  0.36886513\n",
            "7.1993989944  --->  -0.6405629\n",
            "1.6613281965  --->  -0.11661114\n",
            "1.0840628147  --->  0.26090473\n",
            "0.6998519897  --->  -0.16640861\n",
            "0.6920903921  --->  1.5101086\n",
            "-0.1022073627  --->  0.11645408\n",
            "-1.3501594067  --->  -0.4820527\n",
            "0.1811632216  --->  0.046767306\n",
            "0.5786117315  --->  0.06461491\n",
            "-0.4757897854  --->  0.8435046\n",
            "-0.3108364344  --->  0.059706688\n",
            "3.1840336323  --->  0.07032595\n",
            "0.0444846898  --->  0.041786727\n",
            "2.0565028191  --->  -0.5086778\n",
            "1.3616428375  --->  -0.30411685\n",
            "-0.0210026875  --->  -5.225744e-05\n",
            "-0.9146526456  --->  -0.12153423\n",
            "0.4676069617  --->  0.33354992\n",
            "2.3513886929  --->  0.6961216\n",
            "-0.377635926  --->  0.470512\n",
            "-0.3875358701  --->  0.02488493\n",
            "1.4554228783  --->  0.24355853\n",
            "-0.3492744267  --->  -0.08470778\n",
            "0.4362533391  --->  0.020595536\n",
            "0.5472641587  --->  0.43087262\n",
            "-0.1144771799  --->  -0.16645296\n",
            "-0.6431881189  --->  -0.18146594\n",
            "-0.8548882604  --->  -0.51756626\n",
            "-0.0613423586  --->  0.426369\n",
            "-0.8952488899  --->  -0.9425441\n",
            "-0.2991780639  --->  -0.035591606\n",
            "1.6548897028  --->  0.89732337\n",
            "-1.4385886192  --->  0.092604175\n",
            "0.4486272335  --->  -0.09450866\n",
            "-0.9277201891  --->  0.43704477\n",
            "-1.0719604492  --->  -0.13858286\n",
            "0.1573298275  --->  0.1386513\n",
            "-0.1090956628  --->  -0.35616767\n",
            "-1.2076129913  --->  -0.100065425\n",
            "-0.2191740721  --->  -0.28109255\n",
            "-0.0416621268  --->  -0.04659707\n",
            "0.7687704563  --->  -0.027241072\n",
            "0.186173588  --->  -0.018362725\n",
            "1.1025838852  --->  0.4316377\n",
            "0.012472705  --->  -0.0036082268\n",
            "0.2626624405  --->  0.69734293\n",
            "-4.401342392  --->  -0.457695\n",
            "-0.0776498392  --->  0.84932053\n",
            "1.0553094149  --->  1.1177\n",
            "3.2776420116  --->  3.4402227\n",
            "-0.7603580952  --->  -0.23685588\n",
            "0.6040892005  --->  0.20738249\n",
            "0.5635010004  --->  0.18738562\n",
            "-1.1788892746  --->  0.20638888\n",
            "0.1702013016  --->  -0.14955232\n",
            "0.6242527366  --->  -0.27714914\n",
            "1.0007578135  --->  0.035442024\n",
            "1.2702274323  --->  -0.49358028\n",
            "0.5468539  --->  -0.55860853\n",
            "1.2556364536  --->  0.10105558\n",
            "1.7546300888  --->  -0.76546407\n",
            "-0.0573519841  --->  0.049932554\n",
            "-0.73394382  --->  -0.09650574\n",
            "0.9787740111  --->  0.39392278\n",
            "1.666913271  --->  0.37564906\n",
            "0.2232756466  --->  -0.009237081\n",
            "-0.0605512261  --->  0.049121305\n",
            "0.9779980183  --->  0.2348132\n",
            "0.2088164985  --->  0.012666587\n",
            "-0.4893381596  --->  -0.67421716\n",
            "0.0488177389  --->  0.04434088\n",
            "-0.0622818023  --->  -0.26771873\n",
            "0.2549933791  --->  0.04749497\n",
            "-0.2814505994  --->  -0.33089554\n",
            "-0.5766181946  --->  -0.43132412\n",
            "1.2182571888  --->  0.21359071\n",
            "1.1557452679  --->  0.09106569\n",
            "0.5594123602  --->  0.17379291\n",
            "-0.2541403174  --->  -0.3333338\n",
            "0.1569265127  --->  0.41129425\n",
            "1.3857182264  --->  0.14362058\n",
            "0.085918285  --->  0.41534197\n",
            "-0.0035531521  --->  -0.10618617\n",
            "0.0294601079  --->  0.025493756\n",
            "-0.4351397753  --->  0.7454535\n",
            "-0.9391014576  --->  -0.19710103\n",
            "-0.0433678329  --->  -0.4804343\n",
            "0.5820447803  --->  0.19160065\n",
            "0.9374139905  --->  0.18955371\n",
            "1.07117486  --->  -0.34338388\n",
            "-0.3790948987  --->  0.2998501\n",
            "0.0136777936  --->  -0.0063298494\n",
            "-1.0943237543  --->  0.15485834\n",
            "-1.582090497  --->  -0.049924977\n",
            "-0.0494496971  --->  0.059265494\n",
            "-0.7891030908  --->  -0.11639306\n",
            "0.0118437596  --->  -0.012092179\n",
            "-2.1842904091  --->  -0.3288228\n",
            "1.4072204828  --->  0.59374857\n",
            "-0.8068176508  --->  -1.1873178\n",
            "0.6053366661  --->  0.07260126\n",
            "1.5406961441  --->  0.39758122\n",
            "0.2346452773  --->  0.1378875\n",
            "0.8568332791  --->  -0.21537684\n",
            "-0.6054002643  --->  -0.39025152\n",
            "0.2130695581  --->  0.52309096\n",
            "-0.1801837683  --->  -0.12789522\n",
            "-0.1612428725  --->  -0.05769071\n",
            "0.3777934313  --->  0.2684648\n",
            "0.4264852703  --->  0.13138613\n",
            "0.4842547178  --->  -0.047925513\n",
            "-0.3780560791  --->  0.111537784\n",
            "0.4462804198  --->  -0.12233387\n",
            "0.0141621493  --->  -0.17165416\n",
            "0.7073023915  --->  0.26424372\n",
            "0.4497630894  --->  0.19438194\n",
            "0.7347057462  --->  0.07153626\n",
            "-0.6451027989  --->  -0.66927433\n",
            "2.8672158718  --->  0.59119225\n",
            "-0.1872000396  --->  -0.19190556\n",
            "-1.7339098454  --->  -0.34029883\n",
            "0.0923157334  --->  -0.06829772\n",
            "-0.9677864313  --->  0.05208829\n",
            "0.1844930351  --->  -0.1540382\n",
            "-0.3030053675  --->  -0.10997186\n",
            "-0.4980455935  --->  0.2571646\n",
            "0.3478497267  --->  -0.15477096\n",
            "-0.4638450742  --->  0.21070643\n",
            "-0.6052266359  --->  0.11752647\n",
            "-0.6571497917  --->  -0.5580085\n",
            "0.6131492257  --->  0.18331565\n",
            "0.273899585  --->  -0.112442\n",
            "0.1092574149  --->  -0.16973375\n",
            "0.2695892453  --->  0.2808572\n",
            "0.2956597805  --->  0.4476629\n",
            "-1.0027210712  --->  -2.269425\n",
            "-0.2902414501  --->  -0.11105798\n",
            "0.2145850658  --->  0.054425113\n",
            "0.156370014  --->  -0.1395417\n",
            "0.5855498314  --->  0.12693444\n",
            "0.4390568435  --->  -0.33215052\n",
            "0.3693878055  --->  -0.09525542\n",
            "0.5789377689  --->  0.19274649\n",
            "1.0791405439  --->  -0.18525273\n",
            "5.0037298203  --->  -0.1229036\n",
            "0.4204488993  --->  0.5488466\n"
          ]
        }
      ]
    },
    {
      "cell_type": "code",
      "source": [
        "import pandas as pd\n",
        "pd.Series(results_dev).to_json(\"/content/drive/My Drive/colab/Datasets/Data_semEval2022/Results/char/it_vocab_revdict_results_prediction_dev.json\", orient='values')"
      ],
      "metadata": {
        "id": "EXpOUKhlLfUr"
      },
      "id": "EXpOUKhlLfUr",
      "execution_count": 104,
      "outputs": []
    },
    {
      "cell_type": "markdown",
      "source": [
        "\n",
        "### Test du modèle sur les données de TEST"
      ],
      "metadata": {
        "id": "SWYTwH8vn1-j"
      },
      "id": "SWYTwH8vn1-j"
    },
    {
      "cell_type": "code",
      "execution_count": 78,
      "metadata": {
        "id": "JJlejcV_oRfH"
      },
      "outputs": [],
      "source": [
        "with open(\"/content/drive/My Drive/colab/Datasets/Data_semEval2022/It_data/it.test.revdict.json\", \"r\") as file_handler:\n",
        "    dataset_test = json.load(file_handler)"
      ],
      "id": "JJlejcV_oRfH"
    },
    {
      "cell_type": "code",
      "execution_count": 79,
      "metadata": {
        "id": "ltDVpDM6oRfO"
      },
      "outputs": [],
      "source": [
        "glosses_test = []\n",
        "for e in dataset_test :\n",
        "    glosses_test.append(e[\"gloss\"])"
      ],
      "id": "ltDVpDM6oRfO"
    },
    {
      "cell_type": "code",
      "execution_count": 80,
      "metadata": {
        "id": "ggSf_l5SoRfX"
      },
      "outputs": [],
      "source": [
        "classes_test = model.predict(glosses_test, batch_size=32)"
      ],
      "id": "ggSf_l5SoRfX"
    },
    {
      "cell_type": "code",
      "source": [
        "print(len(classes_test))"
      ],
      "metadata": {
        "colab": {
          "base_uri": "https://localhost:8080/"
        },
        "outputId": "1864819e-c4db-4454-e617-10f0be81151c",
        "id": "DIMy3nOOoRfa"
      },
      "execution_count": null,
      "outputs": [
        {
          "output_type": "stream",
          "name": "stdout",
          "text": [
            "6208\n"
          ]
        }
      ],
      "id": "DIMy3nOOoRfa"
    },
    {
      "cell_type": "code",
      "source": [
        "print(len(classes_test[0]))"
      ],
      "metadata": {
        "colab": {
          "base_uri": "https://localhost:8080/"
        },
        "outputId": "4fe3f5a2-5d0f-4aff-b273-95f017bb4c71",
        "id": "qQfXjwEopP81"
      },
      "execution_count": null,
      "outputs": [
        {
          "output_type": "stream",
          "name": "stdout",
          "text": [
            "256\n"
          ]
        }
      ],
      "id": "qQfXjwEopP81"
    },
    {
      "cell_type": "code",
      "source": [
        "results_test = []\n",
        "\n",
        "prefix_id = \"it.revdict.\"\n",
        "i = 1\n",
        "for g in glosses_test :\n",
        "  sample = {}\n",
        "  id = prefix_id + str(i)\n",
        "  sample[\"id\"] = id\n",
        "  sample[\"gloss\"] = g\n",
        "  sample[\"char\"] = classes_test[glosses_test.index(g)]\n",
        "  results_test.append(sample)\n",
        "  i+=1\n",
        "\n",
        "print(\"taille du resultat : \", len(results_test))"
      ],
      "metadata": {
        "colab": {
          "base_uri": "https://localhost:8080/"
        },
        "outputId": "20239084-b420-47a7-f8c5-285c3d5c46c4",
        "id": "eBQ5LtvhpP84"
      },
      "execution_count": 81,
      "outputs": [
        {
          "output_type": "stream",
          "name": "stdout",
          "text": [
            "taille du resultat :  6208\n"
          ]
        }
      ],
      "id": "eBQ5LtvhpP84"
    },
    {
      "cell_type": "code",
      "source": [
        "import pandas as pd\n",
        "pd.Series(results_test).to_json(\"/content/drive/My Drive/colab/Datasets/Data_semEval2022/Results/char/it_Vocab_revdict_results_prediction_test.json\", orient='values')"
      ],
      "metadata": {
        "id": "xK5Iu48KpynU"
      },
      "execution_count": 82,
      "outputs": [],
      "id": "xK5Iu48KpynU"
    }
  ],
  "metadata": {
    "colab": {
      "name": "It_VOCAB_CHAR_Revdict_Achitecture_tensorflow.ipynb",
      "provenance": []
    },
    "kernelspec": {
      "display_name": "Python 3 (ipykernel)",
      "language": "python",
      "name": "python3"
    },
    "language_info": {
      "codemirror_mode": {
        "name": "ipython",
        "version": 3
      },
      "file_extension": ".py",
      "mimetype": "text/x-python",
      "name": "python",
      "nbconvert_exporter": "python",
      "pygments_lexer": "ipython3",
      "version": "3.9.7"
    },
    "accelerator": "GPU"
  },
  "nbformat": 4,
  "nbformat_minor": 5
}