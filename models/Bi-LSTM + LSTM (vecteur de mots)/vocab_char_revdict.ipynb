{
  "cells": [
    {
      "cell_type": "code",
      "execution_count": 3,
      "metadata": {
        "id": "06f22756"
      },
      "outputs": [],
      "source": [
        "import json\n",
        "from tensorflow.keras.models import Sequential\n",
        "from tensorflow.keras import Input\n",
        "from tensorflow.keras.layers.experimental.preprocessing import TextVectorization\n",
        "from tensorflow.keras.layers import LSTM, Embedding, Dense, TimeDistributed, Dropout, Bidirectional, Flatten\n",
        "import numpy as np\n",
        "import pandas as pd\n",
        "from sklearn.feature_extraction.text import TfidfVectorizer\n",
        "from sklearn.feature_extraction.text import TfidfTransformer\n",
        "from tensorflow import keras"
      ],
      "id": "06f22756"
    },
    {
      "cell_type": "code",
      "execution_count": 4,
      "metadata": {
        "colab": {
          "base_uri": "https://localhost:8080/"
        },
        "id": "z_XEPOjNYhqK",
        "outputId": "27bf91c7-4e3e-4ccc-ca8e-4e79abf1c161"
      },
      "outputs": [
        {
          "output_type": "stream",
          "name": "stdout",
          "text": [
            "Drive already mounted at /content/drive; to attempt to forcibly remount, call drive.mount(\"/content/drive\", force_remount=True).\n"
          ]
        }
      ],
      "source": [
        "from google.colab import drive\n",
        "drive.mount('/content/drive')"
      ],
      "id": "z_XEPOjNYhqK"
    },
    {
      "cell_type": "markdown",
      "metadata": {
        "id": "0eae8dac"
      },
      "source": [
        "### Chargement des données"
      ],
      "id": "0eae8dac"
    },
    {
      "cell_type": "code",
      "execution_count": 7,
      "metadata": {
        "id": "2c211d43"
      },
      "outputs": [],
      "source": [
        "import os\n",
        "\n",
        "with open(\"/content/drive/My Drive/Datasets/Data_semEval2022/En_data/en.train.json\", \"r\") as file_handler:\n",
        "  dataset = json.load(file_handler)\n"
      ],
      "id": "2c211d43"
    },
    {
      "cell_type": "code",
      "execution_count": 8,
      "metadata": {
        "id": "c2101cf4"
      },
      "outputs": [],
      "source": [
        "with open(\"/content/drive/My Drive/Datasets/Data_semEval2022/En_data/en.dev.json\", \"r\") as file_handler:\n",
        "    dataset_dev = json.load(file_handler)"
      ],
      "id": "c2101cf4"
    },
    {
      "cell_type": "code",
      "execution_count": 9,
      "metadata": {
        "id": "e90cd2cd"
      },
      "outputs": [],
      "source": [
        "char_target = [i['char'] for i in dataset]\n",
        "glosses = [i['gloss'] for i in dataset]"
      ],
      "id": "e90cd2cd"
    },
    {
      "cell_type": "code",
      "execution_count": 10,
      "metadata": {
        "id": "78d48134"
      },
      "outputs": [],
      "source": [
        "char_dev = [i['char'] for i in dataset_dev]\n",
        "glosses_dev = [i['gloss'] for i in dataset_dev]"
      ],
      "id": "78d48134"
    },
    {
      "cell_type": "code",
      "execution_count": 11,
      "metadata": {
        "colab": {
          "base_uri": "https://localhost:8080/"
        },
        "id": "993c2dcc",
        "outputId": "577a71f5-024a-4767-f653-d91b98c3bc56"
      },
      "outputs": [
        {
          "output_type": "stream",
          "name": "stdout",
          "text": [
            "6375\n"
          ]
        }
      ],
      "source": [
        "print(len(glosses_dev))"
      ],
      "id": "993c2dcc"
    },
    {
      "cell_type": "code",
      "execution_count": 12,
      "metadata": {
        "colab": {
          "base_uri": "https://localhost:8080/"
        },
        "id": "etS_pwT_Fi5J",
        "outputId": "d6bd2c1c-6ab6-4ccb-c262-f2ac52830541"
      },
      "outputs": [
        {
          "output_type": "stream",
          "name": "stdout",
          "text": [
            "Num GPUs Available:  1\n"
          ]
        }
      ],
      "source": [
        "import tensorflow as tf\n",
        "print(\"Num GPUs Available: \", len(tf.config.list_physical_devices('GPU')))"
      ],
      "id": "etS_pwT_Fi5J"
    },
    {
      "cell_type": "markdown",
      "metadata": {
        "id": "6e93118c"
      },
      "source": [
        "### Préparation des données"
      ],
      "id": "6e93118c"
    },
    {
      "cell_type": "markdown",
      "source": [
        "### Preparing data for char embedding"
      ],
      "metadata": {
        "id": "puGXPe7YjJp6"
      },
      "id": "puGXPe7YjJp6"
    },
    {
      "cell_type": "code",
      "source": [
        "import nltk\n",
        "nltk.download('punkt')\n",
        "from nltk.tokenize import word_tokenize \n",
        "\n",
        "# creates mapping of unique characters to integers\n",
        "chars_train = []\n",
        "#print(chars)\n",
        "\n",
        "idx = 0\n",
        "char_to_int = dict()\n",
        "int_to_char = dict()\n",
        "\n",
        "for gloss in glosses:\n",
        "  chars_gloss = []\n",
        "  for word in word_tokenize(gloss) :\n",
        "    chars = list(word)\n",
        "    chars_gloss.extend(chars)\n",
        "    for char in chars : \n",
        "      if char not in char_to_int : \n",
        "        char_to_int[char] = idx\n",
        "        int_to_char[idx] = char\n",
        "        idx+=1\n",
        "  chars_train.append(chars_gloss)\n",
        "\n",
        "\n",
        "\n",
        "print(\"The number of total characters are\", len(list(char_to_int.keys())))\n"
      ],
      "metadata": {
        "colab": {
          "base_uri": "https://localhost:8080/"
        },
        "id": "K1mZMlPO_Gms",
        "outputId": "d5e5b3e9-fefb-4f9e-d999-e72228c8b39b"
      },
      "id": "K1mZMlPO_Gms",
      "execution_count": 13,
      "outputs": [
        {
          "output_type": "stream",
          "name": "stdout",
          "text": [
            "[nltk_data] Downloading package punkt to /root/nltk_data...\n",
            "[nltk_data]   Unzipping tokenizers/punkt.zip.\n",
            "The number of total characters are 139\n"
          ]
        }
      ]
    },
    {
      "cell_type": "code",
      "source": [
        "print(list(char_to_int.keys()))"
      ],
      "metadata": {
        "colab": {
          "base_uri": "https://localhost:8080/"
        },
        "id": "dcgGSg8FR-0f",
        "outputId": "e516f4f3-4079-4d6a-935b-1ef4fedea238"
      },
      "id": "dcgGSg8FR-0f",
      "execution_count": 14,
      "outputs": [
        {
          "output_type": "stream",
          "name": "stdout",
          "text": [
            "['A', 'b', 'l', 'e', 'm', 'i', 's', 'h', '.', 'v', 'o', 'c', 'a', 'g', 'n', 'r', 'H', 'd', 'u', 't', ',', 'p', 'y', 'f', 'w', 'T', ';', 'M', 'j', 'k', 'P', 'I', 'D', 'q', 'O', 'R', \"'\", 'x', 'S', 'B', '(', ')', ':', 'L', 'W', 'z', 'J', 'C', 'G', 'E', '1', '6', '5', '–', '7', '2', '8', 'U', '-', 'N', 'F', '/', 'é', 'à', 'V', '9', '0', '3', '`', 'K', 'Y', 'Z', '°', 'ƒ', 'X', '→', '⊆', '−', '=', '{', '∈', '}', '—', '%', '4', '!', 'ñ', '₨', 'á', 'É', '£', 'Q', '♭', 'ˌ', '*', '[', ']', '½', 'ü', '¨', 'ó', 'ê', 'Θ', '?', 'ū', 'ç', '+', '′', 'ḫ', 'τ', 'ä', '·', 'í', '≈', '&', 'ș', '¯', '@', 'α', 'β', 'ô', '<', 'ā', 'ℓ', '\\\\', '_', '^', '×', '⊇', 'Α', '#', '₄', 'ə', '|', '†', '‾', '>', 'ö', '~']\n"
          ]
        }
      ]
    },
    {
      "cell_type": "code",
      "source": [
        "print(chars_train[1])"
      ],
      "metadata": {
        "colab": {
          "base_uri": "https://localhost:8080/"
        },
        "id": "Fa0duZfp9h5F",
        "outputId": "95d80551-f179-4f25-b10d-8ba945431008"
      },
      "id": "Fa0duZfp9h5F",
      "execution_count": 15,
      "outputs": [
        {
          "output_type": "stream",
          "name": "stdout",
          "text": [
            "['A', 'v', 'o', 'c', 'a', 'l', 'g', 'e', 'n', 'r', 'e', 'i', 'n', 'H', 'i', 'n', 'd', 'u', 's', 't', 'a', 'n', 'i', 'c', 'l', 'a', 's', 's', 'i', 'c', 'a', 'l', 'm', 'u', 's', 'i', 'c']\n"
          ]
        }
      ]
    },
    {
      "cell_type": "code",
      "execution_count": 16,
      "metadata": {
        "id": "0f44ec59"
      },
      "outputs": [],
      "source": [
        "#max_tokens = len(list(lemm2Idx))\n",
        "#print(max_tokens)\n",
        "#max_tokens_ = len(list(lemm2Idx))\n",
        "\n",
        "#max_tokens_dev = len(lemm2Idx_dev)\n",
        "\n",
        "vectorize_layer = TextVectorization(\n",
        "    # Max vocab size. Any words outside of the max_tokens most common ones\n",
        "    # will be treated the same way: as \"out of vocabulary\" (OOV) tokens.\n",
        "    max_tokens=214,\n",
        "    # Output integer indices, one per string token\n",
        "    output_mode=\"int\",\n",
        "    # Always pad or truncate to exactly this many tokens\n",
        "    output_sequence_length=300\n",
        ")"
      ],
      "id": "0f44ec59"
    },
    {
      "cell_type": "code",
      "source": [
        "vectorize_layer.set_vocabulary(list(char_to_int.keys()))"
      ],
      "metadata": {
        "id": "XTOjM8RIp2s1"
      },
      "id": "XTOjM8RIp2s1",
      "execution_count": 17,
      "outputs": []
    },
    {
      "cell_type": "code",
      "source": [
        "vectorize_layer.get_vocabulary()"
      ],
      "metadata": {
        "colab": {
          "base_uri": "https://localhost:8080/"
        },
        "id": "DsKBxYWNrv-C",
        "outputId": "66bdfb75-57a4-4556-a4a0-a76bc4e30ea7"
      },
      "id": "DsKBxYWNrv-C",
      "execution_count": 18,
      "outputs": [
        {
          "output_type": "execute_result",
          "data": {
            "text/plain": [
              "['',\n",
              " '[UNK]',\n",
              " 'A',\n",
              " 'b',\n",
              " 'l',\n",
              " 'e',\n",
              " 'm',\n",
              " 'i',\n",
              " 's',\n",
              " 'h',\n",
              " '.',\n",
              " 'v',\n",
              " 'o',\n",
              " 'c',\n",
              " 'a',\n",
              " 'g',\n",
              " 'n',\n",
              " 'r',\n",
              " 'H',\n",
              " 'd',\n",
              " 'u',\n",
              " 't',\n",
              " ',',\n",
              " 'p',\n",
              " 'y',\n",
              " 'f',\n",
              " 'w',\n",
              " 'T',\n",
              " ';',\n",
              " 'M',\n",
              " 'j',\n",
              " 'k',\n",
              " 'P',\n",
              " 'I',\n",
              " 'D',\n",
              " 'q',\n",
              " 'O',\n",
              " 'R',\n",
              " \"'\",\n",
              " 'x',\n",
              " 'S',\n",
              " 'B',\n",
              " '(',\n",
              " ')',\n",
              " ':',\n",
              " 'L',\n",
              " 'W',\n",
              " 'z',\n",
              " 'J',\n",
              " 'C',\n",
              " 'G',\n",
              " 'E',\n",
              " '1',\n",
              " '6',\n",
              " '5',\n",
              " '–',\n",
              " '7',\n",
              " '2',\n",
              " '8',\n",
              " 'U',\n",
              " '-',\n",
              " 'N',\n",
              " 'F',\n",
              " '/',\n",
              " 'é',\n",
              " 'à',\n",
              " 'V',\n",
              " '9',\n",
              " '0',\n",
              " '3',\n",
              " '`',\n",
              " 'K',\n",
              " 'Y',\n",
              " 'Z',\n",
              " '°',\n",
              " 'ƒ',\n",
              " 'X',\n",
              " '→',\n",
              " '⊆',\n",
              " '−',\n",
              " '=',\n",
              " '{',\n",
              " '∈',\n",
              " '}',\n",
              " '—',\n",
              " '%',\n",
              " '4',\n",
              " '!',\n",
              " 'ñ',\n",
              " '₨',\n",
              " 'á',\n",
              " 'É',\n",
              " '£',\n",
              " 'Q',\n",
              " '♭',\n",
              " 'ˌ',\n",
              " '*',\n",
              " '[',\n",
              " ']',\n",
              " '½',\n",
              " 'ü',\n",
              " '¨',\n",
              " 'ó',\n",
              " 'ê',\n",
              " 'Θ',\n",
              " '?',\n",
              " 'ū',\n",
              " 'ç',\n",
              " '+',\n",
              " '′',\n",
              " 'ḫ',\n",
              " 'τ',\n",
              " 'ä',\n",
              " '·',\n",
              " 'í',\n",
              " '≈',\n",
              " '&',\n",
              " 'ș',\n",
              " '¯',\n",
              " '@',\n",
              " 'α',\n",
              " 'β',\n",
              " 'ô',\n",
              " '<',\n",
              " 'ā',\n",
              " 'ℓ',\n",
              " '\\\\',\n",
              " '_',\n",
              " '^',\n",
              " '×',\n",
              " '⊇',\n",
              " 'Α',\n",
              " '#',\n",
              " '₄',\n",
              " 'ə',\n",
              " '|',\n",
              " '†',\n",
              " '‾',\n",
              " '>',\n",
              " 'ö',\n",
              " '~']"
            ]
          },
          "metadata": {},
          "execution_count": 18
        }
      ]
    },
    {
      "cell_type": "markdown",
      "metadata": {
        "id": "3a64ca10"
      },
      "source": [
        "### Construction du modèle"
      ],
      "id": "3a64ca10"
    },
    {
      "cell_type": "code",
      "source": [
        "pip install tensorflow_addons"
      ],
      "metadata": {
        "colab": {
          "base_uri": "https://localhost:8080/"
        },
        "id": "RxLG299RJayu",
        "outputId": "6ad71665-2ed9-4d92-dcec-e63e3274d67c"
      },
      "id": "RxLG299RJayu",
      "execution_count": 19,
      "outputs": [
        {
          "output_type": "stream",
          "name": "stdout",
          "text": [
            "Collecting tensorflow_addons\n",
            "  Downloading tensorflow_addons-0.15.0-cp37-cp37m-manylinux_2_12_x86_64.manylinux2010_x86_64.whl (1.1 MB)\n",
            "\u001b[K     |████████████████████████████████| 1.1 MB 5.3 MB/s \n",
            "\u001b[?25hRequirement already satisfied: typeguard>=2.7 in /usr/local/lib/python3.7/dist-packages (from tensorflow_addons) (2.7.1)\n",
            "Installing collected packages: tensorflow-addons\n",
            "Successfully installed tensorflow-addons-0.15.0\n"
          ]
        }
      ]
    },
    {
      "cell_type": "code",
      "execution_count": 20,
      "metadata": {
        "id": "qqBlEmP9xb1B"
      },
      "outputs": [],
      "source": [
        "import tensorflow as tf\n",
        "import tensorflow_addons as tfa\n",
        "step = tf.Variable(0, trainable=False)\n",
        "schedule = tf.optimizers.schedules.PiecewiseConstantDecay(\n",
        "    [10000, 15000], [1e-0, 1e-1, 1e-2])\n",
        "# lr and wd can be a function or a tensor\n",
        "\n",
        "lr = 1e-1 * schedule(step)\n",
        "\n",
        "learning_rate=1e-3\n",
        "\n",
        "wd = lambda: 1e-4 * schedule(step)\n",
        "\n",
        "weight_decay=1e-6,\n",
        "\n",
        "optimizer = tfa.optimizers.AdamW(learning_rate=learning_rate, weight_decay=weight_decay)"
      ],
      "id": "qqBlEmP9xb1B"
    },
    {
      "cell_type": "code",
      "execution_count": 53,
      "metadata": {
        "id": "374b3648"
      },
      "outputs": [],
      "source": [
        "import torch.optim as optim\n",
        "\n",
        "opt = keras.optimizers.Adam(learning_rate=0.01)"
      ],
      "id": "374b3648"
    },
    {
      "cell_type": "code",
      "execution_count": 86,
      "metadata": {
        "id": "97206c4d"
      },
      "outputs": [],
      "source": [
        "model = Sequential()\n",
        "model.add(Input(shape=(1,), dtype=\"string\"))"
      ],
      "id": "97206c4d"
    },
    {
      "cell_type": "code",
      "execution_count": 87,
      "metadata": {
        "id": "beb5c57f"
      },
      "outputs": [],
      "source": [
        "model.add(vectorize_layer)"
      ],
      "id": "beb5c57f"
    },
    {
      "cell_type": "code",
      "execution_count": 88,
      "metadata": {
        "id": "a0dde3ec",
        "colab": {
          "base_uri": "https://localhost:8080/",
          "height": 210
        },
        "outputId": "08b52891-5922-4cd4-ce67-8dc8601967df"
      },
      "outputs": [
        {
          "output_type": "error",
          "ename": "TypeError",
          "evalue": "ignored",
          "traceback": [
            "\u001b[0;31m---------------------------------------------------------------------------\u001b[0m",
            "\u001b[0;31mTypeError\u001b[0m                                 Traceback (most recent call last)",
            "\u001b[0;32m<ipython-input-88-f31355a15052>\u001b[0m in \u001b[0;36m<module>\u001b[0;34m()\u001b[0m\n\u001b[1;32m     18\u001b[0m \u001b[0;34m\u001b[0m\u001b[0m\n\u001b[1;32m     19\u001b[0m \u001b[0;34m\u001b[0m\u001b[0m\n\u001b[0;32m---> 20\u001b[0;31m \u001b[0mmodel\u001b[0m\u001b[0;34m.\u001b[0m\u001b[0madd\u001b[0m\u001b[0;34m(\u001b[0m\u001b[0mtf\u001b[0m\u001b[0;34m.\u001b[0m\u001b[0mkeras\u001b[0m\u001b[0;34m.\u001b[0m\u001b[0mlayers\u001b[0m\u001b[0;34m.\u001b[0m\u001b[0mConvLSTM1D\u001b[0m\u001b[0;34m(\u001b[0m\u001b[0;36m256\u001b[0m\u001b[0;34m,\u001b[0m \u001b[0mreturn_sequences\u001b[0m\u001b[0;34m=\u001b[0m\u001b[0;32mFalse\u001b[0m\u001b[0;34m,\u001b[0m \u001b[0mactivation\u001b[0m \u001b[0;34m=\u001b[0m \u001b[0;34m\"softmax\"\u001b[0m\u001b[0;34m)\u001b[0m\u001b[0;34m)\u001b[0m\u001b[0;34m\u001b[0m\u001b[0;34m\u001b[0m\u001b[0m\n\u001b[0m",
            "\u001b[0;31mTypeError\u001b[0m: __init__() missing 1 required positional argument: 'kernel_size'"
          ]
        }
      ],
      "source": [
        "from tensorflow.keras import layers\n",
        "# Note that we're using max_tokens + 1 here, since there's an\n",
        "# out-of-vocabulary (OOV) token that gets added to the vocab.\n",
        "\n",
        "len_gloses = 43608\n",
        "\n",
        "model.add(Embedding(170+1, 128))\n",
        "\n",
        "#model.add(Dense(128))\n",
        "\n",
        "\n",
        "#model.add(Bidirectional(LSTM(units=192, return_sequences=True), merge_mode = 'ave'))\n",
        "\n",
        "#model.add(Dense(192))\n",
        "\n",
        "\n",
        "model.add(Dense(64))\n",
        "\n",
        "\n",
        "model.add(tf.keras.layers.ConvLSTM1D(256, return_sequences=False, activation = \"softmax\"))\n"
      ],
      "id": "a0dde3ec"
    },
    {
      "cell_type": "code",
      "execution_count": null,
      "metadata": {
        "colab": {
          "base_uri": "https://localhost:8080/"
        },
        "id": "05ec90f7",
        "outputId": "96a703d1-caa1-44c7-c53b-70f50c3048cb"
      },
      "outputs": [
        {
          "output_type": "stream",
          "name": "stdout",
          "text": [
            "Model: \"sequential_2\"\n",
            "_________________________________________________________________\n",
            " Layer (type)                Output Shape              Param #   \n",
            "=================================================================\n",
            " text_vectorization_4 (TextV  (None, 300)              0         \n",
            " ectorization)                                                   \n",
            "                                                                 \n",
            " embedding_2 (Embedding)     (None, 300, 128)          21888     \n",
            "                                                                 \n",
            " dense_6 (Dense)             (None, 300, 128)          16512     \n",
            "                                                                 \n",
            " bidirectional_2 (Bidirectio  (None, 300, 192)         493056    \n",
            " nal)                                                            \n",
            "                                                                 \n",
            " dense_7 (Dense)             (None, 300, 192)          37056     \n",
            "                                                                 \n",
            " lstm_5 (LSTM)               (None, 256)               459776    \n",
            "                                                                 \n",
            " dense_8 (Dense)             (None, 256)               65792     \n",
            "                                                                 \n",
            "=================================================================\n",
            "Total params: 1,094,080\n",
            "Trainable params: 1,094,080\n",
            "Non-trainable params: 0\n",
            "_________________________________________________________________\n"
          ]
        }
      ],
      "source": [
        " model.compile(\n",
        "    optimizer=opt,\n",
        "    loss='mse',\n",
        "    metrics=['accuracy'],\n",
        ")\n",
        "\n",
        "model.summary()"
      ],
      "id": "05ec90f7"
    },
    {
      "cell_type": "code",
      "source": [
        "print(chars_train[0])\n",
        "print(len(char_target))"
      ],
      "metadata": {
        "colab": {
          "base_uri": "https://localhost:8080/"
        },
        "id": "J1c7pVOjOfLK",
        "outputId": "536fd7e6-a684-484d-d7ff-18a30c59ba78"
      },
      "id": "J1c7pVOjOfLK",
      "execution_count": null,
      "outputs": [
        {
          "output_type": "stream",
          "name": "stdout",
          "text": [
            "['(', 'P', 'a', 'r', 'm', 'é', 't', 'o', 'n', 'y', 'm', 'i', 'e', ')', 'P', 'l', 'a', 'c', 'e', 'd', 'e', 'p', 'r', 'o', 'f', 'e', 's', 's', 'e', 'u', 'r', 'd', 'a', 'n', 's', 'u', 'n', 'e', 'u', 'n', 'i', 'v', 'e', 'r', 's', 'i', 't', 'é', ',', 'e', 't', 'p', 'a', 'r', 'e', 'x', 't', 'e', 'n', 's', 'i', 'o', 'n', 'd', 'a', 'n', 's', 'u', 'n', 'e', 'g', 'r', 'a', 'n', 'd', 'e', 'é', 'c', 'o', 'l', 'e', 'o', 'u', 'u', 'n', 'é', 't', 'a', 'b', 'l', 'i', 's', 's', 'e', 'm', 'e', 'n', 't', 'd', \"'\", 'e', 'n', 's', 'e', 'i', 'g', 'n', 'e', 'm', 'e', 'n', 't', 's', 'u', 'p', 'é', 'r', 'i', 'e', 'u', 'r', '.']\n",
            "43608\n"
          ]
        }
      ]
    },
    {
      "cell_type": "markdown",
      "metadata": {
        "id": "2f7c5b75"
      },
      "source": [
        "### Entraînement du modèle"
      ],
      "id": "2f7c5b75"
    },
    {
      "cell_type": "code",
      "execution_count": null,
      "metadata": {
        "colab": {
          "base_uri": "https://localhost:8080/"
        },
        "id": "81f1324c",
        "outputId": "f8ed5a21-f62a-4a2c-a2e4-1a07d6762b24"
      },
      "outputs": [
        {
          "output_type": "stream",
          "name": "stdout",
          "text": [
            "Epoch 1/10\n",
            "228/228 [==============================] - 338s 1s/step - loss: 0.1560 - accuracy: 0.9126 - val_loss: 0.1287 - val_accuracy: 0.9956\n",
            "Epoch 2/10\n",
            "228/228 [==============================] - 283s 1s/step - loss: 0.1329 - accuracy: 0.9959 - val_loss: 0.1289 - val_accuracy: 0.9956\n",
            "Epoch 3/10\n",
            "228/228 [==============================] - 269s 1s/step - loss: 0.1329 - accuracy: 0.9959 - val_loss: 0.1286 - val_accuracy: 0.9956\n",
            "Epoch 4/10\n",
            "228/228 [==============================] - 265s 1s/step - loss: 0.1329 - accuracy: 0.9959 - val_loss: 0.1288 - val_accuracy: 0.9956\n",
            "Epoch 5/10\n",
            "228/228 [==============================] - 269s 1s/step - loss: 0.1329 - accuracy: 0.9959 - val_loss: 0.1287 - val_accuracy: 0.9956\n",
            "Epoch 6/10\n",
            "228/228 [==============================] - 267s 1s/step - loss: 0.1329 - accuracy: 0.9959 - val_loss: 0.1285 - val_accuracy: 0.9956\n",
            "Epoch 7/10\n",
            "228/228 [==============================] - 267s 1s/step - loss: 0.1329 - accuracy: 0.9959 - val_loss: 0.1288 - val_accuracy: 0.9956\n",
            "Epoch 8/10\n",
            "228/228 [==============================] - 264s 1s/step - loss: 0.1329 - accuracy: 0.9959 - val_loss: 0.1285 - val_accuracy: 0.9956\n",
            "Epoch 9/10\n",
            "228/228 [==============================] - 266s 1s/step - loss: 0.1329 - accuracy: 0.9959 - val_loss: 0.1286 - val_accuracy: 0.9956\n",
            "Epoch 10/10\n",
            "228/228 [==============================] - 270s 1s/step - loss: 0.1329 - accuracy: 0.9959 - val_loss: 0.1286 - val_accuracy: 0.9956\n"
          ]
        }
      ],
      "source": [
        "with tf.device('/device:GPU:0'):\n",
        "  history = model.fit(glosses, char_target,\n",
        "                    epochs=10,\n",
        "                    batch_size=192,\n",
        "                    validation_data = (glosses_dev, char_dev))"
      ],
      "id": "81f1324c"
    },
    {
      "cell_type": "code",
      "execution_count": null,
      "metadata": {
        "colab": {
          "base_uri": "https://localhost:8080/",
          "height": 545
        },
        "id": "ff51800e",
        "outputId": "cb87f6b2-1299-43c8-a7dc-41761afea900"
      },
      "outputs": [
        {
          "output_type": "display_data",
          "data": {
            "image/png": "[encoded data removed]",
            "text/plain": [
              "<Figure size 432x288 with 1 Axes>"
            ]
          },
          "metadata": {
            "needs_background": "light"
          }
        },
        {
          "output_type": "display_data",
          "data": {
            "image/png": "[encoded data removed]",
            "text/plain": [
              "<Figure size 432x288 with 1 Axes>"
            ]
          },
          "metadata": {
            "needs_background": "light"
          }
        }
      ],
      "source": [
        "#Visualisation des résultats de l'entraînement.\n",
        "import matplotlib.pyplot as plt\n",
        "\n",
        "acc = history.history['accuracy']\n",
        "val_acc = history.history['val_accuracy']\n",
        "loss = history.history['loss']\n",
        "val_loss = history.history['val_loss']\n",
        "\n",
        "epochs = range(1, len(acc) + 1)\n",
        "\n",
        "plt.plot(epochs, acc, 'bo', label='Training acc')\n",
        "plt.plot(epochs, val_acc, 'b', label='Validation acc')\n",
        "plt.title('Training and validation accuracy')\n",
        "plt.legend()\n",
        "\n",
        "plt.figure()\n",
        "\n",
        "plt.plot(epochs, loss, 'bo', label='Training loss')\n",
        "plt.plot(epochs, val_loss, 'b', label='Validation loss')\n",
        "plt.title('Training and validation loss')\n",
        "plt.legend()\n",
        "\n",
        "plt.show()"
      ],
      "id": "ff51800e"
    },
    {
      "cell_type": "code",
      "execution_count": null,
      "metadata": {
        "id": "KQZk_4rH86t6",
        "colab": {
          "base_uri": "https://localhost:8080/"
        },
        "outputId": "5de56f31-fb2f-41f4-d8fd-e7e22c30d927"
      },
      "outputs": [
        {
          "output_type": "stream",
          "name": "stderr",
          "text": [
            "WARNING:absl:Found untraced functions such as lstm_cell_13_layer_call_fn, lstm_cell_13_layer_call_and_return_conditional_losses, lstm_cell_14_layer_call_fn, lstm_cell_14_layer_call_and_return_conditional_losses, lstm_cell_13_layer_call_fn while saving (showing 5 of 10). These functions will not be directly callable after loading.\n"
          ]
        },
        {
          "output_type": "stream",
          "name": "stdout",
          "text": [
            "INFO:tensorflow:Assets written to: _fr_revdict_model.tf/assets\n"
          ]
        },
        {
          "output_type": "stream",
          "name": "stderr",
          "text": [
            "INFO:tensorflow:Assets written to: _fr_revdict_model.tf/assets\n",
            "WARNING:absl:<keras.layers.recurrent.LSTMCell object at 0x7f1ea9f293d0> has the same name 'LSTMCell' as a built-in Keras object. Consider renaming <class 'keras.layers.recurrent.LSTMCell'> to avoid naming conflicts when loading with `tf.keras.models.load_model`. If renaming is not possible, pass the object in the `custom_objects` parameter of the load function.\n",
            "WARNING:absl:<keras.layers.recurrent.LSTMCell object at 0x7f1ea9f16f50> has the same name 'LSTMCell' as a built-in Keras object. Consider renaming <class 'keras.layers.recurrent.LSTMCell'> to avoid naming conflicts when loading with `tf.keras.models.load_model`. If renaming is not possible, pass the object in the `custom_objects` parameter of the load function.\n",
            "WARNING:absl:<keras.layers.recurrent.LSTMCell object at 0x7f1ea9f16090> has the same name 'LSTMCell' as a built-in Keras object. Consider renaming <class 'keras.layers.recurrent.LSTMCell'> to avoid naming conflicts when loading with `tf.keras.models.load_model`. If renaming is not possible, pass the object in the `custom_objects` parameter of the load function.\n"
          ]
        }
      ],
      "source": [
        "#sauvegarde du modèle\n",
        "model.save('_fr_revdict_model.tf')"
      ],
      "id": "KQZk_4rH86t6"
    },
    {
      "cell_type": "markdown",
      "metadata": {
        "id": "185fe5e0"
      },
      "source": [
        "\n",
        "### Test du modèle sur les données Trial"
      ],
      "id": "185fe5e0"
    },
    {
      "cell_type": "code",
      "execution_count": null,
      "metadata": {
        "id": "7191cfdb"
      },
      "outputs": [],
      "source": [
        "with open(\"/content/drive/My Drive/Datasets/Data_semEval2022/Ru_data/ru.trial.complete.json\", \"r\") as file_handler:\n",
        "    dataset_trial = json.load(file_handler)"
      ],
      "id": "7191cfdb"
    },
    {
      "cell_type": "code",
      "execution_count": null,
      "metadata": {
        "id": "96e503fb"
      },
      "outputs": [],
      "source": [
        "glosses_trial = []\n",
        "for e in dataset_trial :\n",
        "    glosses_trial.append(e[\"gloss\"])"
      ],
      "id": "96e503fb"
    },
    {
      "cell_type": "code",
      "execution_count": null,
      "metadata": {
        "id": "0bcc6573"
      },
      "outputs": [],
      "source": [
        "char_trial = []\n",
        "for e in dataset_trial :\n",
        "    char_trial.append(e[\"char\"])"
      ],
      "id": "0bcc6573"
    },
    {
      "cell_type": "code",
      "execution_count": null,
      "metadata": {
        "colab": {
          "base_uri": "https://localhost:8080/"
        },
        "id": "0329df26",
        "outputId": "2c7dce40-fa1c-4db3-f9ba-4f36382c2893"
      },
      "outputs": [
        {
          "output_type": "stream",
          "name": "stdout",
          "text": [
            "7/7 - 1s - loss: 0.1261 - accuracy: 1.0000 - 901ms/epoch - 129ms/step\n"
          ]
        }
      ],
      "source": [
        "scores = model.evaluate(glosses_trial, char_trial, verbose=2)"
      ],
      "id": "0329df26"
    },
    {
      "cell_type": "code",
      "execution_count": null,
      "metadata": {
        "id": "229313da"
      },
      "outputs": [],
      "source": [
        "classes_trial = model.predict(glosses_trial, batch_size=32)"
      ],
      "id": "229313da"
    },
    {
      "cell_type": "code",
      "source": [
        "print(len(classes_trial))"
      ],
      "metadata": {
        "colab": {
          "base_uri": "https://localhost:8080/"
        },
        "id": "p8WYLvoVS66z",
        "outputId": "d2d92f2c-40db-4f72-ebe4-f4281b97900d"
      },
      "id": "p8WYLvoVS66z",
      "execution_count": null,
      "outputs": [
        {
          "output_type": "stream",
          "name": "stdout",
          "text": [
            "200\n"
          ]
        }
      ]
    },
    {
      "cell_type": "code",
      "source": [
        "print(len(classes_trial[0]))"
      ],
      "metadata": {
        "colab": {
          "base_uri": "https://localhost:8080/"
        },
        "id": "aV9Cl17pS9wV",
        "outputId": "2fb74d8e-cf95-495b-c30c-6e99e3198efc"
      },
      "id": "aV9Cl17pS9wV",
      "execution_count": null,
      "outputs": [
        {
          "output_type": "stream",
          "name": "stdout",
          "text": [
            "256\n"
          ]
        }
      ]
    },
    {
      "cell_type": "code",
      "source": [
        "results = []\n",
        "\n",
        "prefix_id = \"r.revdict.\"\n",
        "i = 1\n",
        "for g in glosses_trial :\n",
        "  sample = {}\n",
        "  id = prefix_id + str(i)\n",
        "  sample[\"id\"] = id\n",
        "  sample[\"gloss\"] = g\n",
        "  sample[\"char\"] = classes_trial[glosses_trial.index(g)]\n",
        "  results.append(sample)\n",
        "  i+=1\n",
        "\n",
        "print(\"taille du resultat : \", len(results))\n",
        "# affichage du premier vecteur pour visualiser les résultats produits\n",
        "print(\"vecteur trial ---> prédiction\")\n",
        "for v in char_trial[0] :\n",
        "  print(v, \" ---> \", results[0][\"char\"][list(char_trial[0]).index(v)])"
      ],
      "metadata": {
        "colab": {
          "base_uri": "https://localhost:8080/"
        },
        "id": "JNQa4rDgT4y5",
        "outputId": "2071e283-070a-41f1-a6db-0a7ac033833c"
      },
      "id": "JNQa4rDgT4y5",
      "execution_count": null,
      "outputs": [
        {
          "output_type": "stream",
          "name": "stdout",
          "text": [
            "taille du resultat :  200\n",
            "vecteur trial ---> prédiction\n",
            "0.1549016088  --->  0.06887023\n",
            "0.8108819723  --->  0.46247867\n",
            "0.2797814012  --->  -0.16801977\n",
            "0.6561769247  --->  -0.09511693\n",
            "-0.0008314893  --->  0.0057423413\n",
            "0.1588839889  --->  0.068946764\n",
            "-0.2309072614  --->  -0.0146036465\n",
            "0.207634002  --->  0.07155848\n",
            "0.243281275  --->  0.14947394\n",
            "0.1367786527  --->  0.034447774\n",
            "0.0761166662  --->  0.051402874\n",
            "-1.8838964701  --->  0.75984347\n",
            "0.7927245498  --->  0.36364\n",
            "-0.0976867676  --->  0.34529924\n",
            "-0.0519368351  --->  -0.023879696\n",
            "-0.3733560741  --->  -0.092676744\n",
            "-0.0547726043  --->  -0.034226827\n",
            "-0.3678258061  --->  0.07344459\n",
            "0.1150633097  --->  -0.06208238\n",
            "-0.0367079638  --->  0.03790228\n",
            "0.7559102774  --->  0.0963352\n",
            "0.4704197943  --->  0.1399009\n",
            "0.3879395723  --->  1.8395965\n",
            "-0.0753928423  --->  0.12706819\n",
            "-0.3884758353  --->  -0.2726388\n",
            "-0.2253901958  --->  -0.3397448\n",
            "0.1285549104  --->  0.15599445\n",
            "0.1626948267  --->  -0.20788461\n",
            "0.0354584567  --->  0.036048982\n",
            "0.3263785839  --->  0.03237594\n",
            "0.3196255267  --->  0.027972452\n",
            "0.2660668194  --->  0.46674407\n",
            "0.0119648958  --->  0.09393376\n",
            "-0.226224944  --->  0.012918029\n",
            "0.0303099919  --->  0.15713793\n",
            "0.2458355129  --->  -0.05576503\n",
            "1.5174502134  --->  1.5245068\n",
            "-0.1074416041  --->  -0.093848296\n",
            "0.2282596231  --->  0.011570789\n",
            "-0.067363143  --->  -0.025978297\n",
            "0.0464328863  --->  0.11385222\n",
            "-0.0723460093  --->  0.07996829\n",
            "0.9738434553  --->  0.12633733\n",
            "-0.4420145452  --->  0.063397676\n",
            "-0.0288903657  --->  -0.029028924\n",
            "-0.0901393741  --->  -0.27077538\n",
            "0.4657544494  --->  0.18610097\n",
            "-0.2572410703  --->  0.5363494\n",
            "0.0173140168  --->  0.15678623\n",
            "0.0638565719  --->  0.10880615\n",
            "0.6952268481  --->  0.09342995\n",
            "-0.2564352751  --->  0.095572375\n",
            "-0.1417713761  --->  0.021191042\n",
            "-0.0726616904  --->  0.13158011\n",
            "0.0015735484  --->  0.094209544\n",
            "0.1057730913  --->  0.06741809\n",
            "0.9354979992  --->  0.90220636\n",
            "0.5314334631  --->  0.45549107\n",
            "0.0120836273  --->  -0.14693198\n",
            "-0.18397668  --->  -0.10365473\n",
            "0.5466606021  --->  0.14992541\n",
            "0.3099626899  --->  0.28272575\n",
            "0.0861173421  --->  0.066446364\n",
            "0.3328353763  --->  -0.044975158\n",
            "0.0738533884  --->  0.06777136\n",
            "-0.1210346371  --->  0.08948961\n",
            "-0.347260952  --->  -0.26569593\n",
            "-0.2753560245  --->  -0.08515262\n",
            "-0.1588857919  --->  -0.154921\n",
            "-0.3157797456  --->  -0.10553558\n",
            "-0.1186672449  --->  0.03129988\n",
            "-0.195477888  --->  -0.08210924\n",
            "-1.3227678537  --->  -0.26576\n",
            "-0.2708105743  --->  -0.08386582\n",
            "0.0753916204  --->  0.060455933\n",
            "0.2032991052  --->  -0.06541437\n",
            "-0.1164199635  --->  -0.17021811\n",
            "0.1561666727  --->  0.02076101\n",
            "0.1225821227  --->  0.0140424\n",
            "0.0944995359  --->  0.16538183\n",
            "0.5166667104  --->  0.41101074\n",
            "0.1385051608  --->  0.11655336\n",
            "0.0841291472  --->  0.08639635\n",
            "0.1728225797  --->  0.07941078\n",
            "-0.2624594271  --->  0.16178669\n",
            "0.5102545023  --->  0.1534366\n",
            "0.2813729644  --->  0.07722256\n",
            "0.9969815016  --->  0.5382487\n",
            "0.2359631658  --->  0.05659082\n",
            "0.4201520681  --->  0.310252\n",
            "-1.0020778179  --->  0.25848234\n",
            "0.1899853796  --->  -0.08326317\n",
            "0.3577501178  --->  0.2660169\n",
            "1.0878953934  --->  -0.14048262\n",
            "0.2391437292  --->  0.066168495\n",
            "0.0540273972  --->  0.005056262\n",
            "0.0555700921  --->  0.3390159\n",
            "-0.0148683935  --->  0.26951122\n",
            "-0.2122027278  --->  0.4987923\n",
            "0.0394592136  --->  0.031505648\n",
            "0.0547767878  --->  -0.0033882856\n",
            "0.3705186248  --->  0.34677148\n",
            "0.1621878147  --->  0.22883505\n",
            "0.4143170714  --->  0.518229\n",
            "-0.0080409814  --->  0.21710221\n",
            "-0.5489993691  --->  0.29667574\n",
            "0.1532075554  --->  0.41790545\n",
            "0.2705107033  --->  0.0040106922\n",
            "-0.3915796578  --->  -0.16931951\n",
            "0.2347373366  --->  0.5164269\n",
            "0.0612111911  --->  0.0038591772\n",
            "-0.0138351098  --->  0.11639849\n",
            "0.3467643857  --->  0.40696967\n",
            "0.0653048232  --->  -0.020852558\n",
            "-0.1239881963  --->  0.31208038\n",
            "0.1723851562  --->  0.323096\n",
            "0.159600988  --->  0.080792814\n",
            "-0.0290414616  --->  -0.16775271\n",
            "0.4652619958  --->  0.16045025\n",
            "-0.5461406708  --->  -0.12116137\n",
            "0.2081513107  --->  0.026045365\n",
            "-0.2059556842  --->  -0.09246525\n",
            "0.0030949649  --->  0.01226747\n",
            "-0.1540242583  --->  0.0066248327\n",
            "0.7028363347  --->  0.0806001\n",
            "-0.2115040869  --->  -0.062197253\n",
            "0.0898417234  --->  0.29598933\n",
            "0.0855067819  --->  0.101255596\n",
            "-0.0112412516  --->  -0.048213106\n",
            "0.0879615471  --->  -0.071001455\n",
            "0.7386869788  --->  0.42975134\n",
            "0.6255308986  --->  0.53324115\n",
            "-0.6559853554  --->  -0.1585978\n",
            "2.5101103783  --->  3.6832852\n",
            "0.0163861997  --->  -0.123307\n",
            "0.0757949278  --->  0.01493603\n",
            "0.047187645  --->  0.03316505\n",
            "0.7555152774  --->  0.22427312\n",
            "-0.5083675981  --->  -0.026988462\n",
            "-0.1633045375  --->  0.01032458\n",
            "0.0980622917  --->  -0.03840039\n",
            "0.1384481937  --->  0.25781402\n",
            "0.5476025343  --->  0.70014226\n",
            "-0.1991781443  --->  -0.06615187\n",
            "-0.2278849483  --->  0.40943712\n",
            "-0.2520141006  --->  -0.25165185\n",
            "0.0886805728  --->  0.037185576\n",
            "0.1650012434  --->  0.19444391\n",
            "-0.3053583801  --->  -0.27133545\n",
            "0.2715851367  --->  0.087101005\n",
            "0.2051683068  --->  -0.024392286\n",
            "0.0187731329  --->  0.005201459\n",
            "0.5249894857  --->  -0.002764903\n",
            "0.8682395816  --->  0.7653985\n",
            "0.5526683331  --->  0.57453\n",
            "-0.4209368527  --->  0.06396081\n",
            "0.0556448959  --->  -0.021994263\n",
            "-0.0500423871  --->  0.017908491\n",
            "0.0512648299  --->  0.17809992\n",
            "0.1027353257  --->  0.11325321\n",
            "-0.1395682693  --->  -0.17293401\n",
            "0.7823480368  --->  0.6604236\n",
            "-0.074229233  --->  0.19956641\n",
            "-0.087182194  --->  0.081315346\n",
            "0.0598034263  --->  0.22624019\n",
            "0.0842885971  --->  0.080441535\n",
            "-0.0786421821  --->  0.29438683\n",
            "-0.1230052486  --->  -0.03104955\n",
            "0.290373683  --->  0.06356823\n",
            "0.1520243138  --->  0.4637144\n",
            "0.607867837  --->  0.22962476\n",
            "-0.7968521118  --->  -0.18634757\n",
            "0.3533236384  --->  0.08448467\n",
            "-0.0297947526  --->  0.16776913\n",
            "-0.3255694509  --->  0.19715092\n",
            "0.018969195  --->  -0.04216492\n",
            "0.3237301707  --->  -0.038324088\n",
            "0.3532343209  --->  0.07573208\n",
            "0.3569321632  --->  0.09424753\n",
            "0.2002863437  --->  0.15675743\n",
            "0.4621061683  --->  0.31174794\n",
            "-0.2077671885  --->  0.122854784\n",
            "-0.0454185605  --->  0.171276\n",
            "-0.1187509522  --->  0.0021393746\n",
            "0.1429130435  --->  0.106610075\n",
            "-0.0340202674  --->  0.0665292\n",
            "-0.2033857703  --->  0.12960951\n",
            "0.0083120717  --->  -0.02178514\n",
            "0.4227874875  --->  -0.15680021\n",
            "7.1368126869  --->  6.4588423\n",
            "-0.1963460445  --->  -0.023260012\n",
            "0.043270871  --->  0.30501562\n",
            "-0.0098476661  --->  -0.029480375\n",
            "0.0208224989  --->  -0.042964227\n",
            "-0.0711673796  --->  0.21483847\n",
            "0.3492141366  --->  0.10480433\n",
            "0.2986803949  --->  0.21583897\n",
            "0.2150980085  --->  0.07093261\n",
            "0.2841589451  --->  0.27024502\n",
            "0.0029864497  --->  -0.033126865\n",
            "-0.1185960993  --->  -0.123757444\n",
            "-0.0423103645  --->  -0.09315592\n",
            "-0.0577968583  --->  0.016743511\n",
            "0.1327799559  --->  0.4117173\n",
            "-0.6968914866  --->  -0.347112\n",
            "0.047917936  --->  0.031783335\n",
            "0.0907187983  --->  0.307089\n",
            "-0.5638009906  --->  -0.0017562658\n",
            "-0.3702269495  --->  0.0496044\n",
            "0.166833818  --->  0.19007328\n",
            "0.0475769639  --->  0.2053195\n",
            "-0.0503265113  --->  0.78074443\n",
            "-0.4381084144  --->  -0.15466869\n",
            "0.120847933  --->  -0.024215482\n",
            "-0.3819060922  --->  -0.21661812\n",
            "0.2992801666  --->  0.03225279\n",
            "-0.3407819271  --->  0.032045826\n",
            "-0.0282096323  --->  -0.03255734\n",
            "-0.1340988725  --->  -0.22093527\n",
            "0.581430912  --->  -0.14499684\n",
            "0.0360913947  --->  -0.17119709\n",
            "-0.8317052126  --->  -0.24150182\n",
            "0.6818263531  --->  0.19138712\n",
            "-0.4655894637  --->  0.021047711\n",
            "0.2162908316  --->  0.16382709\n",
            "0.2817594111  --->  0.2723615\n",
            "0.386701107  --->  0.030500986\n",
            "-0.1685818136  --->  0.00083635934\n",
            "0.482706815  --->  0.48344564\n",
            "-0.2255977988  --->  -0.17130361\n",
            "0.3793714345  --->  0.26344326\n",
            "0.095311299  --->  -0.036721736\n",
            "-0.4162201583  --->  -0.2538186\n",
            "0.1649320126  --->  0.21395868\n",
            "-0.0545330234  --->  0.14738679\n",
            "0.3766952753  --->  0.07103773\n",
            "0.1958969235  --->  0.21296616\n",
            "-0.0578978062  --->  -0.014361516\n",
            "0.1775055826  --->  1.0598637\n",
            "0.0591175146  --->  0.011403114\n",
            "-0.2463721931  --->  0.029587895\n",
            "0.0721084028  --->  0.1342678\n",
            "0.2235201895  --->  0.11546783\n",
            "0.7982745767  --->  0.14642051\n",
            "0.0838430002  --->  -0.4036644\n",
            "-0.0916657448  --->  -0.062518194\n",
            "-0.1086556315  --->  0.009086952\n",
            "0.7172268629  --->  -0.03826367\n",
            "0.3036058843  --->  0.31525853\n",
            "0.1304744035  --->  0.112473354\n",
            "0.091424346  --->  0.104889646\n",
            "-0.2363673747  --->  -0.16318306\n",
            "0.3169928789  --->  0.0561328\n",
            "0.0194315463  --->  0.010566648\n",
            "-0.4607836604  --->  -0.39720607\n",
            "-0.1050246507  --->  -0.04369092\n"
          ]
        }
      ]
    },
    {
      "cell_type": "code",
      "source": [
        "import pandas as pd\n",
        "pd.Series(results).to_json(\"/content/drive/My Drive/Datasets/Data_semEval2022/Results/char/ru_vocab_revdict_results_prediction_trial.json\", orient='values')"
      ],
      "metadata": {
        "id": "RoS8voONGr5r"
      },
      "id": "RoS8voONGr5r",
      "execution_count": null,
      "outputs": []
    },
    {
      "cell_type": "markdown",
      "metadata": {
        "id": "641929d8"
      },
      "source": [
        "### Calcule des métriques d'évaluation"
      ],
      "id": "641929d8"
    },
    {
      "cell_type": "code",
      "execution_count": null,
      "metadata": {
        "id": "6144a0db"
      },
      "outputs": [],
      "source": [
        "import torch.nn.functional as F\n",
        "import torch\n",
        "\n",
        "classes_trial_tensor = torch.tensor(classes_trial)\n",
        "char_trial_tensor = torch.tensor(char_trial)"
      ],
      "id": "6144a0db"
    },
    {
      "cell_type": "code",
      "execution_count": null,
      "metadata": {
        "id": "89083a05"
      },
      "outputs": [],
      "source": [
        "cos_sim = F.cosine_similarity(classes_trial_tensor, char_trial_tensor).mean().item()"
      ],
      "id": "89083a05"
    },
    {
      "cell_type": "code",
      "execution_count": null,
      "metadata": {
        "colab": {
          "base_uri": "https://localhost:8080/"
        },
        "id": "4c5613a8",
        "outputId": "ab955e6a-12a6-4e49-c295-6328abe2b8d3"
      },
      "outputs": [
        {
          "output_type": "stream",
          "name": "stdout",
          "text": [
            "0.8366307020187378\n"
          ]
        }
      ],
      "source": [
        "print(cos_sim)"
      ],
      "id": "4c5613a8"
    },
    {
      "cell_type": "code",
      "execution_count": null,
      "metadata": {
        "id": "d83108cb"
      },
      "outputs": [],
      "source": [
        "mse = F.mse_loss(classes_trial_tensor, char_trial_tensor).item()"
      ],
      "id": "d83108cb"
    },
    {
      "cell_type": "code",
      "execution_count": null,
      "metadata": {
        "colab": {
          "base_uri": "https://localhost:8080/"
        },
        "id": "528b2191",
        "outputId": "56bc5dd1-4f0c-4da9-9b18-02b0c8521195"
      },
      "outputs": [
        {
          "output_type": "stream",
          "name": "stdout",
          "text": [
            "0.1260860115289688\n"
          ]
        }
      ],
      "source": [
        "print(mse)"
      ],
      "id": "528b2191"
    },
    {
      "cell_type": "code",
      "execution_count": null,
      "metadata": {
        "id": "b29a01ac"
      },
      "outputs": [],
      "source": [
        "# fonction prise du code de la baseline.\n",
        "def rank_cosine(preds, targets):\n",
        "    unique_targets = targets.unique(dim=0)\n",
        "    all_assocs = preds @ F.normalize(targets).T\n",
        "    unique_assocs = preds @ F.normalize(unique_targets).T\n",
        "    refs = torch.diagonal(all_assocs, 0).unsqueeze(1)\n",
        "    ranks = (unique_assocs >= refs).sum(1).float().mean().item()\n",
        "    return ranks / unique_targets.size(0)"
      ],
      "id": "b29a01ac"
    },
    {
      "cell_type": "code",
      "execution_count": null,
      "metadata": {
        "id": "e4c527f9"
      },
      "outputs": [],
      "source": [
        "rnk = rank_cosine(classes_trial_tensor, char_trial_tensor)"
      ],
      "id": "e4c527f9"
    },
    {
      "cell_type": "code",
      "execution_count": null,
      "metadata": {
        "colab": {
          "base_uri": "https://localhost:8080/"
        },
        "id": "b816e4c2",
        "outputId": "4a647e33-51cc-4912-8292-2b0e433245ec"
      },
      "outputs": [
        {
          "output_type": "stream",
          "name": "stdout",
          "text": [
            "0.5016834124847872\n"
          ]
        }
      ],
      "source": [
        "print(rnk)"
      ],
      "id": "b816e4c2"
    },
    {
      "cell_type": "markdown",
      "metadata": {
        "id": "7WUnc1xrlQw2"
      },
      "source": [
        "### Test du modèle sur les données de DEV\n"
      ],
      "id": "7WUnc1xrlQw2"
    },
    {
      "cell_type": "code",
      "source": [
        "scores = model.evaluate(glosses_dev, char_dev, verbose=2)"
      ],
      "metadata": {
        "colab": {
          "base_uri": "https://localhost:8080/"
        },
        "id": "OSQ9VCfyKo9p",
        "outputId": "ac0adbb4-9421-4d2a-8f65-da14b362b458"
      },
      "id": "OSQ9VCfyKo9p",
      "execution_count": null,
      "outputs": [
        {
          "output_type": "stream",
          "name": "stdout",
          "text": [
            "200/200 - 22s - loss: 0.1286 - accuracy: 0.9956 - 22s/epoch - 110ms/step\n"
          ]
        }
      ]
    },
    {
      "cell_type": "code",
      "source": [
        "classes_dev = model.predict(glosses_dev, batch_size=32)"
      ],
      "metadata": {
        "id": "-hUJYloJKztO"
      },
      "id": "-hUJYloJKztO",
      "execution_count": null,
      "outputs": []
    },
    {
      "cell_type": "code",
      "source": [
        "print(len(classes_dev))"
      ],
      "metadata": {
        "colab": {
          "base_uri": "https://localhost:8080/"
        },
        "id": "OdscNkpSK5wF",
        "outputId": "39a36504-e6d5-48ec-8b20-750984e92d22"
      },
      "id": "OdscNkpSK5wF",
      "execution_count": null,
      "outputs": [
        {
          "output_type": "stream",
          "name": "stdout",
          "text": [
            "6375\n"
          ]
        }
      ]
    },
    {
      "cell_type": "code",
      "source": [
        "print(len(classes_dev[0]))"
      ],
      "metadata": {
        "colab": {
          "base_uri": "https://localhost:8080/"
        },
        "id": "NWFlBTTbLBqS",
        "outputId": "8f269fc2-9d7d-4549-c6bd-ac306c8179ac"
      },
      "id": "NWFlBTTbLBqS",
      "execution_count": null,
      "outputs": [
        {
          "output_type": "stream",
          "name": "stdout",
          "text": [
            "256\n"
          ]
        }
      ]
    },
    {
      "cell_type": "code",
      "source": [
        "results_dev = []\n",
        "\n",
        "prefix_id = \"ru.revdict.\"\n",
        "i = 1\n",
        "for g in glosses_dev :\n",
        "  sample = {}\n",
        "  id = prefix_id + str(i)\n",
        "  sample[\"id\"] = id\n",
        "  sample[\"gloss\"] = g\n",
        "  sample[\"char\"] = classes_dev[glosses_dev.index(g)]\n",
        "  results_dev.append(sample)\n",
        "  i+=1\n",
        "\n",
        "print(\"taille du résultat : \", len(results_dev))\n",
        "print(\"vecteur dev ---> prédiction\")\n",
        "for v in char_dev[0] :\n",
        "  print(v, \" ---> \", results_dev[0][\"char\"][list(char_dev[0]).index(v)])"
      ],
      "metadata": {
        "colab": {
          "base_uri": "https://localhost:8080/"
        },
        "id": "zJjXbeUiLJ4V",
        "outputId": "18087334-7278-42fb-e02a-154c62bb2fe5"
      },
      "id": "zJjXbeUiLJ4V",
      "execution_count": null,
      "outputs": [
        {
          "output_type": "stream",
          "name": "stdout",
          "text": [
            "taille du résultat :  6375\n",
            "vecteur dev ---> prédiction\n",
            "-1.0206348896  --->  0.06887023\n",
            "0.4040185809  --->  0.46247867\n",
            "0.2076986134  --->  -0.16801977\n",
            "-0.1349208206  --->  -0.09511693\n",
            "-0.0062887478  --->  0.0057423413\n",
            "0.775157392  --->  0.068946764\n",
            "-0.4248293638  --->  -0.0146036465\n",
            "0.0468964055  --->  0.07155848\n",
            "-0.0260181613  --->  0.14947394\n",
            "0.0828100443  --->  0.034447774\n",
            "0.0086538997  --->  0.051402874\n",
            "-1.8573913574  --->  0.75984347\n",
            "1.1487307549  --->  0.36364\n",
            "0.1882994771  --->  0.34529924\n",
            "-0.1176727042  --->  -0.023879696\n",
            "0.00967965  --->  -0.092676744\n",
            "-0.0505905747  --->  -0.034226827\n",
            "0.3610245883  --->  0.07344459\n",
            "-0.2608622313  --->  -0.06208238\n",
            "0.1551218182  --->  0.03790228\n",
            "0.4114088416  --->  0.0963352\n",
            "-0.127517432  --->  0.1399009\n",
            "0.1051455438  --->  1.8395965\n",
            "-0.0506102368  --->  0.12706819\n",
            "-0.1927840114  --->  -0.2726388\n",
            "-0.7081440687  --->  -0.3397448\n",
            "-0.5859607458  --->  0.15599445\n",
            "0.5337068439  --->  -0.20788461\n",
            "0.0892144963  --->  0.036048982\n",
            "0.0766411647  --->  0.03237594\n",
            "0.1612294167  --->  0.027972452\n",
            "0.4739662409  --->  0.46674407\n",
            "0.0279652327  --->  0.09393376\n",
            "0.2880090177  --->  0.012918029\n",
            "0.0275021903  --->  0.15713793\n",
            "-0.4368234277  --->  -0.05576503\n",
            "1.4748103619  --->  1.5245068\n",
            "0.3079547286  --->  -0.093848296\n",
            "0.0097852405  --->  0.011570789\n",
            "-0.0152890384  --->  -0.025978297\n",
            "-0.0906986296  --->  0.11385222\n",
            "-0.0792740583  --->  0.07996829\n",
            "0.293908596  --->  0.12633733\n",
            "0.5627330542  --->  0.063397676\n",
            "0.0648524016  --->  -0.029028924\n",
            "0.0349013247  --->  -0.27077538\n",
            "-0.023701774  --->  0.18610097\n",
            "0.2013514787  --->  0.5363494\n",
            "0.111158967  --->  0.15678623\n",
            "0.0591509305  --->  0.10880615\n",
            "0.1579076946  --->  0.09342995\n",
            "0.7926383615  --->  0.095572375\n",
            "0.2382124364  --->  0.021191042\n",
            "0.1613826156  --->  0.13158011\n",
            "0.0786248147  --->  0.094209544\n",
            "-0.2119401544  --->  0.06741809\n",
            "0.9467033744  --->  0.90220636\n",
            "0.4811777771  --->  0.45549107\n",
            "-0.5267230272  --->  -0.14693198\n",
            "0.0337641537  --->  -0.10365473\n",
            "-0.208979845  --->  0.14992541\n",
            "0.0235380828  --->  0.28272575\n",
            "0.0499666184  --->  0.066446364\n",
            "-0.44550699  --->  -0.044975158\n",
            "0.0635340065  --->  0.06777136\n",
            "-0.1030367985  --->  0.08948961\n",
            "-0.257163614  --->  -0.26569593\n",
            "1.0946209431  --->  -0.08515262\n",
            "-0.0565968752  --->  -0.154921\n",
            "0.3611326516  --->  -0.10553558\n",
            "0.1188546419  --->  0.03129988\n",
            "0.0630621165  --->  -0.08210924\n",
            "-0.0578879267  --->  -0.26576\n",
            "-0.1175465956  --->  -0.08386582\n",
            "-0.2503239214  --->  0.060455933\n",
            "0.1977599561  --->  -0.06541437\n",
            "-0.2381188124  --->  -0.17021811\n",
            "0.093988806  --->  0.02076101\n",
            "-0.0357255824  --->  0.0140424\n",
            "0.0930190608  --->  0.16538183\n",
            "0.1335680783  --->  0.41101074\n",
            "0.0236832853  --->  0.11655336\n",
            "0.1154833809  --->  0.08639635\n",
            "0.0575348213  --->  0.07941078\n",
            "0.5752873421  --->  0.16178669\n",
            "0.2139164805  --->  0.1534366\n",
            "0.0905494913  --->  0.07722256\n",
            "0.5186085105  --->  0.5382487\n",
            "0.0719100311  --->  0.05659082\n",
            "0.4423601031  --->  0.310252\n",
            "0.5071409345  --->  0.25848234\n",
            "0.3076467514  --->  -0.08326317\n",
            "0.0411377512  --->  0.2660169\n",
            "-0.1436405778  --->  -0.14048262\n",
            "0.1394014359  --->  0.066168495\n",
            "0.0067058243  --->  0.005056262\n",
            "0.5392330885  --->  0.3390159\n",
            "-0.053875152  --->  0.26951122\n",
            "0.2065979242  --->  0.4987923\n",
            "0.3836368918  --->  0.031505648\n",
            "-0.4888168573  --->  -0.0033882856\n",
            "0.2146904171  --->  0.34677148\n",
            "0.2482013702  --->  0.22883505\n",
            "0.1561812013  --->  0.518229\n",
            "0.0763411373  --->  0.21710221\n",
            "-0.1762231588  --->  0.29667574\n",
            "0.3075045943  --->  0.41790545\n",
            "-0.1445735246  --->  0.0040106922\n",
            "-0.4325182736  --->  -0.16931951\n",
            "-0.0299285427  --->  0.5164269\n",
            "-0.0617654249  --->  0.0038591772\n",
            "0.8681989312  --->  0.11639849\n",
            "0.3960418105  --->  0.40696967\n",
            "-0.1989117414  --->  -0.020852558\n",
            "-0.0472196452  --->  0.31208038\n",
            "0.2342629731  --->  0.323096\n",
            "0.0365289487  --->  0.080792814\n",
            "-0.1712870747  --->  -0.16775271\n",
            "0.0751605406  --->  0.16045025\n",
            "0.9756498337  --->  -0.12116137\n",
            "-0.2430111021  --->  0.026045365\n",
            "0.3552461863  --->  -0.09246525\n",
            "0.009566647  --->  0.01226747\n",
            "0.2277531922  --->  0.0066248327\n",
            "0.1411370635  --->  0.0806001\n",
            "-0.0134934485  --->  -0.062197253\n",
            "0.0356532037  --->  0.29598933\n",
            "0.3128560185  --->  0.101255596\n",
            "-0.0182065163  --->  -0.048213106\n",
            "-0.0669945851  --->  -0.071001455\n",
            "0.2495680451  --->  0.42975134\n",
            "0.2629061639  --->  0.53324115\n",
            "-0.1344788373  --->  -0.1585978\n",
            "2.620950222  --->  3.6832852\n",
            "-0.1715420038  --->  -0.123307\n",
            "0.0009536882  --->  0.01493603\n",
            "0.0213535391  --->  0.03316505\n",
            "0.6180679798  --->  0.22427312\n",
            "0.5832491517  --->  -0.026988462\n",
            "0.0599352978  --->  0.01032458\n",
            "-0.1976417601  --->  -0.03840039\n",
            "0.3204557002  --->  0.25781402\n",
            "0.0323755145  --->  0.70014226\n",
            "-0.003381198  --->  -0.06615187\n",
            "0.4216324389  --->  0.40943712\n",
            "-0.0139007419  --->  -0.25165185\n",
            "0.1663445234  --->  0.037185576\n",
            "0.1165528968  --->  0.19444391\n",
            "-0.3882098794  --->  -0.27133545\n",
            "0.3672560453  --->  0.087101005\n",
            "-0.1829960048  --->  -0.024392286\n",
            "-0.0138377286  --->  0.005201459\n",
            "0.2388946265  --->  -0.002764903\n",
            "0.9981634617  --->  0.7653985\n",
            "0.0881373584  --->  0.57453\n",
            "0.0059200036  --->  0.06396081\n",
            "-0.0198436212  --->  -0.021994263\n",
            "-0.0051280595  --->  0.017908491\n",
            "0.1238310412  --->  0.17809992\n",
            "0.1227737889  --->  0.11325321\n",
            "-0.0058889235  --->  -0.17293401\n",
            "0.7461425066  --->  0.6604236\n",
            "-0.2772289515  --->  0.19956641\n",
            "0.3050143719  --->  0.081315346\n",
            "0.4547344446  --->  0.22624019\n",
            "0.0921646953  --->  0.080441535\n",
            "0.3376193345  --->  0.29438683\n",
            "0.4532630742  --->  -0.03104955\n",
            "0.0272343159  --->  0.06356823\n",
            "0.2371353358  --->  0.4637144\n",
            "0.8742147088  --->  0.22962476\n",
            "-0.416005671  --->  -0.18634757\n",
            "-0.0536252372  --->  0.08448467\n",
            "-0.1446917653  --->  0.16776913\n",
            "-0.0931406915  --->  0.19715092\n",
            "-0.0312101375  --->  -0.04216492\n",
            "-0.8977037668  --->  -0.038324088\n",
            "0.5371875167  --->  0.07573208\n",
            "0.1986212283  --->  0.09424753\n",
            "0.2222484052  --->  0.15675743\n",
            "-0.227151528  --->  0.31174794\n",
            "-0.0387533158  --->  0.122854784\n",
            "0.7171478868  --->  0.171276\n",
            "-0.0442094281  --->  0.0021393746\n",
            "0.3462424278  --->  0.106610075\n",
            "0.6499567032  --->  0.0665292\n",
            "0.5751944184  --->  0.12960951\n",
            "-0.0333893299  --->  -0.02178514\n",
            "-0.6411178708  --->  -0.15680021\n",
            "7.5266518593  --->  6.4588423\n",
            "0.0433840454  --->  -0.023260012\n",
            "0.6533452272  --->  0.30501562\n",
            "-0.1510053426  --->  -0.029480375\n",
            "-0.1703127772  --->  -0.042964227\n",
            "-0.0027271765  --->  0.21483847\n",
            "0.2522396743  --->  0.10480433\n",
            "0.2914969921  --->  0.21583897\n",
            "0.1654456109  --->  0.07093261\n",
            "0.8497799635  --->  0.27024502\n",
            "-0.0658174008  --->  -0.033126865\n",
            "-0.1964833587  --->  -0.123757444\n",
            "-0.2876640856  --->  -0.09315592\n",
            "0.0326336697  --->  0.016743511\n",
            "0.1906057  --->  0.4117173\n",
            "-0.2170918435  --->  -0.347112\n",
            "0.0882506743  --->  0.031783335\n",
            "0.1618453115  --->  0.307089\n",
            "-0.5842336416  --->  -0.0017562658\n",
            "-0.1616870761  --->  0.0496044\n",
            "0.1112129092  --->  0.19007328\n",
            "0.0188749786  --->  0.2053195\n",
            "-0.2093988657  --->  0.78074443\n",
            "-0.4527431726  --->  -0.15466869\n",
            "0.2971933186  --->  -0.024215482\n",
            "-0.4910855293  --->  -0.21661812\n",
            "0.0320118554  --->  0.03225279\n",
            "0.5108188391  --->  0.032045826\n",
            "-0.1348374486  --->  -0.03255734\n",
            "-0.0518251285  --->  -0.22093527\n",
            "-0.3057396412  --->  -0.14499684\n",
            "-0.1331777424  --->  -0.17119709\n",
            "-0.1534670591  --->  -0.24150182\n",
            "-0.0091652321  --->  0.19138712\n",
            "-0.4780257046  --->  0.021047711\n",
            "0.0258384347  --->  0.16382709\n",
            "0.0469280593  --->  0.2723615\n",
            "-0.1249203011  --->  0.030500986\n",
            "0.0129165649  --->  0.00083635934\n",
            "0.5036509037  --->  0.48344564\n",
            "-0.0177303944  --->  -0.17130361\n",
            "0.4868311882  --->  0.26344326\n",
            "0.0803849921  --->  -0.036721736\n",
            "-0.2728514075  --->  -0.2538186\n",
            "0.0679894239  --->  0.21395868\n",
            "0.1697436273  --->  0.14738679\n",
            "0.1886441112  --->  0.07103773\n",
            "0.0180109031  --->  0.21296616\n",
            "-0.1952754557  --->  -0.014361516\n",
            "-0.1918251216  --->  1.0598637\n",
            "0.6756399274  --->  0.011403114\n",
            "0.3892828524  --->  0.029587895\n",
            "0.1014505923  --->  0.1342678\n",
            "0.1895868331  --->  0.11546783\n",
            "0.1197309047  --->  0.14642051\n",
            "0.0046562259  --->  -0.4036644\n",
            "-0.0619707108  --->  -0.062518194\n",
            "0.1516542137  --->  0.009086952\n",
            "-0.1088244691  --->  -0.03826367\n",
            "0.2421784848  --->  0.31525853\n",
            "0.2440349311  --->  0.112473354\n",
            "0.0139895678  --->  0.104889646\n",
            "0.1489252299  --->  -0.16318306\n",
            "0.0882554203  --->  0.0561328\n",
            "0.0125949588  --->  0.010566648\n",
            "-0.8055142164  --->  -0.39720607\n",
            "-0.013995247  --->  -0.04369092\n"
          ]
        }
      ]
    },
    {
      "cell_type": "code",
      "source": [
        "import pandas as pd\n",
        "pd.Series(results_dev).to_json(\"/content/drive/My Drive/Datasets/Data_semEval2022/Results/char/ru_vocab_revdict_results_prediction_dev.json\", orient='values')"
      ],
      "metadata": {
        "id": "EXpOUKhlLfUr"
      },
      "id": "EXpOUKhlLfUr",
      "execution_count": null,
      "outputs": []
    },
    {
      "cell_type": "markdown",
      "source": [
        "\n",
        "### Test du modèle sur les données de TEST"
      ],
      "metadata": {
        "id": "SWYTwH8vn1-j"
      },
      "id": "SWYTwH8vn1-j"
    },
    {
      "cell_type": "code",
      "execution_count": null,
      "metadata": {
        "id": "JJlejcV_oRfH"
      },
      "outputs": [],
      "source": [
        "with open(\"/content/drive/My Drive/Datasets/Data_semEval2022/Ru_data/ru.test.revdict.json\", \"r\") as file_handler:\n",
        "    dataset_test = json.load(file_handler)"
      ],
      "id": "JJlejcV_oRfH"
    },
    {
      "cell_type": "code",
      "execution_count": null,
      "metadata": {
        "id": "ltDVpDM6oRfO"
      },
      "outputs": [],
      "source": [
        "glosses_test = []\n",
        "for e in dataset_test :\n",
        "    glosses_test.append(e[\"gloss\"])"
      ],
      "id": "ltDVpDM6oRfO"
    },
    {
      "cell_type": "code",
      "execution_count": null,
      "metadata": {
        "id": "ggSf_l5SoRfX"
      },
      "outputs": [],
      "source": [
        "classes_test = model.predict(glosses_test, batch_size=32)"
      ],
      "id": "ggSf_l5SoRfX"
    },
    {
      "cell_type": "code",
      "source": [
        "print(len(classes_test))"
      ],
      "metadata": {
        "colab": {
          "base_uri": "https://localhost:8080/"
        },
        "outputId": "a1a9b3ac-ae38-4e73-c34d-677bd64accdf",
        "id": "DIMy3nOOoRfa"
      },
      "execution_count": null,
      "outputs": [
        {
          "output_type": "stream",
          "name": "stdout",
          "text": [
            "6208\n"
          ]
        }
      ],
      "id": "DIMy3nOOoRfa"
    },
    {
      "cell_type": "code",
      "source": [
        "print(len(classes_test[0]))"
      ],
      "metadata": {
        "colab": {
          "base_uri": "https://localhost:8080/"
        },
        "outputId": "4fe3f5a2-5d0f-4aff-b273-95f017bb4c71",
        "id": "qQfXjwEopP81"
      },
      "execution_count": null,
      "outputs": [
        {
          "output_type": "stream",
          "name": "stdout",
          "text": [
            "256\n"
          ]
        }
      ],
      "id": "qQfXjwEopP81"
    },
    {
      "cell_type": "code",
      "source": [
        "results_test = []\n",
        "\n",
        "prefix_id = \"ru.revdict.\"\n",
        "i = 1\n",
        "for g in glosses_test :\n",
        "  sample = {}\n",
        "  id = prefix_id + str(i)\n",
        "  sample[\"id\"] = id\n",
        "  sample[\"gloss\"] = g\n",
        "  sample[\"char\"] = classes_test[glosses_test.index(g)]\n",
        "  results_test.append(sample)\n",
        "  i+=1\n",
        "\n",
        "print(\"taille du resultat : \", len(results_test))"
      ],
      "metadata": {
        "colab": {
          "base_uri": "https://localhost:8080/"
        },
        "outputId": "9d93fefe-3e07-4e1a-cad0-5245bf7dc8f7",
        "id": "eBQ5LtvhpP84"
      },
      "execution_count": null,
      "outputs": [
        {
          "output_type": "stream",
          "name": "stdout",
          "text": [
            "taille du resultat :  6208\n"
          ]
        }
      ],
      "id": "eBQ5LtvhpP84"
    },
    {
      "cell_type": "code",
      "source": [
        "import pandas as pd\n",
        "pd.Series(results_test).to_json(\"/content/drive/My Drive/Datasets/Data_semEval2022/Results/char/ru_vocab_revdict_results_prediction_test.json\", orient='values')"
      ],
      "metadata": {
        "id": "xK5Iu48KpynU"
      },
      "execution_count": null,
      "outputs": [],
      "id": "xK5Iu48KpynU"
    }
  ],
  "metadata": {
    "colab": {
      "name": "VOCAB_CHAR_Revdict_Achitecture_tensorflow.ipynb",
      "provenance": []
    },
    "kernelspec": {
      "display_name": "Python 3 (ipykernel)",
      "language": "python",
      "name": "python3"
    },
    "language_info": {
      "codemirror_mode": {
        "name": "ipython",
        "version": 3
      },
      "file_extension": ".py",
      "mimetype": "text/x-python",
      "name": "python",
      "nbconvert_exporter": "python",
      "pygments_lexer": "ipython3",
      "version": "3.9.7"
    }
  },
  "nbformat": 4,
  "nbformat_minor": 5
}