{
  "cells": [
    {
      "cell_type": "code",
      "execution_count": 1,
      "metadata": {
        "id": "06f22756"
      },
      "outputs": [],
      "source": [
        "import json\n",
        "from tensorflow.keras.models import Sequential\n",
        "from tensorflow.keras import Input\n",
        "from tensorflow.keras.layers.experimental.preprocessing import TextVectorization\n",
        "from tensorflow.keras.layers import LSTM, Embedding, Dense, TimeDistributed, Dropout, Bidirectional, Flatten\n",
        "import numpy as np\n",
        "import pandas as pd\n",
        "from sklearn.feature_extraction.text import TfidfVectorizer\n",
        "from sklearn.feature_extraction.text import TfidfTransformer\n",
        "from tensorflow import keras"
      ],
      "id": "06f22756"
    },
    {
      "cell_type": "code",
      "execution_count": 2,
      "metadata": {
        "colab": {
          "base_uri": "https://localhost:8080/"
        },
        "id": "z_XEPOjNYhqK",
        "outputId": "fb8173cb-cadf-44b0-8dc9-d6665eaf6b97"
      },
      "outputs": [
        {
          "output_type": "stream",
          "name": "stdout",
          "text": [
            "Mounted at /content/drive\n"
          ]
        }
      ],
      "source": [
        "from google.colab import drive\n",
        "drive.mount('/content/drive')"
      ],
      "id": "z_XEPOjNYhqK"
    },
    {
      "cell_type": "markdown",
      "metadata": {
        "id": "0eae8dac"
      },
      "source": [
        "### Chargement des données"
      ],
      "id": "0eae8dac"
    },
    {
      "cell_type": "code",
      "execution_count": 3,
      "metadata": {
        "id": "2c211d43"
      },
      "outputs": [],
      "source": [
        "import os\n",
        "\n",
        "with open(\"/content/drive/My Drive/Datasets/Data_semEval2022/Fr_data/fr.train.json\", \"r\") as file_handler:\n",
        "    dataset = json.load(file_handler)"
      ],
      "id": "2c211d43"
    },
    {
      "cell_type": "code",
      "execution_count": 4,
      "metadata": {
        "id": "c2101cf4"
      },
      "outputs": [],
      "source": [
        "with open(\"/content/drive/My Drive/Datasets/Data_semEval2022/Fr_data/fr.dev.json\", \"r\") as file_handler:\n",
        "    dataset_dev = json.load(file_handler)"
      ],
      "id": "c2101cf4"
    },
    {
      "cell_type": "code",
      "execution_count": 9,
      "metadata": {
        "id": "e90cd2cd"
      },
      "outputs": [],
      "source": [
        "char = [i['char'] for i in dataset]\n",
        "glosses = [i['gloss'] for i in dataset]"
      ],
      "id": "e90cd2cd"
    },
    {
      "cell_type": "code",
      "execution_count": 10,
      "metadata": {
        "id": "78d48134"
      },
      "outputs": [],
      "source": [
        "char_dev = [i['char'] for i in dataset_dev]\n",
        "glosses_dev = [i['gloss'] for i in dataset_dev]"
      ],
      "id": "78d48134"
    },
    {
      "cell_type": "code",
      "execution_count": 11,
      "metadata": {
        "colab": {
          "base_uri": "https://localhost:8080/"
        },
        "id": "993c2dcc",
        "outputId": "b17c2913-21de-4d2e-e4b0-d05e25162331"
      },
      "outputs": [
        {
          "output_type": "stream",
          "name": "stdout",
          "text": [
            "6375\n"
          ]
        }
      ],
      "source": [
        "print(len(glosses_dev))"
      ],
      "id": "993c2dcc"
    },
    {
      "cell_type": "code",
      "execution_count": 12,
      "metadata": {
        "id": "4a73425a"
      },
      "outputs": [],
      "source": [
        "# Import DATA\n",
        "with open(\"/content/drive/My Drive/Datasets/Data_semEval2022/lemm2Idx_train.json\") as outfile:\n",
        "    lemm2Idx = json.load(outfile)\n",
        "\n",
        "with open(\"/content/drive/My Drive/Datasets/Data_semEval2022/idx2Lemm_train.json\") as outfile:\n",
        "    idx2Lemm = json.load(outfile)\n",
        "\n",
        "with open(\"/content/drive/My Drive/Datasets/Data_semEval2022/lemmatized_glosses_train.json\") as outfile:\n",
        "    lemmatized_glosses = json.load(outfile)"
      ],
      "id": "4a73425a"
    },
    {
      "cell_type": "code",
      "execution_count": 13,
      "metadata": {
        "id": "d119d8cb"
      },
      "outputs": [],
      "source": [
        "# Import DATA\n",
        "with open(\"/content/drive/My Drive/Datasets/Data_semEval2022/lemm2Idx.json\") as outfile:\n",
        "    lemm2Idx_dev = json.load(outfile)\n",
        "\n",
        "with open(\"/content/drive/My Drive/Datasets/Data_semEval2022/idx2Lemm.json\") as outfile:\n",
        "    idx2Lemm_dev = json.load(outfile)\n",
        "\n",
        "with open(\"/content/drive/My Drive/Datasets/Data_semEval2022/lemmatized_glosses.json\") as outfile:\n",
        "    lemmatized_glosses_dev = json.load(outfile)"
      ],
      "id": "d119d8cb"
    },
    {
      "cell_type": "code",
      "execution_count": 14,
      "metadata": {
        "colab": {
          "base_uri": "https://localhost:8080/"
        },
        "id": "etS_pwT_Fi5J",
        "outputId": "1faf16a7-5b94-4746-a896-3cae95d47360"
      },
      "outputs": [
        {
          "output_type": "stream",
          "name": "stdout",
          "text": [
            "Num GPUs Available:  1\n"
          ]
        }
      ],
      "source": [
        "import tensorflow as tf\n",
        "print(\"Num GPUs Available: \", len(tf.config.list_physical_devices('GPU')))"
      ],
      "id": "etS_pwT_Fi5J"
    },
    {
      "cell_type": "markdown",
      "metadata": {
        "id": "6e93118c"
      },
      "source": [
        "### Préparation des données"
      ],
      "id": "6e93118c"
    },
    {
      "cell_type": "code",
      "execution_count": 15,
      "metadata": {
        "id": "846d1635"
      },
      "outputs": [],
      "source": [
        "lemmatized_glosses_text = []\n",
        "\n",
        "for gloss in lemmatized_glosses:\n",
        "    text = \"\"\n",
        "    for word in gloss:\n",
        "        text += idx2Lemm[str(word)] + \" \"\n",
        "    lemmatized_glosses_text.append(text)"
      ],
      "id": "846d1635"
    },
    {
      "cell_type": "code",
      "execution_count": 16,
      "metadata": {
        "colab": {
          "base_uri": "https://localhost:8080/"
        },
        "id": "03859e48",
        "outputId": "1435e928-02f1-4895-f953-78f01014dfb1"
      },
      "outputs": [
        {
          "output_type": "stream",
          "name": "stdout",
          "text": [
            "43608\n",
            "43608\n"
          ]
        }
      ],
      "source": [
        "print(len(lemmatized_glosses_text))\n",
        "print(len(sgns))\n"
      ],
      "id": "03859e48"
    },
    {
      "cell_type": "code",
      "execution_count": 17,
      "metadata": {
        "id": "ZoBgROpI9vv3"
      },
      "outputs": [],
      "source": [
        "lemmatized_glosses_text_dev = []\n",
        "\n",
        "for gloss in lemmatized_glosses_dev:\n",
        "    text = \"\"\n",
        "    for word in gloss:\n",
        "        text += idx2Lemm_dev[str(word)] + \" \"\n",
        "    lemmatized_glosses_text_dev.append(text)"
      ],
      "id": "ZoBgROpI9vv3"
    },
    {
      "cell_type": "code",
      "execution_count": 18,
      "metadata": {
        "colab": {
          "base_uri": "https://localhost:8080/"
        },
        "id": "_FC_-CIVdef4",
        "outputId": "0ef54373-f9b9-43c7-dfbe-ca152c38aacf"
      },
      "outputs": [
        {
          "output_type": "stream",
          "name": "stdout",
          "text": [
            "6375\n",
            "6375\n"
          ]
        }
      ],
      "source": [
        "print(len(lemmatized_glosses_text_dev))\n",
        "print(len(char_dev))"
      ],
      "id": "_FC_-CIVdef4"
    },
    {
      "cell_type": "code",
      "execution_count": 20,
      "metadata": {
        "id": "14fa7890"
      },
      "outputs": [],
      "source": [
        "def longest_gloss(glosses_list):\n",
        "    lgt = 0\n",
        "    sentence = \"\"\n",
        "    tk = []\n",
        "    for g in glosses_list :\n",
        "        tokens = g.split()\n",
        "        if len(tokens)>lgt :\n",
        "            lgt = len(tokens)\n",
        "            sentence =g\n",
        "            tk = tokens\n",
        "    return lgt"
      ],
      "id": "14fa7890"
    },
    {
      "cell_type": "code",
      "execution_count": 22,
      "metadata": {
        "colab": {
          "base_uri": "https://localhost:8080/"
        },
        "id": "d78dc767",
        "outputId": "9647efc6-9d39-4c03-c457-7b1798ba2dbe"
      },
      "outputs": [
        {
          "output_type": "stream",
          "name": "stdout",
          "text": [
            "149\n"
          ]
        }
      ],
      "source": [
        "max_len = longest_gloss(lemmatized_glosses_text)\n",
        "print(max_len)"
      ],
      "id": "d78dc767"
    },
    {
      "cell_type": "code",
      "execution_count": 23,
      "metadata": {
        "colab": {
          "base_uri": "https://localhost:8080/"
        },
        "id": "d99fdcb0",
        "outputId": "17ac70f3-f16d-4db5-8451-c0330c10e1cc"
      },
      "outputs": [
        {
          "output_type": "stream",
          "name": "stdout",
          "text": [
            "111\n"
          ]
        }
      ],
      "source": [
        "max_len_dev = longest_gloss(lemmatized_glosses_text_dev)\n",
        "print(max_len_dev)"
      ],
      "id": "d99fdcb0"
    },
    {
      "cell_type": "code",
      "execution_count": 24,
      "metadata": {
        "colab": {
          "base_uri": "https://localhost:8080/"
        },
        "id": "0f44ec59",
        "outputId": "8b89398d-a264-492b-e53e-1a71f2bbbe41"
      },
      "outputs": [
        {
          "output_type": "stream",
          "name": "stdout",
          "text": [
            "24089\n"
          ]
        }
      ],
      "source": [
        "max_tokens = len(list(lemm2Idx))\n",
        "print(max_tokens)\n",
        "\n",
        "max_tokens_dev = len(lemm2Idx_dev)\n",
        "\n",
        "vectorize_layer = TextVectorization(\n",
        "    # Max vocab size. Any words outside of the max_tokens most common ones\n",
        "    # will be treated the same way: as \"out of vocabulary\" (OOV) tokens.\n",
        "    max_tokens=max_tokens,\n",
        "    # Output integer indices, one per string token\n",
        "    output_mode=\"int\",\n",
        "    # Always pad or truncate to exactly this many tokens\n",
        "    output_sequence_length=max_len\n",
        ")"
      ],
      "id": "0f44ec59"
    },
    {
      "cell_type": "code",
      "execution_count": 25,
      "metadata": {
        "id": "25e8c404"
      },
      "outputs": [],
      "source": [
        "# Call adapt(), which fits the TextVectorization layer to our text dataset.\n",
        "# This is when the max_tokens most common words (i.e. the vocabulary) are selected.\n",
        "vectorize_layer.adapt(np.array(list(idx2Lemm.values())))"
      ],
      "id": "25e8c404"
    },
    {
      "cell_type": "markdown",
      "metadata": {
        "id": "3a64ca10"
      },
      "source": [
        "### Construction du modèle"
      ],
      "id": "3a64ca10"
    },
    {
      "cell_type": "code",
      "source": [
        "pip install tensorflow_addons"
      ],
      "metadata": {
        "colab": {
          "base_uri": "https://localhost:8080/"
        },
        "id": "RxLG299RJayu",
        "outputId": "704aed3a-b718-47c1-d882-bbbfba108674"
      },
      "id": "RxLG299RJayu",
      "execution_count": 26,
      "outputs": [
        {
          "output_type": "stream",
          "name": "stdout",
          "text": [
            "Collecting tensorflow_addons\n",
            "  Downloading tensorflow_addons-0.15.0-cp37-cp37m-manylinux_2_12_x86_64.manylinux2010_x86_64.whl (1.1 MB)\n",
            "\u001b[?25l\r\u001b[K     |▎                               | 10 kB 23.4 MB/s eta 0:00:01\r\u001b[K     |▋                               | 20 kB 11.3 MB/s eta 0:00:01\r\u001b[K     |▉                               | 30 kB 9.4 MB/s eta 0:00:01\r\u001b[K     |█▏                              | 40 kB 8.5 MB/s eta 0:00:01\r\u001b[K     |█▌                              | 51 kB 5.0 MB/s eta 0:00:01\r\u001b[K     |█▊                              | 61 kB 5.2 MB/s eta 0:00:01\r\u001b[K     |██                              | 71 kB 5.4 MB/s eta 0:00:01\r\u001b[K     |██▍                             | 81 kB 6.1 MB/s eta 0:00:01\r\u001b[K     |██▋                             | 92 kB 4.7 MB/s eta 0:00:01\r\u001b[K     |███                             | 102 kB 5.2 MB/s eta 0:00:01\r\u001b[K     |███▎                            | 112 kB 5.2 MB/s eta 0:00:01\r\u001b[K     |███▌                            | 122 kB 5.2 MB/s eta 0:00:01\r\u001b[K     |███▉                            | 133 kB 5.2 MB/s eta 0:00:01\r\u001b[K     |████▏                           | 143 kB 5.2 MB/s eta 0:00:01\r\u001b[K     |████▍                           | 153 kB 5.2 MB/s eta 0:00:01\r\u001b[K     |████▊                           | 163 kB 5.2 MB/s eta 0:00:01\r\u001b[K     |█████                           | 174 kB 5.2 MB/s eta 0:00:01\r\u001b[K     |█████▎                          | 184 kB 5.2 MB/s eta 0:00:01\r\u001b[K     |█████▋                          | 194 kB 5.2 MB/s eta 0:00:01\r\u001b[K     |█████▉                          | 204 kB 5.2 MB/s eta 0:00:01\r\u001b[K     |██████▏                         | 215 kB 5.2 MB/s eta 0:00:01\r\u001b[K     |██████▌                         | 225 kB 5.2 MB/s eta 0:00:01\r\u001b[K     |██████▊                         | 235 kB 5.2 MB/s eta 0:00:01\r\u001b[K     |███████                         | 245 kB 5.2 MB/s eta 0:00:01\r\u001b[K     |███████▍                        | 256 kB 5.2 MB/s eta 0:00:01\r\u001b[K     |███████▋                        | 266 kB 5.2 MB/s eta 0:00:01\r\u001b[K     |████████                        | 276 kB 5.2 MB/s eta 0:00:01\r\u001b[K     |████████▎                       | 286 kB 5.2 MB/s eta 0:00:01\r\u001b[K     |████████▌                       | 296 kB 5.2 MB/s eta 0:00:01\r\u001b[K     |████████▉                       | 307 kB 5.2 MB/s eta 0:00:01\r\u001b[K     |█████████                       | 317 kB 5.2 MB/s eta 0:00:01\r\u001b[K     |█████████▍                      | 327 kB 5.2 MB/s eta 0:00:01\r\u001b[K     |█████████▊                      | 337 kB 5.2 MB/s eta 0:00:01\r\u001b[K     |██████████                      | 348 kB 5.2 MB/s eta 0:00:01\r\u001b[K     |██████████▎                     | 358 kB 5.2 MB/s eta 0:00:01\r\u001b[K     |██████████▋                     | 368 kB 5.2 MB/s eta 0:00:01\r\u001b[K     |██████████▉                     | 378 kB 5.2 MB/s eta 0:00:01\r\u001b[K     |███████████▏                    | 389 kB 5.2 MB/s eta 0:00:01\r\u001b[K     |███████████▌                    | 399 kB 5.2 MB/s eta 0:00:01\r\u001b[K     |███████████▊                    | 409 kB 5.2 MB/s eta 0:00:01\r\u001b[K     |████████████                    | 419 kB 5.2 MB/s eta 0:00:01\r\u001b[K     |████████████▍                   | 430 kB 5.2 MB/s eta 0:00:01\r\u001b[K     |████████████▋                   | 440 kB 5.2 MB/s eta 0:00:01\r\u001b[K     |█████████████                   | 450 kB 5.2 MB/s eta 0:00:01\r\u001b[K     |█████████████▎                  | 460 kB 5.2 MB/s eta 0:00:01\r\u001b[K     |█████████████▌                  | 471 kB 5.2 MB/s eta 0:00:01\r\u001b[K     |█████████████▉                  | 481 kB 5.2 MB/s eta 0:00:01\r\u001b[K     |██████████████                  | 491 kB 5.2 MB/s eta 0:00:01\r\u001b[K     |██████████████▍                 | 501 kB 5.2 MB/s eta 0:00:01\r\u001b[K     |██████████████▊                 | 512 kB 5.2 MB/s eta 0:00:01\r\u001b[K     |███████████████                 | 522 kB 5.2 MB/s eta 0:00:01\r\u001b[K     |███████████████▎                | 532 kB 5.2 MB/s eta 0:00:01\r\u001b[K     |███████████████▋                | 542 kB 5.2 MB/s eta 0:00:01\r\u001b[K     |███████████████▉                | 552 kB 5.2 MB/s eta 0:00:01\r\u001b[K     |████████████████▏               | 563 kB 5.2 MB/s eta 0:00:01\r\u001b[K     |████████████████▌               | 573 kB 5.2 MB/s eta 0:00:01\r\u001b[K     |████████████████▊               | 583 kB 5.2 MB/s eta 0:00:01\r\u001b[K     |█████████████████               | 593 kB 5.2 MB/s eta 0:00:01\r\u001b[K     |█████████████████▍              | 604 kB 5.2 MB/s eta 0:00:01\r\u001b[K     |█████████████████▋              | 614 kB 5.2 MB/s eta 0:00:01\r\u001b[K     |██████████████████              | 624 kB 5.2 MB/s eta 0:00:01\r\u001b[K     |██████████████████▏             | 634 kB 5.2 MB/s eta 0:00:01\r\u001b[K     |██████████████████▌             | 645 kB 5.2 MB/s eta 0:00:01\r\u001b[K     |██████████████████▉             | 655 kB 5.2 MB/s eta 0:00:01\r\u001b[K     |███████████████████             | 665 kB 5.2 MB/s eta 0:00:01\r\u001b[K     |███████████████████▍            | 675 kB 5.2 MB/s eta 0:00:01\r\u001b[K     |███████████████████▊            | 686 kB 5.2 MB/s eta 0:00:01\r\u001b[K     |████████████████████            | 696 kB 5.2 MB/s eta 0:00:01\r\u001b[K     |████████████████████▎           | 706 kB 5.2 MB/s eta 0:00:01\r\u001b[K     |████████████████████▋           | 716 kB 5.2 MB/s eta 0:00:01\r\u001b[K     |████████████████████▉           | 727 kB 5.2 MB/s eta 0:00:01\r\u001b[K     |█████████████████████▏          | 737 kB 5.2 MB/s eta 0:00:01\r\u001b[K     |█████████████████████▌          | 747 kB 5.2 MB/s eta 0:00:01\r\u001b[K     |█████████████████████▊          | 757 kB 5.2 MB/s eta 0:00:01\r\u001b[K     |██████████████████████          | 768 kB 5.2 MB/s eta 0:00:01\r\u001b[K     |██████████████████████▎         | 778 kB 5.2 MB/s eta 0:00:01\r\u001b[K     |██████████████████████▋         | 788 kB 5.2 MB/s eta 0:00:01\r\u001b[K     |███████████████████████         | 798 kB 5.2 MB/s eta 0:00:01\r\u001b[K     |███████████████████████▏        | 808 kB 5.2 MB/s eta 0:00:01\r\u001b[K     |███████████████████████▌        | 819 kB 5.2 MB/s eta 0:00:01\r\u001b[K     |███████████████████████▉        | 829 kB 5.2 MB/s eta 0:00:01\r\u001b[K     |████████████████████████        | 839 kB 5.2 MB/s eta 0:00:01\r\u001b[K     |████████████████████████▍       | 849 kB 5.2 MB/s eta 0:00:01\r\u001b[K     |████████████████████████▊       | 860 kB 5.2 MB/s eta 0:00:01\r\u001b[K     |█████████████████████████       | 870 kB 5.2 MB/s eta 0:00:01\r\u001b[K     |█████████████████████████▎      | 880 kB 5.2 MB/s eta 0:00:01\r\u001b[K     |█████████████████████████▋      | 890 kB 5.2 MB/s eta 0:00:01\r\u001b[K     |█████████████████████████▉      | 901 kB 5.2 MB/s eta 0:00:01\r\u001b[K     |██████████████████████████▏     | 911 kB 5.2 MB/s eta 0:00:01\r\u001b[K     |██████████████████████████▌     | 921 kB 5.2 MB/s eta 0:00:01\r\u001b[K     |██████████████████████████▊     | 931 kB 5.2 MB/s eta 0:00:01\r\u001b[K     |███████████████████████████     | 942 kB 5.2 MB/s eta 0:00:01\r\u001b[K     |███████████████████████████▎    | 952 kB 5.2 MB/s eta 0:00:01\r\u001b[K     |███████████████████████████▋    | 962 kB 5.2 MB/s eta 0:00:01\r\u001b[K     |████████████████████████████    | 972 kB 5.2 MB/s eta 0:00:01\r\u001b[K     |████████████████████████████▏   | 983 kB 5.2 MB/s eta 0:00:01\r\u001b[K     |████████████████████████████▌   | 993 kB 5.2 MB/s eta 0:00:01\r\u001b[K     |████████████████████████████▉   | 1.0 MB 5.2 MB/s eta 0:00:01\r\u001b[K     |█████████████████████████████   | 1.0 MB 5.2 MB/s eta 0:00:01\r\u001b[K     |█████████████████████████████▍  | 1.0 MB 5.2 MB/s eta 0:00:01\r\u001b[K     |█████████████████████████████▊  | 1.0 MB 5.2 MB/s eta 0:00:01\r\u001b[K     |██████████████████████████████  | 1.0 MB 5.2 MB/s eta 0:00:01\r\u001b[K     |██████████████████████████████▎ | 1.1 MB 5.2 MB/s eta 0:00:01\r\u001b[K     |██████████████████████████████▋ | 1.1 MB 5.2 MB/s eta 0:00:01\r\u001b[K     |██████████████████████████████▉ | 1.1 MB 5.2 MB/s eta 0:00:01\r\u001b[K     |███████████████████████████████▏| 1.1 MB 5.2 MB/s eta 0:00:01\r\u001b[K     |███████████████████████████████▍| 1.1 MB 5.2 MB/s eta 0:00:01\r\u001b[K     |███████████████████████████████▊| 1.1 MB 5.2 MB/s eta 0:00:01\r\u001b[K     |████████████████████████████████| 1.1 MB 5.2 MB/s \n",
            "\u001b[?25hRequirement already satisfied: typeguard>=2.7 in /usr/local/lib/python3.7/dist-packages (from tensorflow_addons) (2.7.1)\n",
            "Installing collected packages: tensorflow-addons\n",
            "Successfully installed tensorflow-addons-0.15.0\n"
          ]
        }
      ]
    },
    {
      "cell_type": "code",
      "execution_count": 27,
      "metadata": {
        "id": "qqBlEmP9xb1B"
      },
      "outputs": [],
      "source": [
        "import tensorflow_addons as tfa\n",
        "step = tf.Variable(0, trainable=False)\n",
        "schedule = tf.optimizers.schedules.PiecewiseConstantDecay(\n",
        "    [10000, 15000], [1e-0, 1e-1, 1e-2])\n",
        "# lr and wd can be a function or a tensor\n",
        "\n",
        "lr = 1e-1 * schedule(step)\n",
        "\n",
        "learning_rate=1e-3\n",
        "\n",
        "wd = lambda: 1e-4 * schedule(step)\n",
        "\n",
        "weight_decay=1e-6,\n",
        "\n",
        "optimizer = tfa.optimizers.AdamW(learning_rate=learning_rate, weight_decay=weight_decay)"
      ],
      "id": "qqBlEmP9xb1B"
    },
    {
      "cell_type": "code",
      "execution_count": 23,
      "metadata": {
        "id": "374b3648"
      },
      "outputs": [],
      "source": [
        "import torch.optim as optim\n",
        "\n",
        "opt = keras.optimizers.Adam(learning_rate=0.01)"
      ],
      "id": "374b3648"
    },
    {
      "cell_type": "code",
      "execution_count": 37,
      "metadata": {
        "id": "97206c4d"
      },
      "outputs": [],
      "source": [
        "model = Sequential()\n",
        "model.add(Input(shape=(1,), dtype=\"string\"))"
      ],
      "id": "97206c4d"
    },
    {
      "cell_type": "code",
      "execution_count": 38,
      "metadata": {
        "id": "beb5c57f"
      },
      "outputs": [],
      "source": [
        "model.add(vectorize_layer)"
      ],
      "id": "beb5c57f"
    },
    {
      "cell_type": "code",
      "execution_count": 39,
      "metadata": {
        "id": "a0dde3ec",
        "colab": {
          "base_uri": "https://localhost:8080/"
        },
        "outputId": "12dd3314-b11b-48b6-a1c3-e25f8de50da1"
      },
      "outputs": [
        {
          "output_type": "stream",
          "name": "stdout",
          "text": [
            "WARNING:tensorflow:Layer lstm_7 will not use cuDNN kernels since it doesn't meet the criteria. It will use a generic GPU kernel as fallback when running on GPU.\n"
          ]
        }
      ],
      "source": [
        "from tensorflow.keras import layers\n",
        "# Note that we're using max_tokens + 1 here, since there's an\n",
        "# out-of-vocabulary (OOV) token that gets added to the vocab.\n",
        "\n",
        "len_gloses = 43608\n",
        "\n",
        "model.add(Embedding(max_tokens + 1, 128))\n",
        "\n",
        "model.add(Dense(128))\n",
        "\n",
        "model.add(Bidirectional(LSTM(units=192, return_sequences=True), merge_mode = 'ave'))\n",
        "\n",
        "model.add(Dense(192))\n",
        "\n",
        "model.add(LSTM(units=256, return_sequences=False, activation = \"softmax\"))\n",
        "\n",
        "\n",
        "model.add(Dense(256))"
      ],
      "id": "a0dde3ec"
    },
    {
      "cell_type": "code",
      "execution_count": 40,
      "metadata": {
        "colab": {
          "base_uri": "https://localhost:8080/"
        },
        "id": "05ec90f7",
        "outputId": "35bed24a-735e-4098-fbde-ec542603c5a8"
      },
      "outputs": [
        {
          "output_type": "stream",
          "name": "stdout",
          "text": [
            "Model: \"sequential_2\"\n",
            "_________________________________________________________________\n",
            " Layer (type)                Output Shape              Param #   \n",
            "=================================================================\n",
            " text_vectorization (TextVec  (None, 149)              0         \n",
            " torization)                                                     \n",
            "                                                                 \n",
            " embedding_3 (Embedding)     (None, 149, 128)          3083520   \n",
            "                                                                 \n",
            " dense_9 (Dense)             (None, 149, 128)          16512     \n",
            "                                                                 \n",
            " bidirectional_3 (Bidirectio  (None, 149, 192)         493056    \n",
            " nal)                                                            \n",
            "                                                                 \n",
            " dense_10 (Dense)            (None, 149, 192)          37056     \n",
            "                                                                 \n",
            " lstm_7 (LSTM)               (None, 256)               459776    \n",
            "                                                                 \n",
            " dense_11 (Dense)            (None, 256)               65792     \n",
            "                                                                 \n",
            "=================================================================\n",
            "Total params: 4,155,712\n",
            "Trainable params: 4,155,712\n",
            "Non-trainable params: 0\n",
            "_________________________________________________________________\n"
          ]
        }
      ],
      "source": [
        " model.compile(\n",
        "    optimizer=optimizer,\n",
        "    loss='mse',\n",
        "    metrics=['accuracy'],\n",
        ")\n",
        "\n",
        "model.summary()"
      ],
      "id": "05ec90f7"
    },
    {
      "cell_type": "markdown",
      "metadata": {
        "id": "2f7c5b75"
      },
      "source": [
        "### Entraînement du modèle"
      ],
      "id": "2f7c5b75"
    },
    {
      "cell_type": "code",
      "execution_count": 41,
      "metadata": {
        "colab": {
          "base_uri": "https://localhost:8080/"
        },
        "id": "81f1324c",
        "outputId": "3b43aa8d-cded-4344-fb48-0dcde512b2fd"
      },
      "outputs": [
        {
          "output_type": "stream",
          "name": "stdout",
          "text": [
            "Epoch 1/10\n",
            "228/228 [==============================] - 103s 430ms/step - loss: 0.5701 - accuracy: 0.0568 - val_loss: 0.4748 - val_accuracy: 0.1682\n",
            "Epoch 2/10\n",
            "228/228 [==============================] - 89s 392ms/step - loss: 0.4501 - accuracy: 0.6573 - val_loss: 0.4263 - val_accuracy: 0.7514\n",
            "Epoch 3/10\n",
            "228/228 [==============================] - 88s 387ms/step - loss: 0.4171 - accuracy: 0.7580 - val_loss: 0.4035 - val_accuracy: 0.7514\n",
            "Epoch 4/10\n",
            "228/228 [==============================] - 90s 395ms/step - loss: 0.3995 - accuracy: 0.7580 - val_loss: 0.3900 - val_accuracy: 0.7514\n",
            "Epoch 5/10\n",
            "228/228 [==============================] - 88s 385ms/step - loss: 0.3887 - accuracy: 0.7580 - val_loss: 0.3814 - val_accuracy: 0.7514\n",
            "Epoch 6/10\n",
            "228/228 [==============================] - 90s 393ms/step - loss: 0.3816 - accuracy: 0.7580 - val_loss: 0.3756 - val_accuracy: 0.7514\n",
            "Epoch 7/10\n",
            "228/228 [==============================] - 90s 397ms/step - loss: 0.3768 - accuracy: 0.7580 - val_loss: 0.3717 - val_accuracy: 0.7514\n",
            "Epoch 8/10\n",
            "228/228 [==============================] - 89s 391ms/step - loss: 0.3736 - accuracy: 0.7580 - val_loss: 0.3690 - val_accuracy: 0.7514\n",
            "Epoch 9/10\n",
            "228/228 [==============================] - 90s 394ms/step - loss: 0.3714 - accuracy: 0.7580 - val_loss: 0.3673 - val_accuracy: 0.7514\n",
            "Epoch 10/10\n",
            "228/228 [==============================] - 89s 392ms/step - loss: 0.3700 - accuracy: 0.7580 - val_loss: 0.3662 - val_accuracy: 0.7514\n"
          ]
        }
      ],
      "source": [
        "with tf.device('/device:GPU:0'):\n",
        "  history = model.fit(lemmatized_glosses_text, char,\n",
        "                    epochs=10,\n",
        "                    batch_size=192,\n",
        "                    validation_data=(lemmatized_glosses_text_dev,  char_dev))"
      ],
      "id": "81f1324c"
    },
    {
      "cell_type": "code",
      "execution_count": 42,
      "metadata": {
        "colab": {
          "base_uri": "https://localhost:8080/",
          "height": 545
        },
        "id": "ff51800e",
        "outputId": "213ba36a-619a-437b-91ec-0b85ce7b6a7f"
      },
      "outputs": [
        {
          "output_type": "display_data",
          "data": {
            "image/png": "[encoded data removed]",
            "text/plain": [
              "<Figure size 432x288 with 1 Axes>"
            ]
          },
          "metadata": {
            "needs_background": "light"
          }
        },
        {
          "output_type": "display_data",
          "data": {
            "image/png": "[encoded data removed]",
            "text/plain": [
              "<Figure size 432x288 with 1 Axes>"
            ]
          },
          "metadata": {
            "needs_background": "light"
          }
        }
      ],
      "source": [
        "#Visualisation des résultats de l'entraînement.\n",
        "import matplotlib.pyplot as plt\n",
        "\n",
        "acc = history.history['accuracy']\n",
        "val_acc = history.history['val_accuracy']\n",
        "loss = history.history['loss']\n",
        "val_loss = history.history['val_loss']\n",
        "\n",
        "epochs = range(1, len(acc) + 1)\n",
        "\n",
        "plt.plot(epochs, acc, 'bo', label='Training acc')\n",
        "plt.plot(epochs, val_acc, 'b', label='Validation acc')\n",
        "plt.title('Training and validation accuracy')\n",
        "plt.legend()\n",
        "\n",
        "plt.figure()\n",
        "\n",
        "plt.plot(epochs, loss, 'bo', label='Training loss')\n",
        "plt.plot(epochs, val_loss, 'b', label='Validation loss')\n",
        "plt.title('Training and validation loss')\n",
        "plt.legend()\n",
        "\n",
        "plt.show()"
      ],
      "id": "ff51800e"
    },
    {
      "cell_type": "code",
      "execution_count": 43,
      "metadata": {
        "id": "KQZk_4rH86t6",
        "colab": {
          "base_uri": "https://localhost:8080/"
        },
        "outputId": "5de56f31-fb2f-41f4-d8fd-e7e22c30d927"
      },
      "outputs": [
        {
          "output_type": "stream",
          "name": "stderr",
          "text": [
            "WARNING:absl:Found untraced functions such as lstm_cell_13_layer_call_fn, lstm_cell_13_layer_call_and_return_conditional_losses, lstm_cell_14_layer_call_fn, lstm_cell_14_layer_call_and_return_conditional_losses, lstm_cell_13_layer_call_fn while saving (showing 5 of 10). These functions will not be directly callable after loading.\n"
          ]
        },
        {
          "output_type": "stream",
          "name": "stdout",
          "text": [
            "INFO:tensorflow:Assets written to: _fr_revdict_model.tf/assets\n"
          ]
        },
        {
          "output_type": "stream",
          "name": "stderr",
          "text": [
            "INFO:tensorflow:Assets written to: _fr_revdict_model.tf/assets\n",
            "WARNING:absl:<keras.layers.recurrent.LSTMCell object at 0x7f1ea9f293d0> has the same name 'LSTMCell' as a built-in Keras object. Consider renaming <class 'keras.layers.recurrent.LSTMCell'> to avoid naming conflicts when loading with `tf.keras.models.load_model`. If renaming is not possible, pass the object in the `custom_objects` parameter of the load function.\n",
            "WARNING:absl:<keras.layers.recurrent.LSTMCell object at 0x7f1ea9f16f50> has the same name 'LSTMCell' as a built-in Keras object. Consider renaming <class 'keras.layers.recurrent.LSTMCell'> to avoid naming conflicts when loading with `tf.keras.models.load_model`. If renaming is not possible, pass the object in the `custom_objects` parameter of the load function.\n",
            "WARNING:absl:<keras.layers.recurrent.LSTMCell object at 0x7f1ea9f16090> has the same name 'LSTMCell' as a built-in Keras object. Consider renaming <class 'keras.layers.recurrent.LSTMCell'> to avoid naming conflicts when loading with `tf.keras.models.load_model`. If renaming is not possible, pass the object in the `custom_objects` parameter of the load function.\n"
          ]
        }
      ],
      "source": [
        "#sauvegarde du modèle\n",
        "model.save('_fr_revdict_model.tf')"
      ],
      "id": "KQZk_4rH86t6"
    },
    {
      "cell_type": "markdown",
      "metadata": {
        "id": "185fe5e0"
      },
      "source": [
        "\n",
        "### Test du modèle sur les données Trial"
      ],
      "id": "185fe5e0"
    },
    {
      "cell_type": "code",
      "execution_count": 44,
      "metadata": {
        "id": "7191cfdb"
      },
      "outputs": [],
      "source": [
        "with open(\"/content/drive/My Drive/Datasets/Data_semEval2022/Fr_data/fr.trial.complete.json\", \"r\") as file_handler:\n",
        "    dataset_trial = json.load(file_handler)"
      ],
      "id": "7191cfdb"
    },
    {
      "cell_type": "code",
      "execution_count": 45,
      "metadata": {
        "id": "96e503fb"
      },
      "outputs": [],
      "source": [
        "glosses_trial = []\n",
        "for e in dataset_trial :\n",
        "    glosses_trial.append(e[\"gloss\"])"
      ],
      "id": "96e503fb"
    },
    {
      "cell_type": "code",
      "execution_count": 46,
      "metadata": {
        "id": "0bcc6573"
      },
      "outputs": [],
      "source": [
        "char_trial = []\n",
        "for e in dataset_trial :\n",
        "    char_trial.append(e[\"char\"])"
      ],
      "id": "0bcc6573"
    },
    {
      "cell_type": "code",
      "execution_count": 47,
      "metadata": {
        "colab": {
          "base_uri": "https://localhost:8080/"
        },
        "id": "0329df26",
        "outputId": "9f24bc30-b511-4753-efd8-773f29d6621e"
      },
      "outputs": [
        {
          "output_type": "stream",
          "name": "stdout",
          "text": [
            "7/7 - 0s - loss: 0.3292 - accuracy: 0.7750 - 357ms/epoch - 51ms/step\n"
          ]
        }
      ],
      "source": [
        "scores = model.evaluate(glosses_trial, char_trial, verbose=2)"
      ],
      "id": "0329df26"
    },
    {
      "cell_type": "code",
      "execution_count": 48,
      "metadata": {
        "id": "229313da"
      },
      "outputs": [],
      "source": [
        "classes_trial = model.predict(glosses_trial, batch_size=32)"
      ],
      "id": "229313da"
    },
    {
      "cell_type": "code",
      "source": [
        "print(len(classes_trial))"
      ],
      "metadata": {
        "colab": {
          "base_uri": "https://localhost:8080/"
        },
        "id": "p8WYLvoVS66z",
        "outputId": "16859e21-eaf0-473d-f1fa-830f210d137f"
      },
      "id": "p8WYLvoVS66z",
      "execution_count": 49,
      "outputs": [
        {
          "output_type": "stream",
          "name": "stdout",
          "text": [
            "200\n"
          ]
        }
      ]
    },
    {
      "cell_type": "code",
      "source": [
        "print(len(classes_trial[0]))"
      ],
      "metadata": {
        "colab": {
          "base_uri": "https://localhost:8080/"
        },
        "id": "aV9Cl17pS9wV",
        "outputId": "65ca1f8e-5f63-4ce7-e68a-57c316154efb"
      },
      "id": "aV9Cl17pS9wV",
      "execution_count": 50,
      "outputs": [
        {
          "output_type": "stream",
          "name": "stdout",
          "text": [
            "256\n"
          ]
        }
      ]
    },
    {
      "cell_type": "code",
      "source": [
        "results = []\n",
        "\n",
        "prefix_id = \"fr.revdict.\"\n",
        "i = 0\n",
        "for g in glosses_trial :\n",
        "  sample = {}\n",
        "  id = prefix_id + str(i)\n",
        "  sample[\"id\"] = id\n",
        "  sample[\"gloss\"] = g\n",
        "  sample[\"char\"] = classes_trial[glosses_trial.index(g)]\n",
        "  results.append(sample)\n",
        "  i+=1\n",
        "\n",
        "print(\"taille du resultat : \", len(results))\n",
        "# affichage du premier vecteur pour visualiser les résultats produits\n",
        "print(\"vecteur trial ---> prédiction\")\n",
        "for v in char_trial[0] :\n",
        "  print(v, \" ---> \", results[0][\"char\"][list(char_trial[0]).index(v)])"
      ],
      "metadata": {
        "colab": {
          "base_uri": "https://localhost:8080/"
        },
        "id": "JNQa4rDgT4y5",
        "outputId": "c1c34adf-c1fe-481c-c517-bc8de33ec810"
      },
      "id": "JNQa4rDgT4y5",
      "execution_count": 52,
      "outputs": [
        {
          "output_type": "stream",
          "name": "stdout",
          "text": [
            "taille du resultat :  200\n",
            "vecteur trial ---> prédiction\n",
            "-0.998752594  --->  -0.5693648\n",
            "0.2391828746  --->  0.8222307\n",
            "3.6892702579  --->  1.5254737\n",
            "0.6774794459  --->  0.3350987\n",
            "1.0689342022  --->  0.48094848\n",
            "0.3957220316  --->  0.12108232\n",
            "0.8983408809  --->  1.1178932\n",
            "0.2141073942  --->  -0.167368\n",
            "0.4109841585  --->  0.42719835\n",
            "0.480174154  --->  0.7520111\n",
            "1.2857937813  --->  0.67566824\n",
            "0.1930104494  --->  0.24888344\n",
            "-1.0285145044  --->  -3.7057867\n",
            "-0.0949802995  --->  0.19438064\n",
            "-0.5102931261  --->  0.14769116\n",
            "-0.0043576146  --->  0.10932329\n",
            "0.1080081239  --->  0.30660695\n",
            "0.0524442159  --->  0.051806442\n",
            "-0.5951239467  --->  -0.11156212\n",
            "0.1656504869  --->  0.1172325\n",
            "2.5681743622  --->  1.41718\n",
            "-0.0290400833  --->  -0.6973385\n",
            "-0.0131741287  --->  -0.006773891\n",
            "0.036433652  --->  0.067894794\n",
            "0.0377024636  --->  0.12752624\n",
            "-0.1368103325  --->  0.13306463\n",
            "-0.148324132  --->  0.048434496\n",
            "0.1298570037  --->  0.28951666\n",
            "-0.0518864989  --->  -0.031693622\n",
            "-0.5501463413  --->  -0.26332468\n",
            "0.0348151438  --->  0.40496016\n",
            "0.0813580006  --->  0.16933283\n",
            "0.2491666079  --->  0.47753155\n",
            "0.0931273252  --->  0.14882876\n",
            "-0.074495703  --->  0.1961165\n",
            "0.3376328945  --->  0.39249653\n",
            "0.7455813289  --->  0.771948\n",
            "-0.0806716383  --->  0.044771813\n",
            "-0.2607393861  --->  0.49323094\n",
            "0.1469709277  --->  0.04405439\n",
            "1.232427597  --->  0.57039607\n",
            "1.2223706245  --->  0.71373427\n",
            "0.253862977  --->  0.47364715\n",
            "0.5380789638  --->  0.09889194\n",
            "1.4925464392  --->  0.6756692\n",
            "0.6010033488  --->  0.5061407\n",
            "1.0821712017  --->  1.5233538\n",
            "0.0197880752  --->  0.04295116\n",
            "1.3800315857  --->  0.35529435\n",
            "0.0991693661  --->  0.39165622\n",
            "0.0085147545  --->  0.2505536\n",
            "0.0940470472  --->  0.032406848\n",
            "0.1057969481  --->  0.06834686\n",
            "0.025571771  --->  0.7644936\n",
            "-0.0258653872  --->  0.15778887\n",
            "0.1972097754  --->  -0.15840395\n",
            "0.8306779861  --->  0.3940475\n",
            "0.081426166  --->  0.21795058\n",
            "0.0443711951  --->  0.10095058\n",
            "0.123225987  --->  0.22978811\n",
            "-0.2439714372  --->  -0.0439328\n",
            "-1.6293616295  --->  0.002859179\n",
            "1.0366797447  --->  0.69915724\n",
            "-0.0313703418  --->  0.020562775\n",
            "0.3314607143  --->  0.23980409\n",
            "0.9772533774  --->  0.5046234\n",
            "-1.4192097187  --->  -0.58714306\n",
            "0.7865365744  --->  0.29504922\n",
            "0.4448204637  --->  0.08058389\n",
            "0.2055348903  --->  0.17866454\n",
            "2.0515105724  --->  0.90378296\n",
            "2.6497240067  --->  0.45611674\n",
            "0.6276819706  --->  0.69544894\n",
            "-0.0221069325  --->  0.12993076\n",
            "-0.2291824222  --->  -0.016427744\n",
            "-0.4367584586  --->  -0.3190686\n",
            "0.0601589456  --->  0.029421626\n",
            "-0.4130149782  --->  0.033755977\n",
            "0.2676666379  --->  0.12736662\n",
            "0.6929641962  --->  0.60202193\n",
            "0.0629907623  --->  -0.035666063\n",
            "0.2830474377  --->  0.1103982\n",
            "0.5865404606  --->  0.5414165\n",
            "2.2271161079  --->  -0.45489162\n",
            "-0.1796155125  --->  -0.25218725\n",
            "0.3684842587  --->  0.36516035\n",
            "0.2565198243  --->  0.47391957\n",
            "1.060577631  --->  1.0426097\n",
            "0.0135622099  --->  -0.016572956\n",
            "0.3561075628  --->  -0.0437821\n",
            "-0.0811038613  --->  0.25944257\n",
            "-0.0117694689  --->  0.2748979\n",
            "0.5140259266  --->  0.06712945\n",
            "0.4855586886  --->  0.07100705\n",
            "0.4674614072  --->  0.46647716\n",
            "-0.9806152582  --->  -0.2019675\n",
            "-0.0194070656  --->  0.44440648\n",
            "0.0986614451  --->  0.07401248\n",
            "0.4260044098  --->  0.69475853\n",
            "-0.4462865889  --->  -0.23767474\n",
            "0.5145520568  --->  0.28822017\n",
            "-0.0326813757  --->  0.17044237\n",
            "0.313986063  --->  0.44252396\n",
            "0.4990256131  --->  0.4976377\n",
            "0.414046675  --->  0.45656216\n",
            "0.015633164  --->  0.20215118\n",
            "0.0325850248  --->  0.036608476\n",
            "0.1155292392  --->  0.4508261\n",
            "-0.1524592787  --->  -0.050382707\n",
            "1.1509082317  --->  0.34272265\n",
            "-0.0465055108  --->  -0.090005875\n",
            "0.2445583493  --->  0.48028737\n",
            "0.0300259795  --->  0.32994318\n",
            "0.002027069  --->  0.24541137\n",
            "-0.373704493  --->  0.05971403\n",
            "2.91507411  --->  1.4777937\n",
            "0.991772294  --->  0.09026899\n",
            "0.1984028369  --->  0.3240938\n",
            "-0.6035286188  --->  -0.12138036\n",
            "0.3691179156  --->  0.29710078\n",
            "-0.2478058636  --->  0.08201361\n",
            "0.2746079862  --->  0.09236037\n",
            "0.2285498381  --->  0.1941014\n",
            "0.8996193409  --->  0.4692384\n",
            "0.0299929269  --->  0.14534102\n",
            "0.6106266975  --->  0.15691888\n",
            "0.5667717457  --->  0.67374676\n",
            "-0.0255058724  --->  0.058494058\n",
            "0.0103535224  --->  0.23987472\n",
            "-0.1047855392  --->  -0.25680894\n",
            "-0.3521105349  --->  -0.09862446\n",
            "0.5089431405  --->  0.53971326\n",
            "0.8052659035  --->  0.6484703\n",
            "-0.2037529349  --->  -0.047807496\n",
            "-0.467615813  --->  0.07353902\n",
            "4.7632961273  --->  2.4017696\n",
            "0.2217550725  --->  0.17067112\n",
            "0.0470763929  --->  0.12674634\n",
            "-1.2683873177  --->  -0.08109102\n",
            "-0.0263506416  --->  0.04189653\n",
            "0.0286944658  --->  0.07812391\n",
            "1.5550912619  --->  2.698616\n",
            "0.0568939745  --->  -0.0040848944\n",
            "0.2454477996  --->  0.21916002\n",
            "-0.0419118404  --->  0.05250079\n",
            "-1.2554026842  --->  0.123032756\n",
            "-0.5512842536  --->  -0.27368236\n",
            "-0.0233797245  --->  0.3447389\n",
            "3.6306242943  --->  2.1784663\n",
            "-0.6495751739  --->  -0.63140917\n",
            "-0.6771661639  --->  -0.875991\n",
            "0.1160495356  --->  0.18269226\n",
            "0.7208951116  --->  0.5880009\n",
            "-0.6387450099  --->  0.30701455\n",
            "-0.1580239236  --->  0.010304244\n",
            "0.4014451802  --->  0.116909064\n",
            "0.0426389053  --->  0.36371112\n",
            "0.3141413331  --->  0.5217325\n",
            "0.3217261434  --->  0.22580874\n",
            "-0.1672484875  --->  0.056652695\n",
            "0.305861026  --->  0.94811004\n",
            "0.0793272257  --->  -0.07266261\n",
            "2.3120045662  --->  2.214995\n",
            "0.5587152243  --->  0.4671505\n",
            "0.1350016594  --->  0.80161595\n",
            "0.351195246  --->  0.49516988\n",
            "2.5822603703  --->  2.0048008\n",
            "0.0867696106  --->  0.11156817\n",
            "-1.90173e-05  --->  0.08402903\n",
            "-0.5662319064  --->  -0.2573352\n",
            "0.2146129012  --->  0.12638333\n",
            "0.2905555665  --->  0.53770244\n",
            "0.1023710966  --->  0.4883724\n",
            "-0.1110073403  --->  0.4404875\n",
            "0.026195012  --->  0.3864321\n",
            "0.4711254239  --->  0.33482337\n",
            "1.0013766289  --->  0.31245446\n",
            "1.6341289282  --->  0.9357238\n",
            "5.4893608093  --->  4.4348297\n",
            "-0.1539170146  --->  0.08420223\n",
            "0.2879247367  --->  0.27326483\n",
            "-0.0365753695  --->  0.089228325\n",
            "0.0641954839  --->  0.31107658\n",
            "-1.8744909763  --->  -0.8270134\n",
            "0.9608083367  --->  1.1037674\n",
            "1.1231706142  --->  1.3547554\n",
            "0.7358006835  --->  0.75504494\n",
            "1.7123250961  --->  0.86552614\n",
            "0.9447555542  --->  0.29961225\n",
            "0.9384071827  --->  0.47287643\n",
            "0.032855995  --->  0.055722803\n",
            "2.2697300911  --->  1.0724003\n",
            "-0.0091292951  --->  0.12176054\n",
            "0.0048336806  --->  0.012835911\n",
            "0.199640736  --->  0.09475267\n",
            "0.3016254604  --->  -0.036796603\n",
            "0.0071826577  --->  0.19239736\n",
            "-0.90310359  --->  -0.77846074\n",
            "-0.2505259514  --->  -0.18571427\n",
            "-0.1369534582  --->  0.007904621\n",
            "0.172551468  --->  0.23515742\n",
            "0.0171185546  --->  0.10027546\n",
            "1.5121337175  --->  0.66843927\n",
            "0.01843068  --->  0.03346939\n",
            "-0.318397671  --->  0.32614404\n",
            "0.3617361486  --->  0.3111106\n",
            "-0.0791629329  --->  0.052007567\n",
            "0.0602114573  --->  0.05325646\n",
            "0.0217059255  --->  0.119107835\n",
            "-0.1377820075  --->  -0.059256464\n",
            "-0.4295307994  --->  0.020779844\n",
            "2.6067910194  --->  1.6948555\n",
            "0.640599072  --->  0.7832238\n",
            "0.5209442973  --->  0.4949553\n",
            "0.9144362807  --->  0.48380068\n",
            "0.0867457539  --->  -0.0065405145\n",
            "1.3292363882  --->  1.1783633\n",
            "0.4823331535  --->  0.76197445\n",
            "1.3859272003  --->  0.64273286\n",
            "-0.0219892394  --->  0.22568548\n",
            "0.2166926116  --->  -0.018576767\n",
            "0.3505954146  --->  0.22472322\n",
            "0.5978652835  --->  1.4561238\n",
            "1.0578510761  --->  0.17015356\n",
            "0.1132620797  --->  0.19405566\n",
            "-0.3578590155  --->  -0.07505174\n",
            "-0.0200229883  --->  -0.11228445\n",
            "-0.9445006251  --->  -0.47631347\n",
            "-0.0507654138  --->  -0.0065454952\n",
            "1.222501874  --->  1.2452888\n",
            "0.2170473486  --->  0.2535842\n",
            "1.0895323753  --->  0.6351867\n",
            "1.5564764738  --->  1.2675936\n",
            "-0.4813230634  --->  0.30757818\n",
            "0.0092581958  --->  0.10128108\n",
            "0.0354724005  --->  0.102492616\n",
            "0.0368651487  --->  -0.07584797\n",
            "0.3439357579  --->  0.32429343\n",
            "0.4442722797  --->  0.51404345\n",
            "-0.1918155998  --->  -0.053289354\n",
            "-1.2261198759  --->  -0.4084616\n",
            "0.6694818139  --->  0.2993345\n",
            "0.7415546775  --->  0.7545882\n",
            "-0.2846963704  --->  0.21340209\n",
            "-0.0020657761  --->  0.03563665\n",
            "0.7665984631  --->  -0.040810622\n",
            "-0.1564113796  --->  -0.038025357\n",
            "0.7018103004  --->  0.5995811\n",
            "0.4340129495  --->  0.44531113\n",
            "0.0632440969  --->  0.25665778\n",
            "0.0089142583  --->  0.40559483\n",
            "0.0415093079  --->  0.38486096\n",
            "-0.4497329295  --->  -0.036332887\n",
            "0.6990456581  --->  0.4491845\n",
            "0.096937865  --->  0.33014244\n",
            "-0.0644781068  --->  0.007803384\n"
          ]
        }
      ]
    },
    {
      "cell_type": "code",
      "source": [
        "import pandas as pd\n",
        "pd.Series(results).to_json(\"/content/drive/My Drive/Datasets/Data_semEval2022/Results/char/fr_revdict_results_prediction_trial.json\", orient='values')"
      ],
      "metadata": {
        "id": "RoS8voONGr5r"
      },
      "id": "RoS8voONGr5r",
      "execution_count": 55,
      "outputs": []
    },
    {
      "cell_type": "markdown",
      "metadata": {
        "id": "641929d8"
      },
      "source": [
        "### Calcule des métriques d'évaluation"
      ],
      "id": "641929d8"
    },
    {
      "cell_type": "code",
      "execution_count": 57,
      "metadata": {
        "id": "6144a0db"
      },
      "outputs": [],
      "source": [
        "import torch.nn.functional as F\n",
        "import torch\n",
        "\n",
        "classes_trial_tensor = torch.tensor(classes_trial)\n",
        "char_trial_tensor = torch.tensor(char_trial)"
      ],
      "id": "6144a0db"
    },
    {
      "cell_type": "code",
      "execution_count": 58,
      "metadata": {
        "id": "89083a05"
      },
      "outputs": [],
      "source": [
        "cos_sim = F.cosine_similarity(classes_trial_tensor, char_trial_tensor).mean().item()"
      ],
      "id": "89083a05"
    },
    {
      "cell_type": "code",
      "execution_count": 59,
      "metadata": {
        "colab": {
          "base_uri": "https://localhost:8080/"
        },
        "id": "4c5613a8",
        "outputId": "dab2890b-436c-487a-b9d4-99ed92cb4902"
      },
      "outputs": [
        {
          "output_type": "stream",
          "name": "stdout",
          "text": [
            "0.7827089428901672\n"
          ]
        }
      ],
      "source": [
        "print(cos_sim)"
      ],
      "id": "4c5613a8"
    },
    {
      "cell_type": "code",
      "execution_count": 60,
      "metadata": {
        "id": "d83108cb"
      },
      "outputs": [],
      "source": [
        "mse = F.mse_loss(classes_trial_tensor, char_trial_tensor).item()"
      ],
      "id": "d83108cb"
    },
    {
      "cell_type": "code",
      "execution_count": 61,
      "metadata": {
        "colab": {
          "base_uri": "https://localhost:8080/"
        },
        "id": "528b2191",
        "outputId": "932f194f-7407-4cbe-d0fd-4f5e27158cd8"
      },
      "outputs": [
        {
          "output_type": "stream",
          "name": "stdout",
          "text": [
            "0.3292418420314789\n"
          ]
        }
      ],
      "source": [
        "print(mse)"
      ],
      "id": "528b2191"
    },
    {
      "cell_type": "code",
      "execution_count": 62,
      "metadata": {
        "id": "b29a01ac"
      },
      "outputs": [],
      "source": [
        "# fonction prise du code de la baseline.\n",
        "def rank_cosine(preds, targets):\n",
        "    unique_targets = targets.unique(dim=0)\n",
        "    all_assocs = preds @ F.normalize(targets).T\n",
        "    unique_assocs = preds @ F.normalize(unique_targets).T\n",
        "    refs = torch.diagonal(all_assocs, 0).unsqueeze(1)\n",
        "    ranks = (unique_assocs >= refs).sum(1).float().mean().item()\n",
        "    return ranks / unique_targets.size(0)"
      ],
      "id": "b29a01ac"
    },
    {
      "cell_type": "code",
      "execution_count": 63,
      "metadata": {
        "id": "e4c527f9"
      },
      "outputs": [],
      "source": [
        "rnk = rank_cosine(classes_trial_tensor, char_trial_tensor)"
      ],
      "id": "e4c527f9"
    },
    {
      "cell_type": "code",
      "execution_count": 64,
      "metadata": {
        "colab": {
          "base_uri": "https://localhost:8080/"
        },
        "id": "b816e4c2",
        "outputId": "cde43d9d-380b-442e-ddfa-93f6b9c2e621"
      },
      "outputs": [
        {
          "output_type": "stream",
          "name": "stdout",
          "text": [
            "0.5040452276641999\n"
          ]
        }
      ],
      "source": [
        "print(rnk)"
      ],
      "id": "b816e4c2"
    },
    {
      "cell_type": "markdown",
      "metadata": {
        "id": "7WUnc1xrlQw2"
      },
      "source": [
        "### Test du modèle sur les données de DEV\n"
      ],
      "id": "7WUnc1xrlQw2"
    },
    {
      "cell_type": "code",
      "source": [
        "scores = model.evaluate(glosses_dev, char_dev, verbose=2)"
      ],
      "metadata": {
        "colab": {
          "base_uri": "https://localhost:8080/"
        },
        "id": "OSQ9VCfyKo9p",
        "outputId": "14bcf89c-ce47-49a9-cbe7-69f7348debec"
      },
      "id": "OSQ9VCfyKo9p",
      "execution_count": 65,
      "outputs": [
        {
          "output_type": "stream",
          "name": "stdout",
          "text": [
            "200/200 - 8s - loss: 0.3662 - accuracy: 0.7514 - 8s/epoch - 41ms/step\n"
          ]
        }
      ]
    },
    {
      "cell_type": "code",
      "source": [
        "classes_dev = model.predict(glosses_dev, batch_size=32)"
      ],
      "metadata": {
        "id": "-hUJYloJKztO"
      },
      "id": "-hUJYloJKztO",
      "execution_count": 66,
      "outputs": []
    },
    {
      "cell_type": "code",
      "source": [
        "print(len(classes_dev))"
      ],
      "metadata": {
        "colab": {
          "base_uri": "https://localhost:8080/"
        },
        "id": "OdscNkpSK5wF",
        "outputId": "14ec5007-1c8e-478b-91a5-4b97307ea4c4"
      },
      "id": "OdscNkpSK5wF",
      "execution_count": 67,
      "outputs": [
        {
          "output_type": "stream",
          "name": "stdout",
          "text": [
            "6375\n"
          ]
        }
      ]
    },
    {
      "cell_type": "code",
      "source": [
        "print(len(classes_dev[0]))"
      ],
      "metadata": {
        "colab": {
          "base_uri": "https://localhost:8080/"
        },
        "id": "NWFlBTTbLBqS",
        "outputId": "44fe41ed-b5c3-4b45-85a9-eae3f1e0b11c"
      },
      "id": "NWFlBTTbLBqS",
      "execution_count": 68,
      "outputs": [
        {
          "output_type": "stream",
          "name": "stdout",
          "text": [
            "256\n"
          ]
        }
      ]
    },
    {
      "cell_type": "code",
      "source": [
        "results_dev = []\n",
        "\n",
        "prefix_id = \"fr.revdict.\"\n",
        "i = 0\n",
        "for g in glosses_dev :\n",
        "  sample = {}\n",
        "  id = prefix_id + str(i)\n",
        "  sample[\"id\"] = id\n",
        "  sample[\"gloss\"] = g\n",
        "  sample[\"char\"] = classes_dev[glosses_dev.index(g)]\n",
        "  results_dev.append(sample)\n",
        "  i+=1\n",
        "\n",
        "print(\"taille du résultat : \", len(results_dev))\n",
        "print(\"vecteur dev ---> prédiction\")\n",
        "for v in char_dev[0] :\n",
        "  print(v, \" ---> \", results_dev[0][\"char\"][list(char_dev[0]).index(v)])"
      ],
      "metadata": {
        "colab": {
          "base_uri": "https://localhost:8080/"
        },
        "id": "zJjXbeUiLJ4V",
        "outputId": "8f07e0da-225b-44a3-f4de-969f7ed40e9a"
      },
      "id": "zJjXbeUiLJ4V",
      "execution_count": 71,
      "outputs": [
        {
          "output_type": "stream",
          "name": "stdout",
          "text": [
            "taille du résultat :  6375\n",
            "vecteur dev ---> prédiction\n",
            "0.0130068734  --->  -0.5693648\n",
            "0.6688424349  --->  0.8222307\n",
            "-0.0436479375  --->  1.5254737\n",
            "-0.0079411808  --->  0.3350987\n",
            "-0.0245929956  --->  0.48094848\n",
            "-0.2760707736  --->  0.12108232\n",
            "0.560736239  --->  1.1178932\n",
            "-0.4518419504  --->  -0.167368\n",
            "0.35933882  --->  0.42719835\n",
            "0.8757936358  --->  0.7520111\n",
            "0.8935328722  --->  0.67566824\n",
            "0.3995228112  --->  0.24888344\n",
            "-5.8919038773  --->  -3.7057867\n",
            "-0.4046234488  --->  0.19438064\n",
            "1.1598460674  --->  0.14769116\n",
            "-0.4411924779  --->  0.10932329\n",
            "1.2142043114  --->  0.30660695\n",
            "0.0324933156  --->  0.051806442\n",
            "-0.3487933874  --->  -0.11156212\n",
            "-0.0569673069  --->  0.1172325\n",
            "0.9960999489  --->  1.41718\n",
            "-0.5367333293  --->  -0.6973385\n",
            "-0.063915059  --->  -0.006773891\n",
            "0.0420465581  --->  0.067894794\n",
            "0.0972432643  --->  0.12752624\n",
            "0.2754342258  --->  0.13306463\n",
            "6.39558e-05  --->  0.048434496\n",
            "1.1848087311  --->  0.28951666\n",
            "-0.0954852402  --->  -0.031693622\n",
            "-0.4623927474  --->  -0.26332468\n",
            "0.6340706944  --->  0.40496016\n",
            "0.148659274  --->  0.16933283\n",
            "0.8979475498  --->  0.47753155\n",
            "0.5380007029  --->  0.14882876\n",
            "0.0371826291  --->  0.1961165\n",
            "-0.1578467339  --->  0.39249653\n",
            "1.4150595665  --->  0.771948\n",
            "0.2152204514  --->  0.044771813\n",
            "-0.2531134486  --->  0.49323094\n",
            "0.3252902627  --->  0.04405439\n",
            "0.3636451662  --->  0.57039607\n",
            "0.686185956  --->  0.71373427\n",
            "0.7433989048  --->  0.47364715\n",
            "0.1856938004  --->  0.09889194\n",
            "-0.2864089012  --->  0.6756692\n",
            "1.0593255758  --->  0.5061407\n",
            "1.5476950407  --->  1.5233538\n",
            "0.0812008753  --->  0.04295116\n",
            "-0.3634628952  --->  0.35529435\n",
            "0.6176803112  --->  0.39165622\n",
            "0.0133411055  --->  0.2505536\n",
            "0.1658998132  --->  0.032406848\n",
            "0.0805446953  --->  0.06834686\n",
            "0.1768769473  --->  0.7644936\n",
            "0.2637092173  --->  0.15778887\n",
            "0.4806803465  --->  -0.15840395\n",
            "0.2739515603  --->  0.3940475\n",
            "0.8621413112  --->  0.21795058\n",
            "0.0985340104  --->  0.10095058\n",
            "-0.508060813  --->  0.22978811\n",
            "-0.2074131817  --->  -0.0439328\n",
            "-0.8160492182  --->  0.002859179\n",
            "0.6048172712  --->  0.69915724\n",
            "0.0984113812  --->  0.020562775\n",
            "0.526889503  --->  0.23980409\n",
            "-0.071560137  --->  0.5046234\n",
            "1.1260457039  --->  -0.58714306\n",
            "0.3389641047  --->  0.29504922\n",
            "-0.5835232139  --->  0.08058389\n",
            "0.3775976002  --->  0.17866454\n",
            "1.7370480299  --->  0.90378296\n",
            "-1.1881892681  --->  0.45611674\n",
            "-0.0215028618  --->  0.69544894\n",
            "-0.034543965  --->  0.12993076\n",
            "0.6935226917  --->  -0.016427744\n",
            "-0.5955302119  --->  -0.3190686\n",
            "-0.169578284  --->  0.029421626\n",
            "0.1085060537  --->  0.033755977\n",
            "-1.209800005  --->  0.12736662\n",
            "1.1353151798  --->  0.60202193\n",
            "-0.3067951798  --->  -0.035666063\n",
            "0.2428712249  --->  0.1103982\n",
            "0.7588943243  --->  0.5414165\n",
            "-2.3234629631  --->  -0.45489162\n",
            "0.1215087697  --->  -0.25218725\n",
            "0.4514993131  --->  0.36516035\n",
            "0.703722477  --->  0.47391957\n",
            "1.1090329885  --->  1.0426097\n",
            "1.0223776102  --->  -0.016572956\n",
            "-0.1331048012  --->  -0.0437821\n",
            "0.1953838915  --->  0.25944257\n",
            "0.8336465359  --->  0.2748979\n",
            "-0.2590227127  --->  0.06712945\n",
            "0.2660083473  --->  0.07100705\n",
            "1.1544548273  --->  0.46647716\n",
            "0.6929260492  --->  -0.2019675\n",
            "1.9891501665  --->  0.44440648\n",
            "0.1984230876  --->  0.07401248\n",
            "0.5117055178  --->  0.69475853\n",
            "0.3110226989  --->  -0.23767474\n",
            "0.2447887957  --->  0.28822017\n",
            "0.3253439665  --->  0.17044237\n",
            "1.5293000937  --->  0.44252396\n",
            "1.8266997337  --->  0.4976377\n",
            "0.3126552105  --->  0.45656216\n",
            "0.1518560499  --->  0.20215118\n",
            "0.2280064672  --->  0.036608476\n",
            "0.847417295  --->  0.4508261\n",
            "0.0066713942  --->  -0.050382707\n",
            "-0.720620811  --->  0.34272265\n",
            "-0.0594935417  --->  -0.090005875\n",
            "0.2748069465  --->  0.48028737\n",
            "0.1600299329  --->  0.32994318\n",
            "0.5562068224  --->  0.24541137\n",
            "-0.3578947484  --->  0.05971403\n",
            "0.8796187043  --->  1.4777937\n",
            "0.1485770047  --->  0.09026899\n",
            "-0.3732048571  --->  0.3240938\n",
            "0.379516989  --->  -0.12138036\n",
            "-0.1556998491  --->  0.29710078\n",
            "0.3007733226  --->  0.08201361\n",
            "-0.0477030016  --->  0.09236037\n",
            "1.3777137995  --->  0.1941014\n",
            "0.6489616036  --->  0.4692384\n",
            "0.3543794751  --->  0.14534102\n",
            "0.0407320932  --->  0.15691888\n",
            "1.178919673  --->  0.67374676\n",
            "0.1468800753  --->  0.058494058\n",
            "0.5912662148  --->  0.23987472\n",
            "0.0605701357  --->  -0.25680894\n",
            "0.155482024  --->  -0.09862446\n",
            "0.6020159721  --->  0.53971326\n",
            "0.3525064588  --->  0.6484703\n",
            "0.364415437  --->  -0.047807496\n",
            "0.0851607099  --->  0.07353902\n",
            "-0.5760889053  --->  2.4017696\n",
            "0.4619419873  --->  0.17067112\n",
            "0.2861303389  --->  0.12674634\n",
            "-0.850689888  --->  -0.08109102\n",
            "0.0511183888  --->  0.04189653\n",
            "-0.8336540461  --->  0.07812391\n",
            "3.5261693001  --->  2.698616\n",
            "0.1551626027  --->  -0.0040848944\n",
            "0.3390872478  --->  0.21916002\n",
            "1.5271636248  --->  0.05250079\n",
            "0.59793365  --->  0.123032756\n",
            "-1.1978234053  --->  -0.27368236\n",
            "1.4109339714  --->  0.3447389\n",
            "0.4373277128  --->  2.1784663\n",
            "0.2136231661  --->  -0.63140917\n",
            "-0.4630836546  --->  -0.875991\n",
            "0.1283022165  --->  0.18269226\n",
            "0.4037312865  --->  0.5880009\n",
            "0.5834207535  --->  0.30701455\n",
            "1.0331090689  --->  0.010304244\n",
            "-0.5324486494  --->  0.116909064\n",
            "0.6766668558  --->  0.36371112\n",
            "0.5507098436  --->  0.5217325\n",
            "0.5502753854  --->  0.22580874\n",
            "0.5381723642  --->  0.056652695\n",
            "1.1616790295  --->  0.94811004\n",
            "0.0411170833  --->  -0.07266261\n",
            "2.3557302952  --->  2.214995\n",
            "0.6990320086  --->  0.4671505\n",
            "1.9168258905  --->  0.80161595\n",
            "0.7963775396  --->  0.49516988\n",
            "1.2713037729  --->  2.0048008\n",
            "-0.6968814731  --->  0.11156817\n",
            "0.009649788  --->  0.08402903\n",
            "0.1297837049  --->  -0.2573352\n",
            "0.0371547341  --->  0.12638333\n",
            "0.7880877256  --->  0.53770244\n",
            "1.6016306877  --->  0.4883724\n",
            "-0.5266178846  --->  0.4404875\n",
            "0.36222592  --->  0.3864321\n",
            "0.3950450122  --->  0.33482337\n",
            "0.1772314012  --->  0.31245446\n",
            "1.152136445  --->  0.9357238\n",
            "4.1382389069  --->  4.4348297\n",
            "-0.0166828483  --->  0.08420223\n",
            "-0.0164605305  --->  0.27326483\n",
            "0.0425035805  --->  0.089228325\n",
            "0.6964157224  --->  0.31107658\n",
            "-0.6893157959  --->  -0.8270134\n",
            "1.4953612089  --->  1.1037674\n",
            "1.4662395716  --->  1.3547554\n",
            "0.7529681325  --->  0.75504494\n",
            "-1.1303058863  --->  0.86552614\n",
            "-0.7780940533  --->  0.29961225\n",
            "1.1590261459  --->  0.47287643\n",
            "0.053517364  --->  0.055722803\n",
            "-0.1302219182  --->  1.0724003\n",
            "0.0797630548  --->  0.12176054\n",
            "-0.0745610073  --->  0.012835911\n",
            "0.311260283  --->  0.09475267\n",
            "-0.4186140895  --->  -0.036796603\n",
            "0.8403882384  --->  0.19239736\n",
            "0.0874639601  --->  -0.77846074\n",
            "0.0444908105  --->  -0.18571427\n",
            "-0.0631592572  --->  0.007904621\n",
            "-0.0631072819  --->  0.23515742\n",
            "0.0843128338  --->  0.10027546\n",
            "-0.225759998  --->  0.66843927\n",
            "-0.0614281781  --->  0.03346939\n",
            "0.3110928833  --->  0.32614404\n",
            "0.3165240586  --->  0.3111106\n",
            "0.1098135933  --->  0.052007567\n",
            "0.0407884046  --->  0.05325646\n",
            "0.3975746632  --->  0.119107835\n",
            "0.3379944563  --->  -0.059256464\n",
            "-0.1413023025  --->  0.020779844\n",
            "0.4837798178  --->  1.6948555\n",
            "1.0805139542  --->  0.7832238\n",
            "0.913844943  --->  0.4949553\n",
            "0.5163960457  --->  0.48380068\n",
            "0.4864595532  --->  -0.0065405145\n",
            "1.549713254  --->  1.1783633\n",
            "0.5731922388  --->  0.76197445\n",
            "0.1130874902  --->  0.64273286\n",
            "0.073361218  --->  0.22568548\n",
            "-0.4708390534  --->  -0.018576767\n",
            "0.2500731051  --->  0.22472322\n",
            "2.111436367  --->  1.4561238\n",
            "-0.5587784648  --->  0.17015356\n",
            "0.333633244  --->  0.19405566\n",
            "-0.4439260066  --->  -0.07505174\n",
            "0.5205522776  --->  -0.11228445\n",
            "-0.766489625  --->  -0.47631347\n",
            "0.0564670786  --->  -0.0065454952\n",
            "1.6329721212  --->  1.2452888\n",
            "-1.5914677382  --->  0.2535842\n",
            "0.2351995409  --->  0.6351867\n",
            "0.7150022388  --->  1.2675936\n",
            "1.5348573923  --->  0.30757818\n",
            "0.8079879284  --->  0.10128108\n",
            "-0.1434890926  --->  0.102492616\n",
            "-0.7143027782  --->  -0.07584797\n",
            "0.1630076021  --->  0.32429343\n",
            "0.2438162416  --->  0.51404345\n",
            "0.1789638549  --->  -0.053289354\n",
            "-0.4187464118  --->  -0.4084616\n",
            "-0.0058059692  --->  0.2993345\n",
            "0.7460380793  --->  0.7545882\n",
            "1.1853885651  --->  0.21340209\n",
            "0.0091199847  --->  0.03563665\n",
            "-0.8245630264  --->  -0.040810622\n",
            "0.3028360307  --->  -0.038025357\n",
            "0.2332686633  --->  0.5995811\n",
            "1.4037048817  --->  0.44531113\n",
            "0.3245913386  --->  0.25665778\n",
            "0.6742972136  --->  0.40559483\n",
            "1.4189795256  --->  0.38486096\n",
            "0.6615996957  --->  -0.036332887\n",
            "0.7818233967  --->  0.4491845\n",
            "0.2468121946  --->  0.33014244\n",
            "0.5892987847  --->  0.007803384\n"
          ]
        }
      ]
    },
    {
      "cell_type": "code",
      "source": [
        "import pandas as pd\n",
        "pd.Series(results_dev).to_json(\"/content/drive/My Drive/Datasets/Data_semEval2022/Results/char/fr_revdict_results_prediction_dev.json\", orient='values')"
      ],
      "metadata": {
        "id": "EXpOUKhlLfUr"
      },
      "id": "EXpOUKhlLfUr",
      "execution_count": 72,
      "outputs": []
    },
    {
      "cell_type": "markdown",
      "source": [
        "\n",
        "### Test du modèle sur les données de TEST"
      ],
      "metadata": {
        "id": "SWYTwH8vn1-j"
      },
      "id": "SWYTwH8vn1-j"
    },
    {
      "cell_type": "code",
      "execution_count": 74,
      "metadata": {
        "id": "JJlejcV_oRfH"
      },
      "outputs": [],
      "source": [
        "with open(\"/content/drive/My Drive/Datasets/Data_semEval2022/Fr_data/fr.test.revdict.json\", \"r\") as file_handler:\n",
        "    dataset_test = json.load(file_handler)"
      ],
      "id": "JJlejcV_oRfH"
    },
    {
      "cell_type": "code",
      "execution_count": 75,
      "metadata": {
        "id": "ltDVpDM6oRfO"
      },
      "outputs": [],
      "source": [
        "glosses_test = []\n",
        "for e in dataset_test :\n",
        "    glosses_test.append(e[\"gloss\"])"
      ],
      "id": "ltDVpDM6oRfO"
    },
    {
      "cell_type": "code",
      "execution_count": 78,
      "metadata": {
        "id": "ggSf_l5SoRfX"
      },
      "outputs": [],
      "source": [
        "classes_test = model.predict(glosses_test, batch_size=32)"
      ],
      "id": "ggSf_l5SoRfX"
    },
    {
      "cell_type": "code",
      "source": [
        "print(len(classes_test))"
      ],
      "metadata": {
        "colab": {
          "base_uri": "https://localhost:8080/"
        },
        "outputId": "1864819e-c4db-4454-e617-10f0be81151c",
        "id": "DIMy3nOOoRfa"
      },
      "execution_count": 79,
      "outputs": [
        {
          "output_type": "stream",
          "name": "stdout",
          "text": [
            "6208\n"
          ]
        }
      ],
      "id": "DIMy3nOOoRfa"
    },
    {
      "cell_type": "code",
      "source": [
        "print(len(classes_test[0]))"
      ],
      "metadata": {
        "colab": {
          "base_uri": "https://localhost:8080/"
        },
        "outputId": "4fe3f5a2-5d0f-4aff-b273-95f017bb4c71",
        "id": "qQfXjwEopP81"
      },
      "execution_count": 80,
      "outputs": [
        {
          "output_type": "stream",
          "name": "stdout",
          "text": [
            "256\n"
          ]
        }
      ],
      "id": "qQfXjwEopP81"
    },
    {
      "cell_type": "code",
      "source": [
        "results_test = []\n",
        "\n",
        "prefix_id = \"fr.revdict.\"\n",
        "i = 0\n",
        "for g in glosses_test :\n",
        "  sample = {}\n",
        "  id = prefix_id + str(i)\n",
        "  sample[\"id\"] = id\n",
        "  sample[\"gloss\"] = g\n",
        "  sample[\"char\"] = classes_test[glosses_test.index(g)]\n",
        "  results_test.append(sample)\n",
        "  i+=1\n",
        "\n",
        "print(\"taille du resultat : \", len(results_test))"
      ],
      "metadata": {
        "colab": {
          "base_uri": "https://localhost:8080/"
        },
        "outputId": "27cf2ae8-701b-4692-e656-8fd287ecf747",
        "id": "eBQ5LtvhpP84"
      },
      "execution_count": 81,
      "outputs": [
        {
          "output_type": "stream",
          "name": "stdout",
          "text": [
            "taille du resultat :  6208\n"
          ]
        }
      ],
      "id": "eBQ5LtvhpP84"
    },
    {
      "cell_type": "code",
      "source": [
        "import pandas as pd\n",
        "pd.Series(results_test).to_json(\"/content/drive/My Drive/Datasets/Data_semEval2022/Results/char/fr_revdict_results_prediction_test.json\", orient='values')"
      ],
      "metadata": {
        "id": "xK5Iu48KpynU"
      },
      "execution_count": 82,
      "outputs": [],
      "id": "xK5Iu48KpynU"
    }
  ],
  "metadata": {
    "accelerator": "GPU",
    "colab": {
      "name": "Fr_CHAR_Revdict_Achitecture_tensorflow.ipynb",
      "provenance": []
    },
    "kernelspec": {
      "display_name": "Python 3 (ipykernel)",
      "language": "python",
      "name": "python3"
    },
    "language_info": {
      "codemirror_mode": {
        "name": "ipython",
        "version": 3
      },
      "file_extension": ".py",
      "mimetype": "text/x-python",
      "name": "python",
      "nbconvert_exporter": "python",
      "pygments_lexer": "ipython3",
      "version": "3.9.7"
    }
  },
  "nbformat": 4,
  "nbformat_minor": 5
}