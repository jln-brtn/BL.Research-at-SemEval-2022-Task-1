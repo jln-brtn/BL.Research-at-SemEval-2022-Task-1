{
  "cells": [
    {
      "cell_type": "code",
      "execution_count": 1,
      "metadata": {
        "id": "06f22756"
      },
      "outputs": [],
      "source": [
        "import json\n",
        "from tensorflow.keras.models import Sequential\n",
        "from tensorflow.keras import Input\n",
        "from tensorflow.keras.layers.experimental.preprocessing import TextVectorization\n",
        "from tensorflow.keras.layers import LSTM, Embedding, Dense, TimeDistributed, Dropout, Bidirectional, Flatten\n",
        "import numpy as np\n",
        "import pandas as pd\n",
        "from sklearn.feature_extraction.text import TfidfVectorizer\n",
        "from sklearn.feature_extraction.text import TfidfTransformer\n",
        "from tensorflow import keras"
      ],
      "id": "06f22756"
    },
    {
      "cell_type": "code",
      "execution_count": 2,
      "metadata": {
        "colab": {
          "base_uri": "https://localhost:8080/"
        },
        "id": "z_XEPOjNYhqK",
        "outputId": "f080334d-3429-45d2-c63f-dcea5186b5d3"
      },
      "outputs": [
        {
          "output_type": "stream",
          "name": "stdout",
          "text": [
            "Mounted at /content/drive\n"
          ]
        }
      ],
      "source": [
        "from google.colab import drive\n",
        "drive.mount('/content/drive')"
      ],
      "id": "z_XEPOjNYhqK"
    },
    {
      "cell_type": "markdown",
      "metadata": {
        "id": "0eae8dac"
      },
      "source": [
        "### Chargement des données"
      ],
      "id": "0eae8dac"
    },
    {
      "cell_type": "code",
      "execution_count": 3,
      "metadata": {
        "id": "2c211d43"
      },
      "outputs": [],
      "source": [
        "import os\n",
        "\n",
        "with open(\"/content/drive/My Drive/colab/Datasets/Data_semEval2022/Fr_data/fr.train.json\", \"r\") as file_handler:\n",
        "    dataset = json.load(file_handler)"
      ],
      "id": "2c211d43"
    },
    {
      "cell_type": "code",
      "execution_count": 4,
      "metadata": {
        "id": "c2101cf4"
      },
      "outputs": [],
      "source": [
        "with open(\"/content/drive/My Drive/colab/Datasets/Data_semEval2022/Fr_data/fr.dev.json\", \"r\") as file_handler:\n",
        "    dataset_dev = json.load(file_handler)"
      ],
      "id": "c2101cf4"
    },
    {
      "cell_type": "code",
      "execution_count": 5,
      "metadata": {
        "id": "e90cd2cd"
      },
      "outputs": [],
      "source": [
        "electra = [i['electra'] for i in dataset]\n",
        "glosses = [i['gloss'] for i in dataset]"
      ],
      "id": "e90cd2cd"
    },
    {
      "cell_type": "code",
      "execution_count": 6,
      "metadata": {
        "id": "78d48134"
      },
      "outputs": [],
      "source": [
        "electra_dev = [i['electra'] for i in dataset_dev]\n",
        "glosses_dev = [i['gloss'] for i in dataset_dev]"
      ],
      "id": "78d48134"
    },
    {
      "cell_type": "code",
      "execution_count": 7,
      "metadata": {
        "colab": {
          "base_uri": "https://localhost:8080/"
        },
        "id": "993c2dcc",
        "outputId": "77ef786f-d35c-46c8-d35e-6b5673d8b960"
      },
      "outputs": [
        {
          "output_type": "stream",
          "name": "stdout",
          "text": [
            "6375\n"
          ]
        }
      ],
      "source": [
        "print(len(glosses_dev))"
      ],
      "id": "993c2dcc"
    },
    {
      "cell_type": "code",
      "execution_count": 8,
      "metadata": {
        "id": "4a73425a"
      },
      "outputs": [],
      "source": [
        "# Import DATA\n",
        "with open(\"/content/drive/My Drive/colab/Datasets/Data_semEval2022/lemm2Idx_train.json\") as outfile:\n",
        "    lemm2Idx = json.load(outfile)\n",
        "\n",
        "with open(\"/content/drive/My Drive/colab/Datasets/Data_semEval2022/idx2Lemm_train.json\") as outfile:\n",
        "    idx2Lemm = json.load(outfile)\n",
        "\n",
        "with open(\"/content/drive/My Drive/colab/Datasets/Data_semEval2022/lemmatized_glosses_train.json\") as outfile:\n",
        "    lemmatized_glosses = json.load(outfile)"
      ],
      "id": "4a73425a"
    },
    {
      "cell_type": "code",
      "execution_count": 9,
      "metadata": {
        "id": "d119d8cb"
      },
      "outputs": [],
      "source": [
        "# Import DATA\n",
        "with open(\"/content/drive/My Drive/colab/Datasets/Data_semEval2022/lemm2Idx.json\") as outfile:\n",
        "    lemm2Idx_dev = json.load(outfile)\n",
        "\n",
        "with open(\"/content/drive/My Drive/colab/Datasets/Data_semEval2022/idx2Lemm.json\") as outfile:\n",
        "    idx2Lemm_dev = json.load(outfile)\n",
        "\n",
        "with open(\"/content/drive/My Drive/colab/Datasets/Data_semEval2022/lemmatized_glosses.json\") as outfile:\n",
        "    lemmatized_glosses_dev = json.load(outfile)"
      ],
      "id": "d119d8cb"
    },
    {
      "cell_type": "code",
      "execution_count": 10,
      "metadata": {
        "colab": {
          "base_uri": "https://localhost:8080/"
        },
        "id": "etS_pwT_Fi5J",
        "outputId": "0c108af1-a731-4200-e21e-6a7eed06cffc"
      },
      "outputs": [
        {
          "output_type": "stream",
          "name": "stdout",
          "text": [
            "Num GPUs Available:  1\n"
          ]
        }
      ],
      "source": [
        "import tensorflow as tf\n",
        "print(\"Num GPUs Available: \", len(tf.config.list_physical_devices('GPU')))"
      ],
      "id": "etS_pwT_Fi5J"
    },
    {
      "cell_type": "markdown",
      "metadata": {
        "id": "6e93118c"
      },
      "source": [
        "### Préparation des données"
      ],
      "id": "6e93118c"
    },
    {
      "cell_type": "code",
      "execution_count": 11,
      "metadata": {
        "id": "846d1635"
      },
      "outputs": [],
      "source": [
        "lemmatized_glosses_text = []\n",
        "\n",
        "for gloss in lemmatized_glosses:\n",
        "    text = \"\"\n",
        "    for word in gloss:\n",
        "        text += idx2Lemm[str(word)] + \" \"\n",
        "    lemmatized_glosses_text.append(text)"
      ],
      "id": "846d1635"
    },
    {
      "cell_type": "code",
      "execution_count": 12,
      "metadata": {
        "colab": {
          "base_uri": "https://localhost:8080/"
        },
        "id": "03859e48",
        "outputId": "8e667437-b2c1-4f60-848d-331c4dee31d0"
      },
      "outputs": [
        {
          "output_type": "stream",
          "name": "stdout",
          "text": [
            "43608\n",
            "43608\n"
          ]
        }
      ],
      "source": [
        "print(len(lemmatized_glosses_text))\n",
        "print(len(electra))\n"
      ],
      "id": "03859e48"
    },
    {
      "cell_type": "code",
      "execution_count": 13,
      "metadata": {
        "id": "ZoBgROpI9vv3"
      },
      "outputs": [],
      "source": [
        "lemmatized_glosses_text_dev = []\n",
        "\n",
        "for gloss in lemmatized_glosses_dev:\n",
        "    text = \"\"\n",
        "    for word in gloss:\n",
        "        text += idx2Lemm_dev[str(word)] + \" \"\n",
        "    lemmatized_glosses_text_dev.append(text)"
      ],
      "id": "ZoBgROpI9vv3"
    },
    {
      "cell_type": "code",
      "execution_count": 14,
      "metadata": {
        "colab": {
          "base_uri": "https://localhost:8080/"
        },
        "id": "_FC_-CIVdef4",
        "outputId": "c17ea712-2c93-486f-be7b-33f770c256f3"
      },
      "outputs": [
        {
          "output_type": "stream",
          "name": "stdout",
          "text": [
            "6375\n",
            "6375\n"
          ]
        }
      ],
      "source": [
        "print(len(lemmatized_glosses_text_dev))\n",
        "print(len(electra_dev))"
      ],
      "id": "_FC_-CIVdef4"
    },
    {
      "cell_type": "code",
      "execution_count": 15,
      "metadata": {
        "id": "14fa7890"
      },
      "outputs": [],
      "source": [
        "def longest_gloss(glosses_list):\n",
        "    lgt = 0\n",
        "    sentence = \"\"\n",
        "    tk = []\n",
        "    for g in glosses_list :\n",
        "        tokens = g.split()\n",
        "        if len(tokens)>lgt :\n",
        "            lgt = len(tokens)\n",
        "            sentence =g\n",
        "            tk = tokens\n",
        "    return lgt"
      ],
      "id": "14fa7890"
    },
    {
      "cell_type": "code",
      "execution_count": 16,
      "metadata": {
        "colab": {
          "base_uri": "https://localhost:8080/"
        },
        "id": "d78dc767",
        "outputId": "9da7a972-1ffe-451d-c23c-7f52e7bc0e13"
      },
      "outputs": [
        {
          "output_type": "stream",
          "name": "stdout",
          "text": [
            "149\n"
          ]
        }
      ],
      "source": [
        "max_len= longest_gloss(lemmatized_glosses_text)\n",
        "print(max_len)"
      ],
      "id": "d78dc767"
    },
    {
      "cell_type": "code",
      "execution_count": 17,
      "metadata": {
        "colab": {
          "base_uri": "https://localhost:8080/"
        },
        "id": "d99fdcb0",
        "outputId": "ad1e1e6b-d066-48b5-972a-5051620fa17a"
      },
      "outputs": [
        {
          "output_type": "stream",
          "name": "stdout",
          "text": [
            "111\n"
          ]
        }
      ],
      "source": [
        "max_len_dev = longest_gloss(lemmatized_glosses_text_dev)\n",
        "print(max_len_dev)"
      ],
      "id": "d99fdcb0"
    },
    {
      "cell_type": "code",
      "execution_count": 18,
      "metadata": {
        "colab": {
          "base_uri": "https://localhost:8080/"
        },
        "id": "0f44ec59",
        "outputId": "9b7cb151-55c4-4389-c415-80e6eeb21d30"
      },
      "outputs": [
        {
          "output_type": "stream",
          "name": "stdout",
          "text": [
            "24089\n"
          ]
        }
      ],
      "source": [
        "max_tokens = len(list(lemm2Idx))\n",
        "print(max_tokens)\n",
        "\n",
        "max_tokens_dev = len(lemm2Idx_dev)\n",
        "\n",
        "\n",
        "vectorize_layer = TextVectorization(\n",
        "    # Max vocab size. Any words outside of the max_tokens most common ones\n",
        "    # will be treated the same way: as \"out of vocabulary\" (OOV) tokens.\n",
        "    max_tokens=max_tokens,\n",
        "    # Output integer indices, one per string token\n",
        "    output_mode=\"int\",\n",
        "    # Always pad or truncate to exactly this many tokens\n",
        "    output_sequence_length=max_len\n",
        ")"
      ],
      "id": "0f44ec59"
    },
    {
      "cell_type": "code",
      "execution_count": 19,
      "metadata": {
        "id": "25e8c404"
      },
      "outputs": [],
      "source": [
        "# Call adapt(), which fits the TextVectorization layer to our text dataset.\n",
        "# This is when the max_tokens most common words (i.e. the vocabulary) are selected.\n",
        "vectorize_layer.adapt(np.array(list(idx2Lemm.values())))"
      ],
      "id": "25e8c404"
    },
    {
      "cell_type": "markdown",
      "metadata": {
        "id": "3a64ca10"
      },
      "source": [
        "### Construction du modèle"
      ],
      "id": "3a64ca10"
    },
    {
      "cell_type": "code",
      "execution_count": 20,
      "metadata": {
        "colab": {
          "base_uri": "https://localhost:8080/"
        },
        "id": "8oPGYShodflX",
        "outputId": "c4c0d525-f057-4515-e63d-4a2be020900a"
      },
      "outputs": [
        {
          "output_type": "stream",
          "name": "stdout",
          "text": [
            "Collecting tensorflow_addons\n",
            "  Downloading tensorflow_addons-0.15.0-cp37-cp37m-manylinux_2_12_x86_64.manylinux2010_x86_64.whl (1.1 MB)\n",
            "\u001b[K     |████████████████████████████████| 1.1 MB 4.2 MB/s \n",
            "\u001b[?25hRequirement already satisfied: typeguard>=2.7 in /usr/local/lib/python3.7/dist-packages (from tensorflow_addons) (2.7.1)\n",
            "Installing collected packages: tensorflow-addons\n",
            "Successfully installed tensorflow-addons-0.15.0\n"
          ]
        }
      ],
      "source": [
        "!pip install tensorflow_addons"
      ],
      "id": "8oPGYShodflX"
    },
    {
      "cell_type": "code",
      "execution_count": 21,
      "metadata": {
        "id": "qqBlEmP9xb1B"
      },
      "outputs": [],
      "source": [
        "import tensorflow_addons as tfa\n",
        "step = tf.Variable(0, trainable=False)\n",
        "schedule = tf.optimizers.schedules.PiecewiseConstantDecay(\n",
        "    [10000, 15000], [1e-0, 1e-1, 1e-2])\n",
        "# lr and wd can be a function or a tensor\n",
        "\n",
        "lr = 1e-1 * schedule(step)\n",
        "\n",
        "learning_rate=1e-3\n",
        "\n",
        "wd = lambda: 1e-4 * schedule(step)\n",
        "\n",
        "weight_decay=1e-6,\n",
        "\n",
        "optimizer = tfa.optimizers.AdamW(learning_rate=learning_rate, weight_decay=weight_decay)"
      ],
      "id": "qqBlEmP9xb1B"
    },
    {
      "cell_type": "code",
      "execution_count": 22,
      "metadata": {
        "id": "374b3648"
      },
      "outputs": [],
      "source": [
        "import torch.optim as optim\n",
        "\n",
        "opt = keras.optimizers.Adam(learning_rate=0.01)"
      ],
      "id": "374b3648"
    },
    {
      "cell_type": "code",
      "execution_count": 23,
      "metadata": {
        "id": "97206c4d"
      },
      "outputs": [],
      "source": [
        "model = Sequential()\n",
        "model.add(Input(shape=(1,), dtype=\"string\"))"
      ],
      "id": "97206c4d"
    },
    {
      "cell_type": "code",
      "execution_count": 24,
      "metadata": {
        "id": "beb5c57f"
      },
      "outputs": [],
      "source": [
        "model.add(vectorize_layer)"
      ],
      "id": "beb5c57f"
    },
    {
      "cell_type": "code",
      "execution_count": 25,
      "metadata": {
        "id": "a0dde3ec",
        "colab": {
          "base_uri": "https://localhost:8080/"
        },
        "outputId": "2240758b-52d2-4069-d7b1-808c2045d53d"
      },
      "outputs": [
        {
          "output_type": "stream",
          "name": "stdout",
          "text": [
            "WARNING:tensorflow:Layer lstm_1 will not use cuDNN kernels since it doesn't meet the criteria. It will use a generic GPU kernel as fallback when running on GPU.\n"
          ]
        }
      ],
      "source": [
        "from tensorflow.keras import layers\n",
        "# Note that we're using max_tokens + 1 here, since there's an\n",
        "# out-of-vocabulary (OOV) token that gets added to the vocab.\n",
        "\n",
        "len_gloses = 43608\n",
        "\n",
        "model.add(Embedding(max_tokens + 1, 128))\n",
        "\n",
        "model.add(Dense(128))\n",
        "\n",
        "model.add(Bidirectional(LSTM(units=192, return_sequences=True), merge_mode = 'concat'))\n",
        "\n",
        "model.add(Dense(192))\n",
        "\n",
        "model.add(LSTM(units=256, return_sequences=False, activation=\"softmax\"))\n",
        "\n",
        "\n",
        "model.add(Dense(256))"
      ],
      "id": "a0dde3ec"
    },
    {
      "cell_type": "code",
      "execution_count": 26,
      "metadata": {
        "colab": {
          "base_uri": "https://localhost:8080/"
        },
        "id": "05ec90f7",
        "outputId": "977cc16c-2a5f-4206-f344-c34614460809"
      },
      "outputs": [
        {
          "output_type": "stream",
          "name": "stdout",
          "text": [
            "Model: \"sequential\"\n",
            "_________________________________________________________________\n",
            " Layer (type)                Output Shape              Param #   \n",
            "=================================================================\n",
            " text_vectorization (TextVec  (None, 149)              0         \n",
            " torization)                                                     \n",
            "                                                                 \n",
            " embedding (Embedding)       (None, 149, 128)          3083520   \n",
            "                                                                 \n",
            " dense (Dense)               (None, 149, 128)          16512     \n",
            "                                                                 \n",
            " bidirectional (Bidirectiona  (None, 149, 384)         493056    \n",
            " l)                                                              \n",
            "                                                                 \n",
            " dense_1 (Dense)             (None, 149, 192)          73920     \n",
            "                                                                 \n",
            " lstm_1 (LSTM)               (None, 256)               459776    \n",
            "                                                                 \n",
            " dense_2 (Dense)             (None, 256)               65792     \n",
            "                                                                 \n",
            "=================================================================\n",
            "Total params: 4,192,576\n",
            "Trainable params: 4,192,576\n",
            "Non-trainable params: 0\n",
            "_________________________________________________________________\n"
          ]
        }
      ],
      "source": [
        " model.compile(\n",
        "    optimizer=opt,\n",
        "    loss='mse',\n",
        "    metrics=['accuracy'],\n",
        ")\n",
        "\n",
        "model.summary()"
      ],
      "id": "05ec90f7"
    },
    {
      "cell_type": "markdown",
      "metadata": {
        "id": "2f7c5b75"
      },
      "source": [
        "### Entraînement du modèle"
      ],
      "id": "2f7c5b75"
    },
    {
      "cell_type": "code",
      "execution_count": 27,
      "metadata": {
        "colab": {
          "base_uri": "https://localhost:8080/"
        },
        "id": "81f1324c",
        "outputId": "fdfd7b4b-9b66-4d03-a3e1-59022a36b310"
      },
      "outputs": [
        {
          "output_type": "stream",
          "name": "stdout",
          "text": [
            "Epoch 1/8\n",
            "228/228 [==============================] - 88s 354ms/step - loss: 2.5251 - accuracy: 0.9468 - val_loss: 2.1271 - val_accuracy: 0.9955\n",
            "Epoch 2/8\n",
            "228/228 [==============================] - 73s 319ms/step - loss: 1.8379 - accuracy: 0.9950 - val_loss: 1.6763 - val_accuracy: 0.9955\n",
            "Epoch 3/8\n",
            "228/228 [==============================] - 73s 319ms/step - loss: 1.5067 - accuracy: 0.9950 - val_loss: 1.4183 - val_accuracy: 0.9955\n",
            "Epoch 4/8\n",
            "228/228 [==============================] - 73s 319ms/step - loss: 1.3159 - accuracy: 0.9950 - val_loss: 1.2703 - val_accuracy: 0.9955\n",
            "Epoch 5/8\n",
            "228/228 [==============================] - 72s 314ms/step - loss: 1.2115 - accuracy: 0.9950 - val_loss: 1.1922 - val_accuracy: 0.9955\n",
            "Epoch 6/8\n",
            "228/228 [==============================] - 72s 317ms/step - loss: 1.1603 - accuracy: 0.9950 - val_loss: 1.1544 - val_accuracy: 0.9955\n",
            "Epoch 7/8\n",
            "228/228 [==============================] - 72s 316ms/step - loss: 1.1383 - accuracy: 0.9950 - val_loss: 1.1386 - val_accuracy: 0.9955\n",
            "Epoch 8/8\n",
            "228/228 [==============================] - 71s 312ms/step - loss: 1.1302 - accuracy: 0.9950 - val_loss: 1.1328 - val_accuracy: 0.9955\n"
          ]
        }
      ],
      "source": [
        "with tf.device('/device:GPU:0'):\n",
        "  history = model.fit(lemmatized_glosses_text, electra,\n",
        "                    epochs=8,\n",
        "                    batch_size=192,\n",
        "                    validation_data=(lemmatized_glosses_text_dev,  electra_dev))"
      ],
      "id": "81f1324c"
    },
    {
      "cell_type": "code",
      "execution_count": 29,
      "metadata": {
        "colab": {
          "base_uri": "https://localhost:8080/",
          "height": 545
        },
        "id": "ff51800e",
        "outputId": "47a64259-4fe2-47c7-a531-e309c860b7dc"
      },
      "outputs": [
        {
          "output_type": "display_data",
          "data": {
            "image/png": "[encoded data removed]",
            "text/plain": [
              "<Figure size 432x288 with 1 Axes>"
            ]
          },
          "metadata": {
            "needs_background": "light"
          }
        },
        {
          "output_type": "display_data",
          "data": {
            "image/png": "[encoded data removed]",
            "text/plain": [
              "<Figure size 432x288 with 1 Axes>"
            ]
          },
          "metadata": {
            "needs_background": "light"
          }
        }
      ],
      "source": [
        "#Visualisation des résultats de l'entraînement.\n",
        "import matplotlib.pyplot as plt\n",
        "\n",
        "acc = history.history['accuracy']\n",
        "val_acc = history.history['val_accuracy']\n",
        "loss = history.history['loss']\n",
        "val_loss = history.history['val_loss']\n",
        "\n",
        "epochs = range(1, len(acc) + 1)\n",
        "\n",
        "plt.plot(epochs, acc, 'bo', label='Training acc')\n",
        "plt.plot(epochs, val_acc, 'b', label='Validation acc')\n",
        "plt.title('Training and validation accuracy')\n",
        "plt.legend()\n",
        "\n",
        "plt.figure()\n",
        "\n",
        "plt.plot(epochs, loss, 'bo', label='Training loss')\n",
        "plt.plot(epochs, val_loss, 'b', label='Validation loss')\n",
        "plt.title('Training and validation loss')\n",
        "plt.legend()\n",
        "\n",
        "plt.show()"
      ],
      "id": "ff51800e"
    },
    {
      "cell_type": "code",
      "execution_count": 38,
      "metadata": {
        "id": "KQZk_4rH86t6",
        "colab": {
          "base_uri": "https://localhost:8080/"
        },
        "outputId": "da936ac3-1868-4152-8c78-82dd7c57431b"
      },
      "outputs": [
        {
          "output_type": "stream",
          "name": "stderr",
          "text": [
            "WARNING:absl:Found untraced functions such as lstm_cell_5_layer_call_fn, lstm_cell_5_layer_call_and_return_conditional_losses, lstm_cell_6_layer_call_fn, lstm_cell_6_layer_call_and_return_conditional_losses, lstm_cell_5_layer_call_fn while saving (showing 5 of 10). These functions will not be directly callable after loading.\n"
          ]
        },
        {
          "output_type": "stream",
          "name": "stdout",
          "text": [
            "INFO:tensorflow:Assets written to: fr_ELECTRA_revdict_model.tf/assets\n"
          ]
        },
        {
          "output_type": "stream",
          "name": "stderr",
          "text": [
            "INFO:tensorflow:Assets written to: fr_ELECTRA_revdict_model.tf/assets\n",
            "WARNING:absl:<keras.layers.recurrent.LSTMCell object at 0x7f97214fb590> has the same name 'LSTMCell' as a built-in Keras object. Consider renaming <class 'keras.layers.recurrent.LSTMCell'> to avoid naming conflicts when loading with `tf.keras.models.load_model`. If renaming is not possible, pass the object in the `custom_objects` parameter of the load function.\n",
            "WARNING:absl:<keras.layers.recurrent.LSTMCell object at 0x7f97216d48d0> has the same name 'LSTMCell' as a built-in Keras object. Consider renaming <class 'keras.layers.recurrent.LSTMCell'> to avoid naming conflicts when loading with `tf.keras.models.load_model`. If renaming is not possible, pass the object in the `custom_objects` parameter of the load function.\n",
            "WARNING:absl:<keras.layers.recurrent.LSTMCell object at 0x7f97216db290> has the same name 'LSTMCell' as a built-in Keras object. Consider renaming <class 'keras.layers.recurrent.LSTMCell'> to avoid naming conflicts when loading with `tf.keras.models.load_model`. If renaming is not possible, pass the object in the `custom_objects` parameter of the load function.\n"
          ]
        }
      ],
      "source": [
        "#sauvegarde du modèle\n",
        "model.save('fr_ELECTRA_revdict_model.tf')"
      ],
      "id": "KQZk_4rH86t6"
    },
    {
      "cell_type": "markdown",
      "metadata": {
        "id": "185fe5e0"
      },
      "source": [
        "\n",
        "### Test du modèle sur les données Trial"
      ],
      "id": "185fe5e0"
    },
    {
      "cell_type": "code",
      "execution_count": 39,
      "metadata": {
        "id": "7191cfdb"
      },
      "outputs": [],
      "source": [
        "with open(\"/content/drive/My Drive/colab/Datasets/Data_semEval2022/Fr_data/fr.trial.complete.json\", \"r\") as file_handler:\n",
        "    dataset_trial = json.load(file_handler)"
      ],
      "id": "7191cfdb"
    },
    {
      "cell_type": "code",
      "execution_count": 40,
      "metadata": {
        "id": "96e503fb"
      },
      "outputs": [],
      "source": [
        "glosses_trial = []\n",
        "for e in dataset_trial :\n",
        "    glosses_trial.append(e[\"gloss\"])"
      ],
      "id": "96e503fb"
    },
    {
      "cell_type": "code",
      "execution_count": 41,
      "metadata": {
        "id": "0bcc6573"
      },
      "outputs": [],
      "source": [
        "electra_trial = []\n",
        "for e in dataset_trial :\n",
        "    electra_trial.append(e[\"electra\"])"
      ],
      "id": "0bcc6573"
    },
    {
      "cell_type": "code",
      "execution_count": 42,
      "metadata": {
        "colab": {
          "base_uri": "https://localhost:8080/"
        },
        "id": "0329df26",
        "outputId": "ac7629ff-c9da-4c05-e534-5c5605875fe6"
      },
      "outputs": [
        {
          "output_type": "stream",
          "name": "stdout",
          "text": [
            "7/7 - 2s - loss: 1.3636 - accuracy: 0.9900 - 2s/epoch - 323ms/step\n"
          ]
        }
      ],
      "source": [
        "scores = model.evaluate(glosses_trial, electra_trial, verbose=2)"
      ],
      "id": "0329df26"
    },
    {
      "cell_type": "code",
      "execution_count": 34,
      "metadata": {
        "id": "229313da"
      },
      "outputs": [],
      "source": [
        "classes_trial = model.predict(glosses_trial, batch_size=32)"
      ],
      "id": "229313da"
    },
    {
      "cell_type": "code",
      "source": [
        "print(len(classes_trial))"
      ],
      "metadata": {
        "colab": {
          "base_uri": "https://localhost:8080/"
        },
        "id": "EnqNGYtFWlPR",
        "outputId": "1eae973d-77a4-4e05-d443-2d6119346609"
      },
      "id": "EnqNGYtFWlPR",
      "execution_count": 35,
      "outputs": [
        {
          "output_type": "stream",
          "name": "stdout",
          "text": [
            "200\n"
          ]
        }
      ]
    },
    {
      "cell_type": "code",
      "source": [
        "print(len(classes_trial[0]))"
      ],
      "metadata": {
        "colab": {
          "base_uri": "https://localhost:8080/"
        },
        "id": "zdRloYgCWq4q",
        "outputId": "02ce4c67-fd55-45b9-95ec-a08f75cc3be4"
      },
      "id": "zdRloYgCWq4q",
      "execution_count": 36,
      "outputs": [
        {
          "output_type": "stream",
          "name": "stdout",
          "text": [
            "256\n"
          ]
        }
      ]
    },
    {
      "cell_type": "code",
      "source": [
        "results_trial = []\n",
        "\n",
        "prefix_id = \"fr.revdict.\"\n",
        "i = 1\n",
        "for g in glosses_trial :\n",
        "  sample = {}\n",
        "  id = prefix_id + str(i)\n",
        "  sample[\"id\"] = id\n",
        "  sample[\"gloss\"] = g\n",
        "  sample[\"electra\"] = classes_trial[glosses_trial.index(g)]\n",
        "  results_trial.append(sample)\n",
        "  i+=1\n",
        "  \n",
        "print(\"taille du résultat : \", len(results_trial))\n",
        "\n",
        "# affichage du premier vecteur pour visualiser les résultats produits\n",
        "print(\"vecteur trial ---> prédiction\")\n",
        "for v in electra_trial[0] :\n",
        "  print(v, \" ---> \", results_trial[0][\"electra\"][list(electra_trial[0]).index(v)])\n"
      ],
      "metadata": {
        "colab": {
          "base_uri": "https://localhost:8080/"
        },
        "id": "6-v7KSDGWvpe",
        "outputId": "0faf764c-acf3-4e4d-e4c1-a2378a5d25d5"
      },
      "id": "6-v7KSDGWvpe",
      "execution_count": 37,
      "outputs": [
        {
          "output_type": "stream",
          "name": "stdout",
          "text": [
            "taille du résultat :  200\n",
            "vecteur trial ---> prédiction\n",
            "0.0492934994  --->  -0.0476655\n",
            "-0.1330689937  --->  0.910378\n",
            "-0.2663017213  --->  -0.19532314\n",
            "0.0002842557  --->  0.00041898154\n",
            "0.0380952843  --->  -0.10807492\n",
            "0.0008381821  --->  0.00048799068\n",
            "0.0004039903  --->  0.0009606164\n",
            "-0.1362402141  --->  0.34712356\n",
            "-0.3357773423  --->  0.039475504\n",
            "0.2366298884  --->  1.612845\n",
            "-0.2234836221  --->  0.5581354\n",
            "0.0402646363  --->  0.48043728\n",
            "-0.1845433265  --->  -0.7356272\n",
            "-0.1330962032  --->  0.8988337\n",
            "-0.182539776  --->  -0.44080472\n",
            "-0.418381989  --->  -0.20872362\n",
            "-0.0001766079  --->  0.0015763119\n",
            "-0.7684986591  --->  0.004027298\n",
            "-0.0014571091  --->  -0.00569966\n",
            "0.444783628  --->  0.28341153\n",
            "0.0013077089  --->  0.0022802204\n",
            "-0.0009974517  --->  -0.00082986057\n",
            "0.0004891751  --->  0.00084276125\n",
            "-0.1419619471  --->  0.5856279\n",
            "-0.0601291694  --->  -0.42755252\n",
            "0.0002567763  --->  0.0004662387\n",
            "-0.4415491819  --->  0.65520835\n",
            "-0.0003415062  --->  -0.0008224782\n",
            "-0.0149472179  --->  0.31030202\n",
            "-0.4226876199  --->  0.35382622\n",
            "-0.2280496806  --->  -0.8506082\n",
            "-7.66083e-05  --->  -8.119643e-05\n",
            "-0.3636573851  --->  -0.39788443\n",
            "0.0717313886  --->  -0.6430723\n",
            "0.0008657282  --->  -0.00080879964\n",
            "2.883149147  --->  1.1581116\n",
            "0.4088598788  --->  0.06576454\n",
            "-0.0018978615  --->  0.35623056\n",
            "0.1711295843  --->  -0.072812736\n",
            "-0.4429199398  --->  -0.5721931\n",
            "-0.12610659  --->  0.2633413\n",
            "0.1244426072  --->  0.43594953\n",
            "-0.0003662961  --->  -0.00057583675\n",
            "-0.1244808584  --->  -0.1793982\n",
            "0.1029024571  --->  0.4812695\n",
            "0.0241862014  --->  0.10988729\n",
            "0.0830095485  --->  -0.01788625\n",
            "-0.1533131152  --->  -0.11865871\n",
            "-1.1413898468  --->  1.1238599\n",
            "0.0159250237  --->  0.11496168\n",
            "0.237527281  --->  -0.3025206\n",
            "0.0005825791  --->  0.0016527101\n",
            "0.0004014188  --->  0.0003049001\n",
            "0.1538414061  --->  -0.12745309\n",
            "0.0619095042  --->  0.059967536\n",
            "0.6147289276  --->  1.5059388\n",
            "-0.0007202878  --->  -0.0013030316\n",
            "0.0251312573  --->  -0.6449243\n",
            "0.3237929046  --->  0.26978436\n",
            "-0.0286359675  --->  0.18137264\n",
            "-0.1209405065  --->  0.12494757\n",
            "0.0777098164  --->  0.9817728\n",
            "1.1551703215  --->  3.8771172\n",
            "0.4224600792  --->  0.58073074\n",
            "0.0981904715  --->  0.34517765\n",
            "-0.0207271669  --->  0.550988\n",
            "-0.2104891241  --->  0.3746872\n",
            "-0.2754486203  --->  -1.2059941\n",
            "0.2063937634  --->  0.45754206\n",
            "0.1974395066  --->  -0.051540934\n",
            "5.15838e-05  --->  -2.4601817e-05\n",
            "-0.0192513075  --->  0.0035882983\n",
            "0.238989234  --->  -0.124001\n",
            "0.0002512222  --->  0.0007359204\n",
            "-0.0003850019  --->  -0.00094144046\n",
            "-0.0003989215  --->  -0.0009673238\n",
            "0.0018887669  --->  0.00091617554\n",
            "0.2056331933  --->  0.12546289\n",
            "0.000687214  --->  0.0015981235\n",
            "-0.58632195  --->  -0.5886431\n",
            "0.2126817852  --->  0.48166722\n",
            "9.9359388351  --->  19.04938\n",
            "0.2636294961  --->  -0.23055959\n",
            "-0.0008337499  --->  -0.0018150508\n",
            "-0.0002582729  --->  -6.5140426e-05\n",
            "0.2418833971  --->  -0.24376789\n",
            "-0.0185317509  --->  0.45307088\n",
            "0.6604076028  --->  0.40137357\n",
            "0.1580784768  --->  -0.4582939\n",
            "-0.0002717785  --->  0.0004237499\n",
            "-0.4985619485  --->  -0.47759897\n",
            "0.0004742313  --->  0.0009960807\n",
            "-0.3377918601  --->  0.31232217\n",
            "0.1361871809  --->  0.53055114\n",
            "-0.362259686  --->  -0.08727389\n",
            "9.58746e-05  --->  -0.0012372696\n",
            "0.1609294415  --->  0.47167745\n",
            "-0.2012664527  --->  -1.345544\n",
            "0.0091023678  --->  0.0047118925\n",
            "9.45095e-05  --->  0.00050719455\n",
            "0.4339927137  --->  -2.7086647\n",
            "0.0001476437  --->  -0.00010397285\n",
            "-0.2818572223  --->  -0.4166184\n",
            "-1.75832e-05  --->  -0.0005926695\n",
            "-0.0703395605  --->  -0.16532704\n",
            "-0.1185031906  --->  -0.3197837\n",
            "-0.1552332193  --->  0.0982221\n",
            "0.0010117296  --->  0.0011041854\n",
            "0.1164728031  --->  0.29831004\n",
            "-0.4428757727  --->  -0.29704452\n",
            "-0.1454563588  --->  -0.97825897\n",
            "-0.0031772477  --->  0.0014316812\n",
            "-0.7744686007  --->  -2.4362595\n",
            "0.0973665714  --->  0.22772756\n",
            "0.0557850711  --->  -0.20312947\n",
            "-0.1423752457  --->  0.2020518\n",
            "0.0018366501  --->  -4.5143068e-05\n",
            "0.0463847145  --->  -1.3169016\n",
            "0.0134548973  --->  0.011412582\n",
            "0.1735668778  --->  0.44483662\n",
            "-0.1551595479  --->  -0.2060367\n",
            "-0.4862936437  --->  -0.23048493\n",
            "-3.32232e-05  --->  0.0012247413\n",
            "-0.0001458838  --->  -0.00038887188\n",
            "0.2692527473  --->  0.06635497\n",
            "-0.0543237478  --->  -0.06669122\n",
            "0.2117363214  --->  0.3643818\n",
            "-0.0289692059  --->  -0.20256945\n",
            "-0.0362380594  --->  0.08422161\n",
            "0.247742787  --->  0.18417025\n",
            "0.0011758072  --->  0.0006468743\n",
            "0.5559302568  --->  -0.020545237\n",
            "-0.5243822932  --->  -0.5718924\n",
            "-0.3084065318  --->  -0.032028917\n",
            "-0.0008142636  --->  -0.0028753695\n",
            "0.4705455303  --->  0.8793471\n",
            "-0.1810360253  --->  -0.2536859\n",
            "0.3962040544  --->  0.66859424\n",
            "-0.7201985121  --->  -0.26275188\n",
            "0.6924988627  --->  1.1826694\n",
            "-2.4367468357  --->  -3.5183377\n",
            "-0.0001863657  --->  0.00027436763\n",
            "-0.1175002009  --->  0.040745147\n",
            "0.0469582938  --->  0.18466887\n",
            "0.2888924181  --->  4.015216\n",
            "0.0002239561  --->  -0.0012585185\n",
            "-0.0004977849  --->  0.0012554545\n",
            "-0.1115348414  --->  0.02212708\n",
            "-0.0009575274  --->  0.001508709\n",
            "0.0522752181  --->  -0.79503924\n",
            "-0.1442523152  --->  0.10759619\n",
            "0.655277729  --->  0.4058531\n",
            "-0.0632536039  --->  0.12156946\n",
            "0.4584124982  --->  0.7419492\n",
            "-0.0004974619  --->  -0.0020218045\n",
            "0.2310760319  --->  0.4410616\n",
            "0.0007001397  --->  0.00013423525\n",
            "0.1369815022  --->  -0.30085647\n",
            "-0.0003345788  --->  0.00016411394\n",
            "-0.2664912045  --->  -0.18382217\n",
            "-0.0011161503  --->  0.0003310144\n",
            "0.0003671364  --->  -0.002535995\n",
            "-0.0810703263  --->  -0.13398364\n",
            "0.0018215708  --->  0.0013318919\n",
            "0.1652218252  --->  -0.03480743\n",
            "-0.0025931571  --->  0.13689297\n",
            "0.1319588125  --->  0.15633625\n",
            "0.6340742707  --->  0.23352326\n",
            "-0.3005328476  --->  -1.3784275\n",
            "-0.300432831  --->  -0.13073139\n",
            "1.224866271  --->  -1.0833595\n",
            "0.0008136737  --->  6.464543e-06\n",
            "-0.0582072847  --->  -1.104074\n",
            "0.3447674811  --->  -0.11767776\n",
            "-0.1658388078  --->  -1.9203932\n",
            "-0.000132508  --->  -0.0009893142\n",
            "0.2438489199  --->  0.41665977\n",
            "-0.0002094566  --->  -0.0005787462\n",
            "-0.0997551754  --->  -0.14634779\n",
            "0.0002147609  --->  0.0019058269\n",
            "0.011893128  --->  0.013693001\n",
            "0.4452515841  --->  0.62042665\n",
            "0.3256753087  --->  -0.111398466\n",
            "0.0003369026  --->  0.000835076\n",
            "-0.3392178416  --->  0.14191256\n",
            "0.1224231645  --->  -0.10881575\n",
            "0.1033484116  --->  -0.03235354\n",
            "-0.7120283246  --->  -0.66836995\n",
            "-0.0003653467  --->  0.0035325596\n",
            "-0.0001757831  --->  -0.000117227435\n",
            "0.0003382383  --->  -0.00021596253\n",
            "-0.0385114923  --->  0.10133749\n",
            "-0.4040749669  --->  0.75889564\n",
            "-0.0001532169  --->  -0.000512328\n",
            "0.0873064101  --->  -0.08247599\n",
            "-0.6383837461  --->  -0.7135947\n",
            "0.0889004841  --->  0.4218796\n",
            "0.0247545112  --->  -0.59243774\n",
            "-0.0492945686  --->  0.27532017\n",
            "-0.0014826152  --->  -0.0019266494\n",
            "-0.2295204848  --->  0.540021\n",
            "0.0905561596  --->  0.1461228\n",
            "1.1317713261  --->  -1.0032808\n",
            "0.0205070414  --->  0.09178802\n",
            "0.0018670256  --->  0.0021693967\n",
            "0.017313838  --->  -0.34481353\n",
            "-0.1888449341  --->  0.18341605\n",
            "-0.0229967069  --->  -0.24646622\n",
            "-1.6541e-06  --->  -2.3562461e-05\n",
            "0.0006922993  --->  0.0014132336\n",
            "-0.0003328321  --->  0.00048818253\n",
            "4.53694e-05  --->  0.000660792\n",
            "-0.3418289423  --->  0.14332534\n",
            "-0.0106554097  --->  0.44464839\n",
            "0.0005039194  --->  0.001324134\n",
            "-0.2970997691  --->  0.9306438\n",
            "0.159352541  --->  -0.0060329884\n",
            "0.0123426672  --->  0.07824311\n",
            "-0.0008868751  --->  -0.00040103495\n",
            "-0.0003492195  --->  -0.0021390691\n",
            "0.083581917  --->  0.06428003\n",
            "0.0707826838  --->  -0.3155151\n",
            "-0.1208242923  --->  0.8869353\n",
            "0.0279540624  --->  0.20157298\n",
            "0.1655818969  --->  0.3081708\n",
            "0.1725318581  --->  0.019665027\n",
            "0.4426409304  --->  -0.031157922\n",
            "0.1939947456  --->  0.27894026\n",
            "-0.3883316219  --->  -1.3911827\n",
            "0.6830834746  --->  0.40685284\n",
            "-0.1582190245  --->  -0.5175414\n",
            "-1.1587226391  --->  -4.803559\n",
            "0.2020100951  --->  0.10212603\n",
            "-0.1278782189  --->  -0.741503\n",
            "-0.2385772616  --->  -0.9905325\n",
            "0.494233489  --->  -0.19791347\n",
            "-0.3320744932  --->  0.038102884\n",
            "0.0001845001  --->  -0.00010030717\n",
            "0.1030040532  --->  -0.6931751\n",
            "2.51887e-05  --->  0.0006324686\n",
            "-0.0934286714  --->  1.3069303\n",
            "0.3901855052  --->  0.5301054\n",
            "0.0496702045  --->  -0.07716447\n",
            "-0.0783707052  --->  0.2128464\n",
            "0.0152115049  --->  -0.327846\n",
            "-0.2143022567  --->  0.007846651\n",
            "0.0199794937  --->  -0.4026966\n",
            "0.0621277876  --->  -0.06405423\n",
            "-0.0228484757  --->  0.8918289\n",
            "-1.3067988157  --->  -6.6536627\n",
            "0.2791348994  --->  0.9782756\n",
            "-0.1311848611  --->  0.31877005\n",
            "-0.0503481738  --->  0.17771265\n",
            "-2.86881e-05  --->  0.00034899265\n",
            "-0.2306493968  --->  -0.6669048\n",
            "-0.0004337484  --->  -0.0004068911\n"
          ]
        }
      ]
    },
    {
      "cell_type": "code",
      "source": [
        "import pandas as pd\n",
        "pd.Series(results_trial).to_json(\"/content/drive/My Drive/colab/Datasets/Data_semEval2022/Results/electra/fr_ELECTRA_revdict_results_prediction_trial.json\", orient='values')"
      ],
      "metadata": {
        "id": "0_LIeEazXDs4"
      },
      "id": "0_LIeEazXDs4",
      "execution_count": 38,
      "outputs": []
    },
    {
      "cell_type": "markdown",
      "metadata": {
        "id": "641929d8"
      },
      "source": [
        "### Calcule des métriques d'évaluation"
      ],
      "id": "641929d8"
    },
    {
      "cell_type": "code",
      "execution_count": 39,
      "metadata": {
        "id": "6144a0db"
      },
      "outputs": [],
      "source": [
        "import torch.nn.functional as F\n",
        "import torch\n",
        "\n",
        "classes_trial_tensor = torch.tensor(classes_trial)\n",
        "electra_trial_tensor = torch.tensor(electra_trial)"
      ],
      "id": "6144a0db"
    },
    {
      "cell_type": "code",
      "execution_count": 40,
      "metadata": {
        "id": "89083a05"
      },
      "outputs": [],
      "source": [
        "cos_sim = F.cosine_similarity(classes_trial_tensor, electra_trial_tensor).mean().item()"
      ],
      "id": "89083a05"
    },
    {
      "cell_type": "code",
      "execution_count": 41,
      "metadata": {
        "colab": {
          "base_uri": "https://localhost:8080/"
        },
        "id": "4c5613a8",
        "outputId": "adadc3bc-070b-4e9d-d2a6-ac665803eefa"
      },
      "outputs": [
        {
          "output_type": "stream",
          "name": "stdout",
          "text": [
            "0.8539526462554932\n"
          ]
        }
      ],
      "source": [
        "print(cos_sim)"
      ],
      "id": "4c5613a8"
    },
    {
      "cell_type": "code",
      "execution_count": 42,
      "metadata": {
        "id": "d83108cb"
      },
      "outputs": [],
      "source": [
        "mse = F.mse_loss(classes_trial_tensor, electra_trial_tensor).item()"
      ],
      "id": "d83108cb"
    },
    {
      "cell_type": "code",
      "execution_count": 43,
      "metadata": {
        "colab": {
          "base_uri": "https://localhost:8080/"
        },
        "id": "528b2191",
        "outputId": "75a89617-926f-4a77-c138-1cd4c3f74269"
      },
      "outputs": [
        {
          "output_type": "stream",
          "name": "stdout",
          "text": [
            "1.039738655090332\n"
          ]
        }
      ],
      "source": [
        "print(mse)"
      ],
      "id": "528b2191"
    },
    {
      "cell_type": "code",
      "execution_count": 44,
      "metadata": {
        "id": "b29a01ac"
      },
      "outputs": [],
      "source": [
        "# fonction prise du code de la baseline.\n",
        "def rank_cosine(preds, targets):\n",
        "    unique_targets = targets.unique(dim=0)\n",
        "    all_assocs = preds @ F.normalize(targets).T\n",
        "    unique_assocs = preds @ F.normalize(unique_targets).T\n",
        "    refs = torch.diagonal(all_assocs, 0).unsqueeze(1)\n",
        "    ranks = (unique_assocs >= refs).sum(1).float().mean().item()\n",
        "    return ranks / unique_targets.size(0)"
      ],
      "id": "b29a01ac"
    },
    {
      "cell_type": "code",
      "execution_count": 45,
      "metadata": {
        "id": "e4c527f9"
      },
      "outputs": [],
      "source": [
        "rnk = rank_cosine(classes_trial_tensor, electra_trial_tensor)"
      ],
      "id": "e4c527f9"
    },
    {
      "cell_type": "code",
      "execution_count": 46,
      "metadata": {
        "colab": {
          "base_uri": "https://localhost:8080/"
        },
        "id": "b816e4c2",
        "outputId": "464aeb63-0c23-440a-99d0-1bea062a0bf3"
      },
      "outputs": [
        {
          "output_type": "stream",
          "name": "stdout",
          "text": [
            "0.5022999954223633\n"
          ]
        }
      ],
      "source": [
        "print(rnk)"
      ],
      "id": "b816e4c2"
    },
    {
      "cell_type": "markdown",
      "metadata": {
        "id": "7WUnc1xrlQw2"
      },
      "source": [
        "### Test du modèle sur les données DEV"
      ],
      "id": "7WUnc1xrlQw2"
    },
    {
      "cell_type": "code",
      "execution_count": 47,
      "metadata": {
        "id": "tH8a9T5SlS3M",
        "colab": {
          "base_uri": "https://localhost:8080/"
        },
        "outputId": "0ea2f4a6-a393-47d0-8f25-2be7d7a7f76a"
      },
      "outputs": [
        {
          "output_type": "stream",
          "name": "stdout",
          "text": [
            "200/200 - 34s - loss: 1.1325 - accuracy: 0.9955 - 34s/epoch - 170ms/step\n"
          ]
        }
      ],
      "source": [
        "scores = model.evaluate(glosses_dev, electra_dev, verbose=2)"
      ],
      "id": "tH8a9T5SlS3M"
    },
    {
      "cell_type": "code",
      "source": [
        "classes_dev = model.predict(glosses_dev, batch_size=32)"
      ],
      "metadata": {
        "id": "ud2k5cCCYotF"
      },
      "id": "ud2k5cCCYotF",
      "execution_count": 48,
      "outputs": []
    },
    {
      "cell_type": "code",
      "source": [
        "print(len(classes_dev))"
      ],
      "metadata": {
        "colab": {
          "base_uri": "https://localhost:8080/"
        },
        "id": "cW2ck4jsYsAL",
        "outputId": "b71a853f-dc92-4641-a5c3-985e377c5327"
      },
      "id": "cW2ck4jsYsAL",
      "execution_count": 49,
      "outputs": [
        {
          "output_type": "stream",
          "name": "stdout",
          "text": [
            "6375\n"
          ]
        }
      ]
    },
    {
      "cell_type": "code",
      "source": [
        "print(len(classes_dev[0]))"
      ],
      "metadata": {
        "colab": {
          "base_uri": "https://localhost:8080/"
        },
        "id": "H8KW75-_YuYU",
        "outputId": "4333b007-0b92-425f-9717-f1aace07dc4e"
      },
      "id": "H8KW75-_YuYU",
      "execution_count": 50,
      "outputs": [
        {
          "output_type": "stream",
          "name": "stdout",
          "text": [
            "256\n"
          ]
        }
      ]
    },
    {
      "cell_type": "code",
      "source": [
        "results_dev = []\n",
        "\n",
        "prefix_id = \"fr.revdict.\"\n",
        "i = 1\n",
        "for g in glosses_dev :\n",
        "  sample = {}\n",
        "  id = prefix_id + str(i)\n",
        "  sample[\"id\"] = id\n",
        "  sample[\"gloss\"] = g\n",
        "  sample[\"electra\"] = classes_dev[glosses_dev.index(g)]\n",
        "  results_dev.append(sample)\n",
        "  i+=1\n",
        "\n",
        "\n",
        "print(\"vecteur dev ---> prédiction\")\n",
        "for v in electra_dev[0] :\n",
        "  print(v, \" ---> \", results_dev[0][\"electra\"][list(electra_dev[0]).index(v)])"
      ],
      "metadata": {
        "colab": {
          "base_uri": "https://localhost:8080/"
        },
        "id": "A-OmUDBQY2WW",
        "outputId": "88c8192e-29c3-401f-dccc-e4eb432811b2"
      },
      "id": "A-OmUDBQY2WW",
      "execution_count": 51,
      "outputs": [
        {
          "output_type": "stream",
          "name": "stdout",
          "text": [
            "vecteur dev ---> prédiction\n",
            "-0.2925179005  --->  -0.0476655\n",
            "1.9387328625  --->  0.910378\n",
            "0.5608489513  --->  -0.19532314\n",
            "-0.0059919883  --->  0.00041898154\n",
            "-0.3584276438  --->  -0.10807492\n",
            "-0.0010400856  --->  0.00048799068\n",
            "0.0012022968  --->  0.0009606164\n",
            "0.2414319366  --->  0.34712356\n",
            "-0.1523748338  --->  0.039475504\n",
            "3.1417708397  --->  1.612845\n",
            "0.7417390943  --->  0.5581354\n",
            "1.9510471821  --->  0.48043728\n",
            "-1.1671777964  --->  -0.7356272\n",
            "0.5072153807  --->  0.8988337\n",
            "-0.1777466238  --->  -0.44080472\n",
            "-0.9868640304  --->  -0.20872362\n",
            "0.0047030332  --->  0.0015763119\n",
            "-0.3952760696  --->  0.004027298\n",
            "-0.0082219141  --->  -0.00569966\n",
            "0.3386549652  --->  0.28341153\n",
            "0.0028262697  --->  0.0022802204\n",
            "-0.0015102895  --->  -0.00082986057\n",
            "0.001598741  --->  0.00084276125\n",
            "0.3160548806  --->  0.5856279\n",
            "-0.4632795453  --->  -0.42755252\n",
            "0.0007034352  --->  0.0004662387\n",
            "-0.5699137449  --->  0.65520835\n",
            "-0.0016138533  --->  -0.0008224782\n",
            "1.2042553425  --->  0.31030202\n",
            "1.2502318621  --->  0.35382622\n",
            "-0.0669275373  --->  -0.8506082\n",
            "-0.0001572045  --->  -8.119643e-05\n",
            "0.3504991829  --->  -0.39788443\n",
            "-1.0149962902  --->  -0.6430723\n",
            "0.0030213241  --->  -0.00080879964\n",
            "-2.7473459244  --->  1.1581116\n",
            "-0.6285774112  --->  0.06576454\n",
            "0.4732589126  --->  0.35623056\n",
            "-0.2023361027  --->  -0.072812736\n",
            "-0.1436299384  --->  -0.5721931\n",
            "1.277556181  --->  0.2633413\n",
            "0.1195784807  --->  0.43594953\n",
            "-0.0023987093  --->  -0.00057583675\n",
            "0.0362028778  --->  -0.1793982\n",
            "0.1643683314  --->  0.4812695\n",
            "0.7635860443  --->  0.10988729\n",
            "0.4953338504  --->  -0.01788625\n",
            "-0.2653246522  --->  -0.11865871\n",
            "1.3560301065  --->  1.1238599\n",
            "-0.0105726104  --->  0.11496168\n",
            "0.3710317314  --->  -0.3025206\n",
            "0.0018909108  --->  0.0016527101\n",
            "0.0035040819  --->  0.0003049001\n",
            "0.5748941898  --->  -0.12745309\n",
            "0.6827476025  --->  0.059967536\n",
            "1.5918226242  --->  1.5059388\n",
            "-0.0020937049  --->  -0.0013030316\n",
            "-1.443924427  --->  -0.6449243\n",
            "1.6285349131  --->  0.26978436\n",
            "0.3537948728  --->  0.18137264\n",
            "0.5353832245  --->  0.12494757\n",
            "0.4027721584  --->  0.9817728\n",
            "3.2866456509  --->  3.8771172\n",
            "1.1778070927  --->  0.58073074\n",
            "0.0966534466  --->  0.34517765\n",
            "1.1569286585  --->  0.550988\n",
            "-0.4178932309  --->  0.3746872\n",
            "-1.5785418749  --->  -1.2059941\n",
            "1.4417577982  --->  0.45754206\n",
            "0.0344751626  --->  -0.051540934\n",
            "0.0011768155  --->  -2.4601817e-05\n",
            "-0.3108310997  --->  0.0035882983\n",
            "-1.1950093508  --->  -0.124001\n",
            "0.0002799047  --->  0.0007359204\n",
            "0.0026519708  --->  -0.00094144046\n",
            "-0.001271744  --->  -0.0009673238\n",
            "0.0085638864  --->  0.00091617554\n",
            "0.8508303165  --->  0.12546289\n",
            "0.0015303573  --->  0.0015981235\n",
            "-0.8572273254  --->  -0.5886431\n",
            "1.068240881  --->  0.48166722\n",
            "19.3703460693  --->  19.04938\n",
            "-1.8980351686  --->  -0.23055959\n",
            "-0.0040411805  --->  -0.0018150508\n",
            "-0.0019437103  --->  -6.5140426e-05\n",
            "-0.1251472831  --->  -0.24376789\n",
            "1.1135010719  --->  0.45307088\n",
            "1.6215866804  --->  0.40137357\n",
            "-1.3612401485  --->  -0.4582939\n",
            "0.0016933712  --->  0.0004237499\n",
            "0.3323479295  --->  -0.47759897\n",
            "0.0006647972  --->  0.0009960807\n",
            "0.5134976506  --->  0.31232217\n",
            "1.4902863503  --->  0.53055114\n",
            "-0.1734377444  --->  -0.08727389\n",
            "-0.0034495564  --->  -0.0012372696\n",
            "0.935755074  --->  0.47167745\n",
            "-2.4837553501  --->  -1.345544\n",
            "0.5774645805  --->  0.0047118925\n",
            "-0.000247917  --->  0.00050719455\n",
            "-2.4884631634  --->  -2.7086647\n",
            "-0.0001341699  --->  -0.00010397285\n",
            "-0.9058243036  --->  -0.4166184\n",
            "-0.0001025469  --->  -0.0005926695\n",
            "-0.974309504  --->  -0.16532704\n",
            "0.2008549869  --->  -0.3197837\n",
            "0.3348962069  --->  0.0982221\n",
            "0.0010679018  --->  0.0011041854\n",
            "0.0562519133  --->  0.29831004\n",
            "0.2182478309  --->  -0.29704452\n",
            "-1.5688159466  --->  -0.97825897\n",
            "-0.010248608  --->  0.0014316812\n",
            "-4.3587965965  --->  -2.4362595\n",
            "-0.6081088781  --->  0.22772756\n",
            "-0.1581046134  --->  -0.20312947\n",
            "0.0681620315  --->  0.2020518\n",
            "0.0020911691  --->  -4.5143068e-05\n",
            "-1.6989314556  --->  -1.3169016\n",
            "0.072588861  --->  0.011412582\n",
            "0.0596694313  --->  0.44483662\n",
            "-0.0002722256  --->  -0.2060367\n",
            "-0.9139589071  --->  -0.23048493\n",
            "-0.0011187522  --->  0.0012247413\n",
            "-0.000364786  --->  -0.00038887188\n",
            "0.0585282668  --->  0.06635497\n",
            "0.4815868437  --->  -0.06669122\n",
            "-0.4088698626  --->  0.3643818\n",
            "-0.4299630821  --->  -0.20256945\n",
            "-0.3513982892  --->  0.08422161\n",
            "-0.4423149228  --->  0.18417025\n",
            "-0.000495611  --->  0.0006468743\n",
            "0.8249950409  --->  -0.020545237\n",
            "0.1506469548  --->  -0.5718924\n",
            "0.6482623219  --->  -0.032028917\n",
            "-0.0026465901  --->  -0.0028753695\n",
            "1.6089096069  --->  0.8793471\n",
            "-0.5599267483  --->  -0.2536859\n",
            "0.3432768583  --->  0.66859424\n",
            "-0.2651312053  --->  -0.26275188\n",
            "0.6987208128  --->  1.1826694\n",
            "-0.5044721365  --->  -3.5183377\n",
            "0.0005974324  --->  0.00027436763\n",
            "0.5982158184  --->  0.040745147\n",
            "-0.8217685223  --->  0.18466887\n",
            "4.9944391251  --->  4.015216\n",
            "-0.0008829649  --->  -0.0012585185\n",
            "0.0008940778  --->  0.0012554545\n",
            "-0.2198982835  --->  0.02212708\n",
            "0.0014739739  --->  0.001508709\n",
            "-1.640378952  --->  -0.79503924\n",
            "1.015370965  --->  0.10759619\n",
            "3.2074599266  --->  0.4058531\n",
            "1.0944943428  --->  0.12156946\n",
            "1.6194224358  --->  0.7419492\n",
            "-0.0011529995  --->  -0.0020218045\n",
            "-0.1181275696  --->  0.4410616\n",
            "-0.0006264291  --->  0.00013423525\n",
            "0.0491236076  --->  -0.30085647\n",
            "-0.0001772149  --->  0.00016411394\n",
            "-1.0974280834  --->  -0.18382217\n",
            "-0.0028564886  --->  0.0003310144\n",
            "0.0021144596  --->  -0.002535995\n",
            "0.318890214  --->  -0.13398364\n",
            "0.0023917237  --->  0.0013318919\n",
            "-0.6271632314  --->  -0.03480743\n",
            "-0.7553218007  --->  0.13689297\n",
            "0.8867353201  --->  0.15633625\n",
            "-0.078461647  --->  0.23352326\n",
            "-2.5095264912  --->  -1.3784275\n",
            "-0.8780986071  --->  -0.13073139\n",
            "-0.9910728931  --->  -1.0833595\n",
            "0.0007727721  --->  6.464543e-06\n",
            "-1.3045756817  --->  -1.104074\n",
            "-1.3659324646  --->  -0.11767776\n",
            "-1.4568536282  --->  -1.9203932\n",
            "-0.0016358744  --->  -0.0009893142\n",
            "1.0596448183  --->  0.41665977\n",
            "0.0050685452  --->  -0.0005787462\n",
            "-0.412163645  --->  -0.14634779\n",
            "-0.0017167858  --->  0.0019058269\n",
            "0.0086033335  --->  0.013693001\n",
            "-0.3121616542  --->  0.62042665\n",
            "0.5415085554  --->  -0.111398466\n",
            "0.0008575978  --->  0.000835076\n",
            "0.2940418124  --->  0.14191256\n",
            "0.4365555644  --->  -0.10881575\n",
            "-0.3112428188  --->  -0.03235354\n",
            "-0.3332609534  --->  -0.66836995\n",
            "-0.0019765142  --->  0.0035325596\n",
            "0.0010283074  --->  -0.000117227435\n",
            "-0.0010182486  --->  -0.00021596253\n",
            "0.0004348904  --->  0.10133749\n",
            "-0.165543139  --->  0.75889564\n",
            "-0.0007099009  --->  -0.000512328\n",
            "-0.3640781641  --->  -0.08247599\n",
            "-0.8142029643  --->  -0.7135947\n",
            "-0.0966459215  --->  0.4218796\n",
            "-0.0531101748  --->  -0.59243774\n",
            "0.0900058597  --->  0.27532017\n",
            "0.0080091935  --->  -0.0019266494\n",
            "-0.3036342859  --->  0.540021\n",
            "-1.0995160341  --->  0.1461228\n",
            "1.1868627071  --->  -1.0032808\n",
            "-0.3871444762  --->  0.09178802\n",
            "0.0034970175  --->  0.0021693967\n",
            "-0.3431615531  --->  -0.34481353\n",
            "-0.49698174  --->  0.18341605\n",
            "-0.787283957  --->  -0.24646622\n",
            "-0.0002910919  --->  -2.3562461e-05\n",
            "0.0012360738  --->  0.0014132336\n",
            "0.0005220079  --->  0.00048818253\n",
            "0.0002807638  --->  0.000660792\n",
            "1.9376643896  --->  0.14332534\n",
            "0.9456924796  --->  0.44464839\n",
            "0.0015691265  --->  0.001324134\n",
            "-1.0933407545  --->  0.9306438\n",
            "-0.507899642  --->  -0.0060329884\n",
            "-0.1258742809  --->  0.07824311\n",
            "-0.0009788604  --->  -0.00040103495\n",
            "-0.0021036093  --->  -0.0021390691\n",
            "-0.7432327271  --->  0.06428003\n",
            "0.260948509  --->  -0.3155151\n",
            "0.8737274408  --->  0.8869353\n",
            "0.3113535643  --->  0.20157298\n",
            "0.4295348525  --->  0.3081708\n",
            "-0.5963208079  --->  0.019665027\n",
            "1.7585216761  --->  -0.031157922\n",
            "-0.4605385065  --->  0.27894026\n",
            "-1.410318017  --->  -1.3911827\n",
            "0.8431432843  --->  0.40685284\n",
            "-0.1736601889  --->  -0.5175414\n",
            "-5.1300406456  --->  -4.803559\n",
            "0.181637302  --->  0.10212603\n",
            "-1.787134409  --->  -0.741503\n",
            "-0.9142508507  --->  -0.9905325\n",
            "-0.5755462646  --->  -0.19791347\n",
            "0.2525506616  --->  0.038102884\n",
            "-7.35835e-05  --->  -0.00010030717\n",
            "-1.4852786064  --->  -0.6931751\n",
            "0.0036909771  --->  0.0006324686\n",
            "1.8134868145  --->  1.3069303\n",
            "0.9465336204  --->  0.5301054\n",
            "0.0913445204  --->  -0.07716447\n",
            "0.0732381344  --->  0.2128464\n",
            "-0.2447472811  --->  -0.327846\n",
            "-1.338111639  --->  0.007846651\n",
            "-1.1907351017  --->  -0.4026966\n",
            "-1.0032169819  --->  -0.06405423\n",
            "1.1043967009  --->  0.8918289\n",
            "-15.4662427902  --->  -6.6536627\n",
            "0.3816558421  --->  0.9782756\n",
            "0.007477954  --->  0.31877005\n",
            "0.4734845161  --->  0.17771265\n",
            "0.0017397192  --->  0.00034899265\n",
            "-0.5471205711  --->  -0.6669048\n",
            "0.0037374913  --->  -0.0004068911\n"
          ]
        }
      ]
    },
    {
      "cell_type": "code",
      "execution_count": 52,
      "metadata": {
        "id": "1a9a121f"
      },
      "outputs": [],
      "source": [
        "import pandas as pd\n",
        "pd.Series(results_dev).to_json(\"/content/drive/My Drive/colab/Datasets/Data_semEval2022/Results/electra/fr_ELECTRA_revdict_results_prediction_dev.json\", orient='values')"
      ],
      "id": "1a9a121f"
    },
    {
      "cell_type": "markdown",
      "source": [
        "\n",
        "### Test du modèle sur les données de TEST"
      ],
      "metadata": {
        "id": "SWYTwH8vn1-j"
      },
      "id": "SWYTwH8vn1-j"
    },
    {
      "cell_type": "code",
      "execution_count": 30,
      "metadata": {
        "id": "JJlejcV_oRfH"
      },
      "outputs": [],
      "source": [
        "with open(\"/content/drive/My Drive/colab/Datasets/Data_semEval2022/Fr_data/fr.test.revdict.json\", \"r\") as file_handler:\n",
        "    dataset_test = json.load(file_handler)"
      ],
      "id": "JJlejcV_oRfH"
    },
    {
      "cell_type": "code",
      "execution_count": 31,
      "metadata": {
        "id": "ltDVpDM6oRfO"
      },
      "outputs": [],
      "source": [
        "glosses_test = []\n",
        "for e in dataset_test :\n",
        "    glosses_test.append(e[\"gloss\"])"
      ],
      "id": "ltDVpDM6oRfO"
    },
    {
      "cell_type": "code",
      "execution_count": 32,
      "metadata": {
        "id": "ggSf_l5SoRfX"
      },
      "outputs": [],
      "source": [
        "classes_test = model.predict(glosses_test, batch_size=32)"
      ],
      "id": "ggSf_l5SoRfX"
    },
    {
      "cell_type": "code",
      "source": [
        "print(len(classes_test))"
      ],
      "metadata": {
        "colab": {
          "base_uri": "https://localhost:8080/"
        },
        "outputId": "ede8f8e2-08ac-4758-c67e-1abf7bf6a0ad",
        "id": "DIMy3nOOoRfa"
      },
      "execution_count": 33,
      "outputs": [
        {
          "output_type": "stream",
          "name": "stdout",
          "text": [
            "6208\n"
          ]
        }
      ],
      "id": "DIMy3nOOoRfa"
    },
    {
      "cell_type": "code",
      "source": [
        "print(len(classes_test[0]))"
      ],
      "metadata": {
        "colab": {
          "base_uri": "https://localhost:8080/"
        },
        "outputId": "c6e395f8-f4fb-46fd-dfb1-8a1c6487dee9",
        "id": "qQfXjwEopP81"
      },
      "execution_count": 34,
      "outputs": [
        {
          "output_type": "stream",
          "name": "stdout",
          "text": [
            "256\n"
          ]
        }
      ],
      "id": "qQfXjwEopP81"
    },
    {
      "cell_type": "code",
      "source": [
        "results_test = []\n",
        "\n",
        "prefix_id = \"fr.revdict.\"\n",
        "i = 1\n",
        "for g in glosses_test :\n",
        "  sample = {}\n",
        "  id = prefix_id + str(i)\n",
        "  sample[\"id\"] = id\n",
        "  sample[\"gloss\"] = g\n",
        "  sample[\"electra\"] = classes_test[glosses_test.index(g)]\n",
        "  results_test.append(sample)\n",
        "  i+=1\n",
        "\n",
        "print(\"taille du resultat : \", len(results_test))"
      ],
      "metadata": {
        "colab": {
          "base_uri": "https://localhost:8080/"
        },
        "outputId": "5d989840-b8e1-4bef-a934-b35298054ae6",
        "id": "eBQ5LtvhpP84"
      },
      "execution_count": 35,
      "outputs": [
        {
          "output_type": "stream",
          "name": "stdout",
          "text": [
            "taille du resultat :  6208\n"
          ]
        }
      ],
      "id": "eBQ5LtvhpP84"
    },
    {
      "cell_type": "code",
      "source": [
        "import pandas as pd\n",
        "pd.Series(results_test).to_json(\"/content/drive/My Drive/colab/Datasets/Data_semEval2022/Results/electra/fr_revdict_results_prediction_test.json\", orient='values')"
      ],
      "metadata": {
        "id": "xK5Iu48KpynU"
      },
      "execution_count": 36,
      "outputs": [],
      "id": "xK5Iu48KpynU"
    },
    {
      "cell_type": "code",
      "source": [
        "print(dataset_test[0])"
      ],
      "metadata": {
        "id": "8AI0j_8I1I1t",
        "outputId": "25c9ef16-4cd8-4c2d-ccad-c2ad3ed3a190",
        "colab": {
          "base_uri": "https://localhost:8080/"
        }
      },
      "execution_count": 37,
      "outputs": [
        {
          "output_type": "stream",
          "name": "stdout",
          "text": [
            "{'id': 'fr.revdict.1', 'gloss': 'Action de présenter .'}\n"
          ]
        }
      ],
      "id": "8AI0j_8I1I1t"
    }
  ],
  "metadata": {
    "accelerator": "GPU",
    "colab": {
      "name": "Fr_ELECTRA_Revdict_Achitecture_tensorflow.ipynb",
      "provenance": []
    },
    "kernelspec": {
      "display_name": "Python 3 (ipykernel)",
      "language": "python",
      "name": "python3"
    },
    "language_info": {
      "codemirror_mode": {
        "name": "ipython",
        "version": 3
      },
      "file_extension": ".py",
      "mimetype": "text/x-python",
      "name": "python",
      "nbconvert_exporter": "python",
      "pygments_lexer": "ipython3",
      "version": "3.9.7"
    }
  },
  "nbformat": 4,
  "nbformat_minor": 5
}