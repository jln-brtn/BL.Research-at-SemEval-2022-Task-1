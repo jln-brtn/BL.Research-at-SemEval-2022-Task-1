{
  "cells": [
    {
      "cell_type": "code",
      "execution_count": 1,
      "id": "06f22756",
      "metadata": {
        "id": "06f22756"
      },
      "outputs": [],
      "source": [
        "import json\n",
        "from tensorflow.keras.models import Sequential\n",
        "from tensorflow.keras import Input\n",
        "from tensorflow.keras.layers.experimental.preprocessing import TextVectorization\n",
        "from tensorflow.keras.layers import LSTM, Embedding, Dense, TimeDistributed, Dropout, Bidirectional, Flatten\n",
        "import numpy as np\n",
        "import pandas as pd\n",
        "from sklearn.feature_extraction.text import TfidfVectorizer\n",
        "from sklearn.feature_extraction.text import TfidfTransformer\n",
        "from tensorflow import keras"
      ]
    },
    {
      "cell_type": "code",
      "source": [
        "from google.colab import drive\n",
        "drive.mount('/content/drive')"
      ],
      "metadata": {
        "colab": {
          "base_uri": "https://localhost:8080/"
        },
        "id": "z_XEPOjNYhqK",
        "outputId": "19c336d3-0d78-47c0-80ee-db85ae77fc63"
      },
      "id": "z_XEPOjNYhqK",
      "execution_count": 2,
      "outputs": [
        {
          "output_type": "stream",
          "name": "stdout",
          "text": [
            "Mounted at /content/drive\n"
          ]
        }
      ]
    },
    {
      "cell_type": "markdown",
      "id": "0eae8dac",
      "metadata": {
        "id": "0eae8dac"
      },
      "source": [
        "### Chargement des données"
      ]
    },
    {
      "cell_type": "code",
      "execution_count": 3,
      "id": "2c211d43",
      "metadata": {
        "id": "2c211d43"
      },
      "outputs": [],
      "source": [
        "import os\n",
        "\n",
        "with open(\"/content/drive/My Drive/Datasets/Data_semEval2022/Fr_data/fr.train.json\", \"r\") as file_handler:\n",
        "    dataset = json.load(file_handler)"
      ]
    },
    {
      "cell_type": "code",
      "execution_count": 4,
      "id": "c2101cf4",
      "metadata": {
        "id": "c2101cf4"
      },
      "outputs": [],
      "source": [
        "with open(\"/content/drive/My Drive/Datasets/Data_semEval2022/Fr_data/fr.dev.json\", \"r\") as file_handler:\n",
        "    dataset_dev = json.load(file_handler)"
      ]
    },
    {
      "cell_type": "code",
      "execution_count": 5,
      "id": "e90cd2cd",
      "metadata": {
        "id": "e90cd2cd"
      },
      "outputs": [],
      "source": [
        "sgns = [i['char'] for i in dataset]\n",
        "glosses = [i['gloss'] for i in dataset]"
      ]
    },
    {
      "cell_type": "code",
      "execution_count": 6,
      "id": "78d48134",
      "metadata": {
        "id": "78d48134"
      },
      "outputs": [],
      "source": [
        "sgns_dev = [i['char'] for i in dataset_dev]\n",
        "glosses_dev = [i['gloss'] for i in dataset_dev]"
      ]
    },
    {
      "cell_type": "code",
      "execution_count": 7,
      "id": "993c2dcc",
      "metadata": {
        "colab": {
          "base_uri": "https://localhost:8080/"
        },
        "id": "993c2dcc",
        "outputId": "6c2e1428-dab0-4fae-e1ed-1ea720f2326b"
      },
      "outputs": [
        {
          "output_type": "stream",
          "name": "stdout",
          "text": [
            "6375\n"
          ]
        }
      ],
      "source": [
        "print(len(glosses_dev))"
      ]
    },
    {
      "cell_type": "code",
      "execution_count": 8,
      "id": "4a73425a",
      "metadata": {
        "id": "4a73425a"
      },
      "outputs": [],
      "source": [
        "# Import DATA\n",
        "with open(\"/content/drive/My Drive/Datasets/Data_semEval2022/lemm2Idx_train.json\") as outfile:\n",
        "    lemm2Idx = json.load(outfile)\n",
        "\n",
        "with open(\"/content/drive/My Drive/Datasets/Data_semEval2022/idx2Lemm_train.json\") as outfile:\n",
        "    idx2Lemm = json.load(outfile)\n",
        "\n",
        "with open(\"/content/drive/My Drive/Datasets/Data_semEval2022/lemmatized_glosses_train.json\") as outfile:\n",
        "    lemmatized_glosses = json.load(outfile)"
      ]
    },
    {
      "cell_type": "code",
      "execution_count": 9,
      "id": "d119d8cb",
      "metadata": {
        "id": "d119d8cb"
      },
      "outputs": [],
      "source": [
        "# Import DATA\n",
        "with open(\"/content/drive/My Drive/Datasets/Data_semEval2022/lemm2Idx.json\") as outfile:\n",
        "    lemm2Idx_dev = json.load(outfile)\n",
        "\n",
        "with open(\"/content/drive/My Drive/Datasets/Data_semEval2022/idx2Lemm.json\") as outfile:\n",
        "    idx2Lemm_dev = json.load(outfile)\n",
        "\n",
        "with open(\"/content/drive/My Drive/Datasets/Data_semEval2022/lemmatized_glosses.json\") as outfile:\n",
        "    lemmatized_glosses_dev = json.load(outfile)"
      ]
    },
    {
      "cell_type": "code",
      "source": [
        "import tensorflow as tf\n",
        "print(\"Num GPUs Available: \", len(tf.config.list_physical_devices('GPU')))"
      ],
      "metadata": {
        "colab": {
          "base_uri": "https://localhost:8080/"
        },
        "id": "etS_pwT_Fi5J",
        "outputId": "0763f3f1-98d9-4d75-8233-793987c737a5"
      },
      "id": "etS_pwT_Fi5J",
      "execution_count": 10,
      "outputs": [
        {
          "output_type": "stream",
          "name": "stdout",
          "text": [
            "Num GPUs Available:  0\n"
          ]
        }
      ]
    },
    {
      "cell_type": "markdown",
      "id": "6e93118c",
      "metadata": {
        "id": "6e93118c"
      },
      "source": [
        "### Préparation des données"
      ]
    },
    {
      "cell_type": "code",
      "execution_count": 11,
      "id": "846d1635",
      "metadata": {
        "id": "846d1635"
      },
      "outputs": [],
      "source": [
        "lemmatized_glosses_text = []\n",
        "\n",
        "for gloss in lemmatized_glosses:\n",
        "    text = \"\"\n",
        "    for word in gloss:\n",
        "        text += idx2Lemm[str(word)] + \" \"\n",
        "    lemmatized_glosses_text.append(text)"
      ]
    },
    {
      "cell_type": "code",
      "execution_count": 12,
      "id": "03859e48",
      "metadata": {
        "colab": {
          "base_uri": "https://localhost:8080/"
        },
        "id": "03859e48",
        "outputId": "ca4fedba-838b-4f5a-d914-4e25e006efe4"
      },
      "outputs": [
        {
          "output_type": "stream",
          "name": "stdout",
          "text": [
            "43608\n",
            "43608\n"
          ]
        }
      ],
      "source": [
        "print(len(lemmatized_glosses_text))\n",
        "print(len(sgns))\n"
      ]
    },
    {
      "cell_type": "code",
      "source": [
        "lemmatized_glosses_text_dev = []\n",
        "\n",
        "for gloss in lemmatized_glosses_dev:\n",
        "    text = \"\"\n",
        "    for word in gloss:\n",
        "        text += idx2Lemm_dev[str(word)] + \" \"\n",
        "    lemmatized_glosses_text_dev.append(text)"
      ],
      "metadata": {
        "id": "ZoBgROpI9vv3"
      },
      "id": "ZoBgROpI9vv3",
      "execution_count": 13,
      "outputs": []
    },
    {
      "cell_type": "code",
      "source": [
        "print(len(lemmatized_glosses_text_dev))\n",
        "print(len(sgns_dev))"
      ],
      "metadata": {
        "colab": {
          "base_uri": "https://localhost:8080/"
        },
        "id": "_FC_-CIVdef4",
        "outputId": "806d80ff-ed25-4eac-fc77-28dda8cf76a6"
      },
      "id": "_FC_-CIVdef4",
      "execution_count": 14,
      "outputs": [
        {
          "output_type": "stream",
          "name": "stdout",
          "text": [
            "6375\n",
            "6375\n"
          ]
        }
      ]
    },
    {
      "cell_type": "code",
      "execution_count": 15,
      "id": "14fa7890",
      "metadata": {
        "id": "14fa7890"
      },
      "outputs": [],
      "source": [
        "def longest_gloss(glosses_list):\n",
        "    lgt = 0\n",
        "    sentence = \"\"\n",
        "    tk = []\n",
        "    for g in glosses_list :\n",
        "        tokens = g.split()\n",
        "        if len(tokens)>lgt :\n",
        "            lgt = len(tokens)\n",
        "            sentence =g\n",
        "            tk = tokens\n",
        "    return lgt, tk, sentence"
      ]
    },
    {
      "cell_type": "code",
      "execution_count": 16,
      "id": "d78dc767",
      "metadata": {
        "colab": {
          "base_uri": "https://localhost:8080/"
        },
        "id": "d78dc767",
        "outputId": "e0f2c2ae-5068-4cb6-c775-9cb6de964cc9"
      },
      "outputs": [
        {
          "output_type": "stream",
          "name": "stdout",
          "text": [
            "149\n",
            "['ornithologie', 'Nom', 'normaliser', 'donner', 'à', 'quatre', 'genre', 'renfermer', '17', 'espèce', 'de', 'oiseau', 'grimpeur', 'mangeur', 'de', 'cire', 'de', 'abeille', 'ou', 'un', 'autre', 'source', 'tel', 'certain', 'insecte', 'et', 'de', 'le', 'couvain', 'de', 'le', 'ruche', 'de', 'le', 'famille', 'de', 'le', 'indicatoridé', 'ordre', 'de', 'le', 'piciforme', 'qui', 'nicher', 'dans', 'le', 'forêt', 'épars', 'de', 'le', 'Afrique', 'subsaharien', 'et', 'en', 'Asie', 'de', 'le', 'sud-est', 'et', 'qui', 'être', 'caractériser', 'par', 'son', 'bec', 'conique', 'fort', 'et', 'légèrement', 'incurvé', 'son', 'plumage', 'terne', 'mais', 'garni', 'de', 'plage', 'blanc', 'ou', 'jaune', 'très', 'visible', 'à', 'distance', 'sur', 'le', 'queue', 'le', 'croupion', 'ou', 'le', 'flanc', 'par', 'le', 'parasitisme', 'de', 'couvée', 'que', 'il', 'pratiquer', 'à', 'le', 'façon', 'de', 'le', 'coucous', 'et', 'par', 'son', 'grand', 'facilité', 'à', 'dénicher', 'le', 'nid', 'de', 'abeille', 'un', 'caractéristique', 'dont', 'se', 'servir', 'le', 'homme', 'qui', 'suivre', 'ce', 'oiseau', 'en', 'Afrique', 'dans', 'son', 'déplacement', 'pour', 'recueillir', 'le', 'miel', 'que', 'le', 'indicateur', 'ne', 'manger', 'pas', 'genre', 'Indicator', 'Prodotiscus', 'Melichneutes', 'et', 'Melignomon']\n",
            "ornithologie Nom normaliser donner à quatre genre renfermer 17 espèce de oiseau grimpeur mangeur de cire de abeille ou un autre source tel certain insecte et de le couvain de le ruche de le famille de le indicatoridé ordre de le piciforme qui nicher dans le forêt épars de le Afrique subsaharien et en Asie de le sud-est et qui être caractériser par son bec conique fort et légèrement incurvé son plumage terne mais garni de plage blanc ou jaune très visible à distance sur le queue le croupion ou le flanc par le parasitisme de couvée que il pratiquer à le façon de le coucous et par son grand facilité à dénicher le nid de abeille un caractéristique dont se servir le homme qui suivre ce oiseau en Afrique dans son déplacement pour recueillir le miel que le indicateur ne manger pas genre Indicator Prodotiscus Melichneutes et Melignomon \n"
          ]
        }
      ],
      "source": [
        "max_len, tk, stc = longest_gloss(lemmatized_glosses_text)\n",
        "print(max_len)\n",
        "print(tk)\n",
        "print(stc)"
      ]
    },
    {
      "cell_type": "code",
      "execution_count": 17,
      "id": "d99fdcb0",
      "metadata": {
        "colab": {
          "base_uri": "https://localhost:8080/"
        },
        "id": "d99fdcb0",
        "outputId": "68b34ad3-2b0f-422e-ab6f-ef59f93486d3"
      },
      "outputs": [
        {
          "output_type": "stream",
          "name": "stdout",
          "text": [
            "111\n"
          ]
        }
      ],
      "source": [
        "max_len_dev, tk, stc = longest_gloss(lemmatized_glosses_text_dev)\n",
        "print(max_len_dev)"
      ]
    },
    {
      "cell_type": "code",
      "execution_count": 18,
      "id": "0f44ec59",
      "metadata": {
        "colab": {
          "base_uri": "https://localhost:8080/"
        },
        "id": "0f44ec59",
        "outputId": "2959f869-3efc-4c23-a765-04f0569c277a"
      },
      "outputs": [
        {
          "output_type": "stream",
          "name": "stdout",
          "text": [
            "24089\n"
          ]
        }
      ],
      "source": [
        "max_tokens = len(list(lemm2Idx))\n",
        "print(max_tokens)\n",
        "max_tokens_dev = len(lemm2Idx_dev)\n",
        "\n",
        "max_len = 149\n",
        "max_len_dev = 111\n",
        "vectorize_layer = TextVectorization(\n",
        "    # Max vocab size. Any words outside of the max_tokens most common ones\n",
        "    # will be treated the same way: as \"out of vocabulary\" (OOV) tokens.\n",
        "    max_tokens=24091,\n",
        "    # Output integer indices, one per string token\n",
        "    output_mode=\"int\",\n",
        "    # Always pad or truncate to exactly this many tokens\n",
        "    output_sequence_length=max_len\n",
        ")"
      ]
    },
    {
      "cell_type": "code",
      "execution_count": 19,
      "id": "25e8c404",
      "metadata": {
        "id": "25e8c404"
      },
      "outputs": [],
      "source": [
        "# Call adapt(), which fits the TextVectorization layer to our text dataset.\n",
        "# This is when the max_tokens most common words (i.e. the vocabulary) are selected.\n",
        "vectorize_layer.adapt(np.array(list(idx2Lemm.values())))"
      ]
    },
    {
      "cell_type": "code",
      "execution_count": null,
      "id": "9b5f7158",
      "metadata": {
        "id": "9b5f7158",
        "outputId": "0c8fcead-38cc-4af1-f920-a3f9aacfa0a0"
      },
      "outputs": [
        {
          "data": {
            "text/plain": [
              "TfidfTransformer()"
            ]
          },
          "execution_count": 16,
          "metadata": {},
          "output_type": "execute_result"
        }
      ],
      "source": [
        "vectorizer = TfidfVectorizer(vocabulary = list(idx2Lemm.values()))\n",
        "vecteur = vectorizer.fit_transform(lemmatized_glosses_text)\n",
        "\n",
        "tfidf_transformer=TfidfTransformer(smooth_idf=True,use_idf=True) \n",
        "tfidf_transformer.fit(vecteur)"
      ]
    },
    {
      "cell_type": "code",
      "execution_count": null,
      "id": "3336e357",
      "metadata": {
        "id": "3336e357"
      },
      "outputs": [],
      "source": [
        "vectorize_layer.set_vocabulary(\n",
        "    list(vectorizer.get_feature_names()), idf_weights=None)\n"
      ]
    },
    {
      "cell_type": "code",
      "execution_count": null,
      "id": "8748ab0e",
      "metadata": {
        "id": "8748ab0e"
      },
      "outputs": [],
      "source": [
        "with open(\"../vocab_file.json\", \"r\", encoding=\"utf8\") as vocabulary_file:\n",
        "    vocab = json.load(vocabulary_file)"
      ]
    },
    {
      "cell_type": "code",
      "execution_count": null,
      "id": "fc07d331",
      "metadata": {
        "id": "fc07d331",
        "outputId": "6d6a0da0-dcb0-4d17-a21f-865d16bb4138"
      },
      "outputs": [
        {
          "name": "stdout",
          "output_type": "stream",
          "text": [
            "par\n"
          ]
        }
      ],
      "source": [
        "print(np.array(list(idx2Lemm.values())[0]))"
      ]
    },
    {
      "cell_type": "code",
      "execution_count": null,
      "id": "33875815",
      "metadata": {
        "id": "33875815"
      },
      "outputs": [],
      "source": [
        "def meanIDFweights(x):\n",
        "    return embed(tf.squeeze(tf.cast(x, tf.string)), \n",
        "    \tsignature=\"default\", as_dict=True)[\"default\"]"
      ]
    },
    {
      "cell_type": "markdown",
      "id": "3a64ca10",
      "metadata": {
        "id": "3a64ca10"
      },
      "source": [
        "### Construction du modèle"
      ]
    },
    {
      "cell_type": "code",
      "execution_count": 71,
      "id": "97206c4d",
      "metadata": {
        "id": "97206c4d"
      },
      "outputs": [],
      "source": [
        "model = Sequential()\n",
        "model.add(Input(shape=(1,), dtype=\"string\"))"
      ]
    },
    {
      "cell_type": "code",
      "execution_count": 72,
      "id": "beb5c57f",
      "metadata": {
        "id": "beb5c57f"
      },
      "outputs": [],
      "source": [
        "model.add(vectorize_layer)"
      ]
    },
    {
      "cell_type": "code",
      "execution_count": 73,
      "id": "a0dde3ec",
      "metadata": {
        "id": "a0dde3ec"
      },
      "outputs": [],
      "source": [
        "from tensorflow.keras import layers\n",
        "# Note that we're using max_tokens + 1 here, since there's an\n",
        "# out-of-vocabulary (OOV) token that gets added to the vocab.\n",
        "\n",
        "len_gloses = 43608\n",
        "\n",
        "model.add(Embedding(max_tokens + 1, 128))\n",
        "\n",
        "model.add(Dense(128))\n",
        "\n",
        "model.add(Bidirectional(LSTM(units=192, return_sequences=True), merge_mode = 'ave'))\n",
        "\n",
        "model.add(Dense(192))\n",
        "model.add(LSTM(units=256, return_sequences=True, dropout = 0.1))\n",
        "\n",
        "model.add(LSTM(units=256, return_sequences=False, activation = \"softmax\"))\n",
        "model.add(Dense(256))"
      ]
    },
    {
      "cell_type": "code",
      "source": [
        "import tensorflow_addons as tfa\n",
        "step = tf.Variable(0, trainable=False)\n",
        "schedule = tf.optimizers.schedules.PiecewiseConstantDecay(\n",
        "    [10000, 15000], [1e-0, 1e-1, 1e-2])\n",
        "# lr and wd can be a function or a tensor\n",
        "\n",
        "lr = 1e-1 * schedule(step)\n",
        "\n",
        "learning_rate=1e-3\n",
        "\n",
        "wd = lambda: 1e-4 * schedule(step)\n",
        "\n",
        "weight_decay=1e-6,\n",
        "\n",
        "optimizer = tfa.optimizers.AdamW(learning_rate=learning_rate, weight_decay=weight_decay)"
      ],
      "metadata": {
        "id": "qqBlEmP9xb1B"
      },
      "id": "qqBlEmP9xb1B",
      "execution_count": 74,
      "outputs": []
    },
    {
      "cell_type": "code",
      "execution_count": 40,
      "id": "374b3648",
      "metadata": {
        "id": "374b3648"
      },
      "outputs": [],
      "source": [
        "import torch.optim as optim\n",
        "\n",
        "opt = keras.optimizers.Adam(learning_rate=0.01)"
      ]
    },
    {
      "cell_type": "code",
      "execution_count": 75,
      "id": "05ec90f7",
      "metadata": {
        "colab": {
          "base_uri": "https://localhost:8080/"
        },
        "id": "05ec90f7",
        "outputId": "c2ae4105-3bbc-4943-c5df-eb8e16cd62c8"
      },
      "outputs": [
        {
          "output_type": "stream",
          "name": "stdout",
          "text": [
            "Model: \"sequential_9\"\n",
            "_________________________________________________________________\n",
            " Layer (type)                Output Shape              Param #   \n",
            "=================================================================\n",
            " text_vectorization (TextVec  (None, 149)              0         \n",
            " torization)                                                     \n",
            "                                                                 \n",
            " embedding_10 (Embedding)    (None, 149, 128)          3083520   \n",
            "                                                                 \n",
            " dense_25 (Dense)            (None, 149, 128)          16512     \n",
            "                                                                 \n",
            " bidirectional_10 (Bidirecti  (None, 149, 192)         493056    \n",
            " onal)                                                           \n",
            "                                                                 \n",
            " dense_26 (Dense)            (None, 149, 192)          37056     \n",
            "                                                                 \n",
            " lstm_17 (LSTM)              (None, 149, 256)          459776    \n",
            "                                                                 \n",
            " lstm_18 (LSTM)              (None, 256)               525312    \n",
            "                                                                 \n",
            " dense_27 (Dense)            (None, 256)               65792     \n",
            "                                                                 \n",
            "=================================================================\n",
            "Total params: 4,681,024\n",
            "Trainable params: 4,681,024\n",
            "Non-trainable params: 0\n",
            "_________________________________________________________________\n"
          ]
        }
      ],
      "source": [
        " model.compile(\n",
        "    optimizer=optimizer,\n",
        "    loss='mse',\n",
        "    metrics=['accuracy'],\n",
        ")\n",
        "\n",
        "model.summary()"
      ]
    },
    {
      "cell_type": "markdown",
      "id": "2f7c5b75",
      "metadata": {
        "id": "2f7c5b75"
      },
      "source": [
        "### Entraînement du modèle"
      ]
    },
    {
      "cell_type": "code",
      "execution_count": 76,
      "id": "81f1324c",
      "metadata": {
        "colab": {
          "base_uri": "https://localhost:8080/"
        },
        "id": "81f1324c",
        "outputId": "a8125ebc-5b2f-4bcb-e543-4ec6c2216ff3"
      },
      "outputs": [
        {
          "output_type": "stream",
          "name": "stdout",
          "text": [
            "Epoch 1/10\n",
            "228/228 [==============================] - 1464s 6s/step - loss: 0.7063 - accuracy: 0.0000e+00 - val_loss: 0.6042 - val_accuracy: 0.0000e+00\n",
            "Epoch 2/10\n",
            "228/228 [==============================] - 1443s 6s/step - loss: 0.5581 - accuracy: 0.1609 - val_loss: 0.5164 - val_accuracy: 0.1682\n",
            "Epoch 3/10\n",
            "228/228 [==============================] - 1442s 6s/step - loss: 0.4931 - accuracy: 0.6391 - val_loss: 0.4677 - val_accuracy: 0.7514\n",
            "Epoch 4/10\n",
            "228/228 [==============================] - 1455s 6s/step - loss: 0.4543 - accuracy: 0.7580 - val_loss: 0.4367 - val_accuracy: 0.7514\n",
            "Epoch 5/10\n",
            "228/228 [==============================] - 1430s 6s/step - loss: 0.4288 - accuracy: 0.7580 - val_loss: 0.4157 - val_accuracy: 0.7514\n",
            "Epoch 6/10\n",
            "228/228 [==============================] - 1420s 6s/step - loss: 0.4112 - accuracy: 0.7580 - val_loss: 0.4010 - val_accuracy: 0.7514\n",
            "Epoch 7/10\n",
            "228/228 [==============================] - 1415s 6s/step - loss: 0.3988 - accuracy: 0.7580 - val_loss: 0.3905 - val_accuracy: 0.7514\n",
            "Epoch 8/10\n",
            "228/228 [==============================] - 1415s 6s/step - loss: 0.3898 - accuracy: 0.7580 - val_loss: 0.3828 - val_accuracy: 0.7514\n",
            "Epoch 9/10\n",
            "228/228 [==============================] - 1422s 6s/step - loss: 0.3832 - accuracy: 0.7580 - val_loss: 0.3773 - val_accuracy: 0.7514\n",
            "Epoch 10/10\n",
            "228/228 [==============================] - 1413s 6s/step - loss: 0.3784 - accuracy: 0.7580 - val_loss: 0.3733 - val_accuracy: 0.7514\n"
          ]
        }
      ],
      "source": [
        "with tf.device('/device:GPU:0'):\n",
        "  history = model.fit(lemmatized_glosses_text, sgns,\n",
        "                    epochs=10,\n",
        "                    batch_size=192,\n",
        "                    validation_data=(lemmatized_glosses_text_dev,  sgns_dev))"
      ]
    },
    {
      "cell_type": "code",
      "execution_count": 77,
      "id": "ff51800e",
      "metadata": {
        "id": "ff51800e",
        "outputId": "45cffb4c-262c-45da-b016-3ac38bb80752",
        "colab": {
          "base_uri": "https://localhost:8080/",
          "height": 545
        }
      },
      "outputs": [
        {
          "output_type": "display_data",
          "data": {
            "image/png": "[encoded data removed]",
            "text/plain": [
              "<Figure size 432x288 with 1 Axes>"
            ]
          },
          "metadata": {
            "needs_background": "light"
          }
        },
        {
          "output_type": "display_data",
          "data": {
            "image/png": "[encoded data removed]",
            "text/plain": [
              "<Figure size 432x288 with 1 Axes>"
            ]
          },
          "metadata": {
            "needs_background": "light"
          }
        }
      ],
      "source": [
        "#Visualisation des résultats de l'entraînement.\n",
        "import matplotlib.pyplot as plt\n",
        "\n",
        "acc = history.history['accuracy']\n",
        "val_acc = history.history['val_accuracy']\n",
        "loss = history.history['loss']\n",
        "val_loss = history.history['val_loss']\n",
        "\n",
        "epochs = range(1, len(acc) + 1)\n",
        "\n",
        "plt.plot(epochs, acc, 'bo', label='Training acc')\n",
        "plt.plot(epochs, val_acc, 'b', label='Validation acc')\n",
        "plt.title('Training and validation accuracy')\n",
        "plt.legend()\n",
        "\n",
        "plt.figure()\n",
        "\n",
        "plt.plot(epochs, loss, 'bo', label='Training loss')\n",
        "plt.plot(epochs, val_loss, 'b', label='Validation loss')\n",
        "plt.title('Training and validation loss')\n",
        "plt.legend()\n",
        "\n",
        "plt.show()"
      ]
    },
    {
      "cell_type": "markdown",
      "id": "185fe5e0",
      "metadata": {
        "id": "185fe5e0"
      },
      "source": [
        "### Test du modèle sur les données Trial"
      ]
    },
    {
      "cell_type": "code",
      "execution_count": 51,
      "id": "7191cfdb",
      "metadata": {
        "id": "7191cfdb"
      },
      "outputs": [],
      "source": [
        "with open(\"/content/drive/My Drive/Datasets/Data_semEval2022/Fr_data/fr.trial.complete.json\", \"r\") as file_handler:\n",
        "    dataset_test = json.load(file_handler)"
      ]
    },
    {
      "cell_type": "code",
      "execution_count": 52,
      "id": "96e503fb",
      "metadata": {
        "id": "96e503fb"
      },
      "outputs": [],
      "source": [
        "glosses_test = []\n",
        "for e in dataset_test :\n",
        "    glosses_test.append(e[\"gloss\"])"
      ]
    },
    {
      "cell_type": "code",
      "execution_count": 53,
      "id": "0bcc6573",
      "metadata": {
        "id": "0bcc6573"
      },
      "outputs": [],
      "source": [
        "sgns_test = []\n",
        "for e in dataset_test :\n",
        "    sgns_test.append(e[\"sgns\"])"
      ]
    },
    {
      "cell_type": "code",
      "execution_count": 54,
      "id": "0329df26",
      "metadata": {
        "id": "0329df26",
        "colab": {
          "base_uri": "https://localhost:8080/"
        },
        "outputId": "6ae8b532-5994-48f9-f81a-320373244cc2"
      },
      "outputs": [
        {
          "output_type": "stream",
          "name": "stdout",
          "text": [
            "7/7 - 1s - loss: 2.2538 - accuracy: 0.0250 - 578ms/epoch - 83ms/step\n"
          ]
        }
      ],
      "source": [
        "scores = model.evaluate(glosses_test, sgns_test, verbose=2)"
      ]
    },
    {
      "cell_type": "code",
      "execution_count": 55,
      "id": "229313da",
      "metadata": {
        "id": "229313da"
      },
      "outputs": [],
      "source": [
        "classes = model.predict(glosses_test, batch_size=32)"
      ]
    },
    {
      "cell_type": "code",
      "execution_count": 56,
      "id": "6144a0db",
      "metadata": {
        "id": "6144a0db"
      },
      "outputs": [],
      "source": [
        "import torch.nn.functional as F\n",
        "import torch\n",
        "\n",
        "classes_tensor = torch.tensor(classes)\n",
        "sgns_test_tensor = torch.tensor(sgns_test)"
      ]
    },
    {
      "cell_type": "markdown",
      "id": "641929d8",
      "metadata": {
        "id": "641929d8"
      },
      "source": [
        "### Calcule des métriques d'évaluation"
      ]
    },
    {
      "cell_type": "code",
      "execution_count": 57,
      "id": "89083a05",
      "metadata": {
        "id": "89083a05"
      },
      "outputs": [],
      "source": [
        "cos_sim = F.cosine_similarity(classes_tensor, sgns_test_tensor).mean().item()"
      ]
    },
    {
      "cell_type": "code",
      "execution_count": 58,
      "id": "4c5613a8",
      "metadata": {
        "id": "4c5613a8",
        "outputId": "95996a8c-e484-47a4-9bb4-3b072eb6d7de",
        "colab": {
          "base_uri": "https://localhost:8080/"
        }
      },
      "outputs": [
        {
          "output_type": "stream",
          "name": "stdout",
          "text": [
            "-0.0018758767982944846\n"
          ]
        }
      ],
      "source": [
        "print(cos_sim)"
      ]
    },
    {
      "cell_type": "code",
      "execution_count": 59,
      "id": "d83108cb",
      "metadata": {
        "id": "d83108cb"
      },
      "outputs": [],
      "source": [
        "mse = F.mse_loss(classes_tensor, sgns_test_tensor).item()"
      ]
    },
    {
      "cell_type": "code",
      "execution_count": 60,
      "id": "528b2191",
      "metadata": {
        "id": "528b2191",
        "outputId": "5ddbe609-d7e7-4bbe-88b1-98672ab93f94",
        "colab": {
          "base_uri": "https://localhost:8080/"
        }
      },
      "outputs": [
        {
          "output_type": "stream",
          "name": "stdout",
          "text": [
            "2.2537736892700195\n"
          ]
        }
      ],
      "source": [
        "print(mse)"
      ]
    },
    {
      "cell_type": "code",
      "execution_count": 61,
      "id": "b29a01ac",
      "metadata": {
        "id": "b29a01ac"
      },
      "outputs": [],
      "source": [
        "# fonction prise du code de la baseline.\n",
        "def rank_cosine(preds, targets):\n",
        "    unique_targets = targets.unique(dim=0)\n",
        "    all_assocs = preds @ F.normalize(targets).T\n",
        "    unique_assocs = preds @ F.normalize(unique_targets).T\n",
        "    refs = torch.diagonal(all_assocs, 0).unsqueeze(1)\n",
        "    ranks = (unique_assocs >= refs).sum(1).float().mean().item()\n",
        "    return ranks / unique_targets.size(0)"
      ]
    },
    {
      "cell_type": "code",
      "execution_count": 62,
      "id": "e4c527f9",
      "metadata": {
        "id": "e4c527f9"
      },
      "outputs": [],
      "source": [
        "rnk = rank_cosine(classes_tensor, sgns_test_tensor)"
      ]
    },
    {
      "cell_type": "code",
      "execution_count": 63,
      "id": "b816e4c2",
      "metadata": {
        "id": "b816e4c2",
        "outputId": "aabc8074-fa57-4b59-b82e-064ad473ace6",
        "colab": {
          "base_uri": "https://localhost:8080/"
        }
      },
      "outputs": [
        {
          "output_type": "stream",
          "name": "stdout",
          "text": [
            "0.5046733683677175\n"
          ]
        }
      ],
      "source": [
        "print(rnk)"
      ]
    },
    {
      "cell_type": "code",
      "execution_count": 63,
      "id": "1a9a121f",
      "metadata": {
        "id": "1a9a121f"
      },
      "outputs": [],
      "source": [
        ""
      ]
    }
  ],
  "metadata": {
    "kernelspec": {
      "display_name": "Python 3 (ipykernel)",
      "language": "python",
      "name": "python3"
    },
    "language_info": {
      "codemirror_mode": {
        "name": "ipython",
        "version": 3
      },
      "file_extension": ".py",
      "mimetype": "text/x-python",
      "name": "python",
      "nbconvert_exporter": "python",
      "pygments_lexer": "ipython3",
      "version": "3.9.7"
    },
    "colab": {
      "name": "Fr_Revdict_Achitecture_tensorflow.ipynb",
      "provenance": []
    },
    "accelerator": "GPU"
  },
  "nbformat": 4,
  "nbformat_minor": 5
}