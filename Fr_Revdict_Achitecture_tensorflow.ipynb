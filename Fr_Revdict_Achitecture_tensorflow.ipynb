{
  "cells": [
    {
      "cell_type": "code",
      "execution_count": 1,
      "metadata": {
        "id": "06f22756"
      },
      "outputs": [],
      "source": [
        "import json\n",
        "from tensorflow.keras.models import Sequential\n",
        "from tensorflow.keras import Input\n",
        "from tensorflow.keras.layers.experimental.preprocessing import TextVectorization\n",
        "from tensorflow.keras.layers import LSTM, Embedding, Dense, TimeDistributed, Dropout, Bidirectional, Flatten\n",
        "import numpy as np\n",
        "import pandas as pd\n",
        "from sklearn.feature_extraction.text import TfidfVectorizer\n",
        "from sklearn.feature_extraction.text import TfidfTransformer\n",
        "from tensorflow import keras"
      ],
      "id": "06f22756"
    },
    {
      "cell_type": "code",
      "execution_count": 2,
      "metadata": {
        "colab": {
          "base_uri": "https://localhost:8080/"
        },
        "id": "z_XEPOjNYhqK",
        "outputId": "6295ba35-6d94-4ebd-b238-540dc5cd9aff"
      },
      "outputs": [
        {
          "output_type": "stream",
          "name": "stdout",
          "text": [
            "Mounted at /content/drive\n"
          ]
        }
      ],
      "source": [
        "from google.colab import drive\n",
        "drive.mount('/content/drive')"
      ],
      "id": "z_XEPOjNYhqK"
    },
    {
      "cell_type": "markdown",
      "metadata": {
        "id": "0eae8dac"
      },
      "source": [
        "### Chargement des données"
      ],
      "id": "0eae8dac"
    },
    {
      "cell_type": "code",
      "execution_count": 3,
      "metadata": {
        "id": "2c211d43"
      },
      "outputs": [],
      "source": [
        "import os\n",
        "\n",
        "with open(\"/content/drive/My Drive/Datasets/Data_semEval2022/Fr_data/fr.train.json\", \"r\") as file_handler:\n",
        "    dataset = json.load(file_handler)"
      ],
      "id": "2c211d43"
    },
    {
      "cell_type": "code",
      "execution_count": 4,
      "metadata": {
        "id": "c2101cf4"
      },
      "outputs": [],
      "source": [
        "with open(\"/content/drive/My Drive/Datasets/Data_semEval2022/Fr_data/fr.dev.json\", \"r\") as file_handler:\n",
        "    dataset_dev = json.load(file_handler)"
      ],
      "id": "c2101cf4"
    },
    {
      "cell_type": "code",
      "execution_count": 5,
      "metadata": {
        "id": "e90cd2cd"
      },
      "outputs": [],
      "source": [
        "sgns = [i['char'] for i in dataset]\n",
        "glosses = [i['gloss'] for i in dataset]"
      ],
      "id": "e90cd2cd"
    },
    {
      "cell_type": "code",
      "execution_count": 6,
      "metadata": {
        "id": "78d48134"
      },
      "outputs": [],
      "source": [
        "sgns_dev = [i['char'] for i in dataset_dev]\n",
        "glosses_dev = [i['gloss'] for i in dataset_dev]"
      ],
      "id": "78d48134"
    },
    {
      "cell_type": "code",
      "execution_count": 7,
      "metadata": {
        "colab": {
          "base_uri": "https://localhost:8080/"
        },
        "id": "993c2dcc",
        "outputId": "00771524-0692-402a-c4c8-5b00c1d51791"
      },
      "outputs": [
        {
          "output_type": "stream",
          "name": "stdout",
          "text": [
            "6375\n"
          ]
        }
      ],
      "source": [
        "print(len(glosses_dev))"
      ],
      "id": "993c2dcc"
    },
    {
      "cell_type": "code",
      "execution_count": 8,
      "metadata": {
        "id": "4a73425a"
      },
      "outputs": [],
      "source": [
        "# Import DATA\n",
        "with open(\"/content/drive/My Drive/Datasets/Data_semEval2022/lemm2Idx_train.json\") as outfile:\n",
        "    lemm2Idx = json.load(outfile)\n",
        "\n",
        "with open(\"/content/drive/My Drive/Datasets/Data_semEval2022/idx2Lemm_train.json\") as outfile:\n",
        "    idx2Lemm = json.load(outfile)\n",
        "\n",
        "with open(\"/content/drive/My Drive/Datasets/Data_semEval2022/lemmatized_glosses_train.json\") as outfile:\n",
        "    lemmatized_glosses = json.load(outfile)"
      ],
      "id": "4a73425a"
    },
    {
      "cell_type": "code",
      "execution_count": 9,
      "metadata": {
        "id": "d119d8cb"
      },
      "outputs": [],
      "source": [
        "# Import DATA\n",
        "with open(\"/content/drive/My Drive/Datasets/Data_semEval2022/lemm2Idx.json\") as outfile:\n",
        "    lemm2Idx_dev = json.load(outfile)\n",
        "\n",
        "with open(\"/content/drive/My Drive/Datasets/Data_semEval2022/idx2Lemm.json\") as outfile:\n",
        "    idx2Lemm_dev = json.load(outfile)\n",
        "\n",
        "with open(\"/content/drive/My Drive/Datasets/Data_semEval2022/lemmatized_glosses.json\") as outfile:\n",
        "    lemmatized_glosses_dev = json.load(outfile)"
      ],
      "id": "d119d8cb"
    },
    {
      "cell_type": "code",
      "execution_count": 10,
      "metadata": {
        "colab": {
          "base_uri": "https://localhost:8080/"
        },
        "id": "etS_pwT_Fi5J",
        "outputId": "0439c7db-bf69-4614-fad5-cd9c3a953079"
      },
      "outputs": [
        {
          "output_type": "stream",
          "name": "stdout",
          "text": [
            "Num GPUs Available:  1\n"
          ]
        }
      ],
      "source": [
        "import tensorflow as tf\n",
        "print(\"Num GPUs Available: \", len(tf.config.list_physical_devices('GPU')))"
      ],
      "id": "etS_pwT_Fi5J"
    },
    {
      "cell_type": "markdown",
      "metadata": {
        "id": "6e93118c"
      },
      "source": [
        "### Préparation des données"
      ],
      "id": "6e93118c"
    },
    {
      "cell_type": "code",
      "execution_count": 11,
      "metadata": {
        "id": "846d1635"
      },
      "outputs": [],
      "source": [
        "lemmatized_glosses_text = []\n",
        "\n",
        "for gloss in lemmatized_glosses:\n",
        "    text = \"\"\n",
        "    for word in gloss:\n",
        "        text += idx2Lemm[str(word)] + \" \"\n",
        "    lemmatized_glosses_text.append(text)"
      ],
      "id": "846d1635"
    },
    {
      "cell_type": "code",
      "execution_count": 12,
      "metadata": {
        "colab": {
          "base_uri": "https://localhost:8080/"
        },
        "id": "03859e48",
        "outputId": "5eb00d62-cc5b-4e4d-c937-1287054656d8"
      },
      "outputs": [
        {
          "output_type": "stream",
          "name": "stdout",
          "text": [
            "43608\n",
            "43608\n"
          ]
        }
      ],
      "source": [
        "print(len(lemmatized_glosses_text))\n",
        "print(len(sgns))\n"
      ],
      "id": "03859e48"
    },
    {
      "cell_type": "code",
      "execution_count": 13,
      "metadata": {
        "id": "ZoBgROpI9vv3"
      },
      "outputs": [],
      "source": [
        "lemmatized_glosses_text_dev = []\n",
        "\n",
        "for gloss in lemmatized_glosses_dev:\n",
        "    text = \"\"\n",
        "    for word in gloss:\n",
        "        text += idx2Lemm_dev[str(word)] + \" \"\n",
        "    lemmatized_glosses_text_dev.append(text)"
      ],
      "id": "ZoBgROpI9vv3"
    },
    {
      "cell_type": "code",
      "execution_count": 14,
      "metadata": {
        "colab": {
          "base_uri": "https://localhost:8080/"
        },
        "id": "_FC_-CIVdef4",
        "outputId": "d86283c3-41dd-40db-faaf-fde80580506a"
      },
      "outputs": [
        {
          "output_type": "stream",
          "name": "stdout",
          "text": [
            "6375\n",
            "6375\n"
          ]
        }
      ],
      "source": [
        "print(len(lemmatized_glosses_text_dev))\n",
        "print(len(sgns_dev))"
      ],
      "id": "_FC_-CIVdef4"
    },
    {
      "cell_type": "code",
      "execution_count": 15,
      "metadata": {
        "id": "14fa7890"
      },
      "outputs": [],
      "source": [
        "def longest_gloss(glosses_list):\n",
        "    lgt = 0\n",
        "    sentence = \"\"\n",
        "    tk = []\n",
        "    for g in glosses_list :\n",
        "        tokens = g.split()\n",
        "        if len(tokens)>lgt :\n",
        "            lgt = len(tokens)\n",
        "            sentence =g\n",
        "            tk = tokens\n",
        "    return lgt, tk, sentence"
      ],
      "id": "14fa7890"
    },
    {
      "cell_type": "code",
      "execution_count": 16,
      "metadata": {
        "colab": {
          "base_uri": "https://localhost:8080/"
        },
        "id": "d78dc767",
        "outputId": "295ea87d-264a-4489-f2e8-01b274213031"
      },
      "outputs": [
        {
          "output_type": "stream",
          "name": "stdout",
          "text": [
            "149\n",
            "['ornithologie', 'Nom', 'normaliser', 'donner', 'à', 'quatre', 'genre', 'renfermer', '17', 'espèce', 'de', 'oiseau', 'grimpeur', 'mangeur', 'de', 'cire', 'de', 'abeille', 'ou', 'un', 'autre', 'source', 'tel', 'certain', 'insecte', 'et', 'de', 'le', 'couvain', 'de', 'le', 'ruche', 'de', 'le', 'famille', 'de', 'le', 'indicatoridé', 'ordre', 'de', 'le', 'piciforme', 'qui', 'nicher', 'dans', 'le', 'forêt', 'épars', 'de', 'le', 'Afrique', 'subsaharien', 'et', 'en', 'Asie', 'de', 'le', 'sud-est', 'et', 'qui', 'être', 'caractériser', 'par', 'son', 'bec', 'conique', 'fort', 'et', 'légèrement', 'incurvé', 'son', 'plumage', 'terne', 'mais', 'garni', 'de', 'plage', 'blanc', 'ou', 'jaune', 'très', 'visible', 'à', 'distance', 'sur', 'le', 'queue', 'le', 'croupion', 'ou', 'le', 'flanc', 'par', 'le', 'parasitisme', 'de', 'couvée', 'que', 'il', 'pratiquer', 'à', 'le', 'façon', 'de', 'le', 'coucous', 'et', 'par', 'son', 'grand', 'facilité', 'à', 'dénicher', 'le', 'nid', 'de', 'abeille', 'un', 'caractéristique', 'dont', 'se', 'servir', 'le', 'homme', 'qui', 'suivre', 'ce', 'oiseau', 'en', 'Afrique', 'dans', 'son', 'déplacement', 'pour', 'recueillir', 'le', 'miel', 'que', 'le', 'indicateur', 'ne', 'manger', 'pas', 'genre', 'Indicator', 'Prodotiscus', 'Melichneutes', 'et', 'Melignomon']\n",
            "ornithologie Nom normaliser donner à quatre genre renfermer 17 espèce de oiseau grimpeur mangeur de cire de abeille ou un autre source tel certain insecte et de le couvain de le ruche de le famille de le indicatoridé ordre de le piciforme qui nicher dans le forêt épars de le Afrique subsaharien et en Asie de le sud-est et qui être caractériser par son bec conique fort et légèrement incurvé son plumage terne mais garni de plage blanc ou jaune très visible à distance sur le queue le croupion ou le flanc par le parasitisme de couvée que il pratiquer à le façon de le coucous et par son grand facilité à dénicher le nid de abeille un caractéristique dont se servir le homme qui suivre ce oiseau en Afrique dans son déplacement pour recueillir le miel que le indicateur ne manger pas genre Indicator Prodotiscus Melichneutes et Melignomon \n"
          ]
        }
      ],
      "source": [
        "max_len, tk, stc = longest_gloss(lemmatized_glosses_text)\n",
        "print(max_len)\n",
        "print(tk)\n",
        "print(stc)"
      ],
      "id": "d78dc767"
    },
    {
      "cell_type": "code",
      "execution_count": 17,
      "metadata": {
        "colab": {
          "base_uri": "https://localhost:8080/"
        },
        "id": "d99fdcb0",
        "outputId": "fd3241da-5b66-4295-9d00-fc877dea52df"
      },
      "outputs": [
        {
          "output_type": "stream",
          "name": "stdout",
          "text": [
            "111\n"
          ]
        }
      ],
      "source": [
        "max_len_dev, tk, stc = longest_gloss(lemmatized_glosses_text_dev)\n",
        "print(max_len_dev)"
      ],
      "id": "d99fdcb0"
    },
    {
      "cell_type": "code",
      "execution_count": 18,
      "metadata": {
        "colab": {
          "base_uri": "https://localhost:8080/"
        },
        "id": "0f44ec59",
        "outputId": "82487845-a1e0-4ca9-c2db-2623ef503a68"
      },
      "outputs": [
        {
          "output_type": "stream",
          "name": "stdout",
          "text": [
            "24089\n"
          ]
        }
      ],
      "source": [
        "max_tokens = len(list(lemm2Idx))\n",
        "print(max_tokens)\n",
        "max_tokens_dev = len(lemm2Idx_dev)\n",
        "\n",
        "max_len = 149\n",
        "max_len_dev = 111\n",
        "vectorize_layer = TextVectorization(\n",
        "    # Max vocab size. Any words outside of the max_tokens most common ones\n",
        "    # will be treated the same way: as \"out of vocabulary\" (OOV) tokens.\n",
        "    max_tokens=24091,\n",
        "    # Output integer indices, one per string token\n",
        "    output_mode=\"int\",\n",
        "    # Always pad or truncate to exactly this many tokens\n",
        "    output_sequence_length=max_len\n",
        ")"
      ],
      "id": "0f44ec59"
    },
    {
      "cell_type": "code",
      "execution_count": 19,
      "metadata": {
        "id": "25e8c404"
      },
      "outputs": [],
      "source": [
        "# Call adapt(), which fits the TextVectorization layer to our text dataset.\n",
        "# This is when the max_tokens most common words (i.e. the vocabulary) are selected.\n",
        "vectorize_layer.adapt(np.array(list(idx2Lemm.values())))"
      ],
      "id": "25e8c404"
    },
    {
      "cell_type": "code",
      "execution_count": null,
      "metadata": {
        "id": "8748ab0e"
      },
      "outputs": [],
      "source": [
        "with open(\"/content/drive/My Drive/Datasets/Data_semEval2022/vocab_file.json\", \"r\", encoding=\"utf8\") as vocabulary_file:\n",
        "    vocab = json.load(vocabulary_file)"
      ],
      "id": "8748ab0e"
    },
    {
      "cell_type": "code",
      "execution_count": null,
      "metadata": {
        "colab": {
          "base_uri": "https://localhost:8080/"
        },
        "id": "9b5f7158",
        "outputId": "327ca711-9379-4409-b9d1-6c8b39a7a349"
      },
      "outputs": [
        {
          "name": "stderr",
          "output_type": "stream",
          "text": [
            "/usr/local/lib/python3.7/dist-packages/sklearn/feature_extraction/text.py:1323: UserWarning: Upper case characters found in vocabulary while 'lowercase' is True. These entries will not be matched with any documents\n",
            "  \"Upper case characters found in\"\n"
          ]
        },
        {
          "data": {
            "text/plain": [
              "TfidfTransformer()"
            ]
          },
          "execution_count": 21,
          "metadata": {},
          "output_type": "execute_result"
        }
      ],
      "source": [
        "vectorizer = TfidfVectorizer(vocabulary = list(idx2Lemm.values()))\n",
        "vecteur = vectorizer.fit_transform(lemmatized_glosses_text)\n",
        "\n",
        "tfidf_transformer=TfidfTransformer(smooth_idf=True,use_idf=True) \n",
        "tfidf_transformer.fit(vecteur)"
      ],
      "id": "9b5f7158"
    },
    {
      "cell_type": "code",
      "execution_count": null,
      "metadata": {
        "colab": {
          "base_uri": "https://localhost:8080/"
        },
        "id": "_oWcaYQ3VNzj",
        "outputId": "a15e0279-c09e-43ea-f04b-9a171c7cf386"
      },
      "outputs": [
        {
          "name": "stdout",
          "output_type": "stream",
          "text": [
            "vocab 24053\n",
            "idx 24089\n",
            "22609\n"
          ]
        }
      ],
      "source": [
        "print(\"vocab\",len(vocab['idf_weights']))\n",
        "print(\"idx\", len(list(idx2Lemm.values())))\n",
        "print(vectorize_layer.vocabulary_size())"
      ],
      "id": "_oWcaYQ3VNzj"
    },
    {
      "cell_type": "code",
      "execution_count": null,
      "metadata": {
        "colab": {
          "base_uri": "https://localhost:8080/"
        },
        "id": "3336e357",
        "outputId": "cee78d3f-cf44-4907-fc5e-a0cd4b4e1deb"
      },
      "outputs": [
        {
          "name": "stderr",
          "output_type": "stream",
          "text": [
            "/usr/local/lib/python3.7/dist-packages/sklearn/utils/deprecation.py:87: FutureWarning: Function get_feature_names is deprecated; get_feature_names is deprecated in 1.0 and will be removed in 1.2. Please use get_feature_names_out instead.\n",
            "  warnings.warn(msg, category=FutureWarning)\n"
          ]
        }
      ],
      "source": [
        "vectorize_layer.set_vocabulary(\n",
        "    list(vectorizer.get_feature_names()), idf_weights=None)\n"
      ],
      "id": "3336e357"
    },
    {
      "cell_type": "code",
      "execution_count": null,
      "metadata": {
        "colab": {
          "base_uri": "https://localhost:8080/"
        },
        "id": "fc07d331",
        "outputId": "d7377c3e-321d-4d82-8b83-69f905e4d6e1"
      },
      "outputs": [
        {
          "name": "stdout",
          "output_type": "stream",
          "text": [
            "par\n"
          ]
        }
      ],
      "source": [
        "print(np.array(list(idx2Lemm.values())[0]))"
      ],
      "id": "fc07d331"
    },
    {
      "cell_type": "code",
      "execution_count": null,
      "metadata": {
        "id": "33875815"
      },
      "outputs": [],
      "source": [
        "def meanIDFweights(x):\n",
        "    return embed(tf.squeeze(tf.cast(x, tf.string)), \n",
        "    \tsignature=\"default\", as_dict=True)[\"default\"]"
      ],
      "id": "33875815"
    },
    {
      "cell_type": "markdown",
      "metadata": {
        "id": "3a64ca10"
      },
      "source": [
        "### Construction du modèle"
      ],
      "id": "3a64ca10"
    },
    {
      "cell_type": "code",
      "execution_count": 21,
      "metadata": {
        "id": "qqBlEmP9xb1B"
      },
      "outputs": [],
      "source": [
        "import tensorflow_addons as tfa\n",
        "step = tf.Variable(0, trainable=False)\n",
        "schedule = tf.optimizers.schedules.PiecewiseConstantDecay(\n",
        "    [10000, 15000], [1e-0, 1e-1, 1e-2])\n",
        "# lr and wd can be a function or a tensor\n",
        "\n",
        "lr = 1e-1 * schedule(step)\n",
        "\n",
        "learning_rate=1e-3\n",
        "\n",
        "wd = lambda: 1e-4 * schedule(step)\n",
        "\n",
        "weight_decay=1e-6,\n",
        "\n",
        "optimizer = tfa.optimizers.AdamW(learning_rate=learning_rate, weight_decay=weight_decay)"
      ],
      "id": "qqBlEmP9xb1B"
    },
    {
      "cell_type": "code",
      "execution_count": 23,
      "metadata": {
        "id": "374b3648"
      },
      "outputs": [],
      "source": [
        "import torch.optim as optim\n",
        "\n",
        "opt = keras.optimizers.Adam(learning_rate=0.01)"
      ],
      "id": "374b3648"
    },
    {
      "cell_type": "code",
      "execution_count": 22,
      "metadata": {
        "id": "97206c4d"
      },
      "outputs": [],
      "source": [
        "model = Sequential()\n",
        "model.add(Input(shape=(1,), dtype=\"string\"))"
      ],
      "id": "97206c4d"
    },
    {
      "cell_type": "code",
      "execution_count": 23,
      "metadata": {
        "id": "beb5c57f"
      },
      "outputs": [],
      "source": [
        "model.add(vectorize_layer)"
      ],
      "id": "beb5c57f"
    },
    {
      "cell_type": "code",
      "execution_count": 24,
      "metadata": {
        "id": "a0dde3ec",
        "colab": {
          "base_uri": "https://localhost:8080/"
        },
        "outputId": "c232b010-b1d7-4a8f-cdda-0d8ba8782906"
      },
      "outputs": [
        {
          "output_type": "stream",
          "name": "stdout",
          "text": [
            "WARNING:tensorflow:Layer lstm_1 will not use cuDNN kernels since it doesn't meet the criteria. It will use a generic GPU kernel as fallback when running on GPU.\n"
          ]
        }
      ],
      "source": [
        "from tensorflow.keras import layers\n",
        "# Note that we're using max_tokens + 1 here, since there's an\n",
        "# out-of-vocabulary (OOV) token that gets added to the vocab.\n",
        "\n",
        "len_gloses = 43608\n",
        "\n",
        "model.add(Embedding(max_tokens + 1, 128))\n",
        "\n",
        "model.add(Dense(128))\n",
        "\n",
        "model.add(Bidirectional(LSTM(units=192, return_sequences=True), merge_mode = 'ave'))\n",
        "\n",
        "model.add(Dense(192))\n",
        "\n",
        "model.add(LSTM(units=256, return_sequences=False, activation = \"softmax\"))\n",
        "\n",
        "\n",
        "model.add(Dense(256))"
      ],
      "id": "a0dde3ec"
    },
    {
      "cell_type": "code",
      "execution_count": 25,
      "metadata": {
        "colab": {
          "base_uri": "https://localhost:8080/"
        },
        "id": "05ec90f7",
        "outputId": "d59e4aa9-8ed6-4ad0-8f12-1077bf051d3c"
      },
      "outputs": [
        {
          "output_type": "stream",
          "name": "stdout",
          "text": [
            "Model: \"sequential\"\n",
            "_________________________________________________________________\n",
            " Layer (type)                Output Shape              Param #   \n",
            "=================================================================\n",
            " text_vectorization (TextVec  (None, 149)              0         \n",
            " torization)                                                     \n",
            "                                                                 \n",
            " embedding (Embedding)       (None, 149, 128)          3083520   \n",
            "                                                                 \n",
            " dense (Dense)               (None, 149, 128)          16512     \n",
            "                                                                 \n",
            " bidirectional (Bidirectiona  (None, 149, 192)         493056    \n",
            " l)                                                              \n",
            "                                                                 \n",
            " dense_1 (Dense)             (None, 149, 192)          37056     \n",
            "                                                                 \n",
            " lstm_1 (LSTM)               (None, 256)               459776    \n",
            "                                                                 \n",
            " dense_2 (Dense)             (None, 256)               65792     \n",
            "                                                                 \n",
            "=================================================================\n",
            "Total params: 4,155,712\n",
            "Trainable params: 4,155,712\n",
            "Non-trainable params: 0\n",
            "_________________________________________________________________\n"
          ]
        }
      ],
      "source": [
        " model.compile(\n",
        "    optimizer=optimizer,\n",
        "    loss='mse',\n",
        "    metrics=['accuracy'],\n",
        ")\n",
        "\n",
        "model.summary()"
      ],
      "id": "05ec90f7"
    },
    {
      "cell_type": "markdown",
      "metadata": {
        "id": "2f7c5b75"
      },
      "source": [
        "### Entraînement du modèle"
      ],
      "id": "2f7c5b75"
    },
    {
      "cell_type": "code",
      "execution_count": 27,
      "metadata": {
        "colab": {
          "base_uri": "https://localhost:8080/"
        },
        "id": "81f1324c",
        "outputId": "fd45c7d1-2962-43a0-db8b-50d796a56cc7"
      },
      "outputs": [
        {
          "output_type": "stream",
          "name": "stdout",
          "text": [
            "Epoch 1/25\n",
            "228/228 [==============================] - 86s 347ms/step - loss: 0.7116 - accuracy: 2.5225e-04 - val_loss: 0.6091 - val_accuracy: 1.5686e-04\n",
            "Epoch 2/25\n",
            "228/228 [==============================] - 73s 318ms/step - loss: 0.5621 - accuracy: 2.2932e-05 - val_loss: 0.5196 - val_accuracy: 0.0000e+00\n",
            "Epoch 3/25\n",
            "228/228 [==============================] - 72s 317ms/step - loss: 0.4958 - accuracy: 0.5483 - val_loss: 0.4701 - val_accuracy: 0.7514\n",
            "Epoch 4/25\n",
            "228/228 [==============================] - 74s 326ms/step - loss: 0.4565 - accuracy: 0.7580 - val_loss: 0.4387 - val_accuracy: 0.7514\n",
            "Epoch 5/25\n",
            "228/228 [==============================] - 75s 328ms/step - loss: 0.4306 - accuracy: 0.7580 - val_loss: 0.4174 - val_accuracy: 0.7514\n",
            "Epoch 6/25\n",
            "228/228 [==============================] - 73s 321ms/step - loss: 0.4127 - accuracy: 0.7580 - val_loss: 0.4024 - val_accuracy: 0.7514\n",
            "Epoch 7/25\n",
            "228/228 [==============================] - 73s 318ms/step - loss: 0.4000 - accuracy: 0.7580 - val_loss: 0.3916 - val_accuracy: 0.7514\n",
            "Epoch 8/25\n",
            "228/228 [==============================] - 74s 323ms/step - loss: 0.3907 - accuracy: 0.7580 - val_loss: 0.3837 - val_accuracy: 0.7514\n",
            "Epoch 9/25\n",
            "228/228 [==============================] - 73s 321ms/step - loss: 0.3839 - accuracy: 0.7580 - val_loss: 0.3779 - val_accuracy: 0.7514\n",
            "Epoch 10/25\n",
            "228/228 [==============================] - 75s 328ms/step - loss: 0.3790 - accuracy: 0.7580 - val_loss: 0.3737 - val_accuracy: 0.7514\n",
            "Epoch 11/25\n",
            "228/228 [==============================] - 74s 323ms/step - loss: 0.3754 - accuracy: 0.7580 - val_loss: 0.3707 - val_accuracy: 0.7514\n",
            "Epoch 12/25\n",
            "228/228 [==============================] - 74s 323ms/step - loss: 0.3728 - accuracy: 0.7580 - val_loss: 0.3685 - val_accuracy: 0.7514\n",
            "Epoch 13/25\n",
            "228/228 [==============================] - 77s 336ms/step - loss: 0.3710 - accuracy: 0.7580 - val_loss: 0.3671 - val_accuracy: 0.7514\n",
            "Epoch 14/25\n",
            "228/228 [==============================] - 75s 330ms/step - loss: 0.3698 - accuracy: 0.7580 - val_loss: 0.3661 - val_accuracy: 0.7514\n",
            "Epoch 15/25\n",
            "228/228 [==============================] - 74s 324ms/step - loss: 0.3691 - accuracy: 0.7580 - val_loss: 0.3655 - val_accuracy: 0.7514\n",
            "Epoch 16/25\n",
            "228/228 [==============================] - 73s 322ms/step - loss: 0.3686 - accuracy: 0.7580 - val_loss: 0.3651 - val_accuracy: 0.7514\n",
            "Epoch 17/25\n",
            "228/228 [==============================] - 73s 321ms/step - loss: 0.3683 - accuracy: 0.7580 - val_loss: 0.3649 - val_accuracy: 0.7514\n",
            "Epoch 18/25\n",
            "228/228 [==============================] - 74s 325ms/step - loss: 0.3681 - accuracy: 0.7580 - val_loss: 0.3648 - val_accuracy: 0.7514\n",
            "Epoch 19/25\n",
            "228/228 [==============================] - 75s 327ms/step - loss: 0.3680 - accuracy: 0.7580 - val_loss: 0.3648 - val_accuracy: 0.7514\n",
            "Epoch 20/25\n",
            "228/228 [==============================] - 74s 322ms/step - loss: 0.3680 - accuracy: 0.7580 - val_loss: 0.3647 - val_accuracy: 0.7514\n",
            "Epoch 21/25\n",
            "228/228 [==============================] - 72s 316ms/step - loss: 0.3680 - accuracy: 0.7580 - val_loss: 0.3647 - val_accuracy: 0.7514\n",
            "Epoch 22/25\n",
            "228/228 [==============================] - 72s 317ms/step - loss: 0.3680 - accuracy: 0.7580 - val_loss: 0.3647 - val_accuracy: 0.7514\n",
            "Epoch 23/25\n",
            "228/228 [==============================] - 73s 319ms/step - loss: 0.3680 - accuracy: 0.7580 - val_loss: 0.3647 - val_accuracy: 0.7514\n",
            "Epoch 24/25\n",
            "228/228 [==============================] - 73s 320ms/step - loss: 0.3680 - accuracy: 0.7580 - val_loss: 0.3647 - val_accuracy: 0.7514\n",
            "Epoch 25/25\n",
            "228/228 [==============================] - 73s 321ms/step - loss: 0.3680 - accuracy: 0.7580 - val_loss: 0.3647 - val_accuracy: 0.7514\n"
          ]
        }
      ],
      "source": [
        "with tf.device('/device:GPU:0'):\n",
        "  history = model.fit(lemmatized_glosses_text, sgns,\n",
        "                    epochs=25,\n",
        "                    batch_size=192,\n",
        "                    validation_data=(lemmatized_glosses_text_dev,  sgns_dev))"
      ],
      "id": "81f1324c"
    },
    {
      "cell_type": "code",
      "execution_count": 28,
      "metadata": {
        "colab": {
          "base_uri": "https://localhost:8080/",
          "height": 545
        },
        "id": "ff51800e",
        "outputId": "7ff7816e-b8a0-443c-90bd-5cbb112f60f9"
      },
      "outputs": [
        {
          "output_type": "display_data",
          "data": {
            "image/png": "[encoded data removed]",
            "text/plain": [
              "<Figure size 432x288 with 1 Axes>"
            ]
          },
          "metadata": {
            "needs_background": "light"
          }
        },
        {
          "output_type": "display_data",
          "data": {
            "image/png": "[encoded data removed]",
            "text/plain": [
              "<Figure size 432x288 with 1 Axes>"
            ]
          },
          "metadata": {
            "needs_background": "light"
          }
        }
      ],
      "source": [
        "#Visualisation des résultats de l'entraînement.\n",
        "import matplotlib.pyplot as plt\n",
        "\n",
        "acc = history.history['accuracy']\n",
        "val_acc = history.history['val_accuracy']\n",
        "loss = history.history['loss']\n",
        "val_loss = history.history['val_loss']\n",
        "\n",
        "epochs = range(1, len(acc) + 1)\n",
        "\n",
        "plt.plot(epochs, acc, 'bo', label='Training acc')\n",
        "plt.plot(epochs, val_acc, 'b', label='Validation acc')\n",
        "plt.title('Training and validation accuracy')\n",
        "plt.legend()\n",
        "\n",
        "plt.figure()\n",
        "\n",
        "plt.plot(epochs, loss, 'bo', label='Training loss')\n",
        "plt.plot(epochs, val_loss, 'b', label='Validation loss')\n",
        "plt.title('Training and validation loss')\n",
        "plt.legend()\n",
        "\n",
        "plt.show()"
      ],
      "id": "ff51800e"
    },
    {
      "cell_type": "code",
      "execution_count": 29,
      "metadata": {
        "id": "KQZk_4rH86t6",
        "colab": {
          "base_uri": "https://localhost:8080/"
        },
        "outputId": "a98a007b-0d74-4984-ea5e-0d12576df998"
      },
      "outputs": [
        {
          "output_type": "stream",
          "name": "stderr",
          "text": [
            "WARNING:absl:Found untraced functions such as lstm_cell_1_layer_call_fn, lstm_cell_1_layer_call_and_return_conditional_losses, lstm_cell_2_layer_call_fn, lstm_cell_2_layer_call_and_return_conditional_losses, lstm_cell_1_layer_call_fn while saving (showing 5 of 10). These functions will not be directly callable after loading.\n"
          ]
        },
        {
          "output_type": "stream",
          "name": "stdout",
          "text": [
            "INFO:tensorflow:Assets written to: new_fr_revdict_model.tf/assets\n"
          ]
        },
        {
          "output_type": "stream",
          "name": "stderr",
          "text": [
            "INFO:tensorflow:Assets written to: new_fr_revdict_model.tf/assets\n",
            "WARNING:absl:<keras.layers.recurrent.LSTMCell object at 0x7f91ac061a90> has the same name 'LSTMCell' as a built-in Keras object. Consider renaming <class 'keras.layers.recurrent.LSTMCell'> to avoid naming conflicts when loading with `tf.keras.models.load_model`. If renaming is not possible, pass the object in the `custom_objects` parameter of the load function.\n",
            "WARNING:absl:<keras.layers.recurrent.LSTMCell object at 0x7f91ac2578d0> has the same name 'LSTMCell' as a built-in Keras object. Consider renaming <class 'keras.layers.recurrent.LSTMCell'> to avoid naming conflicts when loading with `tf.keras.models.load_model`. If renaming is not possible, pass the object in the `custom_objects` parameter of the load function.\n",
            "WARNING:absl:<keras.layers.recurrent.LSTMCell object at 0x7f91ac21e190> has the same name 'LSTMCell' as a built-in Keras object. Consider renaming <class 'keras.layers.recurrent.LSTMCell'> to avoid naming conflicts when loading with `tf.keras.models.load_model`. If renaming is not possible, pass the object in the `custom_objects` parameter of the load function.\n"
          ]
        }
      ],
      "source": [
        "#sauvegarde du modèle\n",
        "model.save('new_fr_revdict_model.tf')"
      ],
      "id": "KQZk_4rH86t6"
    },
    {
      "cell_type": "markdown",
      "metadata": {
        "id": "185fe5e0"
      },
      "source": [
        "\n",
        "### Test du modèle sur les données Trial"
      ],
      "id": "185fe5e0"
    },
    {
      "cell_type": "code",
      "execution_count": 118,
      "metadata": {
        "id": "7191cfdb"
      },
      "outputs": [],
      "source": [
        "with open(\"/content/drive/My Drive/Datasets/Data_semEval2022/Fr_data/fr.trial.complete.json\", \"r\") as file_handler:\n",
        "    dataset_trial = json.load(file_handler)"
      ],
      "id": "7191cfdb"
    },
    {
      "cell_type": "code",
      "execution_count": 119,
      "metadata": {
        "id": "96e503fb"
      },
      "outputs": [],
      "source": [
        "glosses_trial = []\n",
        "for e in dataset_trial :\n",
        "    glosses_trial.append(e[\"gloss\"])"
      ],
      "id": "96e503fb"
    },
    {
      "cell_type": "code",
      "execution_count": 120,
      "metadata": {
        "id": "0bcc6573"
      },
      "outputs": [],
      "source": [
        "sgns_trial = []\n",
        "for e in dataset_trial :\n",
        "    sgns_trial.append(e[\"sgns\"])"
      ],
      "id": "0bcc6573"
    },
    {
      "cell_type": "code",
      "execution_count": 121,
      "metadata": {
        "colab": {
          "base_uri": "https://localhost:8080/"
        },
        "id": "0329df26",
        "outputId": "767fa3ae-7884-4f51-da64-8a2d01ac9a3b"
      },
      "outputs": [
        {
          "output_type": "stream",
          "name": "stdout",
          "text": [
            "7/7 - 0s - loss: 2.2708 - accuracy: 0.0250 - 307ms/epoch - 44ms/step\n"
          ]
        }
      ],
      "source": [
        "scores = model.evaluate(glosses_trial, sgns_trial, verbose=2)"
      ],
      "id": "0329df26"
    },
    {
      "cell_type": "code",
      "execution_count": 122,
      "metadata": {
        "id": "229313da"
      },
      "outputs": [],
      "source": [
        "classes = model.predict(glosses_trial, batch_size=32)"
      ],
      "id": "229313da"
    },
    {
      "cell_type": "code",
      "source": [
        "print(len(classes))"
      ],
      "metadata": {
        "colab": {
          "base_uri": "https://localhost:8080/"
        },
        "id": "p8WYLvoVS66z",
        "outputId": "47adfbeb-0475-4dfd-9b87-480383300806"
      },
      "id": "p8WYLvoVS66z",
      "execution_count": 123,
      "outputs": [
        {
          "output_type": "stream",
          "name": "stdout",
          "text": [
            "200\n"
          ]
        }
      ]
    },
    {
      "cell_type": "code",
      "source": [
        "print(len(classes[0]))"
      ],
      "metadata": {
        "colab": {
          "base_uri": "https://localhost:8080/"
        },
        "id": "aV9Cl17pS9wV",
        "outputId": "1d27ff5b-c5b3-4377-c6c4-11116a1fc864"
      },
      "id": "aV9Cl17pS9wV",
      "execution_count": 124,
      "outputs": [
        {
          "output_type": "stream",
          "name": "stdout",
          "text": [
            "256\n"
          ]
        }
      ]
    },
    {
      "cell_type": "code",
      "source": [
        "results = []\n",
        "\n",
        "prefix_id = \"fr.revdict.trial.\"\n",
        "i = 0\n",
        "for g in glosses_trial :\n",
        "  sample = {}\n",
        "  id = prefix_id + str(i)\n",
        "  sample[\"id\"] = id\n",
        "  sample[\"gloss\"] = g\n",
        "  sample[\"sgns\"] = classes[glosses_trial.index(g)]\n",
        "  results.append(sample)\n",
        "  i+=1\n",
        "\n",
        "# affichage du premier vecteur pour visualiser les résultats produits\n",
        "print(\"vecteur trial ---> prédiction\")\n",
        "for v in sgns[0] :\n",
        "  print(v, \" ---> \", results[0][\"sgns\"][list(sgns[0]).index(v)])\n",
        "\n",
        "#print(len(results))"
      ],
      "metadata": {
        "colab": {
          "base_uri": "https://localhost:8080/"
        },
        "id": "JNQa4rDgT4y5",
        "outputId": "a351d384-a255-476e-eb4b-8038fa29ce2f"
      },
      "id": "JNQa4rDgT4y5",
      "execution_count": 125,
      "outputs": [
        {
          "output_type": "stream",
          "name": "stdout",
          "text": [
            "vecteur trial ---> prédiction\n",
            "-1.8197561502  --->  -0.56618357\n",
            "0.7276539803  --->  0.85050595\n",
            "3.0497694016  --->  1.5324044\n",
            "0.4060807824  --->  0.33401352\n",
            "0.8143484592  --->  0.48414928\n",
            "-0.0318837762  --->  0.12086853\n",
            "0.668138206  --->  1.1185892\n",
            "0.1325415075  --->  -0.17863664\n",
            "0.8312900662  --->  0.44012693\n",
            "0.6226500869  --->  0.763168\n",
            "1.288936615  --->  0.67726016\n",
            "0.1087394431  --->  0.24367034\n",
            "-2.0277197361  --->  -3.835167\n",
            "0.5347809792  --->  0.19123667\n",
            "-0.4531050324  --->  0.15306193\n",
            "-0.131837368  --->  0.109227225\n",
            "0.0606372654  --->  0.31449443\n",
            "0.0607398115  --->  0.052809644\n",
            "0.3923100829  --->  -0.1236882\n",
            "0.0052511543  --->  0.11495325\n",
            "2.78210783  --->  1.4289002\n",
            "-0.2999051213  --->  -0.68992037\n",
            "-0.0685113966  --->  -0.013070984\n",
            "0.0379348397  --->  0.065962136\n",
            "0.1870228946  --->  0.12805273\n",
            "-0.133666575  --->  0.13599919\n",
            "-0.0153277516  --->  0.044802688\n",
            "0.1531549692  --->  0.3001734\n",
            "-0.0749418363  --->  -0.03341917\n",
            "-0.421436429  --->  -0.27521187\n",
            "0.0716482624  --->  0.39036676\n",
            "0.0143585801  --->  0.16860259\n",
            "0.6146503687  --->  0.4815088\n",
            "0.265817672  --->  0.14817041\n",
            "-0.1776838899  --->  0.20572805\n",
            "0.5613184571  --->  0.38689715\n",
            "1.1903580427  --->  0.77388024\n",
            "-0.2100994587  --->  0.045913313\n",
            "-0.0302717686  --->  0.49943548\n",
            "0.0041928999  --->  0.04140809\n",
            "1.7841306925  --->  0.5608992\n",
            "1.1430149078  --->  0.7202835\n",
            "0.7226865292  --->  0.47550446\n",
            "0.5738949776  --->  0.08295953\n",
            "0.6621812582  --->  0.6644289\n",
            "0.5124361515  --->  0.51341814\n",
            "1.2592043877  --->  1.5352374\n",
            "0.0094160894  --->  0.04210247\n",
            "0.2491471767  --->  0.3550313\n",
            "0.079510577  --->  0.39930475\n",
            "-0.069542028  --->  0.25115976\n",
            "-0.0624940023  --->  0.036994472\n",
            "0.3312378526  --->  0.07204068\n",
            "0.8702610135  --->  0.7647462\n",
            "0.3980232179  --->  0.1569091\n",
            "0.6601880789  --->  -0.17427348\n",
            "0.5672385097  --->  0.40518904\n",
            "0.2195359021  --->  0.21100771\n",
            "0.0467442237  --->  0.094602\n",
            "0.0828230977  --->  0.23808324\n",
            "-0.1831853837  --->  -0.053781264\n",
            "-0.0429206789  --->  0.013966249\n",
            "0.7404754758  --->  0.70635855\n",
            "-0.1593320966  --->  0.022874625\n",
            "0.6098679304  --->  0.24075612\n",
            "0.9227616787  --->  0.51095873\n",
            "0.1512826085  --->  -0.5922659\n",
            "0.6004896164  --->  0.29870397\n",
            "0.4185731709  --->  0.07920034\n",
            "0.1496121138  --->  0.18356232\n",
            "2.1474158764  --->  0.90395665\n",
            "1.8761901855  --->  0.46145695\n",
            "0.4957919717  --->  0.6963974\n",
            "-0.013034475  --->  0.13403971\n",
            "0.102356635  --->  -0.02772233\n",
            "-0.6986761689  --->  -0.335465\n",
            "0.2155267894  --->  0.022361446\n",
            "-0.2759191394  --->  0.028743396\n",
            "0.2431146502  --->  0.118513495\n",
            "0.7830861807  --->  0.610561\n",
            "-0.4402488172  --->  -0.03416822\n",
            "0.3696306348  --->  0.11858183\n",
            "0.7564896345  --->  0.5461279\n",
            "1.3409228325  --->  -0.44855928\n",
            "-0.21702075  --->  -0.2668329\n",
            "0.4242992997  --->  0.36800343\n",
            "0.5762053132  --->  0.4776587\n",
            "0.9932281375  --->  1.0349168\n",
            "-0.0930695757  --->  -0.018475777\n",
            "0.3767217994  --->  -0.04976211\n",
            "-0.0466013178  --->  0.25684738\n",
            "-0.0069853156  --->  0.2759993\n",
            "-0.1278905869  --->  0.054876894\n",
            "0.0796500593  --->  0.06532054\n",
            "0.6424105167  --->  0.47335058\n",
            "-0.1750482619  --->  -0.19731489\n",
            "0.6676760316  --->  0.433783\n",
            "0.0926258042  --->  0.07850239\n",
            "0.5946621895  --->  0.6846135\n",
            "-0.4971374869  --->  -0.24109054\n",
            "0.3093679249  --->  0.28222662\n",
            "-0.2785630524  --->  0.16297403\n",
            "0.7992183566  --->  0.43660778\n",
            "0.4055638909  --->  0.5139441\n",
            "-0.0392638519  --->  0.45876855\n",
            "0.0167171806  --->  0.19794096\n",
            "-0.0551082455  --->  0.03686691\n",
            "0.7433766127  --->  0.44442546\n",
            "-0.0951145366  --->  -0.05160613\n",
            "0.2659043074  --->  0.33972335\n",
            "-0.1699528992  --->  -0.10113336\n",
            "0.1056723669  --->  0.48583195\n",
            "0.0308060646  --->  0.3224742\n",
            "0.1422925442  --->  0.24115416\n",
            "-0.5118705034  --->  0.050805785\n",
            "2.3636009693  --->  1.4815075\n",
            "0.7202154994  --->  0.08328587\n",
            "0.762404263  --->  0.3367613\n",
            "0.0431984849  --->  -0.13328435\n",
            "0.6925438643  --->  0.30467555\n",
            "0.1117774621  --->  0.08816922\n",
            "-0.318613559  --->  0.09585446\n",
            "0.3106302321  --->  0.20286086\n",
            "1.0891399384  --->  0.46390206\n",
            "0.0007777845  --->  0.13767439\n",
            "0.2752161622  --->  0.1472828\n",
            "0.8588932157  --->  0.68190205\n",
            "-0.0265640933  --->  0.05802258\n",
            "0.1435371786  --->  0.2447803\n",
            "0.1500160396  --->  -0.2768358\n",
            "-0.3035316467  --->  -0.0994021\n",
            "0.6825712323  --->  0.53999794\n",
            "0.8102430701  --->  0.639734\n",
            "-0.3386207223  --->  -0.06147104\n",
            "0.6275415421  --->  0.063587144\n",
            "4.2764468193  --->  2.407258\n",
            "0.3554039299  --->  0.17560941\n",
            "0.0184889287  --->  0.12021163\n",
            "0.4679015875  --->  -0.06689711\n",
            "-0.0419803336  --->  0.034983538\n",
            "-0.0019397885  --->  0.056919508\n",
            "2.1133258343  --->  2.699253\n",
            "-0.1264416575  --->  -0.015958834\n",
            "0.1056635976  --->  0.22079647\n",
            "0.3095546961  --->  0.044856716\n",
            "1.474255681  --->  0.089520015\n",
            "-1.0921304226  --->  -0.2749149\n",
            "-0.2322766334  --->  0.3394432\n",
            "3.7332963943  --->  2.1842494\n",
            "-0.2622954249  --->  -0.6299434\n",
            "-2.1162891388  --->  -0.8775468\n",
            "0.1325690746  --->  0.17493641\n",
            "0.3516433239  --->  0.59325236\n",
            "0.1954336762  --->  0.30863136\n",
            "-0.2589794993  --->  0.01450677\n",
            "0.5275376439  --->  0.12224029\n",
            "0.6751707196  --->  0.3571549\n",
            "0.5359255672  --->  0.5262623\n",
            "-0.0045321523  --->  0.22800097\n",
            "-0.0543433577  --->  0.05104756\n",
            "-0.9407280684  --->  0.9569929\n",
            "-0.0545341186  --->  -0.06639906\n",
            "2.1303393841  --->  2.2153645\n",
            "0.6373624802  --->  0.46633983\n",
            "0.5987221599  --->  0.7978651\n",
            "0.4112790823  --->  0.49252117\n",
            "3.3275651932  --->  2.0127437\n",
            "-0.1462489367  --->  0.11664882\n",
            "0.060033612  --->  0.086355366\n",
            "0.4150481522  --->  -0.26716584\n",
            "0.2114526182  --->  0.120621935\n",
            "0.5440438986  --->  0.52510333\n",
            "0.418987453  --->  0.50297284\n",
            "0.2652510703  --->  0.45755726\n",
            "0.6167805791  --->  0.3881484\n",
            "-0.9712306261  --->  0.35091364\n",
            "0.4349607825  --->  0.30996266\n",
            "1.9708586931  --->  0.9405849\n",
            "6.307387352  --->  5.035438\n",
            "0.2796083391  --->  0.07802233\n",
            "0.5689104199  --->  0.26102868\n",
            "-0.028945988  --->  0.08485851\n",
            "0.1195732355  --->  0.31107235\n",
            "-1.0259013176  --->  -0.8378412\n",
            "0.8147210479  --->  1.0910509\n",
            "1.1857390404  --->  1.3546901\n",
            "0.7295306325  --->  0.7524202\n",
            "1.9935182333  --->  0.878207\n",
            "1.0821735859  --->  0.2910858\n",
            "-0.0370016024  --->  0.45771107\n",
            "0.0345378518  --->  0.057933506\n",
            "2.1356031895  --->  1.0732007\n",
            "-0.003243306  --->  0.12802052\n",
            "-0.1440970451  --->  0.009074131\n",
            "0.2089400291  --->  0.09000627\n",
            "-0.1219764575  --->  -0.030734569\n",
            "0.0183103681  --->  0.1820094\n",
            "-0.9932298064  --->  -0.7903222\n",
            "-0.2220058292  --->  -0.1898869\n",
            "-0.0379372537  --->  0.014747793\n",
            "0.0862207562  --->  0.21975261\n",
            "0.033011023  --->  0.10075462\n",
            "0.3006061614  --->  0.66347593\n",
            "0.272106111  --->  0.024675107\n",
            "0.0826291069  --->  0.31745082\n",
            "0.4255365431  --->  0.3061395\n",
            "-0.1308232844  --->  0.049730342\n",
            "0.030452203  --->  0.04923323\n",
            "0.0004417896  --->  0.10237035\n",
            "-0.1711716056  --->  -0.05340933\n",
            "-0.6690840125  --->  0.024164997\n",
            "2.0297043324  --->  1.6989739\n",
            "0.6826215386  --->  0.7919094\n",
            "0.1414508075  --->  0.48692745\n",
            "0.2136532664  --->  0.48332137\n",
            "0.0912434161  --->  -0.008661389\n",
            "0.7626307011  --->  1.1816299\n",
            "0.4680898786  --->  0.7646057\n",
            "1.4031615257  --->  0.6413406\n",
            "0.2819586992  --->  0.2163023\n",
            "0.0411323607  --->  -0.027661044\n",
            "0.2974505424  --->  0.21913333\n",
            "2.2897229195  --->  1.4526521\n",
            "0.1648658961  --->  0.17039895\n",
            "0.0820342228  --->  0.20196079\n",
            "-0.2573749125  --->  -0.08993438\n",
            "-0.0793955922  --->  -0.12498063\n",
            "-0.7727851272  --->  -0.48009583\n",
            "-0.0194298569  --->  -0.011391848\n",
            "0.4300764203  --->  1.2344432\n",
            "0.517611742  --->  0.27246696\n",
            "0.8093191981  --->  0.6344781\n",
            "1.2483017445  --->  1.2733967\n",
            "0.6685660481  --->  0.30654633\n",
            "0.0393269211  --->  0.09645282\n",
            "-0.1857946217  --->  0.093787454\n",
            "-0.894446969  --->  -0.06674323\n",
            "-0.1769579947  --->  0.32476836\n",
            "0.4465737045  --->  0.51477975\n",
            "-0.1598592252  --->  -0.05399047\n",
            "-1.2234176397  --->  -0.41594934\n",
            "0.3965913057  --->  0.2951831\n",
            "0.7379037142  --->  0.7509972\n",
            "0.7572270036  --->  0.19689772\n",
            "-0.0207271706  --->  0.030878419\n",
            "0.1211190224  --->  -0.06490555\n",
            "-1.6277546883  --->  -0.05587127\n",
            "0.8817640543  --->  0.6025734\n",
            "0.3571366668  --->  0.44530255\n",
            "0.0367512181  --->  0.25160062\n",
            "-0.0005055233  --->  0.4048742\n",
            "0.0469065309  --->  0.38884807\n",
            "-0.6285753846  --->  -0.043318234\n",
            "0.691163063  --->  0.46137106\n",
            "0.1966855228  --->  0.34447613\n",
            "-0.2303723693  --->  -0.0042263735\n"
          ]
        }
      ]
    },
    {
      "cell_type": "code",
      "source": [
        "import pandas as pd\n",
        "pd.Series(results).to_json(\"/content/drive/My Drive/Datasets/Data_semEval2022/Results/fr_revdict_results_prediction_trial.json\", orient='values')"
      ],
      "metadata": {
        "id": "RoS8voONGr5r"
      },
      "id": "RoS8voONGr5r",
      "execution_count": 126,
      "outputs": []
    },
    {
      "cell_type": "markdown",
      "metadata": {
        "id": "641929d8"
      },
      "source": [
        "### Calcule des métriques d'évaluation"
      ],
      "id": "641929d8"
    },
    {
      "cell_type": "code",
      "execution_count": 127,
      "metadata": {
        "id": "6144a0db"
      },
      "outputs": [],
      "source": [
        "import torch.nn.functional as F\n",
        "import torch\n",
        "\n",
        "classes_tensor = torch.tensor(classes)\n",
        "sgns_trial_tensor = torch.tensor(sgns_trial)"
      ],
      "id": "6144a0db"
    },
    {
      "cell_type": "code",
      "execution_count": 128,
      "metadata": {
        "id": "89083a05"
      },
      "outputs": [],
      "source": [
        "cos_sim = F.cosine_similarity(classes_tensor, sgns_trial_tensor).mean().item()"
      ],
      "id": "89083a05"
    },
    {
      "cell_type": "code",
      "execution_count": 129,
      "metadata": {
        "colab": {
          "base_uri": "https://localhost:8080/"
        },
        "id": "4c5613a8",
        "outputId": "5fe597ca-e3da-4d20-e4c4-084029ba6df6"
      },
      "outputs": [
        {
          "output_type": "stream",
          "name": "stdout",
          "text": [
            "-0.0008589401841163635\n"
          ]
        }
      ],
      "source": [
        "print(cos_sim)"
      ],
      "id": "4c5613a8"
    },
    {
      "cell_type": "code",
      "execution_count": 130,
      "metadata": {
        "id": "d83108cb"
      },
      "outputs": [],
      "source": [
        "mse = F.mse_loss(classes_tensor, sgns_trial_tensor).item()"
      ],
      "id": "d83108cb"
    },
    {
      "cell_type": "code",
      "execution_count": 131,
      "metadata": {
        "colab": {
          "base_uri": "https://localhost:8080/"
        },
        "id": "528b2191",
        "outputId": "7a310885-4825-40f4-9fb8-910d4eb27cbf"
      },
      "outputs": [
        {
          "output_type": "stream",
          "name": "stdout",
          "text": [
            "2.270761728286743\n"
          ]
        }
      ],
      "source": [
        "print(mse)"
      ],
      "id": "528b2191"
    },
    {
      "cell_type": "code",
      "execution_count": 132,
      "metadata": {
        "id": "b29a01ac"
      },
      "outputs": [],
      "source": [
        "# fonction prise du code de la baseline.\n",
        "def rank_cosine(preds, targets):\n",
        "    unique_targets = targets.unique(dim=0)\n",
        "    all_assocs = preds @ F.normalize(targets).T\n",
        "    unique_assocs = preds @ F.normalize(unique_targets).T\n",
        "    refs = torch.diagonal(all_assocs, 0).unsqueeze(1)\n",
        "    ranks = (unique_assocs >= refs).sum(1).float().mean().item()\n",
        "    return ranks / unique_targets.size(0)"
      ],
      "id": "b29a01ac"
    },
    {
      "cell_type": "code",
      "execution_count": 133,
      "metadata": {
        "id": "e4c527f9"
      },
      "outputs": [],
      "source": [
        "rnk = rank_cosine(classes_tensor, sgns_trial_tensor)"
      ],
      "id": "e4c527f9"
    },
    {
      "cell_type": "code",
      "execution_count": 134,
      "metadata": {
        "colab": {
          "base_uri": "https://localhost:8080/"
        },
        "id": "b816e4c2",
        "outputId": "edc5c50c-1c92-47bd-d42c-19341577e09d"
      },
      "outputs": [
        {
          "output_type": "stream",
          "name": "stdout",
          "text": [
            "0.5047487421850463\n"
          ]
        }
      ],
      "source": [
        "print(rnk)"
      ],
      "id": "b816e4c2"
    },
    {
      "cell_type": "markdown",
      "metadata": {
        "id": "7WUnc1xrlQw2"
      },
      "source": [
        "### Test du modèle sur les données de DEV\n"
      ],
      "id": "7WUnc1xrlQw2"
    },
    {
      "cell_type": "code",
      "source": [
        "scores = model.evaluate(glosses_dev, sgns_dev, verbose=2)"
      ],
      "metadata": {
        "colab": {
          "base_uri": "https://localhost:8080/"
        },
        "id": "OSQ9VCfyKo9p",
        "outputId": "4e3cd9ae-0888-4e8b-ccde-2af81cdd651b"
      },
      "id": "OSQ9VCfyKo9p",
      "execution_count": 135,
      "outputs": [
        {
          "output_type": "stream",
          "name": "stdout",
          "text": [
            "200/200 - 7s - loss: 0.3647 - accuracy: 0.7514 - 7s/epoch - 33ms/step\n"
          ]
        }
      ]
    },
    {
      "cell_type": "code",
      "source": [
        "classes_dev = model.predict(glosses_dev, batch_size=32)"
      ],
      "metadata": {
        "id": "-hUJYloJKztO"
      },
      "id": "-hUJYloJKztO",
      "execution_count": 136,
      "outputs": []
    },
    {
      "cell_type": "code",
      "source": [
        "print(len(classes_dev))"
      ],
      "metadata": {
        "colab": {
          "base_uri": "https://localhost:8080/"
        },
        "id": "OdscNkpSK5wF",
        "outputId": "7b5e9e41-5c17-4e2b-9036-c76331dddf4f"
      },
      "id": "OdscNkpSK5wF",
      "execution_count": 137,
      "outputs": [
        {
          "output_type": "stream",
          "name": "stdout",
          "text": [
            "6375\n"
          ]
        }
      ]
    },
    {
      "cell_type": "code",
      "source": [
        "print(len(classes_dev[0]))"
      ],
      "metadata": {
        "colab": {
          "base_uri": "https://localhost:8080/"
        },
        "id": "NWFlBTTbLBqS",
        "outputId": "795d455a-93e5-4cd9-e242-b960ab5ae0a1"
      },
      "id": "NWFlBTTbLBqS",
      "execution_count": 138,
      "outputs": [
        {
          "output_type": "stream",
          "name": "stdout",
          "text": [
            "256\n"
          ]
        }
      ]
    },
    {
      "cell_type": "code",
      "source": [
        "results_dev = []\n",
        "\n",
        "prefix_id = \"fr.revdict.dev.\"\n",
        "i = 0\n",
        "for g in glosses_dev :\n",
        "  sample = {}\n",
        "  id = prefix_id + str(i)\n",
        "  sample[\"id\"] = id\n",
        "  sample[\"gloss\"] = g\n",
        "  sample[\"sgns\"] = classes_dev[glosses_dev.index(g)]\n",
        "  results_dev.append(sample)\n",
        "  i+=1\n",
        "\n",
        "\n",
        "print(\"vecteur dev ---> prédiction\")\n",
        "for v in sgns_dev[0] :\n",
        "  print(v, \" ---> \", results_dev[0][\"sgns\"][list(sgns_dev[0]).index(v)])"
      ],
      "metadata": {
        "colab": {
          "base_uri": "https://localhost:8080/"
        },
        "id": "zJjXbeUiLJ4V",
        "outputId": "19105ca2-6dc3-4dc7-8ab1-04707bc2f6b2"
      },
      "id": "zJjXbeUiLJ4V",
      "execution_count": 141,
      "outputs": [
        {
          "output_type": "stream",
          "name": "stdout",
          "text": [
            "vecteur dev ---> prédiction\n",
            "0.0130068734  --->  -0.56618357\n",
            "0.6688424349  --->  0.85050595\n",
            "-0.0436479375  --->  1.5324044\n",
            "-0.0079411808  --->  0.33401352\n",
            "-0.0245929956  --->  0.48414928\n",
            "-0.2760707736  --->  0.12086853\n",
            "0.560736239  --->  1.1185892\n",
            "-0.4518419504  --->  -0.17863664\n",
            "0.35933882  --->  0.44012693\n",
            "0.8757936358  --->  0.763168\n",
            "0.8935328722  --->  0.67726016\n",
            "0.3995228112  --->  0.24367034\n",
            "-5.8919038773  --->  -3.835167\n",
            "-0.4046234488  --->  0.19123667\n",
            "1.1598460674  --->  0.15306193\n",
            "-0.4411924779  --->  0.109227225\n",
            "1.2142043114  --->  0.31449443\n",
            "0.0324933156  --->  0.052809644\n",
            "-0.3487933874  --->  -0.1236882\n",
            "-0.0569673069  --->  0.11495325\n",
            "0.9960999489  --->  1.4289002\n",
            "-0.5367333293  --->  -0.68992037\n",
            "-0.063915059  --->  -0.013070984\n",
            "0.0420465581  --->  0.065962136\n",
            "0.0972432643  --->  0.12805273\n",
            "0.2754342258  --->  0.13599919\n",
            "6.39558e-05  --->  0.044802688\n",
            "1.1848087311  --->  0.3001734\n",
            "-0.0954852402  --->  -0.03341917\n",
            "-0.4623927474  --->  -0.27521187\n",
            "0.6340706944  --->  0.39036676\n",
            "0.148659274  --->  0.16860259\n",
            "0.8979475498  --->  0.4815088\n",
            "0.5380007029  --->  0.14817041\n",
            "0.0371826291  --->  0.20572805\n",
            "-0.1578467339  --->  0.38689715\n",
            "1.4150595665  --->  0.77388024\n",
            "0.2152204514  --->  0.045913313\n",
            "-0.2531134486  --->  0.49943548\n",
            "0.3252902627  --->  0.04140809\n",
            "0.3636451662  --->  0.5608992\n",
            "0.686185956  --->  0.7202835\n",
            "0.7433989048  --->  0.47550446\n",
            "0.1856938004  --->  0.08295953\n",
            "-0.2864089012  --->  0.6644289\n",
            "1.0593255758  --->  0.51341814\n",
            "1.5476950407  --->  1.5352374\n",
            "0.0812008753  --->  0.04210247\n",
            "-0.3634628952  --->  0.3550313\n",
            "0.6176803112  --->  0.39930475\n",
            "0.0133411055  --->  0.25115976\n",
            "0.1658998132  --->  0.036994472\n",
            "0.0805446953  --->  0.07204068\n",
            "0.1768769473  --->  0.7647462\n",
            "0.2637092173  --->  0.1569091\n",
            "0.4806803465  --->  -0.17427348\n",
            "0.2739515603  --->  0.40518904\n",
            "0.8621413112  --->  0.21100771\n",
            "0.0985340104  --->  0.094602\n",
            "-0.508060813  --->  0.23808324\n",
            "-0.2074131817  --->  -0.053781264\n",
            "-0.8160492182  --->  0.013966249\n",
            "0.6048172712  --->  0.70635855\n",
            "0.0984113812  --->  0.022874625\n",
            "0.526889503  --->  0.24075612\n",
            "-0.071560137  --->  0.51095873\n",
            "1.1260457039  --->  -0.5922659\n",
            "0.3389641047  --->  0.29870397\n",
            "-0.5835232139  --->  0.07920034\n",
            "0.3775976002  --->  0.18356232\n",
            "1.7370480299  --->  0.90395665\n",
            "-1.1881892681  --->  0.46145695\n",
            "-0.0215028618  --->  0.6963974\n",
            "-0.034543965  --->  0.13403971\n",
            "0.6935226917  --->  -0.02772233\n",
            "-0.5955302119  --->  -0.335465\n",
            "-0.169578284  --->  0.022361446\n",
            "0.1085060537  --->  0.028743396\n",
            "-1.209800005  --->  0.118513495\n",
            "1.1353151798  --->  0.610561\n",
            "-0.3067951798  --->  -0.03416822\n",
            "0.2428712249  --->  0.11858183\n",
            "0.7588943243  --->  0.5461279\n",
            "-2.3234629631  --->  -0.44855928\n",
            "0.1215087697  --->  -0.2668329\n",
            "0.4514993131  --->  0.36800343\n",
            "0.703722477  --->  0.4776587\n",
            "1.1090329885  --->  1.0349168\n",
            "1.0223776102  --->  -0.018475777\n",
            "-0.1331048012  --->  -0.04976211\n",
            "0.1953838915  --->  0.25684738\n",
            "0.8336465359  --->  0.2759993\n",
            "-0.2590227127  --->  0.054876894\n",
            "0.2660083473  --->  0.06532054\n",
            "1.1544548273  --->  0.47335058\n",
            "0.6929260492  --->  -0.19731489\n",
            "1.9891501665  --->  0.433783\n",
            "0.1984230876  --->  0.07850239\n",
            "0.5117055178  --->  0.6846135\n",
            "0.3110226989  --->  -0.24109054\n",
            "0.2447887957  --->  0.28222662\n",
            "0.3253439665  --->  0.16297403\n",
            "1.5293000937  --->  0.43660778\n",
            "1.8266997337  --->  0.5139441\n",
            "0.3126552105  --->  0.45876855\n",
            "0.1518560499  --->  0.19794096\n",
            "0.2280064672  --->  0.03686691\n",
            "0.847417295  --->  0.44442546\n",
            "0.0066713942  --->  -0.05160613\n",
            "-0.720620811  --->  0.33972335\n",
            "-0.0594935417  --->  -0.10113336\n",
            "0.2748069465  --->  0.48583195\n",
            "0.1600299329  --->  0.3224742\n",
            "0.5562068224  --->  0.24115416\n",
            "-0.3578947484  --->  0.050805785\n",
            "0.8796187043  --->  1.4815075\n",
            "0.1485770047  --->  0.08328587\n",
            "-0.3732048571  --->  0.3367613\n",
            "0.379516989  --->  -0.13328435\n",
            "-0.1556998491  --->  0.30467555\n",
            "0.3007733226  --->  0.08816922\n",
            "-0.0477030016  --->  0.09585446\n",
            "1.3777137995  --->  0.20286086\n",
            "0.6489616036  --->  0.46390206\n",
            "0.3543794751  --->  0.13767439\n",
            "0.0407320932  --->  0.1472828\n",
            "1.178919673  --->  0.68190205\n",
            "0.1468800753  --->  0.05802258\n",
            "0.5912662148  --->  0.2447803\n",
            "0.0605701357  --->  -0.2768358\n",
            "0.155482024  --->  -0.0994021\n",
            "0.6020159721  --->  0.53999794\n",
            "0.3525064588  --->  0.639734\n",
            "0.364415437  --->  -0.06147104\n",
            "0.0851607099  --->  0.063587144\n",
            "-0.5760889053  --->  2.407258\n",
            "0.4619419873  --->  0.17560941\n",
            "0.2861303389  --->  0.12021163\n",
            "-0.850689888  --->  -0.06689711\n",
            "0.0511183888  --->  0.034983538\n",
            "-0.8336540461  --->  0.056919508\n",
            "3.5261693001  --->  2.699253\n",
            "0.1551626027  --->  -0.015958834\n",
            "0.3390872478  --->  0.22079647\n",
            "1.5271636248  --->  0.044856716\n",
            "0.59793365  --->  0.089520015\n",
            "-1.1978234053  --->  -0.2749149\n",
            "1.4109339714  --->  0.3394432\n",
            "0.4373277128  --->  2.1842494\n",
            "0.2136231661  --->  -0.6299434\n",
            "-0.4630836546  --->  -0.8775468\n",
            "0.1283022165  --->  0.17493641\n",
            "0.4037312865  --->  0.59325236\n",
            "0.5834207535  --->  0.30863136\n",
            "1.0331090689  --->  0.01450677\n",
            "-0.5324486494  --->  0.12224029\n",
            "0.6766668558  --->  0.3571549\n",
            "0.5507098436  --->  0.5262623\n",
            "0.5502753854  --->  0.22800097\n",
            "0.5381723642  --->  0.05104756\n",
            "1.1616790295  --->  0.9569929\n",
            "0.0411170833  --->  -0.06639906\n",
            "2.3557302952  --->  2.2153645\n",
            "0.6990320086  --->  0.46633983\n",
            "1.9168258905  --->  0.7978651\n",
            "0.7963775396  --->  0.49252117\n",
            "1.2713037729  --->  2.0127437\n",
            "-0.6968814731  --->  0.11664882\n",
            "0.009649788  --->  0.086355366\n",
            "0.1297837049  --->  -0.26716584\n",
            "0.0371547341  --->  0.120621935\n",
            "0.7880877256  --->  0.52510333\n",
            "1.6016306877  --->  0.50297284\n",
            "-0.5266178846  --->  0.45755726\n",
            "0.36222592  --->  0.3881484\n",
            "0.3950450122  --->  0.35091364\n",
            "0.1772314012  --->  0.30996266\n",
            "1.152136445  --->  0.9405849\n",
            "4.1382389069  --->  5.035438\n",
            "-0.0166828483  --->  0.07802233\n",
            "-0.0164605305  --->  0.26102868\n",
            "0.0425035805  --->  0.08485851\n",
            "0.6964157224  --->  0.31107235\n",
            "-0.6893157959  --->  -0.8378412\n",
            "1.4953612089  --->  1.0910509\n",
            "1.4662395716  --->  1.3546901\n",
            "0.7529681325  --->  0.7524202\n",
            "-1.1303058863  --->  0.878207\n",
            "-0.7780940533  --->  0.2910858\n",
            "1.1590261459  --->  0.45771107\n",
            "0.053517364  --->  0.057933506\n",
            "-0.1302219182  --->  1.0732007\n",
            "0.0797630548  --->  0.12802052\n",
            "-0.0745610073  --->  0.009074131\n",
            "0.311260283  --->  0.09000627\n",
            "-0.4186140895  --->  -0.030734569\n",
            "0.8403882384  --->  0.1820094\n",
            "0.0874639601  --->  -0.7903222\n",
            "0.0444908105  --->  -0.1898869\n",
            "-0.0631592572  --->  0.014747793\n",
            "-0.0631072819  --->  0.21975261\n",
            "0.0843128338  --->  0.10075462\n",
            "-0.225759998  --->  0.66347593\n",
            "-0.0614281781  --->  0.024675107\n",
            "0.3110928833  --->  0.31745082\n",
            "0.3165240586  --->  0.3061395\n",
            "0.1098135933  --->  0.049730342\n",
            "0.0407884046  --->  0.04923323\n",
            "0.3975746632  --->  0.10237035\n",
            "0.3379944563  --->  -0.05340933\n",
            "-0.1413023025  --->  0.024164997\n",
            "0.4837798178  --->  1.6989739\n",
            "1.0805139542  --->  0.7919094\n",
            "0.913844943  --->  0.48692745\n",
            "0.5163960457  --->  0.48332137\n",
            "0.4864595532  --->  -0.008661389\n",
            "1.549713254  --->  1.1816299\n",
            "0.5731922388  --->  0.7646057\n",
            "0.1130874902  --->  0.6413406\n",
            "0.073361218  --->  0.2163023\n",
            "-0.4708390534  --->  -0.027661044\n",
            "0.2500731051  --->  0.21913333\n",
            "2.111436367  --->  1.4526521\n",
            "-0.5587784648  --->  0.17039895\n",
            "0.333633244  --->  0.20196079\n",
            "-0.4439260066  --->  -0.08993438\n",
            "0.5205522776  --->  -0.12498063\n",
            "-0.766489625  --->  -0.48009583\n",
            "0.0564670786  --->  -0.011391848\n",
            "1.6329721212  --->  1.2344432\n",
            "-1.5914677382  --->  0.27246696\n",
            "0.2351995409  --->  0.6344781\n",
            "0.7150022388  --->  1.2733967\n",
            "1.5348573923  --->  0.30654633\n",
            "0.8079879284  --->  0.09645282\n",
            "-0.1434890926  --->  0.093787454\n",
            "-0.7143027782  --->  -0.06674323\n",
            "0.1630076021  --->  0.32476836\n",
            "0.2438162416  --->  0.51477975\n",
            "0.1789638549  --->  -0.05399047\n",
            "-0.4187464118  --->  -0.41594934\n",
            "-0.0058059692  --->  0.2951831\n",
            "0.7460380793  --->  0.7509972\n",
            "1.1853885651  --->  0.19689772\n",
            "0.0091199847  --->  0.030878419\n",
            "-0.8245630264  --->  -0.06490555\n",
            "0.3028360307  --->  -0.05587127\n",
            "0.2332686633  --->  0.6025734\n",
            "1.4037048817  --->  0.44530255\n",
            "0.3245913386  --->  0.25160062\n",
            "0.6742972136  --->  0.4048742\n",
            "1.4189795256  --->  0.38884807\n",
            "0.6615996957  --->  -0.043318234\n",
            "0.7818233967  --->  0.46137106\n",
            "0.2468121946  --->  0.34447613\n",
            "0.5892987847  --->  -0.0042263735\n"
          ]
        }
      ]
    },
    {
      "cell_type": "code",
      "source": [
        "import pandas as pd\n",
        "pd.Series(results_dev).to_json(\"/content/drive/My Drive/Datasets/Data_semEval2022/Results/fr_revdict_results_prediction_dev.json\", orient='values')"
      ],
      "metadata": {
        "id": "EXpOUKhlLfUr"
      },
      "id": "EXpOUKhlLfUr",
      "execution_count": 140,
      "outputs": []
    },
    {
      "cell_type": "code",
      "source": [
        "print(len(results_dev))"
      ],
      "metadata": {
        "colab": {
          "base_uri": "https://localhost:8080/"
        },
        "id": "QZuEWBYiM6jb",
        "outputId": "3d4f8c0b-d6fd-4d5f-c0a5-a6a6fccc9b09"
      },
      "id": "QZuEWBYiM6jb",
      "execution_count": 142,
      "outputs": [
        {
          "output_type": "stream",
          "name": "stdout",
          "text": [
            "6375\n"
          ]
        }
      ]
    }
  ],
  "metadata": {
    "accelerator": "GPU",
    "colab": {
      "name": "Fr_Revdict_Achitecture_tensorflow.ipynb",
      "provenance": []
    },
    "kernelspec": {
      "display_name": "Python 3 (ipykernel)",
      "language": "python",
      "name": "python3"
    },
    "language_info": {
      "codemirror_mode": {
        "name": "ipython",
        "version": 3
      },
      "file_extension": ".py",
      "mimetype": "text/x-python",
      "name": "python",
      "nbconvert_exporter": "python",
      "pygments_lexer": "ipython3",
      "version": "3.9.7"
    }
  },
  "nbformat": 4,
  "nbformat_minor": 5
}